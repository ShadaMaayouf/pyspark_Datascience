{
 "cells": [
  {
   "cell_type": "raw",
   "id": "1b9fb232",
   "metadata": {},
   "source": [
    "Name:\n",
    "Matrikelnummer:"
   ]
  },
  {
   "cell_type": "markdown",
   "id": "989253d6",
   "metadata": {},
   "source": [
    "___"
   ]
  },
  {
   "cell_type": "markdown",
   "id": "f6388327",
   "metadata": {},
   "source": [
    "# Allgemeine Hinweise zur Klausur 01882 **Data Engineering für Data Science**\n",
    "> **_NOTE:_**  *Bitte lesen Sie sich diese Hinweise vor der Bearbeitung der Klausur aufmerksam durch.*\n",
    "\n",
    "- Die **Klausurdauer** beträgt **2 Stunden**.\n",
    "- Bevor Sie mit der Bearbeitung der Klausuraufgaben beginnen, tragen Sie bitte Ihre(n) **Nachnamen**, Ihre(n) **Vornamen** und Ihre **Matrikelnummer** in die vorgesehenen Felder (oben) ein.\n",
    "- Wie schon in den Übungsaufgaben erfolgt die Bearbeitung in zwei unterschiedliche Zell-Typen: In **Code-Zellen** sollen Sie (Python-)Code (bei Bedarf kommentiert) einfügen und ausführen. In **Raw-Zellen** erwarten wir eine Antwort in Textform.\n",
    "- Sollten bestimmte Fakten aus Ihrer Sicht nicht eindeutig formuliert sein, so schreiben Sie Ihre Annahmen zur Lösung dazu.\n",
    "- Denken Sie bei Plots an Titel, Achsenbeschriftung und bei Bedarf Legende.\n",
    "- Es empfiehlt sich, das Notebook, bzw. das daraus generierte PDF in regelmäßigen Abständen zu sichern. So müssen Sie nicht bei Null anfangen, sollte es unerwartetere Weise zu Software-Problemen kommen.\n",
    "- Diese Klausur ist eine sogenannte \"Open-Book-Klausur\", was bedeutet, dass Sie alle Vorlesungsunterlagen, etc. als Hilfsmittel verwenden dürfen. Es ist jedoch ausdrücklich **verboten**, dass Sie untereinander kommunizieren oder andere Personen zu Rate ziehen. "
   ]
  },
  {
   "cell_type": "markdown",
   "id": "56eaaa51",
   "metadata": {},
   "source": [
    "___"
   ]
  },
  {
   "cell_type": "code",
   "execution_count": 1,
   "id": "c6b3fc59",
   "metadata": {
    "ExecuteTime": {
     "end_time": "2023-01-26T17:00:06.476127Z",
     "start_time": "2023-01-26T17:00:05.681722Z"
    }
   },
   "outputs": [
    {
     "name": "stderr",
     "output_type": "stream",
     "text": [
      "C:\\Users\\maayo\\AppData\\Local\\Temp\\ipykernel_12556\\711005101.py:2: DeprecationWarning: \n",
      "Pyarrow will become a required dependency of pandas in the next major release of pandas (pandas 3.0),\n",
      "(to allow more performant data types, such as the Arrow string type, and better interoperability with other libraries)\n",
      "but was not found to be installed on your system.\n",
      "If this would cause problems for you,\n",
      "please provide us feedback at https://github.com/pandas-dev/pandas/issues/54466\n",
      "        \n",
      "  import pandas as pd\n"
     ]
    },
    {
     "ename": "ModuleNotFoundError",
     "evalue": "No module named 'seaborn'",
     "output_type": "error",
     "traceback": [
      "\u001b[1;31m---------------------------------------------------------------------------\u001b[0m",
      "\u001b[1;31mModuleNotFoundError\u001b[0m                       Traceback (most recent call last)",
      "Cell \u001b[1;32mIn[1], line 4\u001b[0m\n\u001b[0;32m      2\u001b[0m \u001b[38;5;28;01mimport\u001b[39;00m \u001b[38;5;21;01mpandas\u001b[39;00m \u001b[38;5;28;01mas\u001b[39;00m \u001b[38;5;21;01mpd\u001b[39;00m\n\u001b[0;32m      3\u001b[0m \u001b[38;5;28;01mimport\u001b[39;00m \u001b[38;5;21;01mmatplotlib\u001b[39;00m\u001b[38;5;21;01m.\u001b[39;00m\u001b[38;5;21;01mpyplot\u001b[39;00m \u001b[38;5;28;01mas\u001b[39;00m \u001b[38;5;21;01mplt\u001b[39;00m\n\u001b[1;32m----> 4\u001b[0m \u001b[38;5;28;01mimport\u001b[39;00m \u001b[38;5;21;01mseaborn\u001b[39;00m \u001b[38;5;28;01mas\u001b[39;00m \u001b[38;5;21;01msns\u001b[39;00m\n\u001b[0;32m      5\u001b[0m \u001b[38;5;28;01mimport\u001b[39;00m \u001b[38;5;21;01miplantuml\u001b[39;00m\n",
      "\u001b[1;31mModuleNotFoundError\u001b[0m: No module named 'seaborn'"
     ]
    }
   ],
   "source": [
    "# Imports\n",
    "import pandas as pd\n",
    "import matplotlib.pyplot as plt\n",
    "import seaborn as sns\n",
    "import iplantuml"
   ]
  },
  {
   "cell_type": "markdown",
   "id": "4ce46374",
   "metadata": {},
   "source": [
    "# Marktanalyse\n",
    "Ein fiktives Szenario: Die Geschwister Käfer besitzen bereits zwei Restaurants in der Stadt Pixhagen. Die beiden Restaurants laufen so gut, dass Sie überlegen, ob Sie ein neues Restaurant in Pixhagen eröffnen sollen und was für eine Art von Restaurant für die Pixhagener:innen von Interesse wäre. Für eine Marktanalyse schicken sie fünf Mitarbeiter:innen in die Stadt, um dort eine Umfrage durchzuführen. Am Tag nach der Umfrage werden Ihnen die Daten zur Verfügung gestellt. Dies ist der Inhalt der Klausur.\n",
    "\n",
    "Folgende Dokumente stehen Ihnen zur Verfügung:\n",
    "- *marktanalyse.csv* - Die Daten der Umfragen\n",
    "- *informationen.pdf* - Informationen zu der fiktiven Stadt Pixhagen, den Geschwistern Käfer sowie der Umfrage und den Daten\n",
    "- *umfrage.pdf* - Ein Muster des Umfragebogens, der den Mitarbeiter:innen zur Verfügung gestellt wurde\n",
    "- *anmerkungen.pdf* - Die Anmerkungen zur Umfrage der fünf Mitarbeiter:innen"
   ]
  },
  {
   "cell_type": "markdown",
   "id": "8659e2bc",
   "metadata": {},
   "source": [
    "## Aufgabe 1 - Datenqualität (17 Punkte)\n",
    "In der ersten Aufgabe geht es darum, sich mit den Daten vertraut zu machen und diese bzgl. ihrer Qualität zu analysieren."
   ]
  },
  {
   "cell_type": "markdown",
   "id": "297ba05b",
   "metadata": {},
   "source": [
    "### Aufgabe 1.1 Daten laden (1 Punkt)\n",
    "*Laden Sie die Daten (`marktanalyse.csv`) in ein DataFrame namens `df`.*"
   ]
  },
  {
   "cell_type": "code",
   "execution_count": null,
   "id": "b97d2ef0",
   "metadata": {
    "ExecuteTime": {
     "end_time": "2023-01-26T17:00:06.492633Z",
     "start_time": "2023-01-26T17:00:06.480681Z"
    }
   },
   "outputs": [],
   "source": [
    "# Ihre Lösung"
   ]
  },
  {
   "cell_type": "markdown",
   "id": "b050095a",
   "metadata": {},
   "source": [
    "### Aufgabe 1.2 Data Integrity (10 Punkte)\n",
    "Machen Sie sich mit den Daten vertraut.\n",
    "\n",
    "*Beurteilen Sie die Daten anhand der 5 Kriterien für **Data Integrity**, die Sie im Buch von McGregor in Kapitel 3 als **Important** kennengelernt haben.*"
   ]
  },
  {
   "cell_type": "code",
   "execution_count": null,
   "id": "3b753382",
   "metadata": {
    "ExecuteTime": {
     "end_time": "2023-01-26T17:00:06.497996Z",
     "start_time": "2023-01-26T17:00:06.494950Z"
    }
   },
   "outputs": [],
   "source": [
    "# Platz für Analysen"
   ]
  },
  {
   "cell_type": "raw",
   "id": "03d91f9c",
   "metadata": {},
   "source": [
    "Ihre Beurteilung:"
   ]
  },
  {
   "cell_type": "markdown",
   "id": "c1f0ca72",
   "metadata": {},
   "source": [
    "### Aufgabe 1.3 Data Fit (4 Punkte)\n",
    "*Beurteilen Sie, ob die Daten Ihrer Meinung nach geeignet sind, um eine Entscheidung über ein neues Restaurant zu treffen. Welche Informationen aus den Daten sind hilfreich und welche nicht? Welche weiteren Informationen wären ggf. notwendig?*"
   ]
  },
  {
   "cell_type": "code",
   "execution_count": null,
   "id": "292b526a",
   "metadata": {
    "ExecuteTime": {
     "end_time": "2023-01-26T17:00:06.505904Z",
     "start_time": "2023-01-26T17:00:06.502641Z"
    }
   },
   "outputs": [],
   "source": [
    "# Platz für Analysen"
   ]
  },
  {
   "cell_type": "raw",
   "id": "cb207ccd",
   "metadata": {},
   "source": [
    "Ihre Einschätzung:"
   ]
  },
  {
   "cell_type": "markdown",
   "id": "832d72c6",
   "metadata": {},
   "source": [
    "### Aufgabe 1.4 Repräsentativität (2 Punkte)\n",
    "*Welche Informationen aus dem Datensatz können verwendet werden, um einzuschätzen, wie repräsentativ der Datensatz ist? Nennen Sie zudem **mindestens eine** weitere Information, die bisher nicht in den Daten enthalten ist, aber die hilfreich wäre, um die Repräsentativität besser beurteilen zu können.*"
   ]
  },
  {
   "cell_type": "code",
   "execution_count": null,
   "id": "4bde505c",
   "metadata": {
    "ExecuteTime": {
     "end_time": "2023-01-26T17:00:06.518816Z",
     "start_time": "2023-01-26T17:00:06.508644Z"
    }
   },
   "outputs": [],
   "source": [
    "# Platz für Analysen"
   ]
  },
  {
   "cell_type": "raw",
   "id": "a99ca17b",
   "metadata": {},
   "source": [
    "Ihre Antwort:"
   ]
  },
  {
   "cell_type": "markdown",
   "id": "3b75c33f",
   "metadata": {},
   "source": [
    "## Aufgabe 2 - Datenvorverarbeitung (22 Punkte)\n",
    "Die zweite Aufgabe beschäftigt sich mit der Datenvorverarbeitung."
   ]
  },
  {
   "cell_type": "markdown",
   "id": "4dfa44c2",
   "metadata": {},
   "source": [
    "### Aufgabe 2.1 Plausibilitätschecks (6 Punkte)\n",
    "\n",
    "Entsprechend der Anmerkungen der Mitarbeiter:innen sind verschiedene Plausibilitätschecks der Daten denkbar. Bei diesen Checks wird geprüft, ob sich die Aussagen der Mitarbeiter:innen in den Daten wiederspiegeln."
   ]
  },
  {
   "cell_type": "markdown",
   "id": "3991203f",
   "metadata": {},
   "source": [
    "*Führen Sie drei Plausibilitätschecks Ihrer Wahl durch. Geben Sie bei jedem Check an, auf welche Aussage Sie sich beziehen und, ob der Check fehlgeschlagen ist oder nicht.*"
   ]
  },
  {
   "cell_type": "code",
   "execution_count": null,
   "id": "894f336d",
   "metadata": {
    "ExecuteTime": {
     "end_time": "2023-01-26T17:00:06.524738Z",
     "start_time": "2023-01-26T17:00:06.522083Z"
    }
   },
   "outputs": [],
   "source": [
    "# Ihre Lösung"
   ]
  },
  {
   "cell_type": "raw",
   "id": "14abe6e7",
   "metadata": {},
   "source": [
    "Ihre Begründung:"
   ]
  },
  {
   "cell_type": "markdown",
   "id": "e55e6f52",
   "metadata": {},
   "source": [
    "### Aufgabe 2.2 Theoretische Überlegungen (2 + 2 Punkte)"
   ]
  },
  {
   "cell_type": "markdown",
   "id": "965d892b",
   "metadata": {},
   "source": [
    "Zunächst werden die Spalten `Besuche` und `Budget` betrachtet."
   ]
  },
  {
   "cell_type": "markdown",
   "id": "1e7ecbf1",
   "metadata": {},
   "source": [
    "Die Spalte `Besuche` ist numerisch codiert. \n",
    "\n",
    "*Erläutern Sie (**nur beschreiben, kein Code erforderlich!**), inwiefern dies zu Problemen führen könnte. (2 Punkte)*"
   ]
  },
  {
   "cell_type": "raw",
   "id": "beb749dc",
   "metadata": {},
   "source": [
    "Ihre Antwort:"
   ]
  },
  {
   "cell_type": "markdown",
   "id": "83dd9657",
   "metadata": {},
   "source": [
    "In der Spalte `Budget` gibt es einen Ausreißer:"
   ]
  },
  {
   "cell_type": "code",
   "execution_count": null,
   "id": "797b5ba6",
   "metadata": {
    "ExecuteTime": {
     "end_time": "2023-01-26T17:00:07.140674Z",
     "start_time": "2023-01-26T17:00:06.844325Z"
    }
   },
   "outputs": [],
   "source": [
    "df.Budget.hist()"
   ]
  },
  {
   "cell_type": "markdown",
   "id": "405560d0",
   "metadata": {},
   "source": [
    "*Beschreiben Sie (**nur beschreiben, kein Code erforderlich!**), wie Sie mit diesem Ausreißer umgehen würden. (2 Punkte)*"
   ]
  },
  {
   "cell_type": "raw",
   "id": "36327829",
   "metadata": {},
   "source": [
    "Ihre Antwort:"
   ]
  },
  {
   "cell_type": "markdown",
   "id": "1781750b",
   "metadata": {},
   "source": [
    "### Aufgabe 2.3 Praktische Anwendung (12 Punkte)\n",
    "Das Ziel der Geschwister Käfer ist es, wie oben beschrieben, herauszufinden, ob Interesse an einem neuen Restaurant vorhanden ist. Und falls Interesse da ist, sollen mithilfe der Umfrageergebnisse weitere Informationen ermittelt werden, welche Art von Restaurant am gefragtesten wäre. Für eine sinnvolle Analyse sind diverse Vorverarbeitungsschritte notwendig. \n",
    "\n",
    "*Führen Sie Vorverarbeitungsmaßnahmen durch, die Ihrer Meinung nach nötig sind, um die Qualität der Daten zu verbessern. Begründen Sie für jede Maßnahme Ihr Vorgehen.*\n",
    "\n",
    "\n",
    ">> **Achtung**: *Da die Spalten `Besuche` und `Budget` bereits in den vorherigen Aufgaben theortetisch diskutiert wurden, sind sie deshalb aus Zeitgründen für diese Aufgabe nicht relevant. Zudem ist eine **Umbenennung** von Spalten aus Zeitgründen ebenfalls nicht notwendig!*"
   ]
  },
  {
   "cell_type": "code",
   "execution_count": null,
   "id": "16f089aa",
   "metadata": {
    "ExecuteTime": {
     "end_time": "2023-01-26T17:00:07.147303Z",
     "start_time": "2023-01-26T17:00:07.143518Z"
    }
   },
   "outputs": [],
   "source": [
    "# Ihre Lösung"
   ]
  },
  {
   "cell_type": "raw",
   "id": "adc3890b",
   "metadata": {},
   "source": [
    "Ihre Begründung:"
   ]
  },
  {
   "cell_type": "markdown",
   "id": "2d27972a",
   "metadata": {},
   "source": [
    "## Aufgabe 3 - Datenanalyse (16 Punkte)\n",
    "In dieser Aufgabe werden Analysen auf den Daten ausgeführt."
   ]
  },
  {
   "cell_type": "markdown",
   "id": "3868df88",
   "metadata": {},
   "source": [
    "### Aufgabe 3.1 (6 Punkte)\n",
    "*Ermitteln Sie folgende Informationen:*\n",
    "- Wie ist das durchschnittliche Interesse nach Ernaerhung? Bei welcher Gruppe ist das Interesse am höchsten und bei welcher am niedrigsten? (2 Punkte)\n",
    "- Aus welchem Stadtteil stammen die meisten der befragten Personen?  (2 Punkte)\n",
    "- Welches der beiden bereits existierenden Restaurant wurde bisher am häufigsten von Bewohner:innen der Weststadt besucht?  (2 Punkte)\n",
    "\n",
    "*Interpretieren Sie die Aussage Ihres Codes, indem Sie die Antwort auf die jeweilige Frage in die dafür vorgesehene Raw-Zelle schreiben. Schätzen Sie dabei für jede Frage die Aussagekraft der Ergebnisse ein.*"
   ]
  },
  {
   "cell_type": "code",
   "execution_count": null,
   "id": "cb99ad07",
   "metadata": {
    "ExecuteTime": {
     "end_time": "2023-01-26T17:06:05.756308Z",
     "start_time": "2023-01-26T17:06:05.752628Z"
    }
   },
   "outputs": [],
   "source": [
    "# Wie ist das durchschnittliche Interesse nach Ernaerhung? (nur Code)\n",
    "# Bei welcher Gruppe ist das Interesse am höchsten und bei welcher am niedrigsten? (Antwort in Raw-Zelle)"
   ]
  },
  {
   "cell_type": "raw",
   "id": "7d5e321e",
   "metadata": {},
   "source": [
    "Ihre Antwort:"
   ]
  },
  {
   "cell_type": "code",
   "execution_count": null,
   "id": "8585d908",
   "metadata": {
    "ExecuteTime": {
     "end_time": "2023-01-26T17:00:07.318798Z",
     "start_time": "2023-01-26T17:00:07.307845Z"
    }
   },
   "outputs": [],
   "source": [
    "# Aus welchem Stadtteil stammen die meisten der befragten Personen? "
   ]
  },
  {
   "cell_type": "raw",
   "id": "6f8cfde0",
   "metadata": {},
   "source": [
    "Ihre Antwort:"
   ]
  },
  {
   "cell_type": "code",
   "execution_count": null,
   "id": "71bff13d",
   "metadata": {
    "ExecuteTime": {
     "end_time": "2023-01-26T17:00:07.333126Z",
     "start_time": "2023-01-26T17:00:07.322405Z"
    }
   },
   "outputs": [],
   "source": [
    "# Welches der beiden bereits existierenden Restaurant wurde bisher am häufigsten von Bewohner:innen der Weststadt besucht?"
   ]
  },
  {
   "cell_type": "raw",
   "id": "507492f0",
   "metadata": {},
   "source": [
    "Ihre Antwort:"
   ]
  },
  {
   "cell_type": "markdown",
   "id": "18721dd0",
   "metadata": {},
   "source": [
    "### Aufgabe 3.2 (4 Punkte)\n",
    "Gibt es einen Unterschied in der Ernährungsweise je nach Stadtteil? \n",
    "\n",
    "*Beantworten Sie die Frage mithilfe von Kreisdiagrammen. Denken Sie dabei an Titel und Legende sowie die Interpretation des Diagramms.*"
   ]
  },
  {
   "cell_type": "code",
   "execution_count": null,
   "id": "66f7f330",
   "metadata": {
    "ExecuteTime": {
     "end_time": "2023-01-26T17:00:07.392550Z",
     "start_time": "2023-01-26T17:00:07.337139Z"
    }
   },
   "outputs": [],
   "source": [
    "# Ihre Lösung"
   ]
  },
  {
   "cell_type": "raw",
   "id": "2454acd1",
   "metadata": {
    "ExecuteTime": {
     "end_time": "2022-11-29T10:27:49.970323Z",
     "start_time": "2022-11-29T10:27:49.959611Z"
    }
   },
   "source": [
    "Ihre Interpretation des Diagramms:"
   ]
  },
  {
   "cell_type": "markdown",
   "id": "3d110e81",
   "metadata": {},
   "source": [
    "### Aufgabe 3.3 (4 Punkte)\n",
    "Gibt es bzgl. des durchschnittlichen Interesses an einem neuen Restaurant einen großen Unterschied in Abhängigkeit der Stadtteile?\n",
    "\n",
    "*Beantworten Sie die Frage mithilfe eines Säulendiagramms. Denken Sie dabei an Titel und Achsenbeschriftung sowie die Interpretation des Diagramms.*"
   ]
  },
  {
   "cell_type": "code",
   "execution_count": null,
   "id": "f8ccd7b2",
   "metadata": {
    "ExecuteTime": {
     "end_time": "2023-01-26T17:00:08.139005Z",
     "start_time": "2023-01-26T17:00:08.134930Z"
    }
   },
   "outputs": [],
   "source": [
    "# Ihre Lösung"
   ]
  },
  {
   "cell_type": "raw",
   "id": "7921e9d2",
   "metadata": {
    "ExecuteTime": {
     "end_time": "2022-11-29T10:28:25.603988Z",
     "start_time": "2022-11-29T10:28:25.591591Z"
    }
   },
   "source": [
    "Ihre Interpretation des Diagramms:"
   ]
  },
  {
   "cell_type": "markdown",
   "id": "d941ae32",
   "metadata": {},
   "source": [
    "### Aufgabe 3.4 (2 Punkte)\n",
    "*Entsprechend Ihrer Analysen: Wenn ein neues Restaurant eröffnet werden soll, welchen Stadtteil würden Sie empfehlen und welche Hinweise würden Sie für die Ausrichtung der Speisekarte entsprechend der Ernährungsweise geben? Nehmen Sie für diese Aufgabe an, dass Sie eine Entscheidung treffen müssen und es aus Zeit- und Kostengründen keine Option ist, weitere Informationen (z.B. durch eine erneute Umfrage) einzuholen.*"
   ]
  },
  {
   "cell_type": "raw",
   "id": "321d88e5",
   "metadata": {},
   "source": [
    "Ihre Antwort:"
   ]
  },
  {
   "cell_type": "markdown",
   "id": "fd395ed8",
   "metadata": {},
   "source": [
    "## Aufgabe 4 - Big Data Analysis (15 Punkte)\n",
    "In diesem Aufgabenbereich geht es um Hadoop und Spark."
   ]
  },
  {
   "cell_type": "markdown",
   "id": "eb496d0f",
   "metadata": {},
   "source": [
    "### Aufgabe 4.1 Hadoop Map Reduce vs. Spark (2 + 1 Punkte)\n",
    "*Beschreiben Sie die Unterschiede zwischen der Verarbeitung der Tasks von Hadoop MapReduce und von Spark. (2 Punkte)*"
   ]
  },
  {
   "cell_type": "raw",
   "id": "aa4e4a92",
   "metadata": {},
   "source": [
    "Ihre Antwort:"
   ]
  },
  {
   "cell_type": "markdown",
   "id": "29017fec",
   "metadata": {},
   "source": [
    "*Welche Vorteile ergeben sich daraus bei der Arbeit mit Spark? (1 Punkt)*"
   ]
  },
  {
   "cell_type": "raw",
   "id": "99be0f32",
   "metadata": {},
   "source": [
    "Ihre Antwort:"
   ]
  },
  {
   "cell_type": "markdown",
   "id": "4bb91cdf",
   "metadata": {},
   "source": [
    "### Aufgabe 4.2 Eigenschaften RDDs (8 Punkte)\n",
    "Nennen Sie vier der fünf wichtigsten Eigenschaften von RDDs. Beschreiben Sie für jede Eigenschaft mit einem kurzen Satz, warum sie von Bedeutung ist."
   ]
  },
  {
   "cell_type": "raw",
   "id": "2ed91f12",
   "metadata": {},
   "source": [
    "Ihre Antwort:"
   ]
  },
  {
   "cell_type": "markdown",
   "id": "07ccf1fa",
   "metadata": {},
   "source": [
    "### Aufgabe 4.3 Ressourcenvebrauch (4 Punkte)\n",
    "Gegeben sei folgender Auszug aus der Datei `spark-defaults.conf`:\n",
    "\n",
    "```\n",
    "spark.executor.instances 3\n",
    "spark.executor.memory 1G\n",
    "spark.executor.cores 2\n",
    "spark.executor.memoryOverhead 512M\n",
    "\n",
    "spark.yarn.am.cores 1\n",
    "spark.yarn.am.memory 2G\n",
    "spark.yarn.am.memoryOverhead 512M\n",
    "\n",
    "spark.dynamicAllocation.enabled false\n",
    "```\n",
    "\n",
    "Ein pyspark-Shell wird mit folgendem Aufruf gestartet:\n",
    "`pyspark --master yarn`\n",
    "\n",
    "Gehen Sie davon aus, dass im Cluster genügend freie Ressourcen zur Verfügung stehen, um die Anfragen des Application Masters zu erfüllen.\n",
    "\n",
    "*Berechnen Sie den Ressourcen-Verbrauch (Memory und Cores) der Spark-Anwendung. Geben Sie dabei Ihren Rechenweg an.*"
   ]
  },
  {
   "cell_type": "raw",
   "id": "4f5db997",
   "metadata": {},
   "source": [
    "Ihre Antwort:"
   ]
  },
  {
   "cell_type": "markdown",
   "id": "ee305885",
   "metadata": {},
   "source": [
    "## Aufgabe 5 - Modellierung, NoSQL (25 Punkte)"
   ]
  },
  {
   "cell_type": "markdown",
   "id": "6b0aa0ab",
   "metadata": {},
   "source": [
    "### Aufgabe 5.1 (2 Punkte)\n",
    "\n",
    "Beschreiben Sie Anwendungseigenschaften bzw. Charakteristika, die eher für die Verwendung eines dokumentorientierten bzw. spaltenorientierten Datenbanksystems sprechen."
   ]
  },
  {
   "cell_type": "raw",
   "id": "02be78e1",
   "metadata": {},
   "source": [
    "Ihre Antwort:"
   ]
  },
  {
   "cell_type": "markdown",
   "id": "76f6a280",
   "metadata": {},
   "source": [
    "### Aufgabe 5.2 (2 Punkte)\n",
    "\n",
    "Embedded vs. referentielle Modellierung bei dokumentorientierten Datenbanksystemen wie MongoDB.\n",
    "\n",
    "Sie möchten aus Eigenschaften der Anwendung bzw. der Abfragen schlussfolgern, welche Art der Modellierung (embedded oder referenziell) Sie wählen sollen. Geben Sie Modellierungsrichtlinien bzw. Anwendungscharakteristika an, die einen starken Einfluss auf die Auswahl der Modellierung haben."
   ]
  },
  {
   "cell_type": "raw",
   "id": "7f24f10b",
   "metadata": {},
   "source": [
    "Ihre Antwort:"
   ]
  },
  {
   "cell_type": "markdown",
   "id": "2f4cb29a",
   "metadata": {},
   "source": [
    "### Aufgabe 5.3 (21 Punkte)\n",
    "\n",
    "In einem dokumentenorientierten NoSQL-Datenbanksystem sollen Kunden, Produkte und Bestellungen gespeichert werden. Dabei können pro Bestellung **mehrere Produkte in unterschiedlicher Anzahl** bestellt werden. Außerdem können Kunden Reviews zu den bestellten Produkten abgeben.\n",
    "\n",
    "\n",
    "Geplante Abfragen:\n",
    "\n",
    "- Es können neue Produkte hinzugefügt werden.\n",
    "- Die Preise der Produkte können verändert werden.\n",
    "- Produkte können entfernt werden.\n",
    "- Neue Kunde können angelegt werden.\n",
    "- Es kann nach Produkten gesucht werden. Zu den Produkten werden neben den Produktinformationen ebenfalls die 10 neuesten Reviews angezeigt.\n",
    "- Ein Kunde kann eine neue Bestellung aufgeben.\n",
    "- Ein Kunde kann Reviews über gekaufte Produkte schreiben.\n",
    "- Ein Kunde kann sich seine  Bestellungen innerhalb eines bestimmten Zeitraums anzeigen lassen. Das Gleiche gilt für Reviews.\n",
    "\n",
    "\n",
    "1. Erstellen Sie zunächst ein plattformunabhängiges (konzeptionelles) Modell (dieses Modell enthält noch keine Fremdschlüssel, Einbettungen und Datentypen). Modellieren Sie außerdem folgende Attribute: Kunden haben einen Namen und Vornamen. Bestellungen haben ein Datum. Produkte haben einen Titel, einen Preis und eine Beschreibung. Reviews enthalten den Text und ein Datum.\n",
    "2. Skizzieren Sie anschließend ein geeignetes Datenmodell für die Speicherung in einem dokumentenorientierten Datenbanksystem. Begründen Sie ihre Entscheidungen für Referenzierungen, Einbettungen und redundante Speicherung bzw. Einbettung. Heben Sie redundante- und Fremdschlüssel-Attribute farblich hervor."
   ]
  },
  {
   "cell_type": "raw",
   "id": "b135cda1",
   "metadata": {},
   "source": [
    "1. Platformunabhängiges (konzeptionelles) Modell:"
   ]
  },
  {
   "cell_type": "code",
   "execution_count": null,
   "id": "93d86cb9",
   "metadata": {},
   "outputs": [],
   "source": [
    "%%plantuml --jar\n",
    "\n",
    "@startuml\n",
    "\n",
    "hide circle\n",
    "hide members\n",
    "show fields\n",
    "\n",
    "\n",
    "@enduml"
   ]
  },
  {
   "cell_type": "raw",
   "id": "eacdef20",
   "metadata": {},
   "source": [
    "2. Platformspezifisches Modell (dokumentorientiert):"
   ]
  },
  {
   "cell_type": "code",
   "execution_count": null,
   "id": "816fd48a",
   "metadata": {},
   "outputs": [],
   "source": [
    "%%plantuml --jar\n",
    "\n",
    "@startuml\n",
    "\n",
    "hide circle\n",
    "hide members\n",
    "show fields\n",
    "\n",
    "\n",
    "@enduml"
   ]
  },
  {
   "cell_type": "raw",
   "id": "c8023d2e",
   "metadata": {},
   "source": [
    "Ihre Antwort (Designentscheidungen):"
   ]
  },
  {
   "cell_type": "markdown",
   "id": "cd6b5dad",
   "metadata": {},
   "source": [
    "## Aufgabe 6 - Technologien für Big Data (5 Punkte)"
   ]
  },
  {
   "cell_type": "markdown",
   "id": "5d9be9bf",
   "metadata": {},
   "source": [
    "### Aufgabe 6.1 (2 Punkte)\n",
    "Warum eignen sich spaltenorientierte Datenbanksysteme sehr gut für analytische Anwendung wie beispielsweise Data Warehouses?"
   ]
  },
  {
   "cell_type": "raw",
   "id": "de0d4fc4",
   "metadata": {},
   "source": [
    "Ihre Antwort:"
   ]
  },
  {
   "cell_type": "markdown",
   "id": "4120a850",
   "metadata": {},
   "source": [
    "### Aufgabe 6.2 (1 Punkt)\n",
    "In einer Tabelle `Verkauf` mit Verkaufsdaten ist jeder Datensatz (jede Zeile) im Mittel 100 Bytes lang. Das Attribut `Filiale` belegt 5 Bytes. Wieviel Prozent der Daten müssen bei einer spaltenorientierten Speicherung im Vergleich zu einer zeilenorientierten Speicherung gelesen werden, wenn die folgende SQL-Query ausgeführt wird?\n",
    "\n",
    "`SELECT Filiale, COUNT(*) FROM Verkauf GROUP BY Filiale;`"
   ]
  },
  {
   "cell_type": "raw",
   "id": "144b9443",
   "metadata": {},
   "source": [
    "Ihre Antwort:"
   ]
  },
  {
   "cell_type": "markdown",
   "id": "88b4b568",
   "metadata": {},
   "source": [
    "### Aufgabe 6.3 (2 Punkte)\n",
    "Angenommen, Sie verwenden in einem Cluster mit *n* Servern für die Zuordnung der Daten mit Key *k* die Hashfunktion *k mod n*. Welche Probleme würden in diesem Szenario auftreten?"
   ]
  },
  {
   "cell_type": "raw",
   "id": "91febb36",
   "metadata": {},
   "source": [
    "Ihre Antwort:"
   ]
  }
 ],
 "metadata": {
  "kernelspec": {
   "display_name": "Python 3 (ipykernel)",
   "language": "python",
   "name": "python3"
  },
  "language_info": {
   "codemirror_mode": {
    "name": "ipython",
    "version": 3
   },
   "file_extension": ".py",
   "mimetype": "text/x-python",
   "name": "python",
   "nbconvert_exporter": "python",
   "pygments_lexer": "ipython3",
   "version": "3.11.3"
  },
  "toc": {
   "base_numbering": 1,
   "nav_menu": {},
   "number_sections": true,
   "sideBar": true,
   "skip_h1_title": true,
   "title_cell": "Table of Contents",
   "title_sidebar": "Contents",
   "toc_cell": false,
   "toc_position": {
    "height": "calc(100% - 180px)",
    "left": "10px",
    "top": "150px",
    "width": "384px"
   },
   "toc_section_display": true,
   "toc_window_display": true
  }
 },
 "nbformat": 4,
 "nbformat_minor": 5
}
