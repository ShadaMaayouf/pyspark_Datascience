{
 "cells": [
  {
   "cell_type": "raw",
   "id": "1b9fb232",
   "metadata": {},
   "source": [
    "Name:\n",
    "Matrikelnummer:"
   ]
  },
  {
   "cell_type": "markdown",
   "id": "f15db888",
   "metadata": {},
   "source": [
    "**Punkte**\n",
    "\n",
    "| Aufgabe 1 | Aufgabe 2 | Aufgabe 3 | Aufgabe 4 |\n",
    "|-----------|-----------|-----------|-----------|\n",
    "|           |           |           |           |\n",
    "|     / 55  |     / 15  |     / 25  |     /  5  |\n",
    "|           |           |           |           |\n",
    "\n",
    "Gesamtpunktzahl:"
   ]
  },
  {
   "cell_type": "markdown",
   "id": "989253d6",
   "metadata": {},
   "source": [
    "___"
   ]
  },
  {
   "cell_type": "markdown",
   "id": "f6388327",
   "metadata": {},
   "source": [
    "# Allgemeine Hinweise zur Klausur 01882 **Data Engineering für Data Science**\n",
    "> **_NOTE:_**  *Bitte lesen Sie sich diese Hinweise vor der Bearbeitung der Klausur aufmerksam durch.*\n",
    "\n",
    "- Die **Klausurdauer** beträgt **2 Stunden**.\n",
    "- Bevor Sie mit der Bearbeitung der Klausuraufgaben beginnen, tragen Sie bitte Ihre(n) **Nachnamen**, Ihre(n) **Vornamen** und Ihre **Matrikelnummer** in die vorgesehenen Felder (oben) ein.\n",
    "- Wie schon in den Übungsaufgaben erfolgt die Bearbeitung in zwei unterschiedliche Zell-Typen: In **Code-Zellen** sollen Sie (Python-)Code (bei Bedarf kommentiert) einfügen und ausführen. In **Raw-Zellen** erwarten wir eine Antwort in Textform.\n",
    "- Sollten bestimmte Fakten aus Ihrer Sicht nicht eindeutig formuliert sein, so schreiben Sie Ihre Annahmen zur Lösung dazu.\n",
    "- Denken Sie bei Plots an Titel, Achsenbeschriftung und bei Bedarf Legende.\n",
    "- Es empfiehlt sich, das Notebook, bzw. das daraus generierte PDF in regelmäßigen Abständen zu sichern. So müssen Sie nicht bei Null anfangen, sollte es unerwartetere Weise zu Software-Problemen kommen.\n",
    "- Diese Klausur ist eine sogenannte \"Open-Book-Klausur\", was bedeutet, dass Sie alle Vorlesungsunterlagen, etc. als Hilfsmittel verwenden dürfen. Es ist jedoch ausdrücklich **verboten**, dass Sie untereinander kommunizieren oder andere Personen zu Rate ziehen. "
   ]
  },
  {
   "cell_type": "markdown",
   "id": "56eaaa51",
   "metadata": {},
   "source": [
    "___"
   ]
  },
  {
   "cell_type": "code",
   "execution_count": null,
   "id": "c6b3fc59",
   "metadata": {},
   "outputs": [],
   "source": [
    "# Imports\n",
    "import pandas as pd\n",
    "import matplotlib.pyplot as plt\n",
    "import seaborn as sns\n",
    "import iplantuml"
   ]
  },
  {
   "cell_type": "markdown",
   "id": "8659e2bc",
   "metadata": {},
   "source": [
    "## Aufgabe 1 - Datenvorverarbeitung und Datenqualität: Das Jugendzentrum Pixhagen (55 Punkte)\n",
    "Ein fiktives Szenario: Das Jugendzentrum Pixhagen ist ein beliebter Treffpunkt für Jugendliche aus allen vier Stadtteilen (Nord, Ost, Süd, West). Es hat jeden Tag in der Woche von 12-22 Uhr geöffnet. Neben diversen Gemeinschaftsräumen, in denen man sich die Zeit vertreiben kann, werden auch unterschiedliche Aktivitäten wie z.B. ein Pizzakurs oder eine Fußballgruppe angeboten. Da unerwartet Budget frei geworden ist, um eine neue Aktivität anzubieten, wurde kurzfristig eine Umfrage unter den Jugendlichen durchgeführt. Die Daten der Umfrage sollen dazu verwendet werden, herauszufinden, welche neue Aktivität angeboten werden soll und an welchem Wochentag. Die durchzuführende Analyse ist Inhalt dieser Klausur. Zeitpunkt der Analyse ist der heutige Tag.\n",
    "\n",
    "Folgende Dokumente stehen Ihnen zur Verfügung:\n",
    "- *umfrage.csv* - Die Daten der Umfrage\n",
    "- *bericht.pdf* - Ein Bericht, in dem unterschiedliche Informationen zum Jugendzentrum und zur Umfrage dokumentiert sind"
   ]
  },
  {
   "cell_type": "markdown",
   "id": "297ba05b",
   "metadata": {},
   "source": [
    "### Aufgabe 1.1 Daten laden (1 Punkt)\n",
    "*Laden Sie die Daten (`umfrage.csv`) in ein DataFrame namens `df`, so dass der Index rein numerisch ist.*"
   ]
  },
  {
   "cell_type": "code",
   "execution_count": null,
   "id": "b97d2ef0",
   "metadata": {
    "tags": [
     "solution"
    ]
   },
   "outputs": [],
   "source": [
    "# Ihre Lösung"
   ]
  },
  {
   "cell_type": "markdown",
   "id": "b050095a",
   "metadata": {},
   "source": [
    "### Aufgabe 1.2 Data Integrity (6 Punkte)\n",
    "Machen Sie sich mit den Daten vertraut.\n",
    "\n",
    "*Wählen Sie aus den 5 Kriterien für **Data Integrity**, die Sie im Buch von McGregor in Kapitel 3 als **Important** kennengelernt haben, 3 Ihrer Wahl aus und beurteilen Sie die Daten anhand dieser Kriterien.*"
   ]
  },
  {
   "cell_type": "code",
   "execution_count": null,
   "id": "3b753382",
   "metadata": {
    "tags": [
     "solution"
    ]
   },
   "outputs": [],
   "source": [
    "# Platz für Analysen"
   ]
  },
  {
   "cell_type": "raw",
   "id": "1817e5fb",
   "metadata": {
    "tags": [
     "solution"
    ]
   },
   "source": [
    "Ihre Beurteilung:"
   ]
  },
  {
   "cell_type": "markdown",
   "id": "a1549c4e",
   "metadata": {},
   "source": [
    "### Aufgabe 1.3 Plausibilitätschecks (8 Punkte)\n",
    "\n",
    "Entsprechend der Informationen aus dem Bericht sind verschiedene Plausibilitätschecks der Daten denkbar. Bei diesen Checks wird geprüft, ob sich die Informationen des Berichts in den Daten wiederspiegeln.\n",
    "\n",
    "*Führen Sie vier Plausibilitätschecks Ihrer Wahl durch. Geben Sie bei jedem Check an, auf welche Information aus dem PDF Sie sich beziehen und, ob der Check fehlgeschlagen ist oder nicht.*"
   ]
  },
  {
   "cell_type": "code",
   "execution_count": null,
   "id": "60a584c0",
   "metadata": {
    "tags": [
     "solution"
    ]
   },
   "outputs": [],
   "source": [
    "# Ihre Lösung"
   ]
  },
  {
   "cell_type": "markdown",
   "id": "bfe27192",
   "metadata": {},
   "source": [
    "### Aufgabe 1.4 Data Cleaning (12 Punkte)\n",
    "Für eine sinnvolle Analyse sind diverse Vorverarbeitungsschritte notwendig. \n",
    "\n",
    "*Führen Sie Vorverarbeitungsmaßnahmen durch, die Ihrer Meinung nach nötig sind, um die Qualität der Daten zu verbessern. Begründen Sie für jede Maßnahme Ihr Vorgehen.*\n",
    "\n",
    "\n",
    "> **Achtung**: *Eine **Umbenennung** von Spalten ist aus Zeitgründen nicht notwendig!*"
   ]
  },
  {
   "cell_type": "code",
   "execution_count": null,
   "id": "e9af7399",
   "metadata": {
    "tags": [
     "solution"
    ]
   },
   "outputs": [],
   "source": [
    "# Ihre Lösung"
   ]
  },
  {
   "cell_type": "raw",
   "id": "cd4c74c2",
   "metadata": {
    "tags": [
     "solution"
    ]
   },
   "source": [
    "Ihre Begründung:"
   ]
  },
  {
   "cell_type": "markdown",
   "id": "d3feaf01",
   "metadata": {},
   "source": [
    "### Aufgabe 1.5 Analyse Stadtteil (3 + 3 Punkte)\n",
    "\n",
    "*Gibt es einen Unterschied in der Anzahl Jugendlicher pro Stadtteil? Passt das Ergebnis zu den Informationen, die Sie über das Jugenzentrum haben? (3 Punkte)*\n",
    "\n",
    "Interpretieren Sie die Aussage Ihres Codes, indem Sie die Antwort auf die Frage in die dafür vorgesehene Raw-Zelle schreiben."
   ]
  },
  {
   "cell_type": "code",
   "execution_count": null,
   "id": "8585d908",
   "metadata": {
    "tags": [
     "solution"
    ]
   },
   "outputs": [],
   "source": [
    "# Ihre Lösung"
   ]
  },
  {
   "cell_type": "raw",
   "id": "6f8cfde0",
   "metadata": {
    "tags": [
     "solution"
    ]
   },
   "source": [
    "Ihre Antwort:"
   ]
  },
  {
   "cell_type": "markdown",
   "id": "8dc21512",
   "metadata": {},
   "source": [
    "*Gibt es in der Wahl des Favoriten einen Unterschied in Abhängigkeit des Stadtteils? Beantworten Sie die Frage mithilfe von Kreisdiagrammen. Erstellen Sie dabei ein Kreisdiagramm pro Stadtteil. (3 Punkte)*"
   ]
  },
  {
   "cell_type": "code",
   "execution_count": null,
   "id": "588c8945",
   "metadata": {
    "tags": [
     "solution"
    ]
   },
   "outputs": [],
   "source": [
    "# Ihre Lösung"
   ]
  },
  {
   "cell_type": "raw",
   "id": "7eaeaf69",
   "metadata": {
    "tags": [
     "solution"
    ]
   },
   "source": [
    "Ihre Interpretation des Diagramms:"
   ]
  },
  {
   "cell_type": "markdown",
   "id": "13903a1d",
   "metadata": {},
   "source": [
    "### Aufgabe 1.6  Analyse Alter (2 + 3 Punkte)"
   ]
  },
  {
   "cell_type": "markdown",
   "id": "d81ef3a0",
   "metadata": {},
   "source": [
    "*Analysieren Sie die Verteilung des Alters. Ist zu erkennen, ob eher jüngere oder eher ältere Jugendliche an der Umfrage teilgenommen haben? Entspricht die Verteilung der Befragten der aller Jugendlichen? (2 Punkte)*"
   ]
  },
  {
   "cell_type": "code",
   "execution_count": null,
   "id": "595f63a1",
   "metadata": {
    "tags": [
     "solution"
    ]
   },
   "outputs": [],
   "source": [
    "# Ihre Lösung"
   ]
  },
  {
   "cell_type": "markdown",
   "id": "0ca9d6c1",
   "metadata": {},
   "source": [
    "*Hängt die Wahl des Favoriten vom Alter ab? Erstellen Sie zur Beantwortung der Frage ein Säulendiagramm, bei pro Alter die Anzahl des Favoriten gezählt wird. (3 Punkte)*"
   ]
  },
  {
   "cell_type": "code",
   "execution_count": null,
   "id": "c4ee93a5",
   "metadata": {
    "tags": [
     "solution"
    ]
   },
   "outputs": [],
   "source": [
    "# Ihre Lösung"
   ]
  },
  {
   "cell_type": "raw",
   "id": "3ab3b019",
   "metadata": {
    "tags": [
     "solution"
    ]
   },
   "source": [
    "Ihre Antwort:"
   ]
  },
  {
   "cell_type": "markdown",
   "id": "8f7a3561",
   "metadata": {},
   "source": [
    "### Aufgabe 1.7 Analyse Wochentage (4 Punkte)\n",
    "*An welchem Tag kommen die meisten Jugendlichen ins Jugendzentrum? Beantworten Sie die Frage mit einem Säulendiagramm.*\n",
    "\n",
    "> **Achtung**: *Da diese Aufgabe etwas komplexer ist, gibt es hier einen Punkt mehr als bei den anderen Diagrammen.*"
   ]
  },
  {
   "cell_type": "code",
   "execution_count": null,
   "id": "c5dcd94e",
   "metadata": {
    "tags": [
     "solution"
    ]
   },
   "outputs": [],
   "source": [
    "# Ihre Lösung"
   ]
  },
  {
   "cell_type": "raw",
   "id": "7921e9d2",
   "metadata": {
    "tags": [
     "solution"
    ]
   },
   "source": [
    "Ihre Interpretation des Diagramms:"
   ]
  },
  {
   "cell_type": "markdown",
   "id": "d941ae32",
   "metadata": {},
   "source": [
    "### Aufgabe 1.8 Data Fitness (6 Punkte)\n",
    "\n",
    "*Entsprechend Ihrer Analysen: Beurteilen Sie die Data Fitness. Orientieren Sie sich dabei an den 3 Aspekten, die Sie im Buch von McGregor in Kapitel 3 kennengelernt haben (6 Punkte).*"
   ]
  },
  {
   "cell_type": "raw",
   "id": "64eb8088",
   "metadata": {
    "tags": [
     "solution"
    ]
   },
   "source": [
    "Ihre Antwort:"
   ]
  },
  {
   "cell_type": "markdown",
   "id": "ffbee626",
   "metadata": {},
   "source": [
    "### Aufgabe 1.9 Ergebnis (3 + 4 Punkte)"
   ]
  },
  {
   "cell_type": "markdown",
   "id": "19e4dc4a",
   "metadata": {},
   "source": [
    "*Wenn Sie eine Entscheidung treffen müssten: Welche neue Aktivität sollte eingeführt werden und an welchem Wochentag? Beurteilen Sie die Aussagekraft dieses Ergebnisses in Bezug zu Ihrer Einschätzung von Data Fitness. (3 Punkte)*"
   ]
  },
  {
   "cell_type": "raw",
   "id": "5c85cd27",
   "metadata": {
    "tags": [
     "solution"
    ]
   },
   "source": [
    "Ihre Antwort:"
   ]
  },
  {
   "cell_type": "markdown",
   "id": "c225334d",
   "metadata": {},
   "source": [
    "*Nennen Sie die Aspekte, die bei der aktuellen Umfrage nicht beachtet wurden, aber Ihrer Meinung nach für den Anwendungsfall wichtig sind. Begründen Sie diese Aspekte und geben Sie außerdem an, welches Qualitätskriterium Sie damit verbessern würden. (4 Punkte)*"
   ]
  },
  {
   "cell_type": "raw",
   "id": "64b942b3",
   "metadata": {
    "tags": [
     "solution"
    ]
   },
   "source": [
    "Ihre Antwort:"
   ]
  },
  {
   "cell_type": "markdown",
   "id": "6db9a893",
   "metadata": {},
   "source": [
    "<span style=\"color:white\">\\newpage</span>."
   ]
  },
  {
   "cell_type": "markdown",
   "id": "53c6f372",
   "metadata": {},
   "source": [
    "## Aufgabe 2 - Big Data Analysis (15 Punkte)\n",
    "In diesem Aufgabenbereich geht es um Hadoop und Spark."
   ]
  },
  {
   "attachments": {
    "grafik-3.png": {
     "image/png": "[encoded data removed]"
    }
   },
   "cell_type": "markdown",
   "id": "e0d62ddd",
   "metadata": {},
   "source": [
    "### Aufgabe 2.1 Eigenschaften von Spark (3 Punkte)\n",
    "Betrachten Sie folgendes Code-Beispiel:\n",
    "\n",
    "> **Hinweis:** `**`-Operator = Potenz, z.B. `2**2 = 4`\n",
    "\n",
    "![grafik-3.png](attachment:grafik-3.png)\n",
    "\n",
    "*Warum tritt hier kein Fehler auf, obwohl es nicht möglich ist, Strings zu potenzieren? Welches Prinzip von Spark liegt hier zugrunde, was bedeutet es und wofür ist es da? (3 Punkte)*"
   ]
  },
  {
   "cell_type": "raw",
   "id": "aa4e4a92",
   "metadata": {
    "tags": [
     "solution"
    ]
   },
   "source": [
    "Ihre Antwort:"
   ]
  },
  {
   "attachments": {
    "grafik-2.png": {
     "image/png": "[encoded data removed]"
    }
   },
   "cell_type": "markdown",
   "id": "29017fec",
   "metadata": {},
   "source": [
    "### Aufgabe 2.2 Caching (3 Punkte)\n",
    "Betrachten Sie folgendes Code-Beispiel:\n",
    "\n",
    "![grafik-2.png](attachment:grafik-2.png)\n",
    "\n",
    "*In welcher Zeile wäre es sinnvoll ein Caching einzufügen und warum? (3 Punkte)*"
   ]
  },
  {
   "cell_type": "raw",
   "id": "99be0f32",
   "metadata": {
    "tags": [
     "solution"
    ]
   },
   "source": [
    "Ihre Antwort:"
   ]
  },
  {
   "cell_type": "markdown",
   "id": "1e982eec",
   "metadata": {},
   "source": [
    "### Aufgabe 2.3 Ressourcenvebrauch (4 + 5 Punkte)\n",
    "Nehmen Sie an, es steht ein Cluster mit 100GB RAM und 100 Kernen zur Verfügung.\n",
    "\n",
    "Gegeben sei folgender Auszug aus der Datei `spark-defaults.conf`:\n",
    "\n",
    "```\n",
    "spark.executor.instances 5\n",
    "spark.executor.memory 10G\n",
    "spark.executor.cores 5\n",
    "spark.executor.memoryOverhead 1GB\n",
    "\n",
    "spark.yarn.am.cores 5\n",
    "spark.yarn.am.memory 5G\n",
    "spark.yarn.am.memoryOverhead 1G\n",
    "\n",
    "spark.dynamicAllocation.enabled false\n",
    "```"
   ]
  },
  {
   "cell_type": "markdown",
   "id": "07ccf1fa",
   "metadata": {},
   "source": [
    "Es wird eine pyspark-Shell mit folgendem Aufruf gestartet (zu diesem Zeitpunkt laufen keine weiteren Spark-Anwendungen):\n",
    "\n",
    "`pyspark --master yarn --num-executors 10 --executor-memory 7.5G`\n",
    "\n",
    "*Berechnen Sie den Ressourcen-Verbrauch (Memory und Cores) der Spark-Anwendung. Geben Sie dabei Ihren Rechenweg an. (4 Punkte)*"
   ]
  },
  {
   "cell_type": "raw",
   "id": "4f5db997",
   "metadata": {
    "tags": [
     "solution"
    ]
   },
   "source": [
    "Ihre Antwort:"
   ]
  },
  {
   "cell_type": "markdown",
   "id": "c522b0a5",
   "metadata": {},
   "source": [
    "Während die eben gestartete pyspark-Shell noch läuft, wird eine zweite pyspark-Shell mit folgendem Aufruf gestartet:\n",
    "\n",
    "`pyspark --master yarn`\n",
    "\n",
    "*Wie viele Ressourcen werden benötigt? Kann die Shell gestartet werden? Kann Spark-Code ausgeführt werden? Begründen Sie Ihre Antworten! (5 Punkte)*"
   ]
  },
  {
   "cell_type": "raw",
   "id": "92d4230d",
   "metadata": {
    "tags": [
     "solution"
    ]
   },
   "source": [
    "Ihre Antwort:"
   ]
  },
  {
   "cell_type": "markdown",
   "id": "9ecabdf2",
   "metadata": {},
   "source": [
    "<span style=\"color:white\">\\newpage</span>."
   ]
  },
  {
   "cell_type": "markdown",
   "id": "ee305885",
   "metadata": {},
   "source": [
    "## Aufgabe 3 - Modellierung, NoSQL (25 Punkte)"
   ]
  },
  {
   "cell_type": "markdown",
   "id": "cf4abd10",
   "metadata": {},
   "source": [
    "Der landesweite Verband von Jugendzentren verwendet aktuell ein relationales Datenbanksystem (PostgreSQL) für die Datenverwaltung. \n",
    "Ein neuer Mitarbeiter der IT-Abteilung hat die Idee zu einem NoSQL Datenbanksystem zu wechseln und schlägt aufgrund der Beliebtheit MongoDB vor.\n",
    "\n",
    "Die nachfolgende Grafik zeigt zunächst einen vereinfachten Ausschnitt des aktuellen physischen Datenbankschemas (PostgreSQL) des IT-Systems der Vereinigung von Jugendzentren."
   ]
  },
  {
   "attachments": {
    "relationales_schema.png": {
     "image/png": "[encoded data removed]"
    }
   },
   "cell_type": "markdown",
   "id": "e5b29dee",
   "metadata": {},
   "source": [
    "![relationales_schema.png](attachment:relationales_schema.png)"
   ]
  },
  {
   "cell_type": "markdown",
   "id": "91f066a7",
   "metadata": {},
   "source": [
    "Für die Migration nach MongoDB wurden folgende Abfragen berücksichtigt. Diese erhalten außerdem bezüglich der Häufigkeit verschiedene Tags (\"Sehr Häufig\"; \"Regelmäßig\"; \"Selten\").\n",
    "\n",
    "**Leseoperationen:**\n",
    "\n",
    "- **R1** (Sehr Häufig). Gegeben ist eine *Jugendzentrum.id*, gebe folgende Attribute aus: *Angebotskatalog.id*, *Angebotskatalog.bezeichnung* und *Angebotskatalog.beschreibung*. \n",
    "    - **Beschreibung:** Mit dieser Abfrage werde alle Angebote, die ein bestimmtes Jugendzentrum anbietet angezeigt. \n",
    "- **R2** (Sehr Häufig). Gegeben ist eine *Jugendzentrum.id*, eine *Angebotskatalog.id* und ein *Datumsbereich*, gebe folgende Attribute aus: *Angebot_Termine.datum* und *Angebot_Termine.freie_plaetze*.\n",
    "    - **Beschreibung:** Für ein bestimmtes Jugendzentrum, einen angegebenen Datumsbereich und ein bestimmtes Angebot, werden die noch freie Plätze der Termine angezeigt. \n",
    "- **R3** (Regelmäßig). Gegeben ist eine *Jugendzentrum.id* und ein *Datumsbereich*, gebe folgende Attribute aus: *Angebotskatalog.bezeichnung*, *Angebot_Termine.datum* und  *Mitglied.name* von Mitgliedern die sich für den Termin angemeldet haben.\n",
    "    - **Beschreibung:** Mit dieser Abfrage lassen sich für ein bestimmtes Jugendzentrum und einem bestimmten Datumsbereich Listen mit den Namen der angemeldeten Mitglieder zu den vorhandenen Terminen der verschidenen Angebote ausgeben.\n",
    "- **R4** (Selten). Gegeben ist eine *Jugendzentrum.id*, gebe folgende Attribute aus: *Angebotkatalog.id*, *Angebotkatalog.bezeichnung* und *anzahl_voll_ausgebucht* dessen Termine voll ausgebucht waren.\n",
    "    - **Beschreibung:** Für ein bestimmtes Jugendzentrum wird eine Liste der Angebote ausgegeben die nach Anzahl voll ausgebuchter Plätze sortiert ist. \n",
    "- **R5** (Selten). Gegeben ist eine *Jugendzentrum.id*, gebe folgende Attribute aus: *Mitglied.id*, *Mitglied.name*, sowie die  *Wochentage* (z.B. 0-6) , an denen Anmeldungen zu Terminen vorlagen.\n",
    "    - **Beschreibung:** Für ein bestimmtes Jugendzentrum wird eine Liste aller Mitglieder ausgegeben, für die jeweils angegeben ist, an welchen Wochentagen Anmeldungen zu Angeboten vorgenommen wurden.\n",
    "\n",
    "**Schreiboperationen**\n",
    "\n",
    "- **W1** (Selten). Gegeben ist eine *Jugendzentrum.id*, füge ein neues Mitglied (*name*, *adresse*, *geburtsdatum*, *entfernung*) hinzu.\n",
    "    - **Beschreibung:** Neue Mitglieder werden einem bestimmten Jugendzentrum hinzugefügt. \n",
    "- **W2** (Regelmäßig). Gegeben ist eine *Jugendzentrum.id* und eine *Angebotskatalog.id*, füge einen neuen *Angebot_Termin* (*datum*, *vorhandene_plaetze*) hinzu.\n",
    "    - **Beschreibung:** Für ein bestimmtes Jugendzentrum wird für ein Angebot ein neuer Termin hinzugefügt. \n",
    "- **W3** (Sehr Häufig). Gegeben ist eine *Mitglied.id* und eine *Angebot_Termin.id*, füge eine neue Anmeldung hinzu.\n",
    "    - **Beschreibung:** Ein Mitglied wird für einen vorhandenen Termin angemeldet. "
   ]
  },
  {
   "cell_type": "markdown",
   "id": "80e7adc1",
   "metadata": {},
   "source": [
    "Bei der Modellierung von Anmeldungen bezüglich angebotener Termine ist sich der Mitarbeiter allerdings unsicher und benötigt Unterstützung.\n",
    "Im folgenden eine Darstellung des aktuellen Stands des migrierten Schemas (MongoDB):"
   ]
  },
  {
   "attachments": {
    "mongodb_schema_unvollstaendig.png": {
     "image/png": "[encoded data removed]"
    }
   },
   "cell_type": "markdown",
   "id": "582c4bb4",
   "metadata": {},
   "source": [
    "![mongodb_schema_unvollstaendig.png](attachment:mongodb_schema_unvollstaendig.png)"
   ]
  },
  {
   "cell_type": "markdown",
   "id": "7447e3e1",
   "metadata": {},
   "source": [
    "### Aufgabe 3.1 (2 Punkte)\n",
    "\n",
    "Embedded vs. referentielle Modellierung bei dokumentorientierten Datenbanksystemen wie MongoDB.\n",
    "\n",
    "Geben Sie zunächst Modellierungsrichtlinien bzw. Anwendungscharakteristika an, die einen starken Einfluss auf die Modellierung haben (embedded vs. referenziell)."
   ]
  },
  {
   "cell_type": "raw",
   "id": "c5c12374",
   "metadata": {
    "tags": [
     "solution"
    ]
   },
   "source": [
    "Ihre Antwort:"
   ]
  },
  {
   "cell_type": "markdown",
   "id": "147ccaa2",
   "metadata": {},
   "source": [
    "### Aufgabe 3.2 (3 Punkte)  \n",
    "    \n",
    "Bei der Modellierung der *Anmeldungen* stellt sich die Frage diese zu referenzieren oder in *Angebot_Termin* einzubetten. Auf welche Abfragen hat diese Entscheidung eine Auswirkung?\n",
    "\n",
    "Begründen Sie außerdem weshalb dies eine Auswirkung auf die entpsrechenden Abfragen hat."
   ]
  },
  {
   "cell_type": "raw",
   "id": "34d6a996",
   "metadata": {
    "tags": [
     "solution"
    ]
   },
   "source": [
    "Ihre Antwort:"
   ]
  },
  {
   "cell_type": "markdown",
   "id": "2e105844",
   "metadata": {},
   "source": [
    "### Aufgabe 3.3 (8 Punkte)  \n",
    "    \n",
    "Helfen Sie nun bei der Migration, indem Sie zunächst die Modellierung der *Anmeldung* vervollständigen. Begründen Sie Ihre Entscheidung, um diese den anderen Mitarbeitern nachvollziehbar darzulegen.\n",
    "\n",
    "Vervollständigen Sie hierzu das nachfolgende Modell.\n",
    "\n",
    "*HINWEIS:* Modellieren Sie eine Einbettung als \"Composition\"."
   ]
  },
  {
   "cell_type": "code",
   "execution_count": null,
   "id": "1ccaf428",
   "metadata": {},
   "outputs": [],
   "source": [
    "%%plantuml --jar\n",
    "\n",
    "@startuml\n",
    "\n",
    "hide circle\n",
    "hide members\n",
    "show fields\n",
    "\n",
    "class \"Jugendzentrum\" as jz {\n",
    "    * _id: int32 **PK**\n",
    "    * name: string\n",
    "    * street: string\n",
    "    * city: string\n",
    "    * zip_code: int32\n",
    "}\n",
    "\n",
    "class \"Angebotskatalog\" as a {\n",
    "    * _id: int32 **PK**\n",
    "    * bezeichnung: string\n",
    "    * beschreibung: string\n",
    "    * jugz_id: array[int32] **FK**\n",
    "}\n",
    "\n",
    "class \"Angebot_Termin\" as t {\n",
    "    * _id: int32 **PK**\n",
    "    * angbk_id: int32 **FK**\n",
    "    * jugz_id: int32 **FK**\n",
    "    * datum: date\n",
    "    * vorhandene_plaetze: int32\n",
    "    * belegte_plaetze: int32\n",
    "}\n",
    "\n",
    "class \"**Anmeldung**\" as an  {\n",
    "    * ...\n",
    "}\n",
    "\n",
    "\n",
    "class \"Mitglied\" as m {\n",
    "    * _id: string **PK**\n",
    "    * jugz_id: int32 **FK**\n",
    "    * name: string\n",
    "    * adresse: string\n",
    "    * geburtsdatum: date\n",
    "    * entfernung: double\n",
    "}\n",
    "\n",
    "\n",
    "jz \"1..*\" -- \"0..*\" a\n",
    "t \"0..*\" -- \"1..1\" a\n",
    "jz \"1..1\" -- \"0..*\" t\n",
    "\n",
    "\n",
    "m \"0..*\" -- \"1..*\" jz\n",
    "\n",
    "@enduml"
   ]
  },
  {
   "cell_type": "raw",
   "id": "169a4d7d",
   "metadata": {
    "tags": [
     "solution"
    ]
   },
   "source": [
    "Begründung der Modellierung:"
   ]
  },
  {
   "cell_type": "markdown",
   "id": "c84bf0dc",
   "metadata": {},
   "source": [
    "### Aufgabe 3.4 (2 Punkte)  \n",
    "    \n",
    "Nach der Migration der Daten wurde festgestellt, dass Abfragen **R3** und **R4** noch Probleme mit der Performance haben. Wie könnte die \"MongoDB-Collection\" *Angebot_Termin* erweitert bzw. angepasst werden, dass diese Abfragen möglichst optimal implementiert werden können?"
   ]
  },
  {
   "cell_type": "raw",
   "id": "0173f24d",
   "metadata": {
    "tags": [
     "solution"
    ]
   },
   "source": [
    "Ihre Antwort:"
   ]
  },
  {
   "cell_type": "markdown",
   "id": "73f7cd15",
   "metadata": {},
   "source": [
    "### Aufgabe 3.5 (4 Punkte)\n",
    "\n",
    "Der landesweite Verband von Jugendzentren hat sich vorgenommen die digitale Präsens weiter auszubauen. Es soll ein Framework für Blogs entwickelt werden. Jedes Mitglied soll Blog-Einträge mit Text und Fotos veröffentlichen können. Andere Nutzer können Einträge \"liken\" und \"disliken\" sowie Kommentare zu den Einträgen schreiben.\n",
    "\n",
    "Der neue Mitarbeiter hat vorgeschlagen hierfür ebenfalls MongoDB als Datenbanksystem zu verwenden, hat dies allerdings noch nicht ausreichend begründet. Helfen Sie indem Sie Gründe für oder gegen die Verwendung von MongoDB als Datenbanksystem angeben. "
   ]
  },
  {
   "cell_type": "raw",
   "id": "db9a5b2b",
   "metadata": {
    "tags": [
     "solution"
    ]
   },
   "source": [
    "Ihre Antwort:"
   ]
  },
  {
   "cell_type": "markdown",
   "id": "bcecbb9b",
   "metadata": {},
   "source": [
    "### Aufgabe 3.6 (4 Punkte)\n",
    "\n",
    "Erläutern Sie die wesentlichen Unterschiede zwischen Dokumentorientierten Datenbanksystemen und Column-Family-Datenbanksystemen."
   ]
  },
  {
   "cell_type": "raw",
   "id": "71d65119",
   "metadata": {
    "tags": [
     "solution"
    ]
   },
   "source": [
    "Ihre Antwort:"
   ]
  },
  {
   "cell_type": "markdown",
   "id": "6cefee94",
   "metadata": {},
   "source": [
    "### Aufgabe 3.7 (2 Punkte)\n",
    "\n",
    "Erläutern Sie das Konzept der aggregatorientierten Modellierung."
   ]
  },
  {
   "cell_type": "raw",
   "id": "0dea7fd6",
   "metadata": {
    "tags": [
     "solution"
    ]
   },
   "source": [
    "Ihre Antwort:"
   ]
  },
  {
   "cell_type": "markdown",
   "id": "cd6b5dad",
   "metadata": {},
   "source": [
    "## Aufgabe 4 - Technologien für Big Data (5 Punkte)"
   ]
  },
  {
   "cell_type": "markdown",
   "id": "5d9be9bf",
   "metadata": {},
   "source": [
    "### Aufgabe 4.1 (2 Punkte)\n",
    "Sharding: Welche Vor- und Nachteile hat Range-based Sharding in Bezug auf die gleichmäßige Verteilung der Daten über die Knoten und in Bezug auf die Performance von Queries?\n"
   ]
  },
  {
   "cell_type": "raw",
   "id": "de0d4fc4",
   "metadata": {
    "tags": [
     "solution"
    ]
   },
   "source": [
    "Ihre Antwort: "
   ]
  },
  {
   "cell_type": "markdown",
   "id": "4120a850",
   "metadata": {},
   "source": [
    "### Aufgabe 4.2 (2 Punkte)\n",
    "Replikation: Welche Vor- und Nachteile hat die asynchrone Replikation? "
   ]
  },
  {
   "cell_type": "raw",
   "id": "144b9443",
   "metadata": {
    "tags": [
     "solution"
    ]
   },
   "source": [
    "Ihre Antwort: "
   ]
  },
  {
   "cell_type": "markdown",
   "id": "88b4b568",
   "metadata": {},
   "source": [
    "### Aufgabe 4.3 (1 Punkt)\n",
    "Warum verwendet man in In-Memory-Datenbanksystemen zum Aktualisieren von Daten i.A. einen Differential Buffer und ersetzt nicht *in-place*?"
   ]
  },
  {
   "cell_type": "raw",
   "id": "91febb36",
   "metadata": {
    "tags": [
     "solution"
    ]
   },
   "source": [
    "Ihre Antwort: "
   ]
  }
 ],
 "metadata": {
  "celltoolbar": "",
  "kernelspec": {
   "display_name": "Python 3 (ipykernel)",
   "language": "python",
   "name": "python3"
  },
  "language_info": {
   "codemirror_mode": {
    "name": "ipython",
    "version": 3
   },
   "file_extension": ".py",
   "mimetype": "text/x-python",
   "name": "python",
   "nbconvert_exporter": "python",
   "pygments_lexer": "ipython3",
   "version": "3.10.8"
  },
  "toc": {
   "base_numbering": 1,
   "nav_menu": {},
   "number_sections": true,
   "sideBar": true,
   "skip_h1_title": true,
   "title_cell": "Table of Contents",
   "title_sidebar": "Contents",
   "toc_cell": false,
   "toc_position": {},
   "toc_section_display": true,
   "toc_window_display": true
  }
 },
 "nbformat": 4,
 "nbformat_minor": 5
}
