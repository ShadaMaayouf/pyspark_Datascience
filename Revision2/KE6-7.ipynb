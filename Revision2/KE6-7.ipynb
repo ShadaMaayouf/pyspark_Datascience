{
 "cells": [
  {
   "cell_type": "raw",
   "id": "15b94051",
   "metadata": {},
   "source": [
    "Name:\n",
    "Matrikelnummer:"
   ]
  },
  {
   "cell_type": "markdown",
   "id": "7b4b8e40",
   "metadata": {},
   "source": [
    "___"
   ]
  },
  {
   "cell_type": "markdown",
   "id": "b8bb480d",
   "metadata": {},
   "source": [
    "# (I can't get no) satisfaction\n",
    "\n",
    "Ziel dieser Kurseinheit ist es, Erfahrung mit der Datenmodellierung für dokument-orientierte und spalten-orientierte Datenbanksysteme (im Vergleich zu relationalen Systemen) zu sammeln."
   ]
  },
  {
   "cell_type": "markdown",
   "id": "7143af02",
   "metadata": {},
   "source": [
    "## Module und Umgebunsvariablen laden\n",
    "\n",
    "Wie bereits in KE1 beschrieben, werden zunächst zwei Umgebungsvariablen Variablen angelegt, auf die im Verlauf dieser Kurseinheit zugegriffen wird. "
   ]
  },
  {
   "cell_type": "code",
   "execution_count": 2,
   "id": "10acd745",
   "metadata": {},
   "outputs": [],
   "source": [
    "# Load neccessary python libraries\n",
    "import os\n",
    "import iplantuml"
   ]
  },
  {
   "cell_type": "code",
   "execution_count": null,
   "id": "2c92eefe",
   "metadata": {},
   "outputs": [],
   "source": [
    "# Absolute path to the folder cotaining the git repo\n",
    "host_repo_path =  \"/CHANGE/ME\"\n",
    "\n",
    "# Relative path to the folder containing following files (INSIDE OF THE WORKSPACE FOLDER!):\n",
    "#   employees_satisfaction_transformed.csv\n",
    "#   departments.csv\n",
    "#   projects.csv\n",
    "workspace_data_path = \"CHANGE/ME\"\n",
    "\n",
    "os.environ['HOST_DATA_PATH'] = os.path.join(host_repo_path, \"workspace\", workspace_data_path)\n",
    "os.environ['DATA_PATH'] = os.path.join(\"/home/pyspark-client/workspace/\", workspace_data_path)"
   ]
  },
  {
   "cell_type": "markdown",
   "id": "4f4da72b",
   "metadata": {},
   "source": [
    "##  Datenmodellierung\n",
    "\n",
    "Wir beginnen mit einer Analyse der zur Verfügung stehenden Dateien bzw. Daten, die in die verschiedenen Datenbanksysteme importiert werden sollen.\n",
    "\n",
    "Neben der bereits verwendeten Datei:\n",
    "\n",
    "- *employees_satisfaction_transformed.csv*"
   ]
  },
  {
   "cell_type": "code",
   "execution_count": null,
   "id": "24233efa",
   "metadata": {
    "scrolled": true
   },
   "outputs": [],
   "source": [
    "%%bash\n",
    "\n",
    "# Show the headline from file \"employees_satisfaction_transformed.csv\"\n",
    "printf \"\\n## Employee columns\\n\"\n",
    "head -1 ${DATA_PATH}/employees_satisfaction_transformed.csv"
   ]
  },
  {
   "cell_type": "markdown",
   "id": "40a01479",
   "metadata": {},
   "source": [
    "werden zwei weitere Dateien bereitgestellt:\n",
    "\n",
    "- *departments.csv*\n",
    "\n",
    "- *projects.csv*"
   ]
  },
  {
   "cell_type": "code",
   "execution_count": null,
   "id": "e5daf7f5",
   "metadata": {},
   "outputs": [],
   "source": [
    "%%bash\n",
    "\n",
    "# Show the headline from file \"departments.csv\"\n",
    "printf \"\\n## Department columns:\\n\"\n",
    "head -1 ${DATA_PATH}/departments.csv\n",
    "\n",
    "# Show the headline from file \"projects.csv\"\n",
    "printf \"\\n## Project columns\\n\"\n",
    "head -1 ${DATA_PATH}/projects.csv"
   ]
  },
  {
   "cell_type": "markdown",
   "id": "bc0c6b43",
   "metadata": {},
   "source": [
    "> *HINWEIS:* Die Binärdaten der Bilddateien (*Projects.proj_image*) sind base64 encodiert!"
   ]
  },
  {
   "cell_type": "markdown",
   "id": "e121aa86",
   "metadata": {},
   "source": [
    "\n",
    "\n",
    "<div class=\"alert alert-block alert-info\">\n",
    "    \n",
    "**Aufgabe 1**    \n",
    "\n",
    "Erstellen Sie zunächst ein Klassen-Diagramm, das die Struktur bzw. das Schema der vorhandenen Daten darstellt (Eine Klasse je CSV-Datei). Heben Sie insbesondere Primär- und Fremd-Schlüsselattribute hervor (fett) und Markieren Sie farblich (fett und rot) die in den vorliegenden Daten fehlenden Schlüsselattribute die für die nachfolgend aufgelisteten Beziehungen notwendig sind. Es ist ebenfalls sinnvoll eine Analyse der Datentypen (string, int, float) der vorhandenen Werte vorzunehmen und diese ebenfalls darzustellen.\n",
    "</div>\n",
    "\n",
    "\n",
    "Folgende Beziehungen sind in den Daten vorhanden bzw. sollen modelliert werden:\n",
    "\n",
    "- Ein Department hat mehrere Projekte, aber ein Projekt ist immer genau einem Department zugeordnet\n",
    "- Ein Department hat viele Mitarbeiter, aber ein Mitarbeiter ist nur einem Department zugeordnet\n",
    "\n",
    "\n",
    "\n",
    "> *HINWEIS:* Für die Modellierung verwenden wir PlantUML innerhalb der Jupyter-Notebook-Zellen. Eine Dokumentation zu PlantUML ist unter folgender URL zu finden: [https://plantuml.com/class-diagram](https://plantuml.com/class-diagram)"
   ]
  },
  {
   "cell_type": "code",
   "execution_count": 4,
   "id": "366a4500",
   "metadata": {},
   "outputs": [
    {
     "data": {
      "image/svg+xml": [
       "<svg xmlns=\"http://www.w3.org/2000/svg\" xmlns:xlink=\"http://www.w3.org/1999/xlink\" contentStyleType=\"text/css\" height=\"241px\" preserveAspectRatio=\"none\" style=\"width:404px;height:241px;background:#FFFFFF;\" version=\"1.1\" viewBox=\"0 0 404 241\" width=\"404px\" zoomAndPan=\"magnify\"><defs/><g><!--class Department--><g id=\"elem_Department\"><rect codeLine=\"5\" fill=\"#F1F1F1\" height=\"66.8906\" id=\"Department\" rx=\"2.5\" ry=\"2.5\" style=\"stroke:#181818;stroke-width:0.5;\" width=\"202\" x=\"96.5\" y=\"7\"/><text fill=\"#000000\" font-family=\"sans-serif\" font-size=\"14\" lengthAdjust=\"spacing\" textLength=\"90\" x=\"152.5\" y=\"24.9951\">Department</text><line style=\"stroke:#181818;stroke-width:0.5;\" x1=\"97.5\" x2=\"297.5\" y1=\"33.2969\" y2=\"33.2969\"/><text fill=\"#000000\" font-family=\"sans-serif\" font-size=\"14\" font-weight=\"bold\" lengthAdjust=\"spacing\" textLength=\"157\" x=\"102.5\" y=\"50.292\">department_id : int</text><text fill=\"#000000\" font-family=\"sans-serif\" font-size=\"14\" lengthAdjust=\"spacing\" textLength=\"190\" x=\"102.5\" y=\"66.5889\">department_name : string</text></g><!--class Project--><g id=\"elem_Project\"><rect codeLine=\"10\" fill=\"#F1F1F1\" height=\"83.1875\" id=\"Project\" rx=\"2.5\" ry=\"2.5\" style=\"stroke:#181818;stroke-width:0.5;\" width=\"169\" x=\"7\" y=\"151\"/><text fill=\"#000000\" font-family=\"sans-serif\" font-size=\"14\" lengthAdjust=\"spacing\" textLength=\"52\" x=\"65.5\" y=\"168.9951\">Project</text><line style=\"stroke:#181818;stroke-width:0.5;\" x1=\"8\" x2=\"175\" y1=\"177.2969\" y2=\"177.2969\"/><text fill=\"#000000\" font-family=\"sans-serif\" font-size=\"14\" font-weight=\"bold\" lengthAdjust=\"spacing\" textLength=\"119\" x=\"13\" y=\"194.292\">project_id : int</text><text fill=\"#000000\" font-family=\"sans-serif\" font-size=\"14\" lengthAdjust=\"spacing\" textLength=\"155\" x=\"13\" y=\"210.5889\">project_name : string</text><text fill=\"#000000\" font-family=\"sans-serif\" font-size=\"14\" font-weight=\"bold\" lengthAdjust=\"spacing\" textLength=\"157\" x=\"13\" y=\"226.8857\">department_id : int</text></g><!--class Employee--><g id=\"elem_Employee\"><rect codeLine=\"16\" fill=\"#F1F1F1\" height=\"83.1875\" id=\"Employee\" rx=\"2.5\" ry=\"2.5\" style=\"stroke:#181818;stroke-width:0.5;\" width=\"186\" x=\"211.5\" y=\"151\"/><text fill=\"#000000\" font-family=\"sans-serif\" font-size=\"14\" lengthAdjust=\"spacing\" textLength=\"72\" x=\"268.5\" y=\"168.9951\">Employee</text><line style=\"stroke:#181818;stroke-width:0.5;\" x1=\"212.5\" x2=\"396.5\" y1=\"177.2969\" y2=\"177.2969\"/><text fill=\"#000000\" font-family=\"sans-serif\" font-size=\"14\" font-weight=\"bold\" lengthAdjust=\"spacing\" textLength=\"137\" x=\"217.5\" y=\"194.292\">employee_id : int</text><text fill=\"#000000\" font-family=\"sans-serif\" font-size=\"14\" lengthAdjust=\"spacing\" textLength=\"174\" x=\"217.5\" y=\"210.5889\">employee_name : string</text><text fill=\"#000000\" font-family=\"sans-serif\" font-size=\"14\" font-weight=\"bold\" lengthAdjust=\"spacing\" textLength=\"157\" x=\"217.5\" y=\"226.8857\">department_id : int</text></g><!--link Department to Project--><g id=\"link_Department_Project\"><path codeLine=\"22\" d=\"M174.5,74.048 C158.547,96.623 137.186,126.849 120.131,150.9851 \" fill=\"none\" id=\"Department-Project\" style=\"stroke:#181818;stroke-width:1.0;\"/><text fill=\"#000000\" font-family=\"sans-serif\" font-size=\"13\" lengthAdjust=\"spacing\" textLength=\"54\" x=\"152.5\" y=\"117.0669\">contains</text><text fill=\"#000000\" font-family=\"sans-serif\" font-size=\"13\" lengthAdjust=\"spacing\" textLength=\"8\" x=\"161.3531\" y=\"93.9628\">1</text><text fill=\"#000000\" font-family=\"sans-serif\" font-size=\"13\" lengthAdjust=\"spacing\" textLength=\"37\" x=\"84.8085\" y=\"139.9294\">many</text></g><!--link Department to Employee--><g id=\"link_Department_Employee\"><path codeLine=\"23\" d=\"M220.717,74.048 C236.821,96.623 258.383,126.849 275.599,150.9851 \" fill=\"none\" id=\"Department-Employee\" style=\"stroke:#181818;stroke-width:1.0;\"/><text fill=\"#000000\" font-family=\"sans-serif\" font-size=\"13\" lengthAdjust=\"spacing\" textLength=\"54\" x=\"255.5\" y=\"117.0669\">contains</text><text fill=\"#000000\" font-family=\"sans-serif\" font-size=\"13\" lengthAdjust=\"spacing\" textLength=\"8\" x=\"216.3802\" y=\"93.9628\">1</text><text fill=\"#000000\" font-family=\"sans-serif\" font-size=\"13\" lengthAdjust=\"spacing\" textLength=\"37\" x=\"230.7482\" y=\"139.9294\">many</text></g><!--SRC=[bO-n3i8m34JtV8MLCL87riwmymSe98OQ9KuLHq9LnRzJH1lQeGERxtnwzdNa4Hnb5r1rdpbYl68M9LrwmeqmU57A1Ii2H-njBX6vmAW0ZF7Lk9275eYBCTDcvREDE6saPEAxUYseSquFT0kd_wejP36tXFspbNsAVKW3uWp7MMxfrVq3l-gl3ngQ1dIqFEZQfWMNk5XYsS_MxtxXDm00]--></g></svg>"
      ],
      "text/plain": [
       "<IPython.core.display.SVG object>"
      ]
     },
     "execution_count": 4,
     "metadata": {},
     "output_type": "execute_result"
    }
   ],
   "source": [
    "%%plantuml\n",
    "\n",
    "@startuml\n",
    "\n",
    "hide circle\n",
    "hide members\n",
    "show fields\n",
    "\n",
    "class Department {\n",
    "  **department_id : int**\n",
    "  department_name : string\n",
    "}\n",
    "\n",
    "class Project {\n",
    "  **project_id : int**\n",
    "  project_name : string\n",
    "  **department_id : int**\n",
    "}\n",
    "\n",
    "class Employee {\n",
    "  **employee_id : int**\n",
    "  employee_name : string\n",
    "  **department_id : int**\n",
    "}\n",
    "\n",
    "Department \"1\" -- \"many\" Project : contains\n",
    "Department \"1\" -- \"many\" Employee : contains\n",
    "@enduml\n"
   ]
  },
  {
   "cell_type": "markdown",
   "id": "2926ccc8",
   "metadata": {},
   "source": [
    "## PostgreSQL    \n",
    "\n",
    "Im Folgenden sollen die vorhandenen Daten zunächst in ein relationales Datenbanksystem - in diesem Fall PostgreSQL - importiert werden.\n",
    "\n",
    "<div class=\"alert alert-block alert-info\">\n",
    "    \n",
    "**Aufgabe 2**    \n",
    "    \n",
    "Bilden Sie das in Aufgabe 1 aus den vorhandenen Daten extrahiert Modell jetzt geeignet auf das relationale Datenmodell ab (pysisches Modell). Hierbei muss im Sinne einer Normalisierung kein weitere Aufteilung der Tabellen vorgenommen werden. Markieren Sie ebenfalls wieder farblich für die Modellierung notwendigen Attribute, die in den vorhandenen Daten fehlen. Kennzeichnen Sie ebenfalls redundante Attribute die Sie an dieser Stelle entfernen würden. \n",
    "</div>\n",
    "\n"
   ]
  },
  {
   "cell_type": "code",
   "execution_count": 5,
   "id": "fabe68f9",
   "metadata": {},
   "outputs": [
    {
     "data": {
      "image/svg+xml": [
       "<svg xmlns=\"http://www.w3.org/2000/svg\" xmlns:xlink=\"http://www.w3.org/1999/xlink\" contentStyleType=\"text/css\" height=\"268px\" preserveAspectRatio=\"none\" style=\"width:496px;height:268px;background:#FFFFFF;\" version=\"1.1\" viewBox=\"0 0 496 268\" width=\"496px\" zoomAndPan=\"magnify\"><defs/><g><!--class department--><g id=\"elem_department\"><rect codeLine=\"1\" fill=\"#F1F1F1\" height=\"80.5938\" id=\"department\" rx=\"2.5\" ry=\"2.5\" style=\"stroke:#181818;stroke-width:0.5;\" width=\"249\" x=\"118.5\" y=\"7\"/><ellipse cx=\"193.75\" cy=\"23\" fill=\"#ADD1B2\" rx=\"11\" ry=\"11\" style=\"stroke:#181818;stroke-width:1.0;\"/><path d=\"M192.5469,23.875 L194,23.875 L194,23.9844 C194,24.3906 194.0313,24.5469 194.1094,24.7031 C194.2656,24.9531 194.5469,25.1094 194.8438,25.1094 C195.0938,25.1094 195.3594,24.9688 195.5156,24.75 C195.6406,24.5938 195.6719,24.4375 195.6719,23.9844 L195.6719,22.0625 C195.6719,21.9063 195.6719,21.8594 195.6563,21.7031 C195.5938,21.2344 195.2813,20.9219 194.8281,20.9219 C194.5781,20.9219 194.3125,21.0625 194.1406,21.2813 C194.0313,21.4531 194,21.6094 194,22.0625 L194,22.1875 L192.5469,22.1875 L192.5469,19.7813 L196.5313,19.7813 L196.5313,20.6406 C196.5313,21.0469 196.5625,21.2188 196.6406,21.375 C196.8125,21.625 197.0938,21.7813 197.375,21.7813 C197.6406,21.7813 197.9063,21.6406 198.0781,21.4219 C198.1875,21.25 198.2188,21.1094 198.2188,20.6406 L198.2188,18.0938 L190.5938,18.0938 C190.1563,18.0938 190.0313,18.1094 189.875,18.2031 C189.625,18.3594 189.4688,18.6563 189.4688,18.9375 C189.4688,19.2188 189.6094,19.4688 189.8281,19.6406 C189.9844,19.75 190.1719,19.7813 190.5938,19.7813 L190.8438,19.7813 L190.8438,26.2969 L190.5938,26.2969 C190.1875,26.2969 190.0313,26.3125 189.875,26.4219 C189.625,26.5938 189.4688,26.8594 189.4688,27.1563 C189.4688,27.4219 189.6094,27.6719 189.8281,27.8281 C189.9688,27.9531 190.2031,28 190.5938,28 L198.5938,28 L198.5938,25.4219 C198.5938,24.9844 198.5625,24.8438 198.4844,24.6875 C198.3125,24.4375 198.0313,24.2813 197.75,24.2813 C197.4844,24.2813 197.2188,24.3906 197.0469,24.6406 C196.9375,24.7969 196.9063,24.9375 196.9063,25.4219 L196.9063,26.2969 L192.5469,26.2969 L192.5469,23.875 Z \" fill=\"#000000\"/><text fill=\"#000000\" font-family=\"sans-serif\" font-size=\"14\" lengthAdjust=\"spacing\" textLength=\"90\" x=\"214.25\" y=\"27.8467\">Department</text><line style=\"stroke:#181818;stroke-width:0.5;\" x1=\"119.5\" x2=\"366.5\" y1=\"39\" y2=\"39\"/><text fill=\"#000000\" font-family=\"sans-serif\" font-size=\"14\" font-weight=\"bold\" lengthAdjust=\"spacing\" textLength=\"157\" x=\"124.5\" y=\"55.9951\">department_id : int</text><line style=\"stroke:#181818;stroke-width:0.5;\" x1=\"119.5\" x2=\"366.5\" y1=\"63.2969\" y2=\"63.2969\"/><text fill=\"#000000\" font-family=\"sans-serif\" font-size=\"14\" lengthAdjust=\"spacing\" textLength=\"237\" x=\"124.5\" y=\"80.292\">department_name : varchar(255)</text></g><!--class project--><g id=\"elem_project\"><rect codeLine=\"6\" fill=\"#F1F1F1\" height=\"96.8906\" id=\"project\" rx=\"2.5\" ry=\"2.5\" style=\"stroke:#181818;stroke-width:0.5;\" width=\"214\" x=\"7\" y=\"165\"/><ellipse cx=\"83.75\" cy=\"181\" fill=\"#ADD1B2\" rx=\"11\" ry=\"11\" style=\"stroke:#181818;stroke-width:1.0;\"/><path d=\"M82.5469,181.875 L84,181.875 L84,181.9844 C84,182.3906 84.0313,182.5469 84.1094,182.7031 C84.2656,182.9531 84.5469,183.1094 84.8438,183.1094 C85.0938,183.1094 85.3594,182.9688 85.5156,182.75 C85.6406,182.5938 85.6719,182.4375 85.6719,181.9844 L85.6719,180.0625 C85.6719,179.9063 85.6719,179.8594 85.6563,179.7031 C85.5938,179.2344 85.2813,178.9219 84.8281,178.9219 C84.5781,178.9219 84.3125,179.0625 84.1406,179.2813 C84.0313,179.4531 84,179.6094 84,180.0625 L84,180.1875 L82.5469,180.1875 L82.5469,177.7813 L86.5313,177.7813 L86.5313,178.6406 C86.5313,179.0469 86.5625,179.2188 86.6406,179.375 C86.8125,179.625 87.0938,179.7813 87.375,179.7813 C87.6406,179.7813 87.9063,179.6406 88.0781,179.4219 C88.1875,179.25 88.2188,179.1094 88.2188,178.6406 L88.2188,176.0938 L80.5938,176.0938 C80.1563,176.0938 80.0313,176.1094 79.875,176.2031 C79.625,176.3594 79.4688,176.6563 79.4688,176.9375 C79.4688,177.2188 79.6094,177.4688 79.8281,177.6406 C79.9844,177.75 80.1719,177.7813 80.5938,177.7813 L80.8438,177.7813 L80.8438,184.2969 L80.5938,184.2969 C80.1875,184.2969 80.0313,184.3125 79.875,184.4219 C79.625,184.5938 79.4688,184.8594 79.4688,185.1563 C79.4688,185.4219 79.6094,185.6719 79.8281,185.8281 C79.9688,185.9531 80.2031,186 80.5938,186 L88.5938,186 L88.5938,183.4219 C88.5938,182.9844 88.5625,182.8438 88.4844,182.6875 C88.3125,182.4375 88.0313,182.2813 87.75,182.2813 C87.4844,182.2813 87.2188,182.3906 87.0469,182.6406 C86.9375,182.7969 86.9063,182.9375 86.9063,183.4219 L86.9063,184.2969 L82.5469,184.2969 L82.5469,181.875 Z \" fill=\"#000000\"/><text fill=\"#000000\" font-family=\"sans-serif\" font-size=\"14\" lengthAdjust=\"spacing\" textLength=\"52\" x=\"104.25\" y=\"185.8467\">Project</text><line style=\"stroke:#181818;stroke-width:0.5;\" x1=\"8\" x2=\"220\" y1=\"197\" y2=\"197\"/><text fill=\"#000000\" font-family=\"sans-serif\" font-size=\"14\" font-weight=\"bold\" lengthAdjust=\"spacing\" textLength=\"119\" x=\"13\" y=\"213.9951\">project_id : int</text><text fill=\"#000000\" font-family=\"sans-serif\" font-size=\"14\" font-weight=\"bold\" lengthAdjust=\"spacing\" textLength=\"157\" x=\"13\" y=\"230.292\">department_id : int</text><line style=\"stroke:#181818;stroke-width:0.5;\" x1=\"8\" x2=\"220\" y1=\"237.5938\" y2=\"237.5938\"/><text fill=\"#000000\" font-family=\"sans-serif\" font-size=\"14\" lengthAdjust=\"spacing\" textLength=\"202\" x=\"13\" y=\"254.5889\">project_name : varchar(255)</text></g><!--class employee--><g id=\"elem_employee\"><rect codeLine=\"12\" fill=\"#F1F1F1\" height=\"96.8906\" id=\"employee\" rx=\"2.5\" ry=\"2.5\" style=\"stroke:#181818;stroke-width:0.5;\" width=\"233\" x=\"256.5\" y=\"165\"/><ellipse cx=\"332.75\" cy=\"181\" fill=\"#ADD1B2\" rx=\"11\" ry=\"11\" style=\"stroke:#181818;stroke-width:1.0;\"/><path d=\"M331.5469,181.875 L333,181.875 L333,181.9844 C333,182.3906 333.0313,182.5469 333.1094,182.7031 C333.2656,182.9531 333.5469,183.1094 333.8438,183.1094 C334.0938,183.1094 334.3594,182.9688 334.5156,182.75 C334.6406,182.5938 334.6719,182.4375 334.6719,181.9844 L334.6719,180.0625 C334.6719,179.9063 334.6719,179.8594 334.6563,179.7031 C334.5938,179.2344 334.2813,178.9219 333.8281,178.9219 C333.5781,178.9219 333.3125,179.0625 333.1406,179.2813 C333.0313,179.4531 333,179.6094 333,180.0625 L333,180.1875 L331.5469,180.1875 L331.5469,177.7813 L335.5313,177.7813 L335.5313,178.6406 C335.5313,179.0469 335.5625,179.2188 335.6406,179.375 C335.8125,179.625 336.0938,179.7813 336.375,179.7813 C336.6406,179.7813 336.9063,179.6406 337.0781,179.4219 C337.1875,179.25 337.2188,179.1094 337.2188,178.6406 L337.2188,176.0938 L329.5938,176.0938 C329.1563,176.0938 329.0313,176.1094 328.875,176.2031 C328.625,176.3594 328.4688,176.6563 328.4688,176.9375 C328.4688,177.2188 328.6094,177.4688 328.8281,177.6406 C328.9844,177.75 329.1719,177.7813 329.5938,177.7813 L329.8438,177.7813 L329.8438,184.2969 L329.5938,184.2969 C329.1875,184.2969 329.0313,184.3125 328.875,184.4219 C328.625,184.5938 328.4688,184.8594 328.4688,185.1563 C328.4688,185.4219 328.6094,185.6719 328.8281,185.8281 C328.9688,185.9531 329.2031,186 329.5938,186 L337.5938,186 L337.5938,183.4219 C337.5938,182.9844 337.5625,182.8438 337.4844,182.6875 C337.3125,182.4375 337.0313,182.2813 336.75,182.2813 C336.4844,182.2813 336.2188,182.3906 336.0469,182.6406 C335.9375,182.7969 335.9063,182.9375 335.9063,183.4219 L335.9063,184.2969 L331.5469,184.2969 L331.5469,181.875 Z \" fill=\"#000000\"/><text fill=\"#000000\" font-family=\"sans-serif\" font-size=\"14\" lengthAdjust=\"spacing\" textLength=\"72\" x=\"353.25\" y=\"185.8467\">Employee</text><line style=\"stroke:#181818;stroke-width:0.5;\" x1=\"257.5\" x2=\"488.5\" y1=\"197\" y2=\"197\"/><text fill=\"#000000\" font-family=\"sans-serif\" font-size=\"14\" font-weight=\"bold\" lengthAdjust=\"spacing\" textLength=\"137\" x=\"262.5\" y=\"213.9951\">employee_id : int</text><text fill=\"#000000\" font-family=\"sans-serif\" font-size=\"14\" font-weight=\"bold\" lengthAdjust=\"spacing\" textLength=\"157\" x=\"262.5\" y=\"230.292\">department_id : int</text><line style=\"stroke:#181818;stroke-width:0.5;\" x1=\"257.5\" x2=\"488.5\" y1=\"237.5938\" y2=\"237.5938\"/><text fill=\"#000000\" font-family=\"sans-serif\" font-size=\"14\" lengthAdjust=\"spacing\" textLength=\"221\" x=\"262.5\" y=\"254.5889\">employee_name : varchar(255)</text></g><!--link department to project--><g id=\"link_department_project\"><path codeLine=\"18\" d=\"M206.827,94.4878 C188.633,117.6178 181.6485,126.4973 162.4945,150.8479 \" fill=\"none\" id=\"department-project\" style=\"stroke:#181818;stroke-width:1.0;\"/><line style=\"stroke:#181818;stroke-width:1.0;\" x1=\"206.1561\" x2=\"212.4439\" y1=\"88.8709\" y2=\"93.8169\"/><line style=\"stroke:#181818;stroke-width:1.0;\" x1=\"204.3013\" x2=\"210.5892\" y1=\"91.2289\" y2=\"96.1749\"/><line style=\"stroke:#181818;stroke-width:1.0;\" x1=\"206.827\" x2=\"211.773\" y1=\"94.4878\" y2=\"88.2\"/><line style=\"stroke:#181818;stroke-width:1.0;\" x1=\"156.312\" x2=\"156.0819\" y1=\"158.7077\" y2=\"168.7051\"/><line style=\"stroke:#181818;stroke-width:1.0;\" x1=\"156.312\" x2=\"146.6501\" y1=\"158.7077\" y2=\"161.2861\"/><line style=\"stroke:#181818;stroke-width:1.0;\" x1=\"156.312\" x2=\"151.366\" y1=\"158.7077\" y2=\"164.9956\"/><ellipse cx=\"160.0215\" cy=\"153.9918\" fill=\"none\" rx=\"4\" ry=\"4\" style=\"stroke:#181818;stroke-width:1.0;\"/><text fill=\"#000000\" font-family=\"sans-serif\" font-size=\"13\" lengthAdjust=\"spacing\" textLength=\"23\" x=\"188\" y=\"131.0669\">has</text></g><!--link department to employee--><g id=\"link_department_employee\"><path codeLine=\"19\" d=\"M279.4387,94.4691 C297.7747,117.5991 304.8606,126.5391 324.1626,150.8897 \" fill=\"none\" id=\"department-employee\" style=\"stroke:#181818;stroke-width:1.0;\"/><line style=\"stroke:#181818;stroke-width:1.0;\" x1=\"273.8193\" x2=\"280.0884\" y1=\"93.8194\" y2=\"88.8497\"/><line style=\"stroke:#181818;stroke-width:1.0;\" x1=\"275.683\" x2=\"281.9521\" y1=\"96.1703\" y2=\"91.2006\"/><line style=\"stroke:#181818;stroke-width:1.0;\" x1=\"279.4387\" x2=\"274.469\" y1=\"94.4691\" y2=\"88.2\"/><line style=\"stroke:#181818;stroke-width:1.0;\" x1=\"330.3745\" x2=\"340.046\" y1=\"158.7263\" y2=\"161.2685\"/><line style=\"stroke:#181818;stroke-width:1.0;\" x1=\"330.3745\" x2=\"330.642\" y1=\"158.7263\" y2=\"168.7227\"/><line style=\"stroke:#181818;stroke-width:1.0;\" x1=\"330.3745\" x2=\"335.344\" y1=\"158.7263\" y2=\"164.9956\"/><ellipse cx=\"326.6474\" cy=\"154.0243\" fill=\"none\" rx=\"4\" ry=\"4\" style=\"stroke:#181818;stroke-width:1.0;\"/><text fill=\"#000000\" font-family=\"sans-serif\" font-size=\"13\" lengthAdjust=\"spacing\" textLength=\"23\" x=\"309\" y=\"131.0669\">has</text></g><!--SRC=[IyqhoIofL51oIIr8B2h9JSqhKL98B5P8WNCLghaK5BIq40BncIaALWgPUILQMa0P9F6ynDnKe4nPOb5oHcAHXf6fgIPNBHTNAjI6WAByhDHaYF4543RKR2WFrM2O83PJSJi8oJxNt8AS_ChKLB25gL0Er4OO5zLAk2Z9TY85LqsDhcv-DTo7LWePYSLOvE4E0Yi00000]--></g></svg>"
      ],
      "text/plain": [
       "<IPython.core.display.SVG object>"
      ]
     },
     "execution_count": 5,
     "metadata": {},
     "output_type": "execute_result"
    }
   ],
   "source": [
    "%%plantuml \n",
    "\n",
    "@startuml\n",
    "entity \"Department\" as department {\n",
    "  **department_id : int**\n",
    "  department_name : varchar(255)\n",
    "}\n",
    "\n",
    "entity \"Project\" as project {\n",
    "  **project_id : int**\n",
    "  project_name : varchar(255)\n",
    "  **department_id : int**\n",
    "}\n",
    "\n",
    "entity \"Employee\" as employee {\n",
    "  **employee_id : int**\n",
    "  employee_name : varchar(255)\n",
    "  **department_id : int**\n",
    "}\n",
    "\n",
    "department ||--o{ project : has\n",
    "department ||--o{ employee : has\n",
    "@enduml\n"
   ]
  },
  {
   "cell_type": "markdown",
   "id": "5ab5c7fe",
   "metadata": {},
   "source": [
    "### Data Preparation   \n",
    "\n",
    "$$ \\\\ $$\n",
    "\n",
    "<div class=\"alert alert-block alert-info\">\n",
    "\n",
    "**Aufgabe 3**\n",
    "    \n",
    "Nehmen Sie an dieser Stelle für den Import möglicherweise notwendige Änderungen an den Daten vor. Es steht Ihnen frei dies mithilfe von Bash-Tools, Python-Skripten oder sonstigen Werkzeugen umzusetzen. \n",
    "\n",
    "Beschreiben Sie außerdem nachvollziehbar - mit Kommentaren im Code oder Markdown-Zellen - welche Änderungen Sie vornehmen und wieso Sie diese vornehmen.\n",
    "</div>\n",
    "\n"
   ]
  },
  {
   "cell_type": "markdown",
   "id": "bf0a2e26",
   "metadata": {},
   "source": [
    "Ihre Lösung ..."
   ]
  },
  {
   "cell_type": "markdown",
   "id": "73dd1c7a",
   "metadata": {},
   "source": [
    "### Datenimport     \n",
    "\n",
    "\n",
    "Starten Sie jetzt einen Docker-Container mit einer PostgreSQL-Datenbank, innerhalb des Docker-Netzwerks, in dem sich alle weiteren hier verwendeten Container befinden."
   ]
  },
  {
   "cell_type": "code",
   "execution_count": null,
   "id": "4fe234fc",
   "metadata": {},
   "outputs": [],
   "source": [
    "%%bash\n",
    "\n",
    "sudo docker run -d --rm \\\n",
    "--name dbis-postgres-db-1 \\\n",
    "--hostname dbis-postgres-db-1 \\\n",
    "-v \"${HOST_DATA_PATH}:/mnt/workspace:ro\" \\\n",
    "-e POSTGRES_PASSWORD=root \\\n",
    "-p 127.0.0.1:5432:5432 \\\n",
    "--network dbis-hadoop-cluster-network \\\n",
    "postgres:14.4"
   ]
  },
  {
   "cell_type": "markdown",
   "id": "ea80bf65",
   "metadata": {},
   "source": [
    "Vergewissern Sie sich, dass der Container läuft:"
   ]
  },
  {
   "cell_type": "code",
   "execution_count": null,
   "id": "44414ac0",
   "metadata": {},
   "outputs": [],
   "source": [
    "%%bash\n",
    "\n",
    "sudo docker ps --filter \"name=dbis-postgres-db-1\" --format \"table {{.Names}}\\t{{.Status}}\""
   ]
  },
  {
   "cell_type": "markdown",
   "id": "ce252c6d",
   "metadata": {},
   "source": [
    "<div class=\"alert alert-block alert-info\">\n",
    "    \n",
    "**Aufgabe 4**    \n",
    "    \n",
    "Schreiben Sie ein SQL-Skript, das die notwendigen Schema-Strukturen anlegt, die CSV-Dateien einliest und entsprechend dem in Aufgabe 2 entworfenem Modell \"Umstrukturierungen\" vornimmt. Vervollständigen Sie hierzu das nachfolgende SQL-Skript.\n",
    "\n",
    "Sie können natürlich auch abweichend alternative Methoden bzw. Tools verwenden. Der Python-Treiber für PostgreSQL ([psycopg](https://www.psycopg.org/psycopg3/docs/)) ist bereits installiert.\n",
    "</div>\n",
    "\n",
    "\n",
    "> *HINWEIS:* Der Import der Daten kann mehrere Minuten in Anspruch nehmen! Bezüglich der benötigten SQL-Aufrufe kann die Online-Dokumentation von PostgreSQL hilfreich sein (beispielsweise hinsichtlich des *COPY-FROM*-Befehls: [https://www.postgresql.org/docs/14/sql-copy.html](https://www.postgresql.org/docs/14/sql-copy.html)).\n"
   ]
  },
  {
   "cell_type": "markdown",
   "id": "d1f0f28e",
   "metadata": {},
   "source": [
    "Codeauschnitt für die Verwendung des Python-Treibers (Verbindungsaufbau mit einer PostgreSQL-Datenbank mithilfe des *pscopg*-Python-Modules):"
   ]
  },
  {
   "cell_type": "code",
   "execution_count": null,
   "id": "0af5868d",
   "metadata": {},
   "outputs": [],
   "source": [
    "import psycopg\n",
    "\n",
    "postgres_conn = None\n",
    "postgres_cursor = None\n",
    "try:\n",
    "    postgres_conn = psycopg.connect(\"host='dbis-postgres-db-1' dbname='satisfaction' user='postgres' password='root'\")\n",
    "    postgres_cursor = postgres_conn.cursor()\n",
    "except psycopg.DatabaseError:\n",
    "    print(\"No database connection!\")\n",
    "\n",
    "# ...\n",
    "\n",
    "postgres_cursor.close()\n",
    "postgres_conn.close()"
   ]
  },
  {
   "cell_type": "markdown",
   "id": "16267980",
   "metadata": {},
   "source": [
    "Vorgegebener \"Rahmen\" des SQL-Skripts:"
   ]
  },
  {
   "cell_type": "code",
   "execution_count": null,
   "id": "97edf0b8",
   "metadata": {},
   "outputs": [],
   "source": [
    "%%bash\n",
    "\n",
    "cat <<\"EOF\" | sudo docker exec -i dbis-postgres-db-1 psql -U postgres\n",
    "\n",
    "DROP DATABASE IF EXISTS satisfaction;\n",
    "CREATE DATABASE satisfaction;\n",
    "\\c satisfaction;\n",
    "\n",
    "CREATE TABLE my_table (\n",
    "    id SERIAL PRIMARY KEY,\n",
    "    column1 VARCHAR(255),\n",
    "    column2 INT,\n",
    "    column3 DATE\n",
    ");\n",
    "\n",
    "COPY \n",
    "    my_table(column1, column2, column3)\n",
    "FROM \n",
    "   '/mnt/workspace/file.csv'\n",
    "WITH (\n",
    "    FORMAT CSV,\n",
    "    DELIMITER ',',\n",
    "    HEADER false,\n",
    "    NULL ''\n",
    ");\n",
    "\n",
    "EOF\n"
   ]
  },
  {
   "cell_type": "markdown",
   "id": "9933fcb6",
   "metadata": {},
   "source": [
    "### Datenbankabfragen    \n",
    "\n",
    "$$ \\\\ $$\n",
    "\n",
    "<div class=\"alert alert-block alert-info\">\n",
    "    \n",
    "**Aufgabe 5**    \n",
    "    \n",
    "Schreiben Sie nun für nachfolgende Abfragen SQL-Statements und führen diese aus. Sie können entweder das vorgegebene SQL-Skript oder den Python-Treiber verwenden. Zu jeder Abfrage werden außerdem die Attribute angegeben, die jeweils ausgegeben werden sollen.\n",
    "</div>\n",
    "\n",
    "- **Q1. Anzahl Projekte pro Department**\n",
    "    - Auszugebende Attribute: *Department.id, Department.name, Department.city, Department.zip_code, count_projects*\n",
    "    - Erwartetes Ergebnis:\n",
    "\n",
    "\n",
    " id  |    name    |      city      | zip_code | count_projects \n",
    "-----|------------|----------------|----------|----------------\n",
    " 101 | HR         | Frankfurt a.M. |    60306 |             85\n",
    " 103 | Purchasing | München        |    80331 |            102\n",
    " 104 | Sales      | Hamburg        |    21140 |             59\n",
    " 105 | Technology | Berlin         |    10115 |            406\n",
    " 102 | Marketing  | Berlin         |    10115 |            348\n",
    "  \n",
    "\n",
    "- **Q2. Durchschnittliche Dauer aller Projekte**\n",
    "    - Auszugebende Attribute: *avg_project_duration_days*\n",
    "    - Erwartetes Ergebnis:\n",
    "    \n",
    "|  avg_proj_duration_days |\n",
    "|-------------------------|\n",
    "|   932.6690000000000000  |\n",
    "  \n",
    "- **Q3. Durchschnittliche Projektdauer pro Department**\n",
    "    - Auszugebende Attribute: *Department.id, Department.name, Department.city, Department.zip_code, avg_project_duration_days*\n",
    "    - Erwartetes Ergebnis:   \n",
    "  \n",
    "\n",
    " id  |    name    |      city      | zip_code | avg_proj_duration_days \n",
    "-----|------------|----------------|----------|------------------------\n",
    " 101 | HR         | Frankfurt a.M. |    60306 |   992.2000000000000000\n",
    " 103 | Purchasing | München        |    80331 |   993.4509803921568627\n",
    " 104 | Sales      | Hamburg        |    21140 |   856.1864406779661017\n",
    " 105 | Technology | Berlin         |    10115 |   946.0270935960591133\n",
    " 102 | Marketing  | Berlin         |    10115 |   897.6954022988505747\n",
    " \n",
    "\n",
    "- **Q4. Durchschnittliche Satisfaction pro Department**\n",
    "    - Auszugebende Attribute: *Department.id, Department.name, Department.city, Department.zip_code, avg_satisfied*\n",
    "    - Erwartetes Ergebnis:   \n",
    "\n",
    "\n",
    " id  |    name    |      city      | zip_code |     avg_satisfied      \n",
    "-----|------------|----------------|----------|------------------------\n",
    " 101 | HR         | Frankfurt a.M. |    60306 | 0.68867924528301886792\n",
    " 103 | Purchasing | München        |    80331 | 0.70175438596491228070\n",
    " 104 | Sales      | Hamburg        |    21140 | 0.80459770114942528736\n",
    " 105 | Technology | Berlin         |    10115 | 0.74489795918367346939\n",
    " 102 | Marketing  | Berlin         |    10115 | 0.64516129032258064516\n",
    "    \n",
    "\n",
    "- **Q5. Durchschnittliche Projektdauer des \"Technology\" Departments**\n",
    "    - Auszugebende Attribute: *Department.id, Department.name, Department.city, Department.zip_code, avg_proj_duration_days*\n",
    "    - Erwartetes Ergebnis:\n",
    "\n",
    "\n",
    " id  |    name    |  city  | zip_code | avg_proj_duration_days \n",
    "-----|------------|--------|----------|------------------------\n",
    " 105 | Technology | Berlin |    10115 |   946.0270935960591133    \n",
    "\n",
    "\n",
    "- **Q6. Satisfaction des \"Technology\" Departments**\n",
    "    - Auszugebende Attribute: *Department.id, Department.name, Department.city, Department.zip_code, avg_satisfied*\n",
    "    - Erwartetes Ergebnis:\n",
    "\n",
    "\n",
    " id  |    name    |  city  | zip_code |     avg_satisfied      \n",
    "-----|------------|--------|----------|------------------------\n",
    " 105 | Technology | Berlin |    10115 | 0.74489795918367346939\n",
    "\n"
   ]
  },
  {
   "cell_type": "markdown",
   "id": "a7a3df0a",
   "metadata": {},
   "source": [
    "Vorgegebener \"Rahmen\" des SQL-Skripts für die Abfragen:"
   ]
  },
  {
   "cell_type": "code",
   "execution_count": null,
   "id": "30ca74f3",
   "metadata": {},
   "outputs": [],
   "source": [
    "%%bash\n",
    "cat <<\"EOF\" | sudo docker exec -i dbis-postgres-db-1 psql -U postgres -d satisfaction\n",
    "\n",
    "\\qecho ******** Q1 ********\n",
    "SELECT Department.id, Department.name, Department.city, Department.zip_code, COUNT(Project.id) AS count_projects\n",
    "FROM Department\n",
    "JOIN Project ON Department.id = Project.department_id\n",
    "GROUP BY Department.id;\n",
    "\n",
    "\\qecho ******** Q2 ********\n",
    "SELECT AVG(Project.duration_days) AS avg_project_duration_days\n",
    "FROM Project;\n",
    "\n",
    "\\qecho ******** Q3 ********\n",
    "SELECT Department.id, Department.name, Department.city, Department.zip_code, AVG(Project.duration_days) AS avg_project_duration_days\n",
    "FROM Department\n",
    "JOIN Project ON Department.id = Project.department_id\n",
    "GROUP BY Department.id;\n",
    "\n",
    "\\qecho ******** Q4 ********\n",
    "SELECT Department.id, Department.name, Department.city, Department.zip_code, AVG(Employee.satisfaction) AS avg_satisfied\n",
    "FROM Department\n",
    "JOIN Employee ON Department.id = Employee.department_id\n",
    "GROUP BY Department.id;\n",
    "\n",
    "\\qecho ******** Q5 ********\n",
    "SELECT Department.id, Department.name, Department.city, Department.zip_code, AVG(Project.duration_days) AS avg_proj_duration_days\n",
    "FROM Department\n",
    "JOIN Project ON Department.id = Project.department_id\n",
    "WHERE Department.name = 'Technology'\n",
    "GROUP BY Department.id;\n",
    "\n",
    "\\qecho ******** Q6 ********\n",
    "SELECT Department.id, Department.name, Department.city, Department.zip_code, AVG(Employee.satisfaction) AS avg_satisfied\n",
    "FROM Department\n",
    "JOIN Employee ON Department.id = Employee.department_id\n",
    "WHERE Department.name = 'Technology'\n",
    "GROUP BY Department.id;\n",
    "\n",
    "EOF"
   ]
  },
  {
   "cell_type": "markdown",
   "id": "03415b8e",
   "metadata": {},
   "source": [
    "Abschließend kann der Datenbank-Container folgendermaßen wieder gestoppt werden (zu beachten gilt, dass aufgrund des `--rm` Flags der Container nach dem Stoppen automatisch gelöscht wird): "
   ]
  },
  {
   "cell_type": "code",
   "execution_count": null,
   "id": "03d91dbd",
   "metadata": {},
   "outputs": [],
   "source": [
    "%%bash\n",
    "\n",
    "# stop the postgresql docker container\n",
    "if [ -z $(sudo docker ps --filter \"name=dbis-postgres-db-1\" -q) ]; then\n",
    "    printf \"\\nthe container does not exist\\n\";\n",
    "else \n",
    "    printf \"\\nstopping the container ...\\n\";\n",
    "    sudo docker stop dbis-postgres-db-1\n",
    "fi"
   ]
  },
  {
   "cell_type": "markdown",
   "id": "03717155",
   "metadata": {},
   "source": [
    "## MongoDB    \n",
    "\n",
    "Nachdem die zur Verfügung stehenden Daten in ein relationales Datenbanksystem importiert wurden, beschäftigen wir uns im Folgenden mit der Modellierung und Import bezüglich des dokument-orientierten Datenbanksystems MongoDB.\n",
    "\n",
    "<div class=\"alert alert-block alert-info\">\n",
    "    \n",
    "**Aufgabe 6**    \n",
    "    \n",
    "Bilden Sie das in Aufgabe 1 aus den vorhandenen Daten extrahiert Modell jetzt geeignet auf das Modell von MongoDB ab (inklusive Datentypen). Optimieren bzw. gestalten Sie das Modell so, dass für die geplanten Abfragen keine Joins benötigt werden ([*\\$lookup*](https://www.mongodb.com/docs/manual/reference/operator/aggregation/lookup/))! Begründen Sie ihre Entscheidungen bezüglich des Schema-Designs (Einbettung, Referenzierung, Redundanz), wo dieses vom Modell aus Aufgabe 1 abweicht.\n",
    "</div>\n"
   ]
  },
  {
   "cell_type": "code",
   "execution_count": null,
   "id": "bc1a9390",
   "metadata": {},
   "outputs": [],
   "source": [
    "%%plantuml \n",
    "\n",
    "@startuml\n",
    "object \"Department\" {\n",
    "  - _id: ObjectId\n",
    "  - name: String\n",
    "  - city: String\n",
    "  - zip_code: String\n",
    "  - employees: Array\n",
    "  - projects: Array\n",
    "}\n",
    "\n",
    "object \"Employee\" {\n",
    "  - _id: ObjectId\n",
    "  - name: String\n",
    "  - satisfaction: Number\n",
    "}\n",
    "\n",
    "object \"Project\" {\n",
    "  - _id: ObjectId\n",
    "  - name: String\n",
    "  - duration_days: Number\n",
    "}\n",
    "@enduml\n"
   ]
  },
  {
   "cell_type": "markdown",
   "id": "5b178052",
   "metadata": {},
   "source": [
    "### Datenimport    \n",
    "\n",
    "Starten Sie jetzt eine MongoDB Datenbank innerhalb des Docker-Netzwerks in dem sich alle weiteren hier verwendeten Container befinden."
   ]
  },
  {
   "cell_type": "code",
   "execution_count": null,
   "id": "04160b56",
   "metadata": {},
   "outputs": [],
   "source": [
    "%%bash\n",
    "\n",
    "sudo docker run -d --rm \\\n",
    "--name dbis-mongo-db-1 \\\n",
    "--hostname dbis-mongo-db-1 \\\n",
    "-v \"${HOST_DATA_PATH}:/mnt/workspace:ro\" \\\n",
    "-e BROWSERSLIST_IGNORE_OLD_DATA=1 \\\n",
    "--network dbis-hadoop-cluster-network \\\n",
    "-p 127.0.0.1:27017:27017 \\\n",
    "mongo:5.0.5-focal"
   ]
  },
  {
   "cell_type": "markdown",
   "id": "3b3a24c5",
   "metadata": {},
   "source": [
    "Vergewissern Sie sich wieder, dass der Container läuft:"
   ]
  },
  {
   "cell_type": "code",
   "execution_count": null,
   "id": "666c9ce5",
   "metadata": {
    "scrolled": true
   },
   "outputs": [],
   "source": [
    "%%bash\n",
    "sudo docker ps --filter \"name=dbis-mongo-db-1\" --format \"table {{.Names}}\\t{{.Status}}\""
   ]
  },
  {
   "cell_type": "markdown",
   "id": "332d343c",
   "metadata": {},
   "source": [
    "<div class=\"alert alert-block alert-info\">\n",
    "    \n",
    "**Aufgabe 7**    \n",
    "    \n",
    "Importieren Sie die Daten nach MongoDB (schauen Sie sich diesbezüglich die Dokumentation zu [mongoimport](https://www.mongodb.com/docs/database-tools/mongoimport/) an). Achten Sie insbesondere auf die entsprechenden Datentypen.\n",
    "    \n",
    "Nehmen Sie außerdem bezüglich dem in Aufgabe 6 erstellten Modell notwendige \"Umstrukturierungen\" der Daten vor. Hierbei sind unterschiedliche Vorgehensweisen denkbar. Es können Beispielsweise die Daten zunächst so wie sie vorliegen in MongoDB importiert und anschließend durch entsprechende Aufrufe (*\\$lookup*, *\\$addFields*, *\\$merge*, ...) umstrukturiert werden. Die Daten können natürlich auch vorher - beispielsweise mit Python - in die benötigte Struktur überführt und anschließend importiert werden.\n",
    "\n",
    "Abweichend zu *mongoimport* kann hier auch der [*pymongo*](https://pymongo.readthedocs.io/en/stable/) Python-Treiber verwendet werden. Dieser ist ebenfalls bereits installiert.\n",
    "</div>"
   ]
  },
  {
   "cell_type": "markdown",
   "id": "239651f6",
   "metadata": {},
   "source": [
    "Codeauschnitt für die Verwendung des Python-Treibers (Verbindungsaufbau mit einer Mongo-Datenbank mithilfe des *pymongo*-Python-Modules):"
   ]
  },
  {
   "cell_type": "code",
   "execution_count": null,
   "id": "9a45f2a9",
   "metadata": {},
   "outputs": [],
   "source": [
    "from pymongo import MongoClient\n",
    "from pprint import pprint\n",
    "\n",
    "mongo_client = MongoClient('mongodb://dbis-mongo-db-1:27017/')\n",
    "mongo_db = mongo_client['satisfaction']\n",
    "\n",
    "pipeline = [\n",
    "    # Mongo-pipeline\n",
    "]\n",
    "    \n",
    "result = mongo_db['Project'].aggregate(pipeline)\n",
    "pprint(list(q1_result)\n",
    "       \n",
    "mongo_client.close()"
   ]
  },
  {
   "cell_type": "markdown",
   "id": "f03380f4",
   "metadata": {},
   "source": [
    "Vorgegebener \"Rahmen\" für die Verwendung von *mongoimport*:"
   ]
  },
  {
   "cell_type": "code",
   "execution_count": null,
   "id": "b12bbe54",
   "metadata": {},
   "outputs": [],
   "source": [
    "%%bash\n",
    "\n",
    "## import a CSV-file with mongoimport\n",
    "sudo docker exec -i dbis-mongo-db-1 mongoimport \\\n",
    "--drop \\\n",
    "--db=satisfaction \\\n",
    "--collection=... \\\n",
    "--type=csv \\\n",
    "--columnsHaveTypes \\\n",
    "--fields=\"_id.int32(),name.string(), ...\" \\\n",
    "--file=/mnt/workspace/file.csv"
   ]
  },
  {
   "cell_type": "markdown",
   "id": "85e42f52",
   "metadata": {},
   "source": [
    "### Datenbankabfragen    \n",
    "\n",
    "<div class=\"alert alert-block alert-info\">\n",
    "    \n",
    "**Aufgabe 8**    \n",
    "    \n",
    "Führen Sie nun wieder die vorgegeben Abfragen aus (siehe Aufgabe 5). Nochmals der Hinweis, dass keine Joins (*\\$lookup*) verwendet werden sollen. Außerdem sollten *\\$unwind*-Operationen möglichst vermieden werden.\n",
    "\n",
    "Alternativ zu dem vorgegebenen Rahmen (Verwendung der Mongo-Shell) können Sie ebenfalls den *pymongo* Python-Treiber verwenden.\n",
    "</div>"
   ]
  },
  {
   "cell_type": "markdown",
   "id": "812791ad",
   "metadata": {},
   "source": [
    "*Q1*. Anzahl Projekte pro Department "
   ]
  },
  {
   "cell_type": "markdown",
   "id": "f57dcd7d",
   "metadata": {
    "solution2": "hidden",
    "solution2_first": true
   },
   "source": [
    "Unter dem \"Show Solution\"-Button finden Sie als Einstiegshilfe einen Lösungsvorschlag zu Q1."
   ]
  },
  {
   "cell_type": "markdown",
   "id": "99c173d9",
   "metadata": {
    "solution2": "hidden"
   },
   "source": [
    "Mögliche Lösung zu Q1:\n",
    "```js\n",
    "db.Project.aggregate([   \n",
    "        {\n",
    "            $group: {\n",
    "                _id: \"$department_name\",\n",
    "                count_projects: {\n",
    "                    $count: { }\n",
    "                },\n",
    "                city: { $first: \"$department_city\" },\n",
    "                zip_code: { $first: \"$department_zip_code\" }\n",
    "            }\n",
    "        }\n",
    "]);\n",
    "```"
   ]
  },
  {
   "cell_type": "code",
   "execution_count": null,
   "id": "898830b4",
   "metadata": {},
   "outputs": [],
   "source": [
    "%%bash\n",
    "\n",
    "sudo docker exec -i dbis-mongo-db-1 mongosh satisfaction --quiet --eval \\\n",
    "'print(\"******** Q1 ******** \");\n",
    "db.X.aggregate([  \n",
    "\n",
    "        ...\n",
    "        \n",
    "]);'"
   ]
  },
  {
   "cell_type": "markdown",
   "id": "54113787",
   "metadata": {},
   "source": [
    "*Q2*. Durchschnittliche Projektdauer aller Projekte "
   ]
  },
  {
   "cell_type": "code",
   "execution_count": null,
   "id": "30cf7394",
   "metadata": {},
   "outputs": [],
   "source": [
    "%%bash\n",
    "\n",
    "sudo docker exec -i dbis-mongo-db-1 mongosh satisfaction --quiet --eval \\\n",
    "'print(\"******** Q2 ******** \");\n",
    "\n",
    "'"
   ]
  },
  {
   "cell_type": "markdown",
   "id": "d1bbc022",
   "metadata": {},
   "source": [
    "*Q3*. Durchschnittliche Projektdauer pro Department "
   ]
  },
  {
   "cell_type": "code",
   "execution_count": null,
   "id": "1d76f994",
   "metadata": {},
   "outputs": [],
   "source": [
    "%%bash\n",
    "\n",
    "sudo docker exec -i dbis-mongo-db-1 mongosh satisfaction --quiet --eval \\\n",
    "'print(\"******** Q3 ******** \");\n",
    "\n",
    "'"
   ]
  },
  {
   "cell_type": "markdown",
   "id": "d60848e0",
   "metadata": {},
   "source": [
    "*Q4*. Durchschnittliche Sat. pro Department"
   ]
  },
  {
   "cell_type": "code",
   "execution_count": null,
   "id": "f558bcb2",
   "metadata": {},
   "outputs": [],
   "source": [
    "%%bash\n",
    "\n",
    "sudo docker exec -i dbis-mongo-db-1 mongosh satisfaction --quiet --eval \\\n",
    "'print(\"******** Q4 ******** \");\n",
    "\n",
    "'"
   ]
  },
  {
   "cell_type": "markdown",
   "id": "d72e6105",
   "metadata": {},
   "source": [
    "*Q5.* Durchschnittliche Projektdauer des \"Technology\" Departments "
   ]
  },
  {
   "cell_type": "code",
   "execution_count": null,
   "id": "072c1d52",
   "metadata": {},
   "outputs": [],
   "source": [
    "%%bash\n",
    "\n",
    "sudo docker exec -i dbis-mongo-db-1 mongosh satisfaction --quiet --eval \\\n",
    "'print(\"******** Q5 ******** \");\n",
    "\n",
    "'"
   ]
  },
  {
   "cell_type": "markdown",
   "id": "c8cdb551",
   "metadata": {},
   "source": [
    "*Q6.* Satisfaction des \"Technology\" Departments"
   ]
  },
  {
   "cell_type": "code",
   "execution_count": null,
   "id": "097e44be",
   "metadata": {},
   "outputs": [],
   "source": [
    "%%bash\n",
    "\n",
    "sudo docker exec -i dbis-mongo-db-1 mongosh satisfaction --quiet --eval \\\n",
    "'print(\"******** Q6 ******** \");\n",
    "\n",
    "'"
   ]
  },
  {
   "cell_type": "markdown",
   "id": "9399bda4",
   "metadata": {},
   "source": [
    "Der MongoDB-Container kann abschließend folgendermaßen wieder gestoppt werden:"
   ]
  },
  {
   "cell_type": "code",
   "execution_count": null,
   "id": "f02d7ed4",
   "metadata": {},
   "outputs": [],
   "source": [
    "%%bash\n",
    "\n",
    "# stop the mongodb docker container\n",
    "if [ -z $(sudo docker ps --filter \"name=dbis-mongo-db-1\" -q) ]; then\n",
    "    printf \"\\nthe container does not exist\\n\";\n",
    "else \n",
    "    printf \"\\nstopping the container ...\\n\";\n",
    "    sudo docker stop dbis-mongo-db-1\n",
    "fi"
   ]
  },
  {
   "cell_type": "markdown",
   "id": "05c6092a",
   "metadata": {},
   "source": [
    "## Cassandra\n",
    "\n",
    "Abschließend, beschäftigen wir uns mit der Modellierung und Import bezüglich des spalten-orientierten Datenbanksystems Cassandra.\n",
    "\n",
    "Machen sie sich hierzu zunächst mit der Daten-Modellierung in Cassandra vertraut (siehe: [https://cassandra.apache.org/doc/latest/cassandra/data_modeling/index.html](https://cassandra.apache.org/doc/latest/cassandra/data_modeling/index.html))"
   ]
  },
  {
   "cell_type": "markdown",
   "id": "2c806e06",
   "metadata": {},
   "source": [
    "### Datenmodellierung    \n",
    "\n",
    "<div class=\"alert alert-block alert-info\">\n",
    "    \n",
    "**Aufgabe 9**    \n",
    "    \n",
    "Erstellen Sie ein *Chebotko logical data model* bezüglich der Datenbankabfragen *Q1, Q2, Q5, Q6* (siehe [https://cassandra.apache.org/doc/latest/cassandra/data_modeling/data_modeling_logical.html](https://cassandra.apache.org/doc/latest/cassandra/data_modeling/data_modeling_logical.html)). Beachten Sie dabei, dass wir jetzt - im Gegensatz zu der Modellierung und Import bei PostgreSQL und MongoDB - nur die in den Abfragen benötigten Attribute modellieren und importieren. Beachten Sie außerdem, dass wir im Gegensatzt zu dem in der Cassandra-Dokumentation verwendeten \"Hotel-Beispiel\" keinen Workflow zwischen den Abfragen haben und somit die \"Tabellen\" in unserem Diagramm auch nicht in Bezug zueinander stehen werden.\n",
    "</div>\n",
    "\n",
    "\n",
    "\n",
    "- **Q1.** Anzahl Projekte pro Department \n",
    "- **Q2.** Durchschnittliche Dauer aller Projekte \n",
    "- **Q5.** Durchschnittliche Projektdauer des \"Technology\" Departments \n",
    "- **Q6.** Durchschnittliche Employee satisfaction des \"Technology\" Departments "
   ]
  },
  {
   "cell_type": "code",
   "execution_count": null,
   "id": "082d2690",
   "metadata": {
    "scrolled": true
   },
   "outputs": [],
   "source": [
    "%%plantuml \n",
    "\n",
    "@startuml\n",
    "entity \"DepartmentProjects\" {\n",
    "  * department_id: UUID\n",
    "  * department_name: text\n",
    "  * department_city: text\n",
    "  * department_zip_code: text\n",
    "  * count_projects: int\n",
    "}\n",
    "\n",
    "entity \"AvgProjectDuration\" {\n",
    "  * id: UUID (always set to a constant)\n",
    "  * avg_project_duration_days: decimal\n",
    "}\n",
    "\n",
    "entity \"TechnologyDepartmentDuration\" {\n",
    "  * department_id: UUID\n",
    "  * department_name: text\n",
    "  * department_city: text\n",
    "  * department_zip_code: text\n",
    "  * avg_project_duration_days: decimal\n",
    "}\n",
    "\n",
    "entity \"TechnologyDepartmentSatisfaction\" {\n",
    "  * department_id: UUID\n",
    "  * department_name: text\n",
    "  * department_city: text\n",
    "  * department_zip_code: text\n",
    "  * avg_satisfaction: decimal\n",
    "}\n",
    "@enduml\n"
   ]
  },
  {
   "cell_type": "markdown",
   "id": "19c2cd55",
   "metadata": {},
   "source": [
    "<div class=\"alert alert-block alert-info\">\n",
    "    \n",
    "**Aufgabe 10**    \n",
    "    \n",
    "Erstellen Sie jetzt ein *Chebotko physical data model*. Fassen Sie dabei, wenn möglich, Tabellen aus der logischen Modellierung (eine Tabelle je Abfrage) zusammen.\n",
    "</div>"
   ]
  },
  {
   "cell_type": "code",
   "execution_count": null,
   "id": "124253d2",
   "metadata": {},
   "outputs": [],
   "source": [
    "%%plantuml --jar\n",
    "\n",
    "@startuml\n",
    "entity \"Department\" {\n",
    "  * department_id: UUID\n",
    "  * department_name: text\n",
    "  * department_city: text\n",
    "  * department_zip_code: text\n",
    "  * count_projects: int\n",
    "  * avg_project_duration_days: decimal\n",
    "  * avg_satisfaction: decimal\n",
    "}\n",
    "@enduml\n"
   ]
  },
  {
   "cell_type": "markdown",
   "id": "7d813958",
   "metadata": {},
   "source": [
    "### Datenimport\n",
    "\n",
    "Starten Sie eine Cassandra Datenbank. Das hier verwendete Docker-Image beinhaltete bereits den DataStax Bulk Reader für einen effizienten Import von CSV-Dateien ([https://docs.datastax.com/en/dsbulk/docs/dsbulkAbout.html](https://docs.datastax.com/en/dsbulk/docs/dsbulkAbout.html))."
   ]
  },
  {
   "cell_type": "code",
   "execution_count": null,
   "id": "d7bd1671",
   "metadata": {},
   "outputs": [],
   "source": [
    "%%bash\n",
    "\n",
    "sudo docker run -d --rm \\\n",
    "--name dbis-cassandra-db-1 \\\n",
    "--hostname dbis-cassandra-db-1 \\\n",
    "-v \"${HOST_DATA_PATH}:/mnt/workspace:ro\" \\\n",
    "--network dbis-hadoop-cluster-network \\\n",
    "-p 127.0.0.1:7000:7000 \\\n",
    "registry.dbis-pro1.fernuni-hagen.de/pub-access/data-engineering-infrastructure/cassandra:4.0.4-dsbulk-1.10"
   ]
  },
  {
   "cell_type": "markdown",
   "id": "472201e6",
   "metadata": {},
   "source": [
    "Vergewissern Sie sich, dass der Docker-Container läuft:"
   ]
  },
  {
   "cell_type": "code",
   "execution_count": null,
   "id": "dccca729",
   "metadata": {},
   "outputs": [],
   "source": [
    "%%bash\n",
    "sudo docker ps --filter \"name=dbis-cassandra-db-1\" --format \"table {{.Names}}\\t{{.Status}}\""
   ]
  },
  {
   "cell_type": "markdown",
   "id": "88cb6bc6",
   "metadata": {},
   "source": [
    "<div class=\"alert alert-block alert-info\">\n",
    "    \n",
    "**Aufgabe 11**    \n",
    "    \n",
    "Vervollständigen Sie jetzt das nachfolgende CQL-Skript für die Erzeugung des Schemas.\n",
    "</div>\n",
    "\n",
    "\n",
    "> *HINWEIS:* Es kann mehrere Minuten dauern, bis die Datenbank vollständig gestartet ist!\n"
   ]
  },
  {
   "cell_type": "code",
   "execution_count": null,
   "id": "939b82af",
   "metadata": {},
   "outputs": [],
   "source": [
    "%%bash\n",
    "\n",
    "cat <<\"EOF\" | sudo docker exec -i dbis-cassandra-db-1 cqlsh\n",
    "\n",
    "DROP KEYSPACE IF EXISTS satisfaction;\n",
    "CREATE KEYSPACE satisfaction\n",
    "    WITH replication = {'class': 'SimpleStrategy', 'replication_factor' : 1};\n",
    "\n",
    "USE satisfaction;\n",
    "\n",
    "\n",
    "...\n",
    "\n",
    "\n",
    "DESCRIBE KEYSPACE satisfaction;\n",
    "\n",
    "EOF"
   ]
  },
  {
   "cell_type": "markdown",
   "id": "0363bd2f",
   "metadata": {},
   "source": [
    "<div class=\"alert alert-block alert-info\">\n",
    "    \n",
    "**Aufgabe 12**    \n",
    "    \n",
    "Erzeugen Sie zunächst die für den Import in Cassandra benötigten CSV-Dateien. Hier sind wieder unterschiedliche Vorgehensweisen denkbar. Beispielsweise haben wir die Daten bereits in PostgreSQL importiert und könnten diese durch den COPY-TO-Befehl in der benötigten Form exportierten. Es steht Ihnen an dieser Stelle ebenfalls wieder Frei auf welche Weise die Daten in die benötigte Struktur überführt und importiert werden. Der Python-Treiber für Cassandra ([*cassandra-driver*](https://docs.datastax.com/en/developer/python-driver/3.25/)) ist ebenfalls bereits installiert.\n",
    "</div>\n"
   ]
  },
  {
   "cell_type": "markdown",
   "id": "032b4a44",
   "metadata": {},
   "source": [
    "Ihre Lösung ..."
   ]
  },
  {
   "cell_type": "markdown",
   "id": "54e4d76b",
   "metadata": {},
   "source": [
    "Codeauschnitt für die Verwendung des Python-Treibers (Verbindungsaufbau mit einer Cassandra-Datenbank mithilfe des *cassandra-driver* Python-Modules):"
   ]
  },
  {
   "cell_type": "code",
   "execution_count": null,
   "id": "8b11335e",
   "metadata": {},
   "outputs": [],
   "source": [
    "from cassandra.cluster import Cluster\n",
    "from pprint import pprint\n",
    "\n",
    "cassandra_cluster = Cluster(['dbis-cassandra-db-1'])\n",
    "cassandra_session = cassandra_cluster.connect()\n",
    "cassandra_session.set_keyspace('satisfaction')\n",
    "\n",
    "cassandra_query = \"\"\"\n",
    "SELECT \n",
    "  ...\n",
    "FROM \n",
    "  ...\n",
    "\"\"\"\n",
    "\n",
    "result_rows = cassandra_session.execute(cassandra_query)\n",
    "pprint(list(result_rows))\n",
    "\n",
    "cassandra_cluster.shutdown()"
   ]
  },
  {
   "cell_type": "markdown",
   "id": "1b73178a",
   "metadata": {},
   "source": [
    "<div class=\"alert alert-block alert-info\">\n",
    "    \n",
    "**Aufgabe 13**    \n",
    "    \n",
    "Importieren Sie die zuvor erzeugten CSV-Dateien mithilfe von DSBulk (falls kein abweichendes Vorgehen gewählt wurde).\n",
    "</div>"
   ]
  },
  {
   "cell_type": "code",
   "execution_count": null,
   "id": "7f8ead82",
   "metadata": {},
   "outputs": [],
   "source": [
    "%%bash\n",
    "\n",
    "sudo docker exec -i dbis-cassandra-db-1 dsbulk load \\\n",
    "--connector.name csv \\\n",
    "--connector.csv.url /mnt/workspace/file.csv \\\n",
    "--connector.csv.delimiter ',' \\\n",
    "--connector.csv.header true \\\n",
    "--schema.keyspace satisfaction \\\n",
    "--schema.table 'x_by_y' \\\n",
    "--schema.mapping '0 = x, 1 = y, 2 = z, ...' \\\n",
    "--log.directory /var/lib/cassandra/dsbulk_log \\\n",
    "--engine.dryRun false\n"
   ]
  },
  {
   "cell_type": "markdown",
   "id": "dba355ef",
   "metadata": {},
   "source": [
    "### Datenbankabfragen    \n",
    "\n",
    "<div class=\"alert alert-block alert-info\">\n",
    "    \n",
    "**Aufgabe 14**    \n",
    "    \n",
    "Führen Sie die Abfragen jetzt auf Cassandra (CQL) aus.\n",
    "Alternativ zu dem vorgegebenen Rahmen (Verwendung der CQL-Shell) können Sie ebenfalls das *cassandra-driver* Python-Modul verwenden.\n",
    "</div>"
   ]
  },
  {
   "cell_type": "markdown",
   "id": "aa4ac56c",
   "metadata": {},
   "source": [
    "Vorgegebener \"Rahmen\" für die Verwendung der CQL-Shell:"
   ]
  },
  {
   "cell_type": "code",
   "execution_count": null,
   "id": "4126700d",
   "metadata": {},
   "outputs": [],
   "source": [
    "%%bash\n",
    "# --------------\n",
    "## Q1\n",
    "# --------------\n",
    "printf \"# ------------\\n# Q1\\n# ------------\\n\"\n",
    "cat <<\"EOF\" | sudo docker exec -i dbis-cassandra-db-1 cqlsh -k satisfaction\n",
    "\n",
    "SELECT \n",
    "  ...\n",
    "FROM \n",
    "  ...\n",
    "\n",
    "EOF\n",
    "\n",
    "# --------------\n",
    "## Q2\n",
    "# --------------\n",
    "printf \"# ------------\\n# Q2\\n# ------------\\n\"\n",
    "cat <<\"EOF\" | sudo docker exec -i dbis-cassandra-db-1 cqlsh -k satisfaction\n",
    "\n",
    "SELECT \n",
    "  ...\n",
    "FROM \n",
    "  ...\n",
    "\n",
    "EOF\n",
    "\n",
    "\n",
    "...\n",
    "\n"
   ]
  },
  {
   "cell_type": "markdown",
   "id": "194ede01",
   "metadata": {},
   "source": [
    "Der Cassandra-Container kann abschließend folgendermaßen gestoppt werden:"
   ]
  },
  {
   "cell_type": "code",
   "execution_count": null,
   "id": "31dd79e1",
   "metadata": {},
   "outputs": [],
   "source": [
    "%%bash\n",
    "\n",
    "# stop the cassandra docker container\n",
    "if [ -z $(sudo docker ps --filter \"name=dbis-cassandra-db-1\" -q) ]; then\n",
    "    printf \"\\nthe container does not exist\\n\";\n",
    "else \n",
    "    printf \"\\nstopping the container ...\\n\";\n",
    "    sudo docker stop dbis-cassandra-db-1\n",
    "fi"
   ]
  },
  {
   "cell_type": "markdown",
   "id": "39d57b97",
   "metadata": {},
   "source": [
    "<div class=\"alert alert-block alert-info\">\n",
    "    \n",
    "**Aufgabe 15**    \n",
    "    \n",
    "Beschreiben Sie, warum Abfragen wie *Q1* und *Q2* bei Cassandra zu Problemen führen könnten.\n",
    "</div>"
   ]
  },
  {
   "cell_type": "markdown",
   "id": "24b85d62",
   "metadata": {},
   "source": [
    "Ihre Lösung ..."
   ]
  },
  {
   "cell_type": "markdown",
   "id": "81e37536",
   "metadata": {},
   "source": [
    "<div class=\"alert alert-block alert-info\">\n",
    "    \n",
    "**Aufgabe 16**    \n",
    "    \n",
    "Die empfohlene Größe für Partitionen in Cassandra beträgt 100.000 Cells. Berechnen Sie die Größe der aktuell größten Partition (siehe [https://cassandra.apache.org/doc/latest/cassandra/data_modeling/data_modeling_refining.html](https://cassandra.apache.org/doc/latest/cassandra/data_modeling/data_modeling_refining.html)). Welche Möglichkeiten bzw. Modellierungsstrategien bezüglich des Schema-Designs gibt es, um zu große Partitionen zu vermeiden?\n",
    "</div>"
   ]
  },
  {
   "cell_type": "markdown",
   "id": "dd4f5dfa",
   "metadata": {},
   "source": [
    "Berechnung der *partition size*:\n",
    "\n",
    "$$ N_v = N_r(N_c - N_{pk} − N_s) + N_s $$\n",
    "\n",
    "$$ N_v = \\text{Number of values (or cells)} $$\n",
    "$$ N_s = \\text{Number of static columns} $$\n",
    "$$ N_r = \\text{Number of rows} $$\n",
    "$$ N_c = \\text{Number of columns} $$\n",
    "$$ N_{pk} = \\text{Number of primary key columns} $$"
   ]
  },
  {
   "cell_type": "markdown",
   "id": "f7357c15",
   "metadata": {},
   "source": [
    "Ihre Lösung ..."
   ]
  },
  {
   "cell_type": "markdown",
   "id": "0963d54f",
   "metadata": {},
   "source": [
    "---\n",
    "Der PDF-Export dieses Jupyter-Notebooks kann alternativ durch folgenden Aufruf erfolgen (Pfad zum Notebook muss entsprechend angepasst werden!):"
   ]
  },
  {
   "cell_type": "code",
   "execution_count": null,
   "id": "64e69633",
   "metadata": {},
   "outputs": [],
   "source": [
    "!jupyter nbconvert --to pdf --template '/home/pyspark-client/nbconvert-templates/fernuni-latex' \\\n",
    "~/workspace/PATH/TO/KE6-7.ipynb"
   ]
  }
 ],
 "metadata": {
  "kernelspec": {
   "display_name": "Python 3 (ipykernel)",
   "language": "python",
   "name": "python3"
  },
  "language_info": {
   "codemirror_mode": {
    "name": "ipython",
    "version": 3
   },
   "file_extension": ".py",
   "mimetype": "text/x-python",
   "name": "python",
   "nbconvert_exporter": "python",
   "pygments_lexer": "ipython3",
   "version": "3.11.3"
  },
  "toc": {
   "base_numbering": 1,
   "nav_menu": {},
   "number_sections": true,
   "sideBar": true,
   "skip_h1_title": true,
   "title_cell": "Table of Contents",
   "title_sidebar": "Contents",
   "toc_cell": false,
   "toc_position": {
    "height": "calc(100% - 180px)",
    "left": "10px",
    "top": "150px",
    "width": "280.4px"
   },
   "toc_section_display": true,
   "toc_window_display": true
  }
 },
 "nbformat": 4,
 "nbformat_minor": 5
}
