{
 "cells": [
  {
   "cell_type": "raw",
   "metadata": {},
   "source": [
    "Name:\n",
    "Matrikelnummer:"
   ]
  },
  {
   "cell_type": "markdown",
   "metadata": {},
   "source": [
    "___"
   ]
  },
  {
   "cell_type": "code",
   "execution_count": 1,
   "metadata": {
    "ExecuteTime": {
     "end_time": "2022-11-10T13:51:19.311449Z",
     "start_time": "2022-11-10T13:51:18.721561Z"
    }
   },
   "outputs": [],
   "source": [
    "# Imports\n",
    "import pandas as pd"
   ]
  },
  {
   "cell_type": "markdown",
   "metadata": {},
   "source": [
    "___\n",
    "**_Bitte beachten:_**\n",
    "\n",
    "- In Code-Zellen soll (bei Bedarf kommentierter) Code eingefügt werden. In Raw-Zellen erwarten wir Antworten im Freitext-Format.\n",
    "- Fragestellungen sind teilweise bewusst etwas offener formuliert, weil Sie auch im Arbeitsleben nur selten mit ganz spezifischen Anweisungen rechnen können. Es gibt häufig mehrere mögliche Lösungen, dies wird in der Korrektur  berücksichtigt.\n",
    "\n",
    "___"
   ]
  },
  {
   "cell_type": "markdown",
   "metadata": {},
   "source": [
    "# (I can't get no) satisfaction\n",
    "Wir werden in diesem Kurs mit einem Datensatz arbeiten, der verschiedene Informationen über Angestellte einer fiktiven Firma namens *Fiktiva* enthält. Mithilfe des Datensatzes soll die Fragestellung beantwortet werden, ob ein\\*e Angestellte\\*r in der Firma zufrieden ist (`satisfied = 1`) oder nicht (`satisfied = 0`). In dieser Kurseinheit werden wir uns mit den Daten vertraut machen und mit einigen Fragen zur Datenqualität auseinandersetzen.\n",
    "\n",
    "Manchmal werden zur Beantwortung von Fragen weitere Informationen benötigt. Sie können hierfür auch externe Quellen verwenden und bspw. die Datei `metadata.txt` zu Rate ziehen, aber auch alle Informationen aus dem Fiktiva-Newsletter. "
   ]
  },
  {
   "cell_type": "markdown",
   "metadata": {},
   "source": [
    "## Daten laden\n",
    "Den Datensatz (*employees_satisfaction.csv*) finden Sie im Moodle. Laden Sie ihn in ein Pandas-Dataframe. Geben Sie die ersten 10 Zeilen aus. "
   ]
  },
  {
   "cell_type": "code",
   "execution_count": 4,
   "metadata": {
    "ExecuteTime": {
     "end_time": "2022-11-10T13:51:19.317702Z",
     "start_time": "2022-11-10T13:51:19.313586Z"
    }
   },
   "outputs": [
    {
     "data": {
      "text/html": [
       "<div>\n",
       "<style scoped>\n",
       "    .dataframe tbody tr th:only-of-type {\n",
       "        vertical-align: middle;\n",
       "    }\n",
       "\n",
       "    .dataframe tbody tr th {\n",
       "        vertical-align: top;\n",
       "    }\n",
       "\n",
       "    .dataframe thead th {\n",
       "        text-align: right;\n",
       "    }\n",
       "</style>\n",
       "<table border=\"1\" class=\"dataframe\">\n",
       "  <thead>\n",
       "    <tr style=\"text-align: right;\">\n",
       "      <th></th>\n",
       "      <th>Unnamed: 0</th>\n",
       "      <th>emp_id</th>\n",
       "      <th>age</th>\n",
       "      <th>Dept</th>\n",
       "      <th>education</th>\n",
       "      <th>recruitment_type</th>\n",
       "      <th>job_level</th>\n",
       "      <th>rating</th>\n",
       "      <th>awards</th>\n",
       "      <th>certifications</th>\n",
       "      <th>salary</th>\n",
       "      <th>gender</th>\n",
       "      <th>entry_date</th>\n",
       "      <th>last_raise</th>\n",
       "      <th>satisfied</th>\n",
       "    </tr>\n",
       "  </thead>\n",
       "  <tbody>\n",
       "    <tr>\n",
       "      <th>0</th>\n",
       "      <td>0</td>\n",
       "      <td>HR8270</td>\n",
       "      <td>28</td>\n",
       "      <td>HR</td>\n",
       "      <td>PG</td>\n",
       "      <td>Referral</td>\n",
       "      <td>5</td>\n",
       "      <td>2.0</td>\n",
       "      <td>1</td>\n",
       "      <td>0</td>\n",
       "      <td>86750</td>\n",
       "      <td>m</td>\n",
       "      <td>2019-02-01</td>\n",
       "      <td>NaN</td>\n",
       "      <td>1</td>\n",
       "    </tr>\n",
       "    <tr>\n",
       "      <th>1</th>\n",
       "      <td>1</td>\n",
       "      <td>TECH1860</td>\n",
       "      <td>50</td>\n",
       "      <td>Technology</td>\n",
       "      <td>PG</td>\n",
       "      <td>Recruitment Agency</td>\n",
       "      <td>3</td>\n",
       "      <td>5.0</td>\n",
       "      <td>2</td>\n",
       "      <td>1</td>\n",
       "      <td>42419</td>\n",
       "      <td>Male</td>\n",
       "      <td>2017-01-17</td>\n",
       "      <td>NaN</td>\n",
       "      <td>0</td>\n",
       "    </tr>\n",
       "    <tr>\n",
       "      <th>2</th>\n",
       "      <td>2</td>\n",
       "      <td>TECH6390</td>\n",
       "      <td>43</td>\n",
       "      <td>Technology</td>\n",
       "      <td>UG</td>\n",
       "      <td>Referral</td>\n",
       "      <td>4</td>\n",
       "      <td>1.0</td>\n",
       "      <td>2</td>\n",
       "      <td>0</td>\n",
       "      <td>65715</td>\n",
       "      <td>f</td>\n",
       "      <td>2012-08-27</td>\n",
       "      <td>NaN</td>\n",
       "      <td>1</td>\n",
       "    </tr>\n",
       "    <tr>\n",
       "      <th>3</th>\n",
       "      <td>3</td>\n",
       "      <td>SAL6191</td>\n",
       "      <td>44</td>\n",
       "      <td>Sales</td>\n",
       "      <td>PG</td>\n",
       "      <td>On-Campus</td>\n",
       "      <td>2</td>\n",
       "      <td>3.0</td>\n",
       "      <td>0</td>\n",
       "      <td>0</td>\n",
       "      <td>29805</td>\n",
       "      <td>f</td>\n",
       "      <td>2017-07-25</td>\n",
       "      <td>NaN</td>\n",
       "      <td>1</td>\n",
       "    </tr>\n",
       "    <tr>\n",
       "      <th>4</th>\n",
       "      <td>4</td>\n",
       "      <td>HR6734</td>\n",
       "      <td>33</td>\n",
       "      <td>HR</td>\n",
       "      <td>UG</td>\n",
       "      <td>Recruitment Agency</td>\n",
       "      <td>2</td>\n",
       "      <td>1.0</td>\n",
       "      <td>5</td>\n",
       "      <td>0</td>\n",
       "      <td>29805</td>\n",
       "      <td>m</td>\n",
       "      <td>2019-05-17</td>\n",
       "      <td>NaN</td>\n",
       "      <td>1</td>\n",
       "    </tr>\n",
       "    <tr>\n",
       "      <th>...</th>\n",
       "      <td>...</td>\n",
       "      <td>...</td>\n",
       "      <td>...</td>\n",
       "      <td>...</td>\n",
       "      <td>...</td>\n",
       "      <td>...</td>\n",
       "      <td>...</td>\n",
       "      <td>...</td>\n",
       "      <td>...</td>\n",
       "      <td>...</td>\n",
       "      <td>...</td>\n",
       "      <td>...</td>\n",
       "      <td>...</td>\n",
       "      <td>...</td>\n",
       "      <td>...</td>\n",
       "    </tr>\n",
       "    <tr>\n",
       "      <th>495</th>\n",
       "      <td>495</td>\n",
       "      <td>HR5330</td>\n",
       "      <td>49</td>\n",
       "      <td>HR</td>\n",
       "      <td>PG</td>\n",
       "      <td>On-Campus</td>\n",
       "      <td>2</td>\n",
       "      <td>5.0</td>\n",
       "      <td>6</td>\n",
       "      <td>0</td>\n",
       "      <td>29805</td>\n",
       "      <td>m</td>\n",
       "      <td>2014-03-21</td>\n",
       "      <td>NaN</td>\n",
       "      <td>1</td>\n",
       "    </tr>\n",
       "    <tr>\n",
       "      <th>496</th>\n",
       "      <td>496</td>\n",
       "      <td>TECH9010</td>\n",
       "      <td>24</td>\n",
       "      <td>Technology</td>\n",
       "      <td>UG</td>\n",
       "      <td>Referral</td>\n",
       "      <td>2</td>\n",
       "      <td>4.0</td>\n",
       "      <td>2</td>\n",
       "      <td>0</td>\n",
       "      <td>29805</td>\n",
       "      <td>f</td>\n",
       "      <td>2018-02-20</td>\n",
       "      <td>NaN</td>\n",
       "      <td>0</td>\n",
       "    </tr>\n",
       "    <tr>\n",
       "      <th>497</th>\n",
       "      <td>497</td>\n",
       "      <td>MKT7801</td>\n",
       "      <td>34</td>\n",
       "      <td>Marketing</td>\n",
       "      <td>PG</td>\n",
       "      <td>On-Campus</td>\n",
       "      <td>1</td>\n",
       "      <td>NaN</td>\n",
       "      <td>2</td>\n",
       "      <td>0</td>\n",
       "      <td>24076</td>\n",
       "      <td>m</td>\n",
       "      <td>2020-10-20</td>\n",
       "      <td>NaN</td>\n",
       "      <td>1</td>\n",
       "    </tr>\n",
       "    <tr>\n",
       "      <th>498</th>\n",
       "      <td>498</td>\n",
       "      <td>TECH5846</td>\n",
       "      <td>26</td>\n",
       "      <td>Technology</td>\n",
       "      <td>UG</td>\n",
       "      <td>Walk-in</td>\n",
       "      <td>2</td>\n",
       "      <td>1.0</td>\n",
       "      <td>1</td>\n",
       "      <td>1</td>\n",
       "      <td>29805</td>\n",
       "      <td>Male</td>\n",
       "      <td>2012-05-18</td>\n",
       "      <td>NaN</td>\n",
       "      <td>0</td>\n",
       "    </tr>\n",
       "    <tr>\n",
       "      <th>499</th>\n",
       "      <td>499</td>\n",
       "      <td>TECH7731</td>\n",
       "      <td>26</td>\n",
       "      <td>Technology</td>\n",
       "      <td>UG</td>\n",
       "      <td>Recruitment Agency</td>\n",
       "      <td>3</td>\n",
       "      <td>4.0</td>\n",
       "      <td>3</td>\n",
       "      <td>0</td>\n",
       "      <td>42419</td>\n",
       "      <td>Male</td>\n",
       "      <td>2018-12-28</td>\n",
       "      <td>NaN</td>\n",
       "      <td>0</td>\n",
       "    </tr>\n",
       "  </tbody>\n",
       "</table>\n",
       "<p>500 rows × 15 columns</p>\n",
       "</div>"
      ],
      "text/plain": [
       "     Unnamed: 0    emp_id  age        Dept education    recruitment_type   \n",
       "0             0    HR8270   28          HR        PG            Referral  \\\n",
       "1             1  TECH1860   50  Technology        PG  Recruitment Agency   \n",
       "2             2  TECH6390   43  Technology        UG            Referral   \n",
       "3             3   SAL6191   44       Sales        PG           On-Campus   \n",
       "4             4    HR6734   33          HR        UG  Recruitment Agency   \n",
       "..          ...       ...  ...         ...       ...                 ...   \n",
       "495         495    HR5330   49          HR        PG           On-Campus   \n",
       "496         496  TECH9010   24  Technology        UG            Referral   \n",
       "497         497   MKT7801   34   Marketing        PG           On-Campus   \n",
       "498         498  TECH5846   26  Technology        UG             Walk-in   \n",
       "499         499  TECH7731   26  Technology        UG  Recruitment Agency   \n",
       "\n",
       "     job_level  rating  awards  certifications  salary gender  entry_date   \n",
       "0            5     2.0       1               0   86750      m  2019-02-01  \\\n",
       "1            3     5.0       2               1   42419   Male  2017-01-17   \n",
       "2            4     1.0       2               0   65715      f  2012-08-27   \n",
       "3            2     3.0       0               0   29805      f  2017-07-25   \n",
       "4            2     1.0       5               0   29805      m  2019-05-17   \n",
       "..         ...     ...     ...             ...     ...    ...         ...   \n",
       "495          2     5.0       6               0   29805      m  2014-03-21   \n",
       "496          2     4.0       2               0   29805      f  2018-02-20   \n",
       "497          1     NaN       2               0   24076      m  2020-10-20   \n",
       "498          2     1.0       1               1   29805   Male  2012-05-18   \n",
       "499          3     4.0       3               0   42419   Male  2018-12-28   \n",
       "\n",
       "     last_raise  satisfied  \n",
       "0           NaN          1  \n",
       "1           NaN          0  \n",
       "2           NaN          1  \n",
       "3           NaN          1  \n",
       "4           NaN          1  \n",
       "..          ...        ...  \n",
       "495         NaN          1  \n",
       "496         NaN          0  \n",
       "497         NaN          1  \n",
       "498         NaN          0  \n",
       "499         NaN          0  \n",
       "\n",
       "[500 rows x 15 columns]"
      ]
     },
     "execution_count": 4,
     "metadata": {},
     "output_type": "execute_result"
    }
   ],
   "source": [
    "# Ihre Lösung\n",
    "# Hinweis: Laden Sie den Datensatz so, dass die erste Spalte als Index (Row Label) verwendet wird\n",
    "df = pd.read_csv(\"./employees_satisfaction.csv\")\n",
    "df"
   ]
  },
  {
   "cell_type": "markdown",
   "metadata": {},
   "source": [
    "## Erste Datenanalyse"
   ]
  },
  {
   "cell_type": "markdown",
   "metadata": {},
   "source": [
    "Machen Sie sich mit den Daten vertraut:\n",
    "- Wie viele Zeilen hat der Datensatz?\n",
    "- Wie viele Spalten hat der Datensatz?\n",
    "- Welchen Datentyp haben die einzelnen Spalten?\n",
    "- Ermitteln Sie statistische Kennzeichen der numerischen Spalten.\n",
    "- Welche Informationen stellt der Datensatz für die Vorhersage der Zufriedenheit bereit? Beachten Sie hierfür auch die Angaben in der Datei `metadata.txt`\n",
    "- Gibt es fehlende Werte in den Daten?"
   ]
  },
  {
   "cell_type": "code",
   "execution_count": 5,
   "metadata": {
    "ExecuteTime": {
     "end_time": "2022-11-10T13:51:19.324833Z",
     "start_time": "2022-11-10T13:51:19.320002Z"
    }
   },
   "outputs": [
    {
     "data": {
      "text/plain": [
       "500"
      ]
     },
     "execution_count": 5,
     "metadata": {},
     "output_type": "execute_result"
    }
   ],
   "source": [
    "# Ihre Lösung (nutzen Sie dafür untenstehende Zellen)\n"
   ]
  },
  {
   "cell_type": "code",
   "execution_count": 6,
   "metadata": {
    "ExecuteTime": {
     "end_time": "2022-11-10T13:51:19.332667Z",
     "start_time": "2022-11-10T13:51:19.329971Z"
    }
   },
   "outputs": [
    {
     "data": {
      "text/plain": [
       "500"
      ]
     },
     "execution_count": 6,
     "metadata": {},
     "output_type": "execute_result"
    }
   ],
   "source": [
    "# Wie viele Zeilen hat der Datensatz? \n",
    "len(df)"
   ]
  },
  {
   "cell_type": "code",
   "execution_count": 8,
   "metadata": {
    "ExecuteTime": {
     "end_time": "2022-11-10T13:51:19.338525Z",
     "start_time": "2022-11-10T13:51:19.335485Z"
    }
   },
   "outputs": [
    {
     "data": {
      "text/plain": [
       "15"
      ]
     },
     "execution_count": 8,
     "metadata": {},
     "output_type": "execute_result"
    }
   ],
   "source": [
    "# Wie viele Spalten hat der Datensatz?\n",
    "len(df.columns)"
   ]
  },
  {
   "cell_type": "code",
   "execution_count": 10,
   "metadata": {
    "ExecuteTime": {
     "end_time": "2022-11-10T13:51:19.344388Z",
     "start_time": "2022-11-10T13:51:19.341026Z"
    }
   },
   "outputs": [
    {
     "data": {
      "text/plain": [
       "['Unnamed: 0',\n",
       " 'emp_id',\n",
       " 'age',\n",
       " 'Dept',\n",
       " 'education',\n",
       " 'recruitment_type',\n",
       " 'job_level',\n",
       " 'rating',\n",
       " 'awards',\n",
       " 'certifications',\n",
       " 'salary',\n",
       " 'gender',\n",
       " 'entry_date',\n",
       " 'last_raise',\n",
       " 'satisfied']"
      ]
     },
     "execution_count": 10,
     "metadata": {},
     "output_type": "execute_result"
    }
   ],
   "source": [
    "# Welche Spalten beinhaltet der Datensatz?\n",
    "list(df.columns)"
   ]
  },
  {
   "cell_type": "code",
   "execution_count": 15,
   "metadata": {
    "ExecuteTime": {
     "end_time": "2022-11-10T13:51:19.349681Z",
     "start_time": "2022-11-10T13:51:19.346807Z"
    }
   },
   "outputs": [
    {
     "data": {
      "text/plain": [
       "Unnamed: 0            int64\n",
       "emp_id               object\n",
       "age                   int64\n",
       "Dept                 object\n",
       "education            object\n",
       "recruitment_type     object\n",
       "job_level             int64\n",
       "rating              float64\n",
       "awards                int64\n",
       "certifications        int64\n",
       "salary                int64\n",
       "gender               object\n",
       "entry_date           object\n",
       "last_raise          float64\n",
       "satisfied             int64\n",
       "dtype: object"
      ]
     },
     "execution_count": 15,
     "metadata": {},
     "output_type": "execute_result"
    }
   ],
   "source": [
    "# Welchen Datentyp haben die einzelnen Spalten\n",
    "df.dtypes"
   ]
  },
  {
   "cell_type": "code",
   "execution_count": 20,
   "metadata": {
    "ExecuteTime": {
     "end_time": "2022-11-10T13:51:19.354685Z",
     "start_time": "2022-11-10T13:51:19.351797Z"
    }
   },
   "outputs": [
    {
     "data": {
      "text/html": [
       "<div>\n",
       "<style scoped>\n",
       "    .dataframe tbody tr th:only-of-type {\n",
       "        vertical-align: middle;\n",
       "    }\n",
       "\n",
       "    .dataframe tbody tr th {\n",
       "        vertical-align: top;\n",
       "    }\n",
       "\n",
       "    .dataframe thead th {\n",
       "        text-align: right;\n",
       "    }\n",
       "</style>\n",
       "<table border=\"1\" class=\"dataframe\">\n",
       "  <thead>\n",
       "    <tr style=\"text-align: right;\">\n",
       "      <th></th>\n",
       "      <th>Unnamed: 0</th>\n",
       "      <th>emp_id</th>\n",
       "      <th>age</th>\n",
       "      <th>Dept</th>\n",
       "      <th>education</th>\n",
       "      <th>recruitment_type</th>\n",
       "      <th>job_level</th>\n",
       "      <th>rating</th>\n",
       "      <th>awards</th>\n",
       "      <th>certifications</th>\n",
       "      <th>salary</th>\n",
       "      <th>gender</th>\n",
       "      <th>entry_date</th>\n",
       "      <th>last_raise</th>\n",
       "      <th>satisfied</th>\n",
       "    </tr>\n",
       "  </thead>\n",
       "  <tbody>\n",
       "    <tr>\n",
       "      <th>count</th>\n",
       "      <td>500.000000</td>\n",
       "      <td>500</td>\n",
       "      <td>500.000000</td>\n",
       "      <td>500</td>\n",
       "      <td>500</td>\n",
       "      <td>500</td>\n",
       "      <td>500.000000</td>\n",
       "      <td>471.000000</td>\n",
       "      <td>500.000000</td>\n",
       "      <td>500.000000</td>\n",
       "      <td>500.000000</td>\n",
       "      <td>497</td>\n",
       "      <td>500</td>\n",
       "      <td>26.000000</td>\n",
       "      <td>500.000000</td>\n",
       "    </tr>\n",
       "    <tr>\n",
       "      <th>unique</th>\n",
       "      <td>NaN</td>\n",
       "      <td>499</td>\n",
       "      <td>NaN</td>\n",
       "      <td>5</td>\n",
       "      <td>2</td>\n",
       "      <td>4</td>\n",
       "      <td>NaN</td>\n",
       "      <td>NaN</td>\n",
       "      <td>NaN</td>\n",
       "      <td>NaN</td>\n",
       "      <td>NaN</td>\n",
       "      <td>4</td>\n",
       "      <td>475</td>\n",
       "      <td>NaN</td>\n",
       "      <td>NaN</td>\n",
       "    </tr>\n",
       "    <tr>\n",
       "      <th>top</th>\n",
       "      <td>NaN</td>\n",
       "      <td>MKT7287</td>\n",
       "      <td>NaN</td>\n",
       "      <td>Purchasing</td>\n",
       "      <td>PG</td>\n",
       "      <td>Referral</td>\n",
       "      <td>NaN</td>\n",
       "      <td>NaN</td>\n",
       "      <td>NaN</td>\n",
       "      <td>NaN</td>\n",
       "      <td>NaN</td>\n",
       "      <td>m</td>\n",
       "      <td>2019-09-01</td>\n",
       "      <td>NaN</td>\n",
       "      <td>NaN</td>\n",
       "    </tr>\n",
       "    <tr>\n",
       "      <th>freq</th>\n",
       "      <td>NaN</td>\n",
       "      <td>2</td>\n",
       "      <td>NaN</td>\n",
       "      <td>114</td>\n",
       "      <td>254</td>\n",
       "      <td>140</td>\n",
       "      <td>NaN</td>\n",
       "      <td>NaN</td>\n",
       "      <td>NaN</td>\n",
       "      <td>NaN</td>\n",
       "      <td>NaN</td>\n",
       "      <td>207</td>\n",
       "      <td>3</td>\n",
       "      <td>NaN</td>\n",
       "      <td>NaN</td>\n",
       "    </tr>\n",
       "    <tr>\n",
       "      <th>mean</th>\n",
       "      <td>249.500000</td>\n",
       "      <td>NaN</td>\n",
       "      <td>39.694000</td>\n",
       "      <td>NaN</td>\n",
       "      <td>NaN</td>\n",
       "      <td>NaN</td>\n",
       "      <td>3.032000</td>\n",
       "      <td>3.093418</td>\n",
       "      <td>4.570000</td>\n",
       "      <td>0.514000</td>\n",
       "      <td>50416.056000</td>\n",
       "      <td>NaN</td>\n",
       "      <td>NaN</td>\n",
       "      <td>0.049231</td>\n",
       "      <td>0.714000</td>\n",
       "    </tr>\n",
       "    <tr>\n",
       "      <th>std</th>\n",
       "      <td>144.481833</td>\n",
       "      <td>NaN</td>\n",
       "      <td>8.477033</td>\n",
       "      <td>NaN</td>\n",
       "      <td>NaN</td>\n",
       "      <td>NaN</td>\n",
       "      <td>1.423738</td>\n",
       "      <td>1.423129</td>\n",
       "      <td>2.989812</td>\n",
       "      <td>0.628167</td>\n",
       "      <td>23671.392661</td>\n",
       "      <td>NaN</td>\n",
       "      <td>NaN</td>\n",
       "      <td>0.029519</td>\n",
       "      <td>0.452342</td>\n",
       "    </tr>\n",
       "    <tr>\n",
       "      <th>min</th>\n",
       "      <td>0.000000</td>\n",
       "      <td>NaN</td>\n",
       "      <td>22.000000</td>\n",
       "      <td>NaN</td>\n",
       "      <td>NaN</td>\n",
       "      <td>NaN</td>\n",
       "      <td>1.000000</td>\n",
       "      <td>1.000000</td>\n",
       "      <td>0.000000</td>\n",
       "      <td>0.000000</td>\n",
       "      <td>24076.000000</td>\n",
       "      <td>NaN</td>\n",
       "      <td>NaN</td>\n",
       "      <td>0.010000</td>\n",
       "      <td>0.000000</td>\n",
       "    </tr>\n",
       "    <tr>\n",
       "      <th>25%</th>\n",
       "      <td>124.750000</td>\n",
       "      <td>NaN</td>\n",
       "      <td>34.000000</td>\n",
       "      <td>NaN</td>\n",
       "      <td>NaN</td>\n",
       "      <td>NaN</td>\n",
       "      <td>2.000000</td>\n",
       "      <td>2.000000</td>\n",
       "      <td>2.000000</td>\n",
       "      <td>0.000000</td>\n",
       "      <td>29805.000000</td>\n",
       "      <td>NaN</td>\n",
       "      <td>NaN</td>\n",
       "      <td>0.020000</td>\n",
       "      <td>0.000000</td>\n",
       "    </tr>\n",
       "    <tr>\n",
       "      <th>50%</th>\n",
       "      <td>249.500000</td>\n",
       "      <td>NaN</td>\n",
       "      <td>39.000000</td>\n",
       "      <td>NaN</td>\n",
       "      <td>NaN</td>\n",
       "      <td>NaN</td>\n",
       "      <td>3.000000</td>\n",
       "      <td>3.000000</td>\n",
       "      <td>5.000000</td>\n",
       "      <td>0.000000</td>\n",
       "      <td>42419.000000</td>\n",
       "      <td>NaN</td>\n",
       "      <td>NaN</td>\n",
       "      <td>0.050000</td>\n",
       "      <td>1.000000</td>\n",
       "    </tr>\n",
       "    <tr>\n",
       "      <th>75%</th>\n",
       "      <td>374.250000</td>\n",
       "      <td>NaN</td>\n",
       "      <td>47.000000</td>\n",
       "      <td>NaN</td>\n",
       "      <td>NaN</td>\n",
       "      <td>NaN</td>\n",
       "      <td>4.000000</td>\n",
       "      <td>4.000000</td>\n",
       "      <td>7.000000</td>\n",
       "      <td>1.000000</td>\n",
       "      <td>65715.000000</td>\n",
       "      <td>NaN</td>\n",
       "      <td>NaN</td>\n",
       "      <td>0.077500</td>\n",
       "      <td>1.000000</td>\n",
       "    </tr>\n",
       "    <tr>\n",
       "      <th>max</th>\n",
       "      <td>499.000000</td>\n",
       "      <td>NaN</td>\n",
       "      <td>56.000000</td>\n",
       "      <td>NaN</td>\n",
       "      <td>NaN</td>\n",
       "      <td>NaN</td>\n",
       "      <td>5.000000</td>\n",
       "      <td>5.000000</td>\n",
       "      <td>25.000000</td>\n",
       "      <td>9.000000</td>\n",
       "      <td>86750.000000</td>\n",
       "      <td>NaN</td>\n",
       "      <td>NaN</td>\n",
       "      <td>0.100000</td>\n",
       "      <td>1.000000</td>\n",
       "    </tr>\n",
       "  </tbody>\n",
       "</table>\n",
       "</div>"
      ],
      "text/plain": [
       "        Unnamed: 0   emp_id         age        Dept education   \n",
       "count   500.000000      500  500.000000         500       500  \\\n",
       "unique         NaN      499         NaN           5         2   \n",
       "top            NaN  MKT7287         NaN  Purchasing        PG   \n",
       "freq           NaN        2         NaN         114       254   \n",
       "mean    249.500000      NaN   39.694000         NaN       NaN   \n",
       "std     144.481833      NaN    8.477033         NaN       NaN   \n",
       "min       0.000000      NaN   22.000000         NaN       NaN   \n",
       "25%     124.750000      NaN   34.000000         NaN       NaN   \n",
       "50%     249.500000      NaN   39.000000         NaN       NaN   \n",
       "75%     374.250000      NaN   47.000000         NaN       NaN   \n",
       "max     499.000000      NaN   56.000000         NaN       NaN   \n",
       "\n",
       "       recruitment_type   job_level      rating      awards  certifications   \n",
       "count               500  500.000000  471.000000  500.000000      500.000000  \\\n",
       "unique                4         NaN         NaN         NaN             NaN   \n",
       "top            Referral         NaN         NaN         NaN             NaN   \n",
       "freq                140         NaN         NaN         NaN             NaN   \n",
       "mean                NaN    3.032000    3.093418    4.570000        0.514000   \n",
       "std                 NaN    1.423738    1.423129    2.989812        0.628167   \n",
       "min                 NaN    1.000000    1.000000    0.000000        0.000000   \n",
       "25%                 NaN    2.000000    2.000000    2.000000        0.000000   \n",
       "50%                 NaN    3.000000    3.000000    5.000000        0.000000   \n",
       "75%                 NaN    4.000000    4.000000    7.000000        1.000000   \n",
       "max                 NaN    5.000000    5.000000   25.000000        9.000000   \n",
       "\n",
       "              salary gender  entry_date  last_raise   satisfied  \n",
       "count     500.000000    497         500   26.000000  500.000000  \n",
       "unique           NaN      4         475         NaN         NaN  \n",
       "top              NaN      m  2019-09-01         NaN         NaN  \n",
       "freq             NaN    207           3         NaN         NaN  \n",
       "mean    50416.056000    NaN         NaN    0.049231    0.714000  \n",
       "std     23671.392661    NaN         NaN    0.029519    0.452342  \n",
       "min     24076.000000    NaN         NaN    0.010000    0.000000  \n",
       "25%     29805.000000    NaN         NaN    0.020000    0.000000  \n",
       "50%     42419.000000    NaN         NaN    0.050000    1.000000  \n",
       "75%     65715.000000    NaN         NaN    0.077500    1.000000  \n",
       "max     86750.000000    NaN         NaN    0.100000    1.000000  "
      ]
     },
     "execution_count": 20,
     "metadata": {},
     "output_type": "execute_result"
    }
   ],
   "source": [
    "# Ermitteln Sie statistische Kennzeichen der numerischen Spalten.\n",
    "df.describe(include='all')\n"
   ]
  },
  {
   "cell_type": "code",
   "execution_count": 21,
   "metadata": {
    "ExecuteTime": {
     "end_time": "2022-11-10T13:51:19.360356Z",
     "start_time": "2022-11-10T13:51:19.357376Z"
    }
   },
   "outputs": [
    {
     "data": {
      "text/plain": [
       "True"
      ]
     },
     "execution_count": 21,
     "metadata": {},
     "output_type": "execute_result"
    }
   ],
   "source": [
    "# Gibt es fehlende Werte in den Daten?\n",
    "\n",
    "df.isnull().values.any()"
   ]
  },
  {
   "cell_type": "markdown",
   "metadata": {},
   "source": [
    "## Datenqualität\n",
    "\n",
    "*Hinweis: Bei den folgenden Fragen geht es um Ihre Einschätzung. Ziel ist es, sich mit dem Thema Datenqualität auseinanderzusetzen und sich mit Fragestellungen in Bezug auf Data Fitness, etc. zu beschäftigen.*\n",
    "\n",
    "Was denken Sie über den Datensatz? Ist dieser geeignet, um die Fragestellung über die Zufriedenheit der Angestellten zu beantworten? Reichen die angegebenen Informationen zur Beantwortung der Fragestellung aus? Wenn nicht, welche Informationen würden Sie noch verwenden?"
   ]
  },
  {
   "cell_type": "raw",
   "metadata": {},
   "source": [
    "Der Datensatz scheint auf den ersten Blick gut geeignet zu sein, um die Fragestellung über die Zufriedenheit der Angestellten zu beantworten. Er enthält eine Vielzahl von Merkmalen, die alle einen Einfluss auf die Zufriedenheit eines Angestellten haben könnten.\n",
    "Allerdings gibt es immer noch einige Aspekte, die berücksichtigt werden könnten, um die Analyse zu verbessern:\n",
    "\n",
    "Arbeitsbelastung: Die Anzahl der Arbeitsstunden oder die Arbeitsbelastung könnte einen Einfluss auf die Zufriedenheit haben.\n",
    "Team- und Managementdynamik: Die Beziehungen zu Kollegen und Vorgesetzten können ebenfalls einen großen Einfluss auf die Zufriedenheit am Arbeitsplatz haben.\n",
    "Arbeitsumgebung: Faktoren wie die physische Arbeitsumgebung, die zur Verfügung gestellten Ressourcen und Werkzeuge, und sogar die geographische Lage könnten sich auf die Zufriedenheit auswirken.\n",
    "Work-Life-Balance: Informationen über Urlaubstage, flexible Arbeitszeiten und andere Aspekte der Work-Life-Balance könnten hilfreich sein."
   ]
  },
  {
   "cell_type": "markdown",
   "metadata": {},
   "source": [
    "Für welche weiteren Fragestellungen/Analysen könnte der Datensatz geeignet sein?"
   ]
  },
  {
   "cell_type": "raw",
   "metadata": {},
   "source": [
    "Ihre Einschätzung:\n",
    "\n",
    "Vorhersage der Mitarbeiterleistung: \n",
    "Die rating-Spalte könnte als Zielvariable für ein Vorhersagemodell verwendet werden, das versucht, die Leistung eines Mitarbeiters basierend auf den anderen Merkmalen vorherzusagen.\n",
    "\n",
    "Analyse der Gehaltsunterschiede:\n",
    "Sie könnten die salary-Spalte verwenden, um zu untersuchen, ob es signifikante Unterschiede im Gehalt zwischen verschiedenen Gruppen gibt (z.B. nach Geschlecht, Abteilung, Bildungsniveau).\n",
    "\n",
    "Untersuchung der Mitarbeiterbindung: \n",
    "Mit der entry_date-Spalte könnten Sie analysieren, wie lange Mitarbeiter im Durchschnitt im Unternehmen bleiben und welche Faktoren dazu führen, dass Mitarbeiter länger bleiben.\n",
    "\n",
    "Analyse der Auswirkungen von Auszeichnungen und Zertifizierungen: \n",
    "Sie könnten untersuchen, ob Auszeichnungen (awards) und Zertifizierungen (certifications) einen Einfluss auf die Zufriedenheit, das Gehalt oder die Leistung der Mitarbeiter haben.\n",
    "\n",
    "Untersuchung der Auswirkungen des Rekrutierungstyps:\n",
    "Sie könnten analysieren, ob der Rekrutierungstyp (recruitment_type) einen Einfluss auf verschiedene Aspekte der Mitarbeitererfahrung hat, wie z.B. Zufriedenheit, Leistung oder Gehalt.\n"
   ]
  },
  {
   "cell_type": "markdown",
   "metadata": {},
   "source": [
    "Stellen Sie Überlegungen zur Datenerhebung an. Welche Faktoren könnten die Datenqualität beeinträchtigen?"
   ]
  },
  {
   "cell_type": "raw",
   "metadata": {},
   "source": [
    "Ihre Einschätzung:\n",
    "\n",
    "\n",
    "1. **Fehlende Werte**: In vielen Datensätzen fehlen Werte, weil sie nicht erfasst wurden oder weil sie nicht zutreffen. Dies kann die Analyse beeinträchtigen, insbesondere wenn die fehlenden Werte nicht zufällig verteilt sind.\n",
    "\n",
    "2. **Messfehler**: Messfehler können auftreten, wenn die Daten ungenau erfasst werden. Zum Beispiel könnten Mitarbeiter ihr Alter oder ihr Gehalt falsch angeben.\n",
    "\n",
    "3. **Verzerrung**: Wenn die Daten auf eine Weise gesammelt werden, die bestimmte Gruppen über- oder unterrepräsentiert, kann dies zu Verzerrungen führen. Zum Beispiel könnten Mitarbeiter, die unzufrieden sind, weniger wahrscheinlich an einer Umfrage teilnehmen.\n",
    "\n",
    "4. **Inkonsistente Daten**: Manchmal werden Daten auf unterschiedliche Weise erfasst. Zum Beispiel könnten einige Mitarbeiter ihr Gehalt in Brutto und andere in Netto angeben.\n",
    "\n",
    "5. **Veraltete Daten**: In schnelllebigen Bereichen können Daten schnell veralten. Zum Beispiel könnten die Zufriedenheitswerte von vor einigen Jahren nicht mehr relevant sein.\n",
    "\n",
    "6. **Duplikate**: Manchmal werden Daten mehrfach erfasst, was zu doppelten Einträgen führen kann.\n",
    "\n",
    "7. **Irrelevante Daten**: Nicht alle in einem Datensatz enthaltenen Informationen sind für jede Analyse relevant. Irrelevante Daten können die Analyse verkomplizieren und zu irreführenden Ergebnissen führen.\n",
    "\n"
   ]
  },
  {
   "cell_type": "markdown",
   "metadata": {},
   "source": [
    "Beurteilen Sie den Datensatz bzgl. der weiteren Aspekte zur Datenqualität, die Sie im Kurstext kennengelernt haben:"
   ]
  },
  {
   "cell_type": "markdown",
   "metadata": {},
   "source": [
    "***Important***\n"
   ]
  },
  {
   "cell_type": "code",
   "execution_count": 29,
   "metadata": {},
   "outputs": [
    {
     "name": "stdout",
     "output_type": "stream",
     "text": [
      "2004-01-05  -  2020-12-17\n"
     ]
    }
   ],
   "source": [
    "#Timely\n",
    "print(df['entry_date'].min(), \" - \", df['entry_date'].max())"
   ]
  },
  {
   "cell_type": "code",
   "execution_count": 30,
   "metadata": {},
   "outputs": [
    {
     "name": "stdout",
     "output_type": "stream",
     "text": [
      "Unnamed: 0            0\n",
      "emp_id                0\n",
      "age                   0\n",
      "Dept                  0\n",
      "education             0\n",
      "recruitment_type      0\n",
      "job_level             0\n",
      "rating               29\n",
      "awards                0\n",
      "certifications        0\n",
      "salary                0\n",
      "gender                3\n",
      "entry_date            0\n",
      "last_raise          474\n",
      "satisfied             0\n",
      "dtype: int64\n"
     ]
    }
   ],
   "source": [
    "#complete\n",
    "print(df.isnull().sum())"
   ]
  },
  {
   "cell_type": "code",
   "execution_count": 31,
   "metadata": {},
   "outputs": [
    {
     "data": {
      "text/plain": [
       "500"
      ]
     },
     "execution_count": 31,
     "metadata": {},
     "output_type": "execute_result"
    }
   ],
   "source": [
    "#High Volume.\n",
    "len(df)"
   ]
  },
  {
   "cell_type": "code",
   "execution_count": 32,
   "metadata": {},
   "outputs": [
    {
     "name": "stdout",
     "output_type": "stream",
     "text": [
      "The dataset is multivariate with 15 variables.\n"
     ]
    }
   ],
   "source": [
    "#multivariate\n",
    "# Check the number of variables (columns) in the dataset\n",
    "num_variables = df.shape[1]\n",
    "\n",
    "if num_variables > 1:\n",
    "    print(\"The dataset is multivariate with\", num_variables, \"variables.\")\n",
    "else:\n",
    "    print(\"The dataset is not multivariate.\")\n"
   ]
  },
  {
   "cell_type": "code",
   "execution_count": 35,
   "metadata": {},
   "outputs": [
    {
     "name": "stdout",
     "output_type": "stream",
     "text": [
      "True\n"
     ]
    }
   ],
   "source": [
    "#atomic\n",
    "def is_atomic(df):\n",
    "    for column in df.columns:\n",
    "        if df[column].apply(lambda x: isinstance(x, (list, dict))).any():\n",
    "            return False\n",
    "    return True\n",
    "\n",
    "# Usage:\n",
    "print(is_atomic(df))\n",
    "\n",
    "'''\n",
    "# Assuming 'info' column contains dictionaries\n",
    "info_df = df['info'].apply(pd.Series)\n",
    "df = pd.concat([df.drop(['info'], axis=1), info_df], axis=1)\n",
    "\n",
    "\n",
    "# Assuming 'tags' column contains lists\n",
    "for tag in set(x for l in df['tags'] for x in l):\n",
    "    df['tag_' + tag] = df['tags'].apply(lambda x: tag in x)\n",
    "\n",
    "\n",
    "\n",
    "'''"
   ]
  },
  {
   "cell_type": "markdown",
   "metadata": {},
   "source": [
    "***Achievable***"
   ]
  },
  {
   "cell_type": "code",
   "execution_count": 42,
   "metadata": {
    "ExecuteTime": {
     "end_time": "2022-11-10T13:51:19.409114Z",
     "start_time": "2022-11-10T13:51:19.406055Z"
    }
   },
   "outputs": [
    {
     "name": "stdout",
     "output_type": "stream",
     "text": [
      "this dataset does not contain duplicates.\n"
     ]
    },
    {
     "data": {
      "text/plain": [
       "gender\n",
       "m         207\n",
       "f         187\n",
       "Male       57\n",
       "Female     46\n",
       "Name: count, dtype: int64"
      ]
     },
     "execution_count": 42,
     "metadata": {},
     "output_type": "execute_result"
    }
   ],
   "source": [
    "# consistent\n",
    "\n",
    "#are there duplicates?\n",
    "\n",
    "if(df.duplicated().any()):\n",
    "    print(\"this dataset contains \", df.duplicated().sum() ,\" duplicates.\")\n",
    "    print(df[df.duplicated()])\n",
    "else: print(\"this dataset does not contain duplicates.\")\n",
    "\n",
    "    \n",
    "df['gender'].value_counts()"
   ]
  },
  {
   "cell_type": "code",
   "execution_count": 43,
   "metadata": {},
   "outputs": [
    {
     "name": "stdout",
     "output_type": "stream",
     "text": [
      "Unnamed: 0: 500 unique values\n",
      "emp_id: 499 unique values\n",
      "age: 35 unique values\n",
      "Dept: 5 unique values\n",
      "education: 2 unique values\n",
      "recruitment_type: 4 unique values\n",
      "job_level: 5 unique values\n",
      "rating: 5 unique values\n",
      "awards: 11 unique values\n",
      "certifications: 3 unique values\n",
      "salary: 5 unique values\n",
      "gender: 4 unique values\n",
      "entry_date: 475 unique values\n",
      "last_raise: 8 unique values\n",
      "satisfied: 2 unique values\n"
     ]
    }
   ],
   "source": [
    "# Überprüfe die Einzigartigkeit der Werte in jeder Spalte\n",
    "for column in df.columns:\n",
    "    print(f\"{column}: {df[column].nunique()} unique values\")"
   ]
  },
  {
   "cell_type": "code",
   "execution_count": 48,
   "metadata": {},
   "outputs": [
    {
     "name": "stdout",
     "output_type": "stream",
     "text": [
      "Column names:\n",
      "Index(['Unnamed: 0', 'emp_id', 'age', 'Dept', 'education', 'recruitment_type',\n",
      "       'job_level', 'rating', 'awards', 'certifications', 'salary', 'gender',\n",
      "       'entry_date', 'last_raise', 'satisfied'],\n",
      "      dtype='object')\n",
      "\n",
      "Unique values in Unnamed: 0:\n",
      "[  0   1   2   3   4   5   6   7   8   9  10  11  12  13  14  15  16  17\n",
      "  18  19  20  21  22  23  24  25  26  27  28  29  30  31  32  33  34  35\n",
      "  36  37  38  39  40  41  42  43  44  45  46  47  48  49  50  51  52  53\n",
      "  54  55  56  57  58  59  60  61  62  63  64  65  66  67  68  69  70  71\n",
      "  72  73  74  75  76  77  78  79  80  81  82  83  84  85  86  87  88  89\n",
      "  90  91  92  93  94  95  96  97  98  99 100 101 102 103 104 105 106 107\n",
      " 108 109 110 111 112 113 114 115 116 117 118 119 120 121 122 123 124 125\n",
      " 126 127 128 129 130 131 132 133 134 135 136 137 138 139 140 141 142 143\n",
      " 144 145 146 147 148 149 150 151 152 153 154 155 156 157 158 159 160 161\n",
      " 162 163 164 165 166 167 168 169 170 171 172 173 174 175 176 177 178 179\n",
      " 180 181 182 183 184 185 186 187 188 189 190 191 192 193 194 195 196 197\n",
      " 198 199 200 201 202 203 204 205 206 207 208 209 210 211 212 213 214 215\n",
      " 216 217 218 219 220 221 222 223 224 225 226 227 228 229 230 231 232 233\n",
      " 234 235 236 237 238 239 240 241 242 243 244 245 246 247 248 249 250 251\n",
      " 252 253 254 255 256 257 258 259 260 261 262 263 264 265 266 267 268 269\n",
      " 270 271 272 273 274 275 276 277 278 279 280 281 282 283 284 285 286 287\n",
      " 288 289 290 291 292 293 294 295 296 297 298 299 300 301 302 303 304 305\n",
      " 306 307 308 309 310 311 312 313 314 315 316 317 318 319 320 321 322 323\n",
      " 324 325 326 327 328 329 330 331 332 333 334 335 336 337 338 339 340 341\n",
      " 342 343 344 345 346 347 348 349 350 351 352 353 354 355 356 357 358 359\n",
      " 360 361 362 363 364 365 366 367 368 369 370 371 372 373 374 375 376 377\n",
      " 378 379 380 381 382 383 384 385 386 387 388 389 390 391 392 393 394 395\n",
      " 396 397 398 399 400 401 402 403 404 405 406 407 408 409 410 411 412 413\n",
      " 414 415 416 417 418 419 420 421 422 423 424 425 426 427 428 429 430 431\n",
      " 432 433 434 435 436 437 438 439 440 441 442 443 444 445 446 447 448 449\n",
      " 450 451 452 453 454 455 456 457 458 459 460 461 462 463 464 465 466 467\n",
      " 468 469 470 471 472 473 474 475 476 477 478 479 480 481 482 483 484 485\n",
      " 486 487 488 489 490 491 492 493 494 495 496 497 498 499]\n",
      "\n",
      "Unique values in emp_id:\n",
      "['HR8270' 'TECH1860' 'TECH6390' 'SAL6191' 'HR6734' 'PUR7265' 'PUR1466'\n",
      " 'TECH5426' 'HR6578' 'TECH9322' 'MKT2685' 'TECH1769' 'TECH7949' 'PUR3433'\n",
      " 'PUR6311' 'PUR6051' 'MKT7420' 'PUR2184' 'HR5555' 'SAL4385' 'HR7396'\n",
      " 'HR9666' 'PUR3558' 'SAL8849' 'SAL3047' 'SAL3747' 'MKT1189' 'PUR3734'\n",
      " 'SAL4005' 'MKT5658' 'TECH2899' 'TECH8734' 'MKT2267' 'MKT2528' 'PUR4556'\n",
      " 'PUR4890' 'TECH9838' 'SAL6393' 'TECH9792' 'SAL9433' 'SAL8513' 'PUR3612'\n",
      " 'HR8041' 'HR7235' 'MKT6486' 'PUR8099' 'SAL1775' 'HR9226' 'SAL4152'\n",
      " 'HR2585' 'HR4943' 'HR8555' 'PUR4073' 'TECH2021' 'SAL4843' 'PUR8989'\n",
      " 'PUR7873' 'PUR6675' 'PUR1161' 'PUR5297' 'MKT1995' 'SAL8629' 'PUR2016'\n",
      " 'SAL8869' 'MKT7439' 'MKT8892' 'SAL7863' 'HR8916' 'TECH9529' 'HR1878'\n",
      " 'HR5887' 'HR5859' 'PUR7331' 'MKT9571' 'HR9684' 'MKT8208' 'SAL6276'\n",
      " 'TECH3062' 'SAL1064' 'SAL9006' 'PUR3568' 'TECH6463' 'SAL3027' 'SAL3695'\n",
      " 'TECH6258' 'TECH6618' 'SAL7736' 'TECH1391' 'SAL6892' 'SAL4561' 'PUR7184'\n",
      " 'HR4099' 'SAL7278' 'MKT9392' 'HR4104' 'HR8215' 'HR3454' 'PUR9996'\n",
      " 'SAL3731' 'PUR9154' 'SAL6056' 'PUR9110' 'PUR4840' 'MKT2028' 'PUR8385'\n",
      " 'TECH1502' 'MKT7910' 'PUR7938' 'HR5488' 'TECH1206' 'TECH6134' 'TECH6977'\n",
      " 'MKT8721' 'PUR8035' 'PUR2484' 'HR8858' 'HR1863' 'TECH3790' 'HR8408'\n",
      " 'MKT9755' 'PUR6116' 'TECH7019' 'HR2757' 'MKT8574' 'MKT7374' 'HR7892'\n",
      " 'PUR2678' 'HR4242' 'TECH5636' 'HR2059' 'MKT7668' 'HR4157' 'PUR6915'\n",
      " 'PUR3693' 'HR4627' 'PUR6450' 'PUR2663' 'MKT6592' 'PUR8392' 'PUR2306'\n",
      " 'PUR7776' 'PUR6864' 'TECH8526' 'TECH9901' 'MKT6575' 'HR6530' 'PUR5413'\n",
      " 'HR4748' 'HR1663' 'MKT2998' 'PUR8994' 'PUR2495' 'SAL4304' 'HR4763'\n",
      " 'HR6232' 'TECH2853' 'SAL7585' 'TECH2291' 'TECH4581' 'TECH8554' 'MKT8280'\n",
      " 'MKT2636' 'TECH4696' 'SAL1698' 'HR5737' 'SAL1854' 'PUR9164' 'MKT6855'\n",
      " 'HR8392' 'HR7528' 'PUR6249' 'PUR6172' 'TECH2707' 'MKT6791' 'MKT6535'\n",
      " 'SAL5931' 'TECH4510' 'TECH1202' 'TECH5218' 'TECH9958' 'MKT5389' 'MKT3327'\n",
      " 'TECH9004' 'SAL3931' 'HR8777' 'HR1197' 'SAL8125' 'TECH2930' 'MKT7287'\n",
      " 'HR9800' 'PUR5282' 'PUR3511' 'SAL1659' 'TECH3811' 'HR8098' 'TECH7546'\n",
      " 'HR2986' 'SAL9338' 'SAL3911' 'PUR2734' 'TECH2843' 'PUR9680' 'TECH3976'\n",
      " 'PUR2959' 'MKT6759' 'MKT7694' 'MKT3385' 'MKT5736' 'HR2802' 'MKT9155'\n",
      " 'SAL9120' 'SAL7616' 'HR6534' 'MKT5061' 'MKT1262' 'PUR9815' 'TECH3049'\n",
      " 'PUR6423' 'TECH5548' 'MKT4108' 'MKT8158' 'PUR8400' 'PUR4170' 'TECH3255'\n",
      " 'SAL2154' 'TECH5499' 'PUR7295' 'PUR7197' 'HR2648' 'PUR6539' 'HR5199'\n",
      " 'SAL9445' 'TECH3557' 'TECH6592' 'HR1098' 'TECH3200' 'PUR3961' 'MKT5973'\n",
      " 'HR5433' 'TECH3869' 'HR1956' 'HR9352' 'MKT6699' 'PUR7944' 'HR5493'\n",
      " 'TECH5911' 'SAL4987' 'HR7015' 'HR2218' 'MKT5496' 'PUR5735' 'SAL5555'\n",
      " 'TECH9050' 'SAL4446' 'TECH2045' 'PUR7893' 'TECH2693' 'MKT4436' 'MKT9754'\n",
      " 'MKT6895' 'MKT4354' 'SAL1225' 'PUR5893' 'TECH8022' 'TECH6600' 'MKT8996'\n",
      " 'MKT8683' 'HR5642' 'PUR8679' 'SAL9208' 'TECH8339' 'HR3205' 'HR2069'\n",
      " 'TECH4444' 'SAL2060' 'HR3327' 'HR4420' 'PUR1301' 'SAL1606' 'HR4170'\n",
      " 'SAL1699' 'TECH6088' 'MKT1190' 'HR1980' 'PUR3975' 'TECH7102' 'SAL2184'\n",
      " 'TECH4327' 'HR4394' 'SAL9319' 'MKT2816' 'TECH6854' 'HR7709' 'PUR1569'\n",
      " 'SAL6442' 'TECH2895' 'TECH3733' 'MKT4863' 'MKT8455' 'PUR5014' 'PUR2686'\n",
      " 'HR4009' 'HR8806' 'PUR1154' 'PUR2409' 'SAL1784' 'MKT9096' 'HR8560'\n",
      " 'MKT8343' 'MKT8206' 'PUR6596' 'SAL6801' 'TECH3806' 'SAL1537' 'SAL6986'\n",
      " 'MKT2841' 'PUR9716' 'HR7971' 'MKT6625' 'HR3950' 'TECH8992' 'MKT5780'\n",
      " 'TECH3368' 'MKT7655' 'PUR9173' 'SAL5495' 'PUR7002' 'TECH7614' 'SAL6919'\n",
      " 'MKT1853' 'SAL5146' 'HR4769' 'SAL1574' 'HR2148' 'SAL7293' 'HR7457'\n",
      " 'TECH8509' 'PUR5777' 'MKT4854' 'PUR3491' 'PUR4124' 'MKT6691' 'MKT4051'\n",
      " 'HR1004' 'TECH6222' 'TECH6315' 'PUR5869' 'TECH1876' 'SAL8027' 'TECH5142'\n",
      " 'PUR7966' 'TECH8079' 'SAL8987' 'HR7799' 'PUR5465' 'HR1635' 'HR2693'\n",
      " 'HR5752' 'MKT9311' 'MKT1830' 'HR6177' 'PUR9932' 'SAL9308' 'SAL6949'\n",
      " 'TECH3838' 'PUR2150' 'MKT8560' 'HR2931' 'TECH2664' 'SAL2081' 'MKT1512'\n",
      " 'MKT8805' 'HR6237' 'PUR1559' 'PUR4672' 'MKT8404' 'HR4343' 'PUR5070'\n",
      " 'SAL1580' 'MKT8004' 'PUR9130' 'PUR4147' 'PUR5249' 'MKT2679' 'MKT4506'\n",
      " 'TECH8253' 'SAL3744' 'HR6188' 'PUR3141' 'TECH7617' 'HR3479' 'TECH7484'\n",
      " 'MKT8421' 'PUR5452' 'HR6881' 'HR7665' 'HR3849' 'HR8390' 'HR7905'\n",
      " 'TECH3489' 'PUR5611' 'MKT3839' 'MKT9527' 'MKT6878' 'MKT7303' 'TECH1851'\n",
      " 'SAL2687' 'PUR7833' 'HR3427' 'SAL5000' 'MKT6052' 'SAL3738' 'PUR6732'\n",
      " 'HR6387' 'HR9002' 'PUR6536' 'PUR4913' 'MKT2066' 'HR8723' 'SAL5380'\n",
      " 'TECH5107' 'TECH6726' 'PUR4373' 'MKT9945' 'TECH3082' 'HR9967' 'PUR7748'\n",
      " 'SAL1417' 'PUR9306' 'SAL9808' 'PUR4974' 'PUR4267' 'PUR1825' 'SAL8668'\n",
      " 'SAL6745' 'PUR1412' 'TECH8543' 'MKT8587' 'MKT1728' 'MKT8164' 'SAL9867'\n",
      " 'SAL6988' 'TECH3504' 'MKT3967' 'MKT3786' 'PUR2122' 'SAL5079' 'MKT2571'\n",
      " 'TECH6073' 'TECH6104' 'MKT3143' 'SAL7806' 'TECH8357' 'PUR4440' 'TECH4766'\n",
      " 'HR6644' 'HR3914' 'SAL5968' 'MKT6917' 'SAL9787' 'SAL1728' 'SAL2365'\n",
      " 'PUR5492' 'PUR1698' 'PUR8186' 'TECH1395' 'HR8400' 'SAL9082' 'TECH5171'\n",
      " 'HR5360' 'MKT3502' 'PUR1717' 'HR3782' 'MKT5946' 'HR6486' 'PUR9335'\n",
      " 'PUR5980' 'TECH8266' 'SAL5491' 'HR8192' 'HR6588' 'MKT8651' 'PUR4636'\n",
      " 'HR2167' 'PUR2062' 'HR3156' 'TECH8860' 'SAL6161' 'HR6305' 'PUR7541'\n",
      " 'TECH5729' 'HR8330' 'MKT6334' 'SAL9924' 'HR5330' 'TECH9010' 'MKT7801'\n",
      " 'TECH5846' 'TECH7731']\n",
      "\n",
      "Unique values in age:\n",
      "[28 50 43 44 33 40 26 25 35 45 31 48 52 34 24 54 37 53 38 49 47 46 39 27\n",
      " 29 36 42 41 51 32 56 30 23 55 22]\n",
      "\n",
      "Unique values in Dept:\n",
      "['HR' 'Technology' 'Sales' 'Purchasing' 'Marketing']\n",
      "\n",
      "Unique values in education:\n",
      "['PG' 'UG']\n",
      "\n",
      "Unique values in recruitment_type:\n",
      "['Referral' 'Recruitment Agency' 'On-Campus' 'Walk-in']\n",
      "\n",
      "Unique values in job_level:\n",
      "[5 3 4 2 1]\n",
      "\n",
      "Unique values in rating:\n",
      "[ 2.  5.  1.  3.  4. nan]\n",
      "\n",
      "Unique values in awards:\n",
      "[ 1  2  0  5  7  4  9  6  8  3 25]\n",
      "\n",
      "Unique values in certifications:\n",
      "[0 1 9]\n",
      "\n",
      "Unique values in salary:\n",
      "[86750 42419 65715 29805 24076]\n",
      "\n",
      "Unique values in gender:\n",
      "['m' 'Male' 'f' 'Female' nan]\n",
      "\n",
      "Unique values in entry_date:\n",
      "['2019-02-01' '2017-01-17' '2012-08-27' '2017-07-25' '2019-05-17'\n",
      " '2004-04-22' '2019-12-10' '2017-03-18' '2015-04-02' '2004-03-19'\n",
      " '2009-01-24' '2016-03-10' '2013-04-24' '2010-07-25' '2018-02-07'\n",
      " '2014-04-24' '2014-12-10' '2018-02-18' '2014-05-07' '2012-02-15'\n",
      " '2008-01-15' '2015-04-13' '2013-07-02' '2016-03-22' '2006-09-05'\n",
      " '2005-10-08' '2008-01-08' '2005-11-19' '2011-02-28' '2008-06-03'\n",
      " '2006-07-24' '2015-04-14' '2011-03-06' '2011-11-11' '2019-05-04'\n",
      " '2018-12-31' '2013-03-07' '2006-10-21' '2019-01-08' '2004-08-19'\n",
      " '2005-10-15' '2009-11-22' '2014-02-25' '2016-01-09' '2009-01-18'\n",
      " '2004-01-16' '2018-04-28' '2014-11-09' '2010-05-14' '2008-12-10'\n",
      " '2005-02-24' '2007-03-05' '2016-02-15' '2016-05-07' '2017-05-18'\n",
      " '2014-04-19' '2008-12-25' '2009-06-01' '2008-02-05' '2014-06-16'\n",
      " '2019-02-08' '2020-11-26' '2013-05-26' '2005-08-13' '2008-09-19'\n",
      " '2010-04-22' '2006-03-31' '2020-09-10' '2020-06-01' '2020-05-30'\n",
      " '2014-08-24' '2008-11-15' '2013-04-03' '2007-03-15' '2008-10-30'\n",
      " '2007-03-31' '2016-04-20' '2013-01-01' '2010-08-13' '2010-04-09'\n",
      " '2013-08-23' '2014-07-31' '2019-09-19' '2016-09-08' '2017-02-26'\n",
      " '2012-07-21' '2015-11-10' '2009-08-22' '2005-10-27' '2016-02-01'\n",
      " '2008-04-22' '2008-08-31' '2009-09-29' '2004-08-26' '2004-09-07'\n",
      " '2012-04-17' '2009-12-31' '2014-12-04' '2005-08-27' '2017-04-02'\n",
      " '2008-04-10' '2019-10-02' '2015-09-27' '2014-06-15' '2006-05-13'\n",
      " '2007-11-18' '2018-08-18' '2007-04-26' '2012-02-17' '2014-07-18'\n",
      " '2007-01-24' '2009-09-22' '2018-11-29' '2008-09-17' '2009-10-07'\n",
      " '2019-11-28' '2020-10-18' '2014-11-16' '2009-03-05' '2016-07-31'\n",
      " '2012-03-08' '2014-11-07' '2020-01-10' '2013-06-15' '2015-01-08'\n",
      " '2006-02-08' '2009-12-14' '2018-09-10' '2014-04-09' '2015-03-12'\n",
      " '2018-09-15' '2004-07-13' '2009-11-01' '2004-02-24' '2008-11-13'\n",
      " '2013-01-21' '2014-04-02' '2018-12-08' '2010-04-14' '2017-03-21'\n",
      " '2006-03-10' '2007-09-06' '2016-02-24' '2013-05-14' '2020-10-10'\n",
      " '2018-05-30' '2019-03-28' '2004-10-30' '2010-02-05' '2016-12-26'\n",
      " '2004-07-15' '2006-02-20' '2011-03-27' '2012-10-02' '2014-05-29'\n",
      " '2019-08-22' '2004-06-20' '2010-08-25' '2006-08-10' '2018-03-13'\n",
      " '2004-01-20' '2008-12-17' '2016-04-06' '2018-06-15' '2012-02-07'\n",
      " '2018-04-14' '2008-10-31' '2018-07-10' '2011-02-18' '2008-10-14'\n",
      " '2010-03-10' '2011-03-24' '2007-06-22' '2018-06-03' '2013-03-06'\n",
      " '2005-10-02' '2008-11-17' '2005-12-17' '2015-09-11' '2009-11-28'\n",
      " '2007-12-17' '2016-05-03' '2008-01-02' '2020-03-19' '2014-07-05'\n",
      " '2017-03-10' '2019-01-05' '2014-04-07' '2018-01-11' '2007-12-25'\n",
      " '2009-01-21' '2015-08-14' '2007-12-15' '2012-06-17' '2014-10-23'\n",
      " '2005-06-25' '2006-08-27' '2004-11-13' '2005-03-12' '2013-02-18'\n",
      " '2014-08-22' '2019-05-01' '2017-11-06' '2018-01-20' '2019-10-13'\n",
      " '2005-04-19' '2013-01-31' '2006-02-11' '2016-12-28' '2013-05-11'\n",
      " '2011-08-28' '2014-01-01' '2013-08-01' '2018-12-11' '2019-10-04'\n",
      " '2011-10-27' '2009-04-14' '2018-07-27' '2013-09-25' '2020-05-14'\n",
      " '2005-03-15' '2012-07-30' '2016-09-30' '2017-06-20' '2013-10-09'\n",
      " '2010-02-11' '2019-04-11' '2009-04-29' '2015-12-30' '2015-02-26'\n",
      " '2010-05-02' '2007-08-20' '2004-06-01' '2020-04-06' '2011-02-11'\n",
      " '2011-06-25' '2004-04-19' '2019-09-01' '2014-01-18' '2009-05-25'\n",
      " '2015-10-20' '2007-06-12' '2014-02-03' '2007-08-14' '2012-01-20'\n",
      " '2009-09-09' '2007-11-26' '2010-07-04' '2013-03-23' '2014-07-30'\n",
      " '2006-02-07' '2010-11-14' '2009-10-23' '2014-12-25' '2006-07-14'\n",
      " '2016-12-03' '2018-04-15' '2015-06-14' '2010-11-13' '2014-10-14'\n",
      " '2010-01-21' '2007-05-05' '2008-11-04' '2018-07-28' '2009-02-27'\n",
      " '2007-10-12' '2005-05-29' '2016-12-20' '2004-04-13' '2014-01-19'\n",
      " '2016-07-06' '2009-10-08' '2017-05-16' '2007-11-14' '2015-10-22'\n",
      " '2012-07-29' '2012-05-07' '2020-12-16' '2015-04-07' '2016-03-09'\n",
      " '2013-02-03' '2007-08-10' '2011-10-02' '2007-08-28' '2005-08-21'\n",
      " '2007-08-16' '2006-05-01' '2009-11-25' '2009-08-06' '2011-10-22'\n",
      " '2015-07-14' '2014-03-20' '2016-04-12' '2006-09-11' '2019-03-27'\n",
      " '2010-07-14' '2012-12-03' '2015-10-13' '2015-09-19' '2012-12-27'\n",
      " '2017-07-03' '2004-07-05' '2004-06-08' '2008-01-31' '2011-04-23'\n",
      " '2010-09-17' '2014-12-09' '2013-02-09' '2015-01-03' '2009-06-10'\n",
      " '2015-12-02' '2005-03-30' '2013-03-17' '2010-02-27' '2010-11-12'\n",
      " '2012-02-05' '2020-10-27' '2005-12-23' '2012-09-28' '2015-06-13'\n",
      " '2007-10-23' '2007-05-29' '2017-09-10' '2009-05-21' '2019-09-07'\n",
      " '2019-04-28' '2015-11-07' '2018-12-24' '2011-05-25' '2017-05-26'\n",
      " '2007-09-01' '2006-02-09' '2013-05-07' '2019-01-20' '2020-11-09'\n",
      " '2014-01-20' '2004-12-03' '2005-10-07' '2006-02-04' '2016-11-16'\n",
      " '2007-11-13' '2017-12-31' '2016-12-08' '2007-08-03' '2005-09-16'\n",
      " '2020-12-04' '2020-04-15' '2005-02-12' '2009-03-22' '2020-11-16'\n",
      " '2009-11-12' '2011-03-04' '2008-10-28' '2011-03-29' '2012-05-23'\n",
      " '2020-02-21' '2008-11-06' '2013-11-14' '2014-02-18' '2011-01-03'\n",
      " '2004-01-22' '2014-05-17' '2008-11-01' '2014-05-28' '2016-12-31'\n",
      " '2017-08-09' '2006-06-01' '2015-03-01' '2012-07-04' '2016-10-28'\n",
      " '2004-01-05' '2016-10-14' '2020-04-11' '2004-04-17' '2007-06-01'\n",
      " '2016-05-16' '2016-10-24' '2020-04-05' '2007-06-17' '2005-06-05'\n",
      " '2010-09-18' '2018-06-21' '2020-11-22' '2018-06-22' '2018-04-10'\n",
      " '2016-11-13' '2012-12-16' '2017-02-16' '2020-02-11' '2005-11-03'\n",
      " '2017-04-12' '2015-10-12' '2016-12-05' '2006-11-01' '2006-09-10'\n",
      " '2018-11-05' '2007-07-17' '2005-01-12' '2008-04-11' '2020-12-17'\n",
      " '2016-10-31' '2010-01-17' '2013-08-13' '2009-06-19' '2011-07-05'\n",
      " '2008-02-04' '2013-09-17' '2014-07-02' '2019-04-24' '2016-10-06'\n",
      " '2017-07-29' '2007-05-13' '2007-08-13' '2008-07-18' '2014-11-26'\n",
      " '2006-03-21' '2019-11-20' '2008-10-12' '2019-05-19' '2007-09-03'\n",
      " '2016-11-04' '2020-04-26' '2006-07-02' '2014-10-26' '2019-03-25'\n",
      " '2017-09-14' '2008-01-21' '2019-05-12' '2015-08-22' '2007-09-22'\n",
      " '2010-07-08' '2005-11-15' '2020-02-14' '2004-10-04' '2011-10-29'\n",
      " '2005-04-27' '2015-10-30' '2020-06-03' '2006-03-17' '2012-03-21'\n",
      " '2011-07-31' '2013-01-14' '2010-04-06' '2013-03-20' '2018-07-09'\n",
      " '2019-04-19' '2016-08-16' '2008-02-25' '2019-10-26' '2006-06-14'\n",
      " '2009-07-13' '2017-01-25' '2019-02-23' '2010-11-08' '2013-07-26'\n",
      " '2004-08-14' '2017-04-13' '2008-04-09' '2008-09-08' '2004-09-16'\n",
      " '2020-07-22' '2019-01-06' '2015-08-09' '2020-02-25' '2019-06-26'\n",
      " '2016-09-03' '2019-10-17' '2015-05-05' '2005-07-22' '2006-03-29'\n",
      " '2014-03-21' '2018-02-20' '2020-10-20' '2012-05-18' '2018-12-28']\n",
      "\n",
      "Unique values in last_raise:\n",
      "[ nan 0.02 0.07 0.01 0.04 0.09 0.05 0.08 0.1 ]\n",
      "\n",
      "Unique values in satisfied:\n",
      "[1 0]\n"
     ]
    }
   ],
   "source": [
    "#clear\n",
    "\n",
    "# Check column names for clarity\n",
    "print(\"Column names:\")\n",
    "print(df.columns)\n",
    "\n",
    "# Check unique values in each column\n",
    "for column in df.columns:\n",
    "    print(f\"\\nUnique values in {column}:\")\n",
    "    print(df[column].unique())"
   ]
  },
  {
   "cell_type": "code",
   "execution_count": 46,
   "metadata": {},
   "outputs": [
    {
     "data": {
      "text/plain": [
       "(500, 15)"
      ]
     },
     "execution_count": 46,
     "metadata": {},
     "output_type": "execute_result"
    }
   ],
   "source": [
    "#Dimensionally structed.\n",
    "\n",
    "# Überprüfe die ersten paar Zeilen des Datensatzes, um die Struktur zu sehen\n",
    "df.head()\n",
    "\n",
    "# Überprüfe die Anzahl der Dimensionen (Spalten) in Ihrem Datensatz\n",
    "print(\"Number of dimensions in the dataset: \", df.shape[1])"
   ]
  },
  {
   "cell_type": "code",
   "execution_count": 45,
   "metadata": {},
   "outputs": [
    {
     "name": "stdout",
     "output_type": "stream",
     "text": [
      "satisfied\n",
      "1    0.714\n",
      "0    0.286\n",
      "Name: proportion, dtype: float64\n"
     ]
    }
   ],
   "source": [
    "#Representativeness\n",
    "# Überprüfen Sie die Verteilung der Zielvariable 'satisfied'\n",
    "print(df['satisfied'].value_counts(normalize=True))"
   ]
  },
  {
   "cell_type": "raw",
   "metadata": {},
   "source": [
    "Ihre Einschätzung:\n",
    "- ***Necessary, but not sufficient***\n",
    "    - Of known provence: Die Daten wurde intern gesammelt, daher sind diese verfolgbar. allerdings ist dieser Punkt dennoch nicht so einfach zu beurteilen. Wir wissen, wie die Umfrage erhoben wurde und mit Daten aus dem System verknüpft wurde. Allerdings haben wir keine weiteren Informationen übr diesen Prozess und wie vetrauenswürdig dieDaten sind.\n",
    "\n",
    "    - Well-Annotated: Die Datei metadata.txt beinhaltet Informationen zu den Daten.\n",
    "- ***Important***\n",
    "    - Timely: Im Newsletter ist zu lesen, dass die Firma im Jahr 2004 gegründet wurde und\n",
    "die Umfrage im Februar 2021 erhoben wurde. Da in dem Datensatz Daten von 2004-2020\n",
    "vorliegen, ist dieses Qualitätskriterium gegeben.\n",
    "    - Complete: es fehlen werte\n",
    "    - High Volume: m Newsletter ist zu lesen, dass im Dezember 2020 der 500. Mitarbeiter angestellt wurde. Insgesamt befinden sich 500. Zeilen in dem Datensatz, der letzte vom Dezember 2020. Die Informationen zu diesem Mitarbeiter stimmen mit denen, die im Newsletter angegeben wurden, überein. Wir können also davon ausgehen, dass dieses Qualitätskriterium gegeben ist.\n",
    "\n",
    "    - Multivariate: Insgesamt stehen uns in diesem Datensazt 14 Features zur Verfügung, bzw. 13 zur Vorhersage der Zufriedenheit.\n",
    "\n",
    "    - Atomic: Größtenteils gegegeben (keine Aggregationen), aber 0 und 1 keine detaillierte\n",
    "Beschreibung für Zufriedenheit.\n",
    "- ***Achievable***\n",
    "    - Consistent.\n",
    "    - Clear.\n",
    "    - Dimensionally structed."
   ]
  },
  {
   "cell_type": "markdown",
   "metadata": {},
   "source": [
    "Stellen Sie sich vor, dieser Datensatz soll dazu verwendet werden, um die Zufriedenheit von Angestellten vorherzusagen und daraus wiederum Rückschlüsse auf das Kündigungswahrscheinlichkeiten zu schließen. Für wie zuverlässig würden Sie entsprechende Wahrscheinlichkeiten halten?"
   ]
  },
  {
   "cell_type": "raw",
   "metadata": {},
   "source": [
    "Ihre Einschätzung:"
   ]
  },
  {
   "cell_type": "markdown",
   "metadata": {},
   "source": [
    "Nehmen Sie an, mithilfe des Datensatzes wäre ein zuverlässiges Modell mit guten Vorhersagewahrscheinlichkeiten trainiert worden, um die Zufriedenheit der Angestellten zu bestimmen. Nun möchte eine andere Firma aus der gleichen Branche dasselbe Modell für ihre Angestellten nutzen. Denken Sie, das Modell würde auch für die andere Firma zuverlässige Vorhersagen treffen?"
   ]
  },
  {
   "cell_type": "raw",
   "metadata": {},
   "source": [
    "Ihre Einschätzung:"
   ]
  },
  {
   "cell_type": "markdown",
   "metadata": {},
   "source": [
    "Überlegen Sie, welche Vorverarbeitungsschritte für den Datensatz notwendig wären."
   ]
  },
  {
   "cell_type": "raw",
   "metadata": {},
   "source": [
    "Ihre Einschätzung:"
   ]
  }
 ],
 "metadata": {
  "kernelspec": {
   "display_name": "Python 3 (ipykernel)",
   "language": "python",
   "name": "python3"
  },
  "language_info": {
   "codemirror_mode": {
    "name": "ipython",
    "version": 3
   },
   "file_extension": ".py",
   "mimetype": "text/x-python",
   "name": "python",
   "nbconvert_exporter": "python",
   "pygments_lexer": "ipython3",
   "version": "3.11.3"
  },
  "toc": {
   "base_numbering": "1",
   "nav_menu": {},
   "number_sections": true,
   "sideBar": true,
   "skip_h1_title": true,
   "title_cell": "Table of Contents",
   "title_sidebar": "Contents",
   "toc_cell": false,
   "toc_position": {
    "height": "calc(100% - 180px)",
    "left": "10px",
    "top": "150px",
    "width": "307.2px"
   },
   "toc_section_display": true,
   "toc_window_display": true
  }
 },
 "nbformat": 4,
 "nbformat_minor": 4
}
