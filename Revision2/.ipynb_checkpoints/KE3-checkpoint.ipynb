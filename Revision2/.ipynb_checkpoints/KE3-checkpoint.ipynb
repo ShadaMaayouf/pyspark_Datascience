{
 "cells": [
  {
   "cell_type": "raw",
   "metadata": {
    "ExecuteTime": {
     "end_time": "2022-02-23T10:26:52.226330Z",
     "start_time": "2022-02-23T10:26:52.189669Z"
    }
   },
   "source": [
    "Name:\n",
    "Matrikelnummer:"
   ]
  },
  {
   "cell_type": "markdown",
   "metadata": {},
   "source": [
    "___"
   ]
  },
  {
   "cell_type": "code",
   "execution_count": 45,
   "metadata": {
    "ExecuteTime": {
     "end_time": "2022-02-23T10:26:52.883521Z",
     "start_time": "2022-02-23T10:26:52.480098Z"
    }
   },
   "outputs": [],
   "source": [
    "# Imports\n",
    "import pandas as pd"
   ]
  },
  {
   "cell_type": "markdown",
   "metadata": {},
   "source": [
    "___\n",
    "**_Bitte beachten:_**\n",
    "\n",
    "- In Code-Zellen soll (bei Bedarf kommentierter) Code eingefügt werden. In Raw-Zellen erwarten wir Antworten im Freitext-Format.\n",
    "- Fragestellungen sind teilweise bewusst etwas offener formuliert, weil Sie auch im Arbeitsleben nur selten mit ganz spezifischen Anweisungen rechnen können.Es gibt häufig mehrere mögliche Lösungen, dies wird in der Korrektur  berücksichtigt.\n",
    "\n",
    "___"
   ]
  },
  {
   "cell_type": "markdown",
   "metadata": {},
   "source": [
    "# (I can't get no) satisfaction\n",
    "Wir arbeiten weiterhin mit dem Datensatz über die Zufriedenheit von Angestellten der fiktiven Firma *Fiktiva*. In dieser Kurseinheit werden wir einige Techniken zur Datenvorverarbeitung / zum Data Cleaning anwenden.\n",
    "\n",
    "Sie können hier, wenn Sie weitere Informationen benötigen, ebenfalls externe Quellen verwenden und bspw. die Datei `metadata.txt` zu Rate ziehen, aber auch alle Informationen aus dem Fiktiva-Newsletter. "
   ]
  },
  {
   "cell_type": "code",
   "execution_count": 46,
   "metadata": {
    "ExecuteTime": {
     "end_time": "2022-02-23T10:26:53.588112Z",
     "start_time": "2022-02-23T10:26:53.554691Z"
    }
   },
   "outputs": [],
   "source": [
    "# Datensatz laden\n",
    "# Hinweis: Laden Sie den Datensatz so, dass die erste Spalte als Index (Row Label) verwendet wird\n",
    "df = pd.read_csv('./employees_satisfaction.csv')"
   ]
  },
  {
   "cell_type": "markdown",
   "metadata": {},
   "source": [
    "## Spalten umbennen"
   ]
  },
  {
   "cell_type": "markdown",
   "metadata": {},
   "source": [
    "Die Spalte `Dept` wird als einzige groß geschrieben. Benennen Sie die Spalte deshalb in `department` um."
   ]
  },
  {
   "cell_type": "code",
   "execution_count": 47,
   "metadata": {
    "ExecuteTime": {
     "end_time": "2022-02-23T10:22:46.512713Z",
     "start_time": "2022-02-23T10:22:46.504715Z"
    }
   },
   "outputs": [],
   "source": [
    "# Ihre Lösung\n",
    "df = df.rename(columns={'Dept': 'department'})"
   ]
  },
  {
   "cell_type": "markdown",
   "metadata": {},
   "source": [
    "## Spalten transformieren\n",
    "Um ein besseres Gefühl für die Werte der Spalte `salary` zu bekommen, wandeln wir die Werte, die aktuell in US-Dollar angegeben sind, in Euro um. Aktualisieren Sie anschließend auch die Datei `metadata.txt`.\n",
    "\n",
    "*Hinweis: Verwenden Sie folgenden Umrechnungskurs: $ 1\\$ = 0.9€ $*"
   ]
  },
  {
   "cell_type": "code",
   "execution_count": 48,
   "metadata": {
    "ExecuteTime": {
     "end_time": "2022-02-23T10:22:46.528709Z",
     "start_time": "2022-02-23T10:22:46.515719Z"
    }
   },
   "outputs": [],
   "source": [
    "# Ihre Lösung\n",
    "df['salary'] *= 0.9"
   ]
  },
  {
   "cell_type": "markdown",
   "metadata": {},
   "source": [
    "Die Spalte `entry_date` enthält Informationen über das Einstellungsdatum, die Daten sind jedoch nicht vom Typ Datetime. Dies ist für Datums-Berechnungen sehr ungünstig, wandeln Sie den Datentypen deshalb entsprechend um."
   ]
  },
  {
   "cell_type": "code",
   "execution_count": 49,
   "metadata": {
    "ExecuteTime": {
     "end_time": "2022-02-23T10:22:46.544708Z",
     "start_time": "2022-02-23T10:22:46.531715Z"
    }
   },
   "outputs": [
    {
     "name": "stdout",
     "output_type": "stream",
     "text": [
      "<class 'pandas.core.frame.DataFrame'>\n",
      "RangeIndex: 500 entries, 0 to 499\n",
      "Data columns (total 15 columns):\n",
      " #   Column            Non-Null Count  Dtype         \n",
      "---  ------            --------------  -----         \n",
      " 0   Unnamed: 0        500 non-null    int64         \n",
      " 1   emp_id            500 non-null    object        \n",
      " 2   age               500 non-null    int64         \n",
      " 3   department        500 non-null    object        \n",
      " 4   education         500 non-null    object        \n",
      " 5   recruitment_type  500 non-null    object        \n",
      " 6   job_level         500 non-null    int64         \n",
      " 7   rating            471 non-null    float64       \n",
      " 8   awards            500 non-null    int64         \n",
      " 9   certifications    500 non-null    int64         \n",
      " 10  salary            500 non-null    float64       \n",
      " 11  gender            497 non-null    object        \n",
      " 12  entry_date        500 non-null    datetime64[ns]\n",
      " 13  last_raise        26 non-null     float64       \n",
      " 14  satisfied         500 non-null    int64         \n",
      "dtypes: datetime64[ns](1), float64(3), int64(6), object(5)\n",
      "memory usage: 58.7+ KB\n"
     ]
    }
   ],
   "source": [
    "# Ihre Lösung\n",
    "df['entry_date'] = pd.to_datetime(df['entry_date'], format='%Y-%m-%d')\n",
    "df.info()"
   ]
  },
  {
   "cell_type": "markdown",
   "metadata": {},
   "source": [
    "In der Spalte `gender` sind die Werte nicht einheitlich kodiert (`m`/`Male` und `f`/`Female`). Vereinheitlichen Sie diese Spalte, so dass `m` zu `Male` wird und `f` zu `Female`. Dazu können Sie untenstehendes Dictionary `gender_recoding` verwenden."
   ]
  },
  {
   "cell_type": "code",
   "execution_count": 50,
   "metadata": {
    "ExecuteTime": {
     "end_time": "2022-02-23T10:22:46.560709Z",
     "start_time": "2022-02-23T10:22:46.547710Z"
    }
   },
   "outputs": [
    {
     "data": {
      "text/plain": [
       "gender\n",
       "m         207\n",
       "f         187\n",
       "Male       57\n",
       "Female     46\n",
       "Name: count, dtype: int64"
      ]
     },
     "execution_count": 50,
     "metadata": {},
     "output_type": "execute_result"
    }
   ],
   "source": [
    "gender_recoding = {\n",
    "    \"f\": \"Female\",\n",
    "    \"m\": \"Male\"\n",
    "}\n",
    "df['gender'].value_counts()"
   ]
  },
  {
   "cell_type": "code",
   "execution_count": 51,
   "metadata": {
    "ExecuteTime": {
     "end_time": "2022-02-23T10:22:46.576709Z",
     "start_time": "2022-02-23T10:22:46.563710Z"
    }
   },
   "outputs": [],
   "source": [
    "# Ihre Lösung\n",
    "df['gender'] = df['gender'].map(gender_recoding).fillna(df['gender'])"
   ]
  },
  {
   "cell_type": "markdown",
   "metadata": {},
   "source": [
    "In der Spalte `education` ist der Ausbildungsgrad der Angestellten in `UG`/`PG` angegeben:"
   ]
  },
  {
   "cell_type": "code",
   "execution_count": 52,
   "metadata": {
    "ExecuteTime": {
     "end_time": "2022-02-23T10:26:58.432868Z",
     "start_time": "2022-02-23T10:26:58.417195Z"
    }
   },
   "outputs": [
    {
     "data": {
      "text/plain": [
       "array(['PG', 'UG'], dtype=object)"
      ]
     },
     "execution_count": 52,
     "metadata": {},
     "output_type": "execute_result"
    }
   ],
   "source": [
    "df[\"education\"].unique()"
   ]
  },
  {
   "cell_type": "markdown",
   "metadata": {},
   "source": [
    "Dies sind in Deutschland keine gebräuchlichen Abkürzungen, weshalb die Information u.U. nicht verständlich ist. Transformieren Sie die Spalte, so dass die Abkürzungen ausgeschrieben und somit verständlicher sind. Aktualisieren Sie außerdem die Datei `metadata.txt` und fügen Sie eine kurze Erklärung zu den beiden Ausprägungen hinzu."
   ]
  },
  {
   "cell_type": "code",
   "execution_count": 53,
   "metadata": {
    "ExecuteTime": {
     "end_time": "2022-02-23T10:22:46.608733Z",
     "start_time": "2022-02-23T10:22:46.594713Z"
    }
   },
   "outputs": [],
   "source": [
    "# Ihre Lösung\n",
    "\n",
    "edu_recoding = {\n",
    "    \"UG\": \"Undergrad\",\n",
    "    \"PG\": \"Postgrad\"\n",
    "}\n",
    "df['education'] = df['education'].map(edu_recoding).fillna(df['education'])"
   ]
  },
  {
   "cell_type": "markdown",
   "metadata": {},
   "source": [
    "## Plausibilitätschecks\n",
    "Es ist sinnvoll, einige Prüfungen bzgl. der Plausibilität der Daten vorzunhemen.\n",
    "\n",
    "Nehmen Sie an, einer Ihrer Plausibilitätschecks schlägt fehlt. Was sollten Sie dann tun?"
   ]
  },
  {
   "cell_type": "raw",
   "metadata": {},
   "source": [
    "Ihre Überlegung:"
   ]
  },
  {
   "cell_type": "markdown",
   "metadata": {},
   "source": [
    "Wir würden davon ausgehen, dass Personen frühestens ab 16 Jahren fest in einer Firma angestellt werden. Prüfen Sie deshalb, ob alle Personen mindestens 16 Jahre alt waren, als Sie bei der Firma begonnen haben (siehe `entry_date`). Gehen Sie dafür davon aus, dass der Datensatz am 01.01.2021 erstellt wurde (siehe Variable `created`)."
   ]
  },
  {
   "cell_type": "code",
   "execution_count": 54,
   "metadata": {
    "ExecuteTime": {
     "end_time": "2022-02-23T10:22:46.624711Z",
     "start_time": "2022-02-23T10:22:46.610711Z"
    }
   },
   "outputs": [],
   "source": [
    "from datetime import date\n",
    "created = date(2021, 1, 1)"
   ]
  },
  {
   "cell_type": "code",
   "execution_count": 55,
   "metadata": {
    "ExecuteTime": {
     "end_time": "2022-02-23T10:22:46.656710Z",
     "start_time": "2022-02-23T10:22:46.625711Z"
    }
   },
   "outputs": [
    {
     "data": {
      "text/plain": [
       "0"
      ]
     },
     "execution_count": 55,
     "metadata": {},
     "output_type": "execute_result"
    }
   ],
   "source": [
    "# Ihre Lösung\n",
    "df[['age','entry_date']]\n",
    "\n",
    "diff = created.year - df['entry_date'].dt.year\n",
    "\n",
    "len(df[df['age']- diff < 16])"
   ]
  },
  {
   "cell_type": "markdown",
   "metadata": {},
   "source": [
    "Die ID der Angestellten scheint mit ihrer Abteilung zusammenzuhängen. Betrachten wir bspw. den ersten Datensatz:"
   ]
  },
  {
   "cell_type": "code",
   "execution_count": 56,
   "metadata": {
    "ExecuteTime": {
     "end_time": "2022-02-23T10:22:46.672708Z",
     "start_time": "2022-02-23T10:22:46.658710Z"
    }
   },
   "outputs": [
    {
     "data": {
      "text/plain": [
       "emp_id          TECH1860\n",
       "department    Technology\n",
       "Name: 1, dtype: object"
      ]
     },
     "execution_count": 56,
     "metadata": {},
     "output_type": "execute_result"
    }
   ],
   "source": [
    "df.loc[1][[\"emp_id\", \"department\"]]"
   ]
  },
  {
   "cell_type": "markdown",
   "metadata": {
    "ExecuteTime": {
     "end_time": "2022-02-18T14:08:44.802043Z",
     "start_time": "2022-02-18T14:08:44.773231Z"
    }
   },
   "source": [
    "Die ersten Buchstaben beziehen sich auf die Abteilung. Wir gruppieren das Dataframe und schauen uns aus jeder Abteilung die `emp_id` des ersten Datensatzes an."
   ]
  },
  {
   "cell_type": "code",
   "execution_count": 57,
   "metadata": {
    "ExecuteTime": {
     "end_time": "2022-02-23T10:22:46.688710Z",
     "start_time": "2022-02-23T10:22:46.673709Z"
    }
   },
   "outputs": [
    {
     "data": {
      "text/plain": [
       "department\n",
       "HR              HR8270\n",
       "Marketing      MKT2685\n",
       "Purchasing     PUR7265\n",
       "Sales          SAL6191\n",
       "Technology    TECH1860\n",
       "Name: emp_id, dtype: object"
      ]
     },
     "execution_count": 57,
     "metadata": {},
     "output_type": "execute_result"
    }
   ],
   "source": [
    "df.groupby(\"department\").first()[\"emp_id\"]"
   ]
  },
  {
   "cell_type": "markdown",
   "metadata": {},
   "source": [
    "Wir gehen deshalb von folgender Zuordnung aus:"
   ]
  },
  {
   "cell_type": "code",
   "execution_count": 58,
   "metadata": {
    "ExecuteTime": {
     "end_time": "2022-02-23T10:22:46.704709Z",
     "start_time": "2022-02-23T10:22:46.689710Z"
    }
   },
   "outputs": [],
   "source": [
    "id_dept_mapping = {\n",
    "    \"HR\":\"HR\",\n",
    "    \"MKT\":\"Marketing\",\n",
    "    \"PUR\":\"Purchasing\",\n",
    "    \"SAL\":\"Sales\",\n",
    "    \"TECH\":\"Technology\"\n",
    "}"
   ]
  },
  {
   "cell_type": "markdown",
   "metadata": {},
   "source": [
    "Den Buchstaben folgt dann immer eine eindeutige Nummer, der Aufbau ist also \\<dept_id\\>\\<employee_number\\>.\n",
    "\n",
    "Wir wollen prüfen, ob dieses Muster für alle Angestellten konsistent ist. Dafür verwenden wir die Funktion `check_id`. Diese prüft mittels des oben angegebenen Dictionary `id_dept_mapping`, ob `dept_id` und die Abteilung zusammenpassen. Zur Extraktion der `dept_id` sollen Sie einen regulären Ausdruck erstellen. Prüfen Sie anschließend mithilfe der Funktion `check_id`, ob das Muster für alle Angestellten konsistent ist.\n",
    "\n",
    "*Hinweis: Sie können vom obigen Aufbau ausgehen, bei dem `dept_id` immer aus Buchstaben besteht, während `employee_number` immer Zahlen sein sollen.*"
   ]
  },
  {
   "cell_type": "code",
   "execution_count": 59,
   "metadata": {
    "ExecuteTime": {
     "end_time": "2022-02-23T10:22:46.720714Z",
     "start_time": "2022-02-23T10:22:46.706711Z"
    }
   },
   "outputs": [],
   "source": [
    "import re\n",
    "# Ihre Lösung\n",
    "regular_expression = \"^[A-Z]{2,4}\" # <- fügen Sie hier den entsprechenden regulären Ausdruck ein"
   ]
  },
  {
   "cell_type": "code",
   "execution_count": 60,
   "metadata": {
    "ExecuteTime": {
     "end_time": "2022-02-23T10:22:46.735715Z",
     "start_time": "2022-02-23T10:22:46.724712Z"
    }
   },
   "outputs": [],
   "source": [
    "def check_id(emp_id, department):\n",
    "    print(re.findall(regular_expression, emp_id))\n",
    "    dept_id = \"\".join(re.findall(regular_expression, emp_id))\n",
    "    return id_dept_mapping.get(dept_id) == department"
   ]
  },
  {
   "cell_type": "code",
   "execution_count": 61,
   "metadata": {
    "ExecuteTime": {
     "end_time": "2022-02-23T10:22:46.767710Z",
     "start_time": "2022-02-23T10:22:46.737712Z"
    }
   },
   "outputs": [
    {
     "name": "stdout",
     "output_type": "stream",
     "text": [
      "['HR']\n"
     ]
    },
    {
     "data": {
      "text/plain": [
       "False"
      ]
     },
     "execution_count": 61,
     "metadata": {},
     "output_type": "execute_result"
    }
   ],
   "source": [
    "# Ist der Check für alle Zeilen des Datensatzes erfolgreich?\n",
    "check_id('HR1860', 'Technology')"
   ]
  },
  {
   "cell_type": "markdown",
   "metadata": {},
   "source": [
    "## Fehlende Werte\n",
    "Oft kommt es vor, dass in Daten Werte fehlen. Dies kann unterschiedlichste Gründe haben, z.B. kann ein Wert bewusst weggelassen werden (bpsw. der Titel in einer Anrede) oder Daten können nicht korrekt übertragen werden. Für viele Analysen ist es jedoch wichtig, dass es keine fehlenden Werte gibt.\n",
    "\n",
    "Das Ersetzen von fehlenden Werten wird als *(Missing Value) Imputation* bezeichnet. Hierfür gibt es verschiedene Strategien:\n",
    "- Korrekten Wert ermitteln: Im besten Fall kann der korrekte Wert ermittelt werden, bspw. durch Rücksprache mit (Fach-)Expert\\*innen. Dies ist jedoch nur selten der Fall und häufig mit großem Aufwand verbunden.\n",
    "- Zeilen mit fehlenden Werten löschen: Fehlen wenige, einzelne Werte, kann es u.U. sinnvoll sein, die entsprechenden Zeilen zu löschen. Hierbei muss jedoch darauf geachtet werden, dass nicht zu viele Informationen verloren gehen.\n",
    "- Spalte mit fehlenden Werten löschen: Fehlen in einer Spalte so viele Werte, dass diese keine Aussagekraft mehr hat, kann es sinnvoll sein, die gesamte Spalte zu entfernen.\n",
    "- Neuen Wert einsetzen:\n",
    "    - Neue Kategorie: Bei nominalen Werten kann eine neue Kategorie (z.B. \"Unbekannt\") eingeführt werden.\n",
    "    - Mode Imputation: Die fehlenden Werte werden durch den am häufigst vorkommenden Wert ersetzt.\n",
    "    - Mean Imputation: Die fehlenden Werte werden durch den Mittelwert ersetzt.\n",
    "    - Median Imputation: Die fehlenden Werte werden durch den Median ersetzt.\n",
    "    - Mode, Mean und Median Imputation können auch basierend auf den Werten einer anderen Spalte vorgenommen werden (in unserem Fall z.B. für zufriedene und unzufriedene Angestellte getrennt).\n",
    "    - Imputation mit 0 oder einem anderen konstanten Wert: Die fehlenden Werte werden durch eine 0 oder eine andere, je nach Anwendungsfall passende, Konstante ersetzt.\n",
    "    - Modell-basierte Imputation: Es wird ein Machine-Learning-Modell trainiert, das die fehlenden Werte vorhersagt.\n",
    "    - Zusätzlich zu den genannten Strategien ist es möglich, ein neues Feature zu erstellen, das kennzeichnet, ob eine Imputation vorgenommen wurde (=1) oder nicht (=0)."
   ]
  },
  {
   "cell_type": "markdown",
   "metadata": {},
   "source": [
    "Wir bleiben bei der Spalte `gender`, hier gibt es fehlende Werte."
   ]
  },
  {
   "cell_type": "code",
   "execution_count": 62,
   "metadata": {
    "ExecuteTime": {
     "end_time": "2022-02-23T10:22:46.796381Z",
     "start_time": "2022-02-23T10:22:46.770711Z"
    }
   },
   "outputs": [
    {
     "data": {
      "text/plain": [
       "3"
      ]
     },
     "execution_count": 62,
     "metadata": {},
     "output_type": "execute_result"
    }
   ],
   "source": [
    "df[\"gender\"].isna().sum()"
   ]
  },
  {
   "cell_type": "markdown",
   "metadata": {},
   "source": [
    "Wählen Sie eine geeignete Strategie zur *Imputation*, also der Ersetzung der fehlenden Werte. Begründen Sie Ihre Entscheidung!"
   ]
  },
  {
   "cell_type": "raw",
   "metadata": {},
   "source": [
    "Ihre Begründung:"
   ]
  },
  {
   "cell_type": "code",
   "execution_count": 63,
   "metadata": {
    "ExecuteTime": {
     "end_time": "2022-02-23T10:22:46.812008Z",
     "start_time": "2022-02-23T10:22:46.796381Z"
    }
   },
   "outputs": [],
   "source": [
    "# Ihre Lösung\n",
    "df[\"gender\"] = df[\"gender\"].fillna(\"Unknown\")\n"
   ]
  },
  {
   "cell_type": "markdown",
   "metadata": {},
   "source": [
    "Auch in der Spalte `last_raise` gibt es fehlende Werte."
   ]
  },
  {
   "cell_type": "code",
   "execution_count": 64,
   "metadata": {
    "ExecuteTime": {
     "end_time": "2022-02-23T10:22:46.827632Z",
     "start_time": "2022-02-23T10:22:46.812008Z"
    }
   },
   "outputs": [
    {
     "data": {
      "text/plain": [
       "474"
      ]
     },
     "execution_count": 64,
     "metadata": {},
     "output_type": "execute_result"
    }
   ],
   "source": [
    "df[\"last_raise\"].isna().sum()"
   ]
  },
  {
   "cell_type": "markdown",
   "metadata": {},
   "source": [
    "Entscheiden Sie sich hier ebenfalls für eine geeignete Imputation-Strategie und begründen Sie Ihre Wahl."
   ]
  },
  {
   "cell_type": "code",
   "execution_count": 65,
   "metadata": {},
   "outputs": [
    {
     "data": {
      "text/plain": [
       "Timestamp('2004-10-30 00:00:00')"
      ]
     },
     "execution_count": 65,
     "metadata": {},
     "output_type": "execute_result"
    }
   ],
   "source": [
    "# Ihre Analysen\n",
    "\n",
    "df[~df[\"last_raise\"].isnull()][\"entry_date\"].max()\n"
   ]
  },
  {
   "cell_type": "code",
   "execution_count": 66,
   "metadata": {},
   "outputs": [
    {
     "data": {
      "text/plain": [
       "Timestamp('2004-11-13 00:00:00')"
      ]
     },
     "execution_count": 66,
     "metadata": {},
     "output_type": "execute_result"
    }
   ],
   "source": [
    "df[df[\"last_raise\"].isnull()][\"entry_date\"].min()"
   ]
  },
  {
   "cell_type": "code",
   "execution_count": 67,
   "metadata": {},
   "outputs": [
    {
     "data": {
      "text/plain": [
       "Timestamp('2004-11-13 00:00:00')"
      ]
     },
     "execution_count": 67,
     "metadata": {},
     "output_type": "execute_result"
    }
   ],
   "source": [
    "df[df[\"last_raise\"].isnull()][\"entry_date\"].min()\n"
   ]
  },
  {
   "cell_type": "code",
   "execution_count": 68,
   "metadata": {},
   "outputs": [
    {
     "data": {
      "text/plain": [
       "Timestamp('2020-12-17 00:00:00')"
      ]
     },
     "execution_count": 68,
     "metadata": {},
     "output_type": "execute_result"
    }
   ],
   "source": [
    "df[\"entry_date\"].max()"
   ]
  },
  {
   "cell_type": "raw",
   "metadata": {},
   "source": [
    "Ihre Begründung:"
   ]
  },
  {
   "cell_type": "code",
   "execution_count": 69,
   "metadata": {
    "ExecuteTime": {
     "end_time": "2022-02-23T10:22:46.951610Z",
     "start_time": "2022-02-23T10:22:46.929424Z"
    }
   },
   "outputs": [],
   "source": [
    "# Ihre Lösung\n",
    "df = df.drop(\"last_raise\", axis=1)"
   ]
  },
  {
   "cell_type": "markdown",
   "metadata": {},
   "source": [
    "Eine weitere Spalte mit fehlenden Werten ist `rating`."
   ]
  },
  {
   "cell_type": "code",
   "execution_count": 70,
   "metadata": {
    "ExecuteTime": {
     "end_time": "2022-02-23T10:22:46.967235Z",
     "start_time": "2022-02-23T10:22:46.951610Z"
    }
   },
   "outputs": [
    {
     "data": {
      "text/plain": [
       "29"
      ]
     },
     "execution_count": 70,
     "metadata": {},
     "output_type": "execute_result"
    }
   ],
   "source": [
    "df[\"rating\"].isna().sum()"
   ]
  },
  {
   "cell_type": "markdown",
   "metadata": {},
   "source": [
    "Entscheiden Sie sich hier ebenfalls für eine geeignete Imputation-Strategie und begründen Sie Ihre Wahl."
   ]
  },
  {
   "cell_type": "code",
   "execution_count": 71,
   "metadata": {
    "ExecuteTime": {
     "end_time": "2022-02-23T10:22:46.998487Z",
     "start_time": "2022-02-23T10:22:46.967235Z"
    }
   },
   "outputs": [
    {
     "data": {
      "text/html": [
       "<div>\n",
       "<style scoped>\n",
       "    .dataframe tbody tr th:only-of-type {\n",
       "        vertical-align: middle;\n",
       "    }\n",
       "\n",
       "    .dataframe tbody tr th {\n",
       "        vertical-align: top;\n",
       "    }\n",
       "\n",
       "    .dataframe thead th {\n",
       "        text-align: right;\n",
       "    }\n",
       "</style>\n",
       "<table border=\"1\" class=\"dataframe\">\n",
       "  <thead>\n",
       "    <tr style=\"text-align: right;\">\n",
       "      <th></th>\n",
       "      <th>Unnamed: 0</th>\n",
       "      <th>emp_id</th>\n",
       "      <th>age</th>\n",
       "      <th>department</th>\n",
       "      <th>education</th>\n",
       "      <th>recruitment_type</th>\n",
       "      <th>job_level</th>\n",
       "      <th>rating</th>\n",
       "      <th>awards</th>\n",
       "      <th>certifications</th>\n",
       "      <th>salary</th>\n",
       "      <th>gender</th>\n",
       "      <th>entry_date</th>\n",
       "      <th>satisfied</th>\n",
       "    </tr>\n",
       "  </thead>\n",
       "  <tbody>\n",
       "    <tr>\n",
       "      <th>61</th>\n",
       "      <td>61</td>\n",
       "      <td>SAL8629</td>\n",
       "      <td>53</td>\n",
       "      <td>Sales</td>\n",
       "      <td>Postgrad</td>\n",
       "      <td>Recruitment Agency</td>\n",
       "      <td>1</td>\n",
       "      <td>NaN</td>\n",
       "      <td>6</td>\n",
       "      <td>1</td>\n",
       "      <td>21668.4</td>\n",
       "      <td>Male</td>\n",
       "      <td>2020-11-26</td>\n",
       "      <td>1</td>\n",
       "    </tr>\n",
       "    <tr>\n",
       "      <th>67</th>\n",
       "      <td>67</td>\n",
       "      <td>HR8916</td>\n",
       "      <td>28</td>\n",
       "      <td>HR</td>\n",
       "      <td>Postgrad</td>\n",
       "      <td>Referral</td>\n",
       "      <td>1</td>\n",
       "      <td>NaN</td>\n",
       "      <td>7</td>\n",
       "      <td>1</td>\n",
       "      <td>21668.4</td>\n",
       "      <td>Female</td>\n",
       "      <td>2020-09-10</td>\n",
       "      <td>0</td>\n",
       "    </tr>\n",
       "    <tr>\n",
       "      <th>69</th>\n",
       "      <td>69</td>\n",
       "      <td>HR1878</td>\n",
       "      <td>27</td>\n",
       "      <td>HR</td>\n",
       "      <td>Postgrad</td>\n",
       "      <td>Walk-in</td>\n",
       "      <td>1</td>\n",
       "      <td>NaN</td>\n",
       "      <td>5</td>\n",
       "      <td>0</td>\n",
       "      <td>21668.4</td>\n",
       "      <td>Male</td>\n",
       "      <td>2020-06-01</td>\n",
       "      <td>1</td>\n",
       "    </tr>\n",
       "    <tr>\n",
       "      <th>70</th>\n",
       "      <td>70</td>\n",
       "      <td>HR5887</td>\n",
       "      <td>30</td>\n",
       "      <td>HR</td>\n",
       "      <td>Undergrad</td>\n",
       "      <td>Recruitment Agency</td>\n",
       "      <td>1</td>\n",
       "      <td>NaN</td>\n",
       "      <td>0</td>\n",
       "      <td>0</td>\n",
       "      <td>21668.4</td>\n",
       "      <td>Female</td>\n",
       "      <td>2020-05-30</td>\n",
       "      <td>0</td>\n",
       "    </tr>\n",
       "    <tr>\n",
       "      <th>117</th>\n",
       "      <td>117</td>\n",
       "      <td>TECH3790</td>\n",
       "      <td>45</td>\n",
       "      <td>Technology</td>\n",
       "      <td>Undergrad</td>\n",
       "      <td>On-Campus</td>\n",
       "      <td>5</td>\n",
       "      <td>NaN</td>\n",
       "      <td>4</td>\n",
       "      <td>0</td>\n",
       "      <td>78075.0</td>\n",
       "      <td>Male</td>\n",
       "      <td>2020-10-18</td>\n",
       "      <td>1</td>\n",
       "    </tr>\n",
       "    <tr>\n",
       "      <th>123</th>\n",
       "      <td>123</td>\n",
       "      <td>MKT8574</td>\n",
       "      <td>39</td>\n",
       "      <td>Marketing</td>\n",
       "      <td>Undergrad</td>\n",
       "      <td>Recruitment Agency</td>\n",
       "      <td>5</td>\n",
       "      <td>NaN</td>\n",
       "      <td>3</td>\n",
       "      <td>1</td>\n",
       "      <td>78075.0</td>\n",
       "      <td>Male</td>\n",
       "      <td>2020-01-10</td>\n",
       "      <td>0</td>\n",
       "    </tr>\n",
       "    <tr>\n",
       "      <th>145</th>\n",
       "      <td>145</td>\n",
       "      <td>HR6530</td>\n",
       "      <td>49</td>\n",
       "      <td>HR</td>\n",
       "      <td>Undergrad</td>\n",
       "      <td>Referral</td>\n",
       "      <td>2</td>\n",
       "      <td>NaN</td>\n",
       "      <td>9</td>\n",
       "      <td>1</td>\n",
       "      <td>26824.5</td>\n",
       "      <td>Male</td>\n",
       "      <td>2020-10-10</td>\n",
       "      <td>0</td>\n",
       "    </tr>\n",
       "    <tr>\n",
       "      <th>184</th>\n",
       "      <td>184</td>\n",
       "      <td>HR8777</td>\n",
       "      <td>44</td>\n",
       "      <td>HR</td>\n",
       "      <td>Undergrad</td>\n",
       "      <td>On-Campus</td>\n",
       "      <td>5</td>\n",
       "      <td>NaN</td>\n",
       "      <td>3</td>\n",
       "      <td>0</td>\n",
       "      <td>78075.0</td>\n",
       "      <td>Male</td>\n",
       "      <td>2020-03-19</td>\n",
       "      <td>0</td>\n",
       "    </tr>\n",
       "    <tr>\n",
       "      <th>222</th>\n",
       "      <td>222</td>\n",
       "      <td>PUR8400</td>\n",
       "      <td>48</td>\n",
       "      <td>Purchasing</td>\n",
       "      <td>Postgrad</td>\n",
       "      <td>Recruitment Agency</td>\n",
       "      <td>5</td>\n",
       "      <td>NaN</td>\n",
       "      <td>9</td>\n",
       "      <td>1</td>\n",
       "      <td>78075.0</td>\n",
       "      <td>Male</td>\n",
       "      <td>2020-05-14</td>\n",
       "      <td>1</td>\n",
       "    </tr>\n",
       "    <tr>\n",
       "      <th>236</th>\n",
       "      <td>236</td>\n",
       "      <td>TECH3200</td>\n",
       "      <td>45</td>\n",
       "      <td>Technology</td>\n",
       "      <td>Postgrad</td>\n",
       "      <td>Referral</td>\n",
       "      <td>3</td>\n",
       "      <td>NaN</td>\n",
       "      <td>0</td>\n",
       "      <td>0</td>\n",
       "      <td>38177.1</td>\n",
       "      <td>Male</td>\n",
       "      <td>2020-04-06</td>\n",
       "      <td>1</td>\n",
       "    </tr>\n",
       "    <tr>\n",
       "      <th>283</th>\n",
       "      <td>283</td>\n",
       "      <td>MKT1190</td>\n",
       "      <td>49</td>\n",
       "      <td>Marketing</td>\n",
       "      <td>Undergrad</td>\n",
       "      <td>Recruitment Agency</td>\n",
       "      <td>1</td>\n",
       "      <td>NaN</td>\n",
       "      <td>1</td>\n",
       "      <td>0</td>\n",
       "      <td>21668.4</td>\n",
       "      <td>Male</td>\n",
       "      <td>2020-12-16</td>\n",
       "      <td>1</td>\n",
       "    </tr>\n",
       "    <tr>\n",
       "      <th>323</th>\n",
       "      <td>323</td>\n",
       "      <td>TECH3368</td>\n",
       "      <td>29</td>\n",
       "      <td>Technology</td>\n",
       "      <td>Postgrad</td>\n",
       "      <td>Recruitment Agency</td>\n",
       "      <td>1</td>\n",
       "      <td>NaN</td>\n",
       "      <td>4</td>\n",
       "      <td>0</td>\n",
       "      <td>21668.4</td>\n",
       "      <td>Male</td>\n",
       "      <td>2020-10-27</td>\n",
       "      <td>0</td>\n",
       "    </tr>\n",
       "    <tr>\n",
       "      <th>343</th>\n",
       "      <td>343</td>\n",
       "      <td>MKT4051</td>\n",
       "      <td>26</td>\n",
       "      <td>Marketing</td>\n",
       "      <td>Undergrad</td>\n",
       "      <td>Referral</td>\n",
       "      <td>3</td>\n",
       "      <td>NaN</td>\n",
       "      <td>3</td>\n",
       "      <td>0</td>\n",
       "      <td>38177.1</td>\n",
       "      <td>Female</td>\n",
       "      <td>2020-11-09</td>\n",
       "      <td>1</td>\n",
       "    </tr>\n",
       "    <tr>\n",
       "      <th>356</th>\n",
       "      <td>356</td>\n",
       "      <td>HR1635</td>\n",
       "      <td>53</td>\n",
       "      <td>HR</td>\n",
       "      <td>Undergrad</td>\n",
       "      <td>On-Campus</td>\n",
       "      <td>1</td>\n",
       "      <td>NaN</td>\n",
       "      <td>3</td>\n",
       "      <td>1</td>\n",
       "      <td>21668.4</td>\n",
       "      <td>Male</td>\n",
       "      <td>2020-12-04</td>\n",
       "      <td>0</td>\n",
       "    </tr>\n",
       "    <tr>\n",
       "      <th>357</th>\n",
       "      <td>357</td>\n",
       "      <td>HR2693</td>\n",
       "      <td>28</td>\n",
       "      <td>HR</td>\n",
       "      <td>Postgrad</td>\n",
       "      <td>Recruitment Agency</td>\n",
       "      <td>3</td>\n",
       "      <td>NaN</td>\n",
       "      <td>6</td>\n",
       "      <td>1</td>\n",
       "      <td>38177.1</td>\n",
       "      <td>Female</td>\n",
       "      <td>2020-04-15</td>\n",
       "      <td>1</td>\n",
       "    </tr>\n",
       "    <tr>\n",
       "      <th>361</th>\n",
       "      <td>361</td>\n",
       "      <td>HR6177</td>\n",
       "      <td>25</td>\n",
       "      <td>HR</td>\n",
       "      <td>Undergrad</td>\n",
       "      <td>On-Campus</td>\n",
       "      <td>1</td>\n",
       "      <td>NaN</td>\n",
       "      <td>8</td>\n",
       "      <td>0</td>\n",
       "      <td>21668.4</td>\n",
       "      <td>Female</td>\n",
       "      <td>2020-11-16</td>\n",
       "      <td>1</td>\n",
       "    </tr>\n",
       "    <tr>\n",
       "      <th>365</th>\n",
       "      <td>365</td>\n",
       "      <td>TECH3838</td>\n",
       "      <td>35</td>\n",
       "      <td>Technology</td>\n",
       "      <td>Undergrad</td>\n",
       "      <td>Recruitment Agency</td>\n",
       "      <td>5</td>\n",
       "      <td>NaN</td>\n",
       "      <td>4</td>\n",
       "      <td>1</td>\n",
       "      <td>78075.0</td>\n",
       "      <td>Male</td>\n",
       "      <td>2020-05-30</td>\n",
       "      <td>0</td>\n",
       "    </tr>\n",
       "    <tr>\n",
       "      <th>369</th>\n",
       "      <td>369</td>\n",
       "      <td>TECH2664</td>\n",
       "      <td>51</td>\n",
       "      <td>Technology</td>\n",
       "      <td>Undergrad</td>\n",
       "      <td>On-Campus</td>\n",
       "      <td>2</td>\n",
       "      <td>NaN</td>\n",
       "      <td>6</td>\n",
       "      <td>0</td>\n",
       "      <td>26824.5</td>\n",
       "      <td>Male</td>\n",
       "      <td>2020-02-21</td>\n",
       "      <td>1</td>\n",
       "    </tr>\n",
       "    <tr>\n",
       "      <th>388</th>\n",
       "      <td>388</td>\n",
       "      <td>HR6188</td>\n",
       "      <td>46</td>\n",
       "      <td>HR</td>\n",
       "      <td>Postgrad</td>\n",
       "      <td>Referral</td>\n",
       "      <td>1</td>\n",
       "      <td>NaN</td>\n",
       "      <td>2</td>\n",
       "      <td>0</td>\n",
       "      <td>21668.4</td>\n",
       "      <td>Female</td>\n",
       "      <td>2020-04-11</td>\n",
       "      <td>1</td>\n",
       "    </tr>\n",
       "    <tr>\n",
       "      <th>393</th>\n",
       "      <td>393</td>\n",
       "      <td>MKT8421</td>\n",
       "      <td>29</td>\n",
       "      <td>Marketing</td>\n",
       "      <td>Postgrad</td>\n",
       "      <td>Recruitment Agency</td>\n",
       "      <td>4</td>\n",
       "      <td>NaN</td>\n",
       "      <td>7</td>\n",
       "      <td>0</td>\n",
       "      <td>59143.5</td>\n",
       "      <td>Female</td>\n",
       "      <td>2020-04-05</td>\n",
       "      <td>1</td>\n",
       "    </tr>\n",
       "    <tr>\n",
       "      <th>398</th>\n",
       "      <td>398</td>\n",
       "      <td>HR8390</td>\n",
       "      <td>46</td>\n",
       "      <td>HR</td>\n",
       "      <td>Postgrad</td>\n",
       "      <td>Recruitment Agency</td>\n",
       "      <td>3</td>\n",
       "      <td>NaN</td>\n",
       "      <td>7</td>\n",
       "      <td>0</td>\n",
       "      <td>38177.1</td>\n",
       "      <td>Female</td>\n",
       "      <td>2020-11-22</td>\n",
       "      <td>0</td>\n",
       "    </tr>\n",
       "    <tr>\n",
       "      <th>404</th>\n",
       "      <td>404</td>\n",
       "      <td>MKT6878</td>\n",
       "      <td>29</td>\n",
       "      <td>Marketing</td>\n",
       "      <td>Postgrad</td>\n",
       "      <td>Recruitment Agency</td>\n",
       "      <td>5</td>\n",
       "      <td>NaN</td>\n",
       "      <td>8</td>\n",
       "      <td>1</td>\n",
       "      <td>78075.0</td>\n",
       "      <td>Male</td>\n",
       "      <td>2020-02-11</td>\n",
       "      <td>1</td>\n",
       "    </tr>\n",
       "    <tr>\n",
       "      <th>416</th>\n",
       "      <td>416</td>\n",
       "      <td>PUR6536</td>\n",
       "      <td>41</td>\n",
       "      <td>Purchasing</td>\n",
       "      <td>Undergrad</td>\n",
       "      <td>Referral</td>\n",
       "      <td>5</td>\n",
       "      <td>NaN</td>\n",
       "      <td>0</td>\n",
       "      <td>1</td>\n",
       "      <td>78075.0</td>\n",
       "      <td>Male</td>\n",
       "      <td>2020-12-17</td>\n",
       "      <td>1</td>\n",
       "    </tr>\n",
       "    <tr>\n",
       "      <th>440</th>\n",
       "      <td>440</td>\n",
       "      <td>MKT8164</td>\n",
       "      <td>43</td>\n",
       "      <td>Marketing</td>\n",
       "      <td>Postgrad</td>\n",
       "      <td>Referral</td>\n",
       "      <td>2</td>\n",
       "      <td>NaN</td>\n",
       "      <td>3</td>\n",
       "      <td>1</td>\n",
       "      <td>26824.5</td>\n",
       "      <td>Male</td>\n",
       "      <td>2020-04-26</td>\n",
       "      <td>0</td>\n",
       "    </tr>\n",
       "    <tr>\n",
       "      <th>451</th>\n",
       "      <td>451</td>\n",
       "      <td>MKT3143</td>\n",
       "      <td>40</td>\n",
       "      <td>Marketing</td>\n",
       "      <td>Postgrad</td>\n",
       "      <td>Referral</td>\n",
       "      <td>2</td>\n",
       "      <td>NaN</td>\n",
       "      <td>3</td>\n",
       "      <td>1</td>\n",
       "      <td>26824.5</td>\n",
       "      <td>Female</td>\n",
       "      <td>2020-02-14</td>\n",
       "      <td>1</td>\n",
       "    </tr>\n",
       "    <tr>\n",
       "      <th>458</th>\n",
       "      <td>458</td>\n",
       "      <td>SAL5968</td>\n",
       "      <td>46</td>\n",
       "      <td>Sales</td>\n",
       "      <td>Postgrad</td>\n",
       "      <td>On-Campus</td>\n",
       "      <td>2</td>\n",
       "      <td>NaN</td>\n",
       "      <td>9</td>\n",
       "      <td>1</td>\n",
       "      <td>26824.5</td>\n",
       "      <td>Male</td>\n",
       "      <td>2020-06-03</td>\n",
       "      <td>1</td>\n",
       "    </tr>\n",
       "    <tr>\n",
       "      <th>483</th>\n",
       "      <td>483</td>\n",
       "      <td>PUR4636</td>\n",
       "      <td>27</td>\n",
       "      <td>Purchasing</td>\n",
       "      <td>Postgrad</td>\n",
       "      <td>Recruitment Agency</td>\n",
       "      <td>4</td>\n",
       "      <td>NaN</td>\n",
       "      <td>1</td>\n",
       "      <td>0</td>\n",
       "      <td>59143.5</td>\n",
       "      <td>Female</td>\n",
       "      <td>2020-07-22</td>\n",
       "      <td>0</td>\n",
       "    </tr>\n",
       "    <tr>\n",
       "      <th>487</th>\n",
       "      <td>487</td>\n",
       "      <td>TECH8860</td>\n",
       "      <td>51</td>\n",
       "      <td>Technology</td>\n",
       "      <td>Undergrad</td>\n",
       "      <td>On-Campus</td>\n",
       "      <td>5</td>\n",
       "      <td>NaN</td>\n",
       "      <td>8</td>\n",
       "      <td>0</td>\n",
       "      <td>78075.0</td>\n",
       "      <td>Male</td>\n",
       "      <td>2020-02-25</td>\n",
       "      <td>1</td>\n",
       "    </tr>\n",
       "    <tr>\n",
       "      <th>497</th>\n",
       "      <td>497</td>\n",
       "      <td>MKT7801</td>\n",
       "      <td>34</td>\n",
       "      <td>Marketing</td>\n",
       "      <td>Postgrad</td>\n",
       "      <td>On-Campus</td>\n",
       "      <td>1</td>\n",
       "      <td>NaN</td>\n",
       "      <td>2</td>\n",
       "      <td>0</td>\n",
       "      <td>21668.4</td>\n",
       "      <td>Male</td>\n",
       "      <td>2020-10-20</td>\n",
       "      <td>1</td>\n",
       "    </tr>\n",
       "  </tbody>\n",
       "</table>\n",
       "</div>"
      ],
      "text/plain": [
       "     Unnamed: 0    emp_id  age  department  education    recruitment_type   \n",
       "61           61   SAL8629   53       Sales   Postgrad  Recruitment Agency  \\\n",
       "67           67    HR8916   28          HR   Postgrad            Referral   \n",
       "69           69    HR1878   27          HR   Postgrad             Walk-in   \n",
       "70           70    HR5887   30          HR  Undergrad  Recruitment Agency   \n",
       "117         117  TECH3790   45  Technology  Undergrad           On-Campus   \n",
       "123         123   MKT8574   39   Marketing  Undergrad  Recruitment Agency   \n",
       "145         145    HR6530   49          HR  Undergrad            Referral   \n",
       "184         184    HR8777   44          HR  Undergrad           On-Campus   \n",
       "222         222   PUR8400   48  Purchasing   Postgrad  Recruitment Agency   \n",
       "236         236  TECH3200   45  Technology   Postgrad            Referral   \n",
       "283         283   MKT1190   49   Marketing  Undergrad  Recruitment Agency   \n",
       "323         323  TECH3368   29  Technology   Postgrad  Recruitment Agency   \n",
       "343         343   MKT4051   26   Marketing  Undergrad            Referral   \n",
       "356         356    HR1635   53          HR  Undergrad           On-Campus   \n",
       "357         357    HR2693   28          HR   Postgrad  Recruitment Agency   \n",
       "361         361    HR6177   25          HR  Undergrad           On-Campus   \n",
       "365         365  TECH3838   35  Technology  Undergrad  Recruitment Agency   \n",
       "369         369  TECH2664   51  Technology  Undergrad           On-Campus   \n",
       "388         388    HR6188   46          HR   Postgrad            Referral   \n",
       "393         393   MKT8421   29   Marketing   Postgrad  Recruitment Agency   \n",
       "398         398    HR8390   46          HR   Postgrad  Recruitment Agency   \n",
       "404         404   MKT6878   29   Marketing   Postgrad  Recruitment Agency   \n",
       "416         416   PUR6536   41  Purchasing  Undergrad            Referral   \n",
       "440         440   MKT8164   43   Marketing   Postgrad            Referral   \n",
       "451         451   MKT3143   40   Marketing   Postgrad            Referral   \n",
       "458         458   SAL5968   46       Sales   Postgrad           On-Campus   \n",
       "483         483   PUR4636   27  Purchasing   Postgrad  Recruitment Agency   \n",
       "487         487  TECH8860   51  Technology  Undergrad           On-Campus   \n",
       "497         497   MKT7801   34   Marketing   Postgrad           On-Campus   \n",
       "\n",
       "     job_level  rating  awards  certifications   salary  gender entry_date   \n",
       "61           1     NaN       6               1  21668.4    Male 2020-11-26  \\\n",
       "67           1     NaN       7               1  21668.4  Female 2020-09-10   \n",
       "69           1     NaN       5               0  21668.4    Male 2020-06-01   \n",
       "70           1     NaN       0               0  21668.4  Female 2020-05-30   \n",
       "117          5     NaN       4               0  78075.0    Male 2020-10-18   \n",
       "123          5     NaN       3               1  78075.0    Male 2020-01-10   \n",
       "145          2     NaN       9               1  26824.5    Male 2020-10-10   \n",
       "184          5     NaN       3               0  78075.0    Male 2020-03-19   \n",
       "222          5     NaN       9               1  78075.0    Male 2020-05-14   \n",
       "236          3     NaN       0               0  38177.1    Male 2020-04-06   \n",
       "283          1     NaN       1               0  21668.4    Male 2020-12-16   \n",
       "323          1     NaN       4               0  21668.4    Male 2020-10-27   \n",
       "343          3     NaN       3               0  38177.1  Female 2020-11-09   \n",
       "356          1     NaN       3               1  21668.4    Male 2020-12-04   \n",
       "357          3     NaN       6               1  38177.1  Female 2020-04-15   \n",
       "361          1     NaN       8               0  21668.4  Female 2020-11-16   \n",
       "365          5     NaN       4               1  78075.0    Male 2020-05-30   \n",
       "369          2     NaN       6               0  26824.5    Male 2020-02-21   \n",
       "388          1     NaN       2               0  21668.4  Female 2020-04-11   \n",
       "393          4     NaN       7               0  59143.5  Female 2020-04-05   \n",
       "398          3     NaN       7               0  38177.1  Female 2020-11-22   \n",
       "404          5     NaN       8               1  78075.0    Male 2020-02-11   \n",
       "416          5     NaN       0               1  78075.0    Male 2020-12-17   \n",
       "440          2     NaN       3               1  26824.5    Male 2020-04-26   \n",
       "451          2     NaN       3               1  26824.5  Female 2020-02-14   \n",
       "458          2     NaN       9               1  26824.5    Male 2020-06-03   \n",
       "483          4     NaN       1               0  59143.5  Female 2020-07-22   \n",
       "487          5     NaN       8               0  78075.0    Male 2020-02-25   \n",
       "497          1     NaN       2               0  21668.4    Male 2020-10-20   \n",
       "\n",
       "     satisfied  \n",
       "61           1  \n",
       "67           0  \n",
       "69           1  \n",
       "70           0  \n",
       "117          1  \n",
       "123          0  \n",
       "145          0  \n",
       "184          0  \n",
       "222          1  \n",
       "236          1  \n",
       "283          1  \n",
       "323          0  \n",
       "343          1  \n",
       "356          0  \n",
       "357          1  \n",
       "361          1  \n",
       "365          0  \n",
       "369          1  \n",
       "388          1  \n",
       "393          1  \n",
       "398          0  \n",
       "404          1  \n",
       "416          1  \n",
       "440          0  \n",
       "451          1  \n",
       "458          1  \n",
       "483          0  \n",
       "487          1  \n",
       "497          1  "
      ]
     },
     "execution_count": 71,
     "metadata": {},
     "output_type": "execute_result"
    }
   ],
   "source": [
    "# Ihre Analysen\n",
    "df[df[\"rating\"].isna()]"
   ]
  },
  {
   "cell_type": "raw",
   "metadata": {},
   "source": [
    "Ihre Begründung:"
   ]
  },
  {
   "cell_type": "code",
   "execution_count": 72,
   "metadata": {
    "ExecuteTime": {
     "end_time": "2022-02-23T10:22:47.014112Z",
     "start_time": "2022-02-23T10:22:46.998487Z"
    }
   },
   "outputs": [],
   "source": [
    "# Ihre Lösung\n",
    "df[\"rating\"] = df[\"rating\"].fillna(\"Unavailable\")\n"
   ]
  },
  {
   "cell_type": "markdown",
   "metadata": {},
   "source": [
    "## Ausreißer"
   ]
  },
  {
   "cell_type": "markdown",
   "metadata": {},
   "source": [
    "Betrachten wir die Histogramme für die Spalten `awards` und `certifications`:"
   ]
  },
  {
   "cell_type": "code",
   "execution_count": 73,
   "metadata": {
    "ExecuteTime": {
     "end_time": "2022-02-23T10:22:47.615623Z",
     "start_time": "2022-02-23T10:22:47.014112Z"
    }
   },
   "outputs": [
    {
     "data": {
      "image/png": "[encoded data removed]",
      "text/plain": [
       "<Figure size 640x480 with 1 Axes>"
      ]
     },
     "metadata": {},
     "output_type": "display_data"
    },
    {
     "data": {
      "image/png": "[encoded data removed]",
      "text/plain": [
       "<Figure size 640x480 with 1 Axes>"
      ]
     },
     "metadata": {},
     "output_type": "display_data"
    }
   ],
   "source": [
    "for col in [\"awards\", \"certifications\"]:\n",
    "    df.hist(col)"
   ]
  },
  {
   "cell_type": "markdown",
   "metadata": {},
   "source": [
    "In diesen beiden Spalten scheint es Ausreißer in Werten zu geben."
   ]
  },
  {
   "cell_type": "markdown",
   "metadata": {},
   "source": [
    "Betrachten wir zunächst die Spalte `awards`. Identifizieren Sie die Zeile, in der der Ausreißer vorkommt, und überlegen Sie sich eine geeignete Strategie, um mit diesem Wert umzugehen."
   ]
  },
  {
   "cell_type": "code",
   "execution_count": 75,
   "metadata": {
    "ExecuteTime": {
     "end_time": "2022-02-23T10:22:47.631652Z",
     "start_time": "2022-02-23T10:22:47.618619Z"
    }
   },
   "outputs": [
    {
     "data": {
      "text/html": [
       "<div>\n",
       "<style scoped>\n",
       "    .dataframe tbody tr th:only-of-type {\n",
       "        vertical-align: middle;\n",
       "    }\n",
       "\n",
       "    .dataframe tbody tr th {\n",
       "        vertical-align: top;\n",
       "    }\n",
       "\n",
       "    .dataframe thead th {\n",
       "        text-align: right;\n",
       "    }\n",
       "</style>\n",
       "<table border=\"1\" class=\"dataframe\">\n",
       "  <thead>\n",
       "    <tr style=\"text-align: right;\">\n",
       "      <th></th>\n",
       "      <th>Unnamed: 0</th>\n",
       "      <th>emp_id</th>\n",
       "      <th>age</th>\n",
       "      <th>department</th>\n",
       "      <th>education</th>\n",
       "      <th>recruitment_type</th>\n",
       "      <th>job_level</th>\n",
       "      <th>rating</th>\n",
       "      <th>awards</th>\n",
       "      <th>certifications</th>\n",
       "      <th>salary</th>\n",
       "      <th>gender</th>\n",
       "      <th>entry_date</th>\n",
       "      <th>satisfied</th>\n",
       "    </tr>\n",
       "  </thead>\n",
       "  <tbody>\n",
       "    <tr>\n",
       "      <th>233</th>\n",
       "      <td>233</td>\n",
       "      <td>TECH3557</td>\n",
       "      <td>55</td>\n",
       "      <td>Technology</td>\n",
       "      <td>Undergrad</td>\n",
       "      <td>Referral</td>\n",
       "      <td>5</td>\n",
       "      <td>1.0</td>\n",
       "      <td>25</td>\n",
       "      <td>0</td>\n",
       "      <td>78075.0</td>\n",
       "      <td>Female</td>\n",
       "      <td>2010-05-02</td>\n",
       "      <td>1</td>\n",
       "    </tr>\n",
       "  </tbody>\n",
       "</table>\n",
       "</div>"
      ],
      "text/plain": [
       "     Unnamed: 0    emp_id  age  department  education recruitment_type   \n",
       "233         233  TECH3557   55  Technology  Undergrad         Referral  \\\n",
       "\n",
       "     job_level rating  awards  certifications   salary  gender entry_date   \n",
       "233          5    1.0      25               0  78075.0  Female 2010-05-02  \\\n",
       "\n",
       "     satisfied  \n",
       "233          1  "
      ]
     },
     "execution_count": 75,
     "metadata": {},
     "output_type": "execute_result"
    }
   ],
   "source": [
    "# Ihre Analysen\n",
    "df[df['awards'] == 25]"
   ]
  },
  {
   "cell_type": "raw",
   "metadata": {},
   "source": [
    "Ihre Begründung:"
   ]
  },
  {
   "cell_type": "code",
   "execution_count": null,
   "metadata": {
    "ExecuteTime": {
     "end_time": "2022-02-23T10:22:47.663623Z",
     "start_time": "2022-02-23T10:22:47.649619Z"
    }
   },
   "outputs": [],
   "source": [
    "# Ihre Lösung"
   ]
  },
  {
   "cell_type": "markdown",
   "metadata": {},
   "source": [
    "Wenden wir uns nun der Spalte `certifications` zu. Identifizieren Sie auch hier den Ausreißer und überlegen Sie sich eine geeignete Strategie, um mit diesem Wert umzugehen."
   ]
  },
  {
   "cell_type": "code",
   "execution_count": 80,
   "metadata": {
    "ExecuteTime": {
     "end_time": "2022-02-23T10:22:47.679619Z",
     "start_time": "2022-02-23T10:22:47.667626Z"
    }
   },
   "outputs": [
    {
     "data": {
      "text/plain": [
       "certifications\n",
       "0    251\n",
       "1    248\n",
       "9      1\n",
       "Name: count, dtype: int64"
      ]
     },
     "execution_count": 80,
     "metadata": {},
     "output_type": "execute_result"
    }
   ],
   "source": [
    "# Ihre Analysen\n",
    "df['certifications'].value_counts()"
   ]
  },
  {
   "cell_type": "code",
   "execution_count": 81,
   "metadata": {},
   "outputs": [
    {
     "data": {
      "text/html": [
       "<div>\n",
       "<style scoped>\n",
       "    .dataframe tbody tr th:only-of-type {\n",
       "        vertical-align: middle;\n",
       "    }\n",
       "\n",
       "    .dataframe tbody tr th {\n",
       "        vertical-align: top;\n",
       "    }\n",
       "\n",
       "    .dataframe thead th {\n",
       "        text-align: right;\n",
       "    }\n",
       "</style>\n",
       "<table border=\"1\" class=\"dataframe\">\n",
       "  <thead>\n",
       "    <tr style=\"text-align: right;\">\n",
       "      <th></th>\n",
       "      <th>Unnamed: 0</th>\n",
       "      <th>emp_id</th>\n",
       "      <th>age</th>\n",
       "      <th>department</th>\n",
       "      <th>education</th>\n",
       "      <th>recruitment_type</th>\n",
       "      <th>job_level</th>\n",
       "      <th>rating</th>\n",
       "      <th>awards</th>\n",
       "      <th>certifications</th>\n",
       "      <th>salary</th>\n",
       "      <th>gender</th>\n",
       "      <th>entry_date</th>\n",
       "      <th>satisfied</th>\n",
       "    </tr>\n",
       "  </thead>\n",
       "  <tbody>\n",
       "    <tr>\n",
       "      <th>129</th>\n",
       "      <td>129</td>\n",
       "      <td>HR2059</td>\n",
       "      <td>42</td>\n",
       "      <td>HR</td>\n",
       "      <td>Postgrad</td>\n",
       "      <td>Referral</td>\n",
       "      <td>4</td>\n",
       "      <td>1.0</td>\n",
       "      <td>2</td>\n",
       "      <td>9</td>\n",
       "      <td>59143.5</td>\n",
       "      <td>Female</td>\n",
       "      <td>2014-04-09</td>\n",
       "      <td>1</td>\n",
       "    </tr>\n",
       "  </tbody>\n",
       "</table>\n",
       "</div>"
      ],
      "text/plain": [
       "     Unnamed: 0  emp_id  age department education recruitment_type  job_level   \n",
       "129         129  HR2059   42         HR  Postgrad         Referral          4  \\\n",
       "\n",
       "    rating  awards  certifications   salary  gender entry_date  satisfied  \n",
       "129    1.0       2               9  59143.5  Female 2014-04-09          1  "
      ]
     },
     "execution_count": 81,
     "metadata": {},
     "output_type": "execute_result"
    }
   ],
   "source": [
    "df[df['certifications']==9]\n"
   ]
  },
  {
   "cell_type": "raw",
   "metadata": {},
   "source": [
    "Ihre Begründung:"
   ]
  },
  {
   "cell_type": "code",
   "execution_count": 82,
   "metadata": {
    "ExecuteTime": {
     "end_time": "2022-02-23T10:22:47.725628Z",
     "start_time": "2022-02-23T10:22:47.711618Z"
    }
   },
   "outputs": [],
   "source": [
    "# Ihre Lösung\n",
    "idx = df[df['certifications']==9].index\n",
    "df.loc[idx, \"certifications\"] = 0"
   ]
  },
  {
   "cell_type": "markdown",
   "metadata": {},
   "source": [
    "## Spalten/Zeilen löschen"
   ]
  },
  {
   "cell_type": "markdown",
   "metadata": {},
   "source": [
    "Betrachten wir die Spalte `emp_id`. Aus wie vielen einzigartigen Werten besteht diese?"
   ]
  },
  {
   "cell_type": "code",
   "execution_count": 90,
   "metadata": {
    "ExecuteTime": {
     "end_time": "2022-02-23T10:22:47.757626Z",
     "start_time": "2022-02-23T10:22:47.734640Z"
    }
   },
   "outputs": [
    {
     "data": {
      "text/plain": [
       "499"
      ]
     },
     "execution_count": 90,
     "metadata": {},
     "output_type": "execute_result"
    }
   ],
   "source": [
    "# Ihre Lösung\n",
    "df['emp_id'].nunique()"
   ]
  },
  {
   "cell_type": "markdown",
   "metadata": {},
   "source": [
    "Scheinbar gibt es eine ID doppelt. Schauen wir uns zunächst die Zeilen an, die die gleiche `emp_id` besitzen. Identifizieren Sie hierzu, um welche ID es sich handelt und lassen Sie sich dann die zugehörigen Zeilen ausgeben."
   ]
  },
  {
   "cell_type": "code",
   "execution_count": 92,
   "metadata": {
    "ExecuteTime": {
     "end_time": "2022-02-23T10:22:47.810999Z",
     "start_time": "2022-02-23T10:22:47.764407Z"
    }
   },
   "outputs": [
    {
     "data": {
      "text/html": [
       "<div>\n",
       "<style scoped>\n",
       "    .dataframe tbody tr th:only-of-type {\n",
       "        vertical-align: middle;\n",
       "    }\n",
       "\n",
       "    .dataframe tbody tr th {\n",
       "        vertical-align: top;\n",
       "    }\n",
       "\n",
       "    .dataframe thead th {\n",
       "        text-align: right;\n",
       "    }\n",
       "</style>\n",
       "<table border=\"1\" class=\"dataframe\">\n",
       "  <thead>\n",
       "    <tr style=\"text-align: right;\">\n",
       "      <th></th>\n",
       "      <th>Unnamed: 0</th>\n",
       "      <th>emp_id</th>\n",
       "      <th>age</th>\n",
       "      <th>department</th>\n",
       "      <th>education</th>\n",
       "      <th>recruitment_type</th>\n",
       "      <th>job_level</th>\n",
       "      <th>rating</th>\n",
       "      <th>awards</th>\n",
       "      <th>certifications</th>\n",
       "      <th>salary</th>\n",
       "      <th>gender</th>\n",
       "      <th>entry_date</th>\n",
       "      <th>satisfied</th>\n",
       "    </tr>\n",
       "  </thead>\n",
       "  <tbody>\n",
       "    <tr>\n",
       "      <th>188</th>\n",
       "      <td>188</td>\n",
       "      <td>MKT7287</td>\n",
       "      <td>41</td>\n",
       "      <td>Marketing</td>\n",
       "      <td>Undergrad</td>\n",
       "      <td>Referral</td>\n",
       "      <td>2</td>\n",
       "      <td>5.0</td>\n",
       "      <td>0</td>\n",
       "      <td>1</td>\n",
       "      <td>26824.5</td>\n",
       "      <td>Female</td>\n",
       "      <td>2014-04-07</td>\n",
       "      <td>1</td>\n",
       "    </tr>\n",
       "    <tr>\n",
       "      <th>215</th>\n",
       "      <td>215</td>\n",
       "      <td>MKT7287</td>\n",
       "      <td>50</td>\n",
       "      <td>Marketing</td>\n",
       "      <td>Postgrad</td>\n",
       "      <td>Referral</td>\n",
       "      <td>2</td>\n",
       "      <td>2.0</td>\n",
       "      <td>1</td>\n",
       "      <td>0</td>\n",
       "      <td>26824.5</td>\n",
       "      <td>Male</td>\n",
       "      <td>2013-08-01</td>\n",
       "      <td>0</td>\n",
       "    </tr>\n",
       "  </tbody>\n",
       "</table>\n",
       "</div>"
      ],
      "text/plain": [
       "     Unnamed: 0   emp_id  age department  education recruitment_type   \n",
       "188         188  MKT7287   41  Marketing  Undergrad         Referral  \\\n",
       "215         215  MKT7287   50  Marketing   Postgrad         Referral   \n",
       "\n",
       "     job_level rating  awards  certifications   salary  gender entry_date   \n",
       "188          2    5.0       0               1  26824.5  Female 2014-04-07  \\\n",
       "215          2    2.0       1               0  26824.5    Male 2013-08-01   \n",
       "\n",
       "     satisfied  \n",
       "188          1  \n",
       "215          0  "
      ]
     },
     "execution_count": 92,
     "metadata": {},
     "output_type": "execute_result"
    }
   ],
   "source": [
    "# Ihre Lösung\n",
    "df[df['emp_id'].duplicated(keep=False)]"
   ]
  },
  {
   "cell_type": "markdown",
   "metadata": {},
   "source": [
    "Wählen Sie eine geeignete Strategie, um mit diesem Duplikat umzugehen. Begründen Sie Ihre Entscheidung."
   ]
  },
  {
   "cell_type": "raw",
   "metadata": {},
   "source": [
    "Ihre Begründung:"
   ]
  },
  {
   "cell_type": "code",
   "execution_count": null,
   "metadata": {
    "ExecuteTime": {
     "end_time": "2022-02-23T10:22:47.924473Z",
     "start_time": "2022-02-23T10:22:47.908834Z"
    }
   },
   "outputs": [],
   "source": [
    "# Ihre Lösung\n",
    "df.drop_duplicates(keep==False, subset=['emp_id'])"
   ]
  },
  {
   "cell_type": "markdown",
   "metadata": {},
   "source": [
    "Betrachten wir nun die Werte der Spalte `emp_id`. Bringen diese Informationen einen Mehrwert zu der Vorhersage der Zufriedenheit? Wenn ja, bleibt die Spalte im Datensatz, wenn nein, transformieren Sie den Datensatz entsprechend."
   ]
  },
  {
   "cell_type": "raw",
   "metadata": {},
   "source": [
    "Ihre Entscheidung:"
   ]
  },
  {
   "cell_type": "code",
   "execution_count": null,
   "metadata": {
    "ExecuteTime": {
     "end_time": "2022-02-23T10:22:47.953638Z",
     "start_time": "2022-02-23T10:22:47.924473Z"
    }
   },
   "outputs": [],
   "source": [
    "# Ihre Lösung"
   ]
  },
  {
   "cell_type": "markdown",
   "metadata": {},
   "source": [
    "## Daten speichern"
   ]
  },
  {
   "cell_type": "code",
   "execution_count": null,
   "metadata": {
    "ExecuteTime": {
     "end_time": "2022-02-23T10:22:47.984879Z",
     "start_time": "2022-02-23T10:22:47.953638Z"
    }
   },
   "outputs": [],
   "source": [
    "df"
   ]
  },
  {
   "cell_type": "markdown",
   "metadata": {},
   "source": [
    "Wenn, Sie alle Aufgaben korrekt ausgeführt haben, ist die Vorverarbeitung nun abgeschlossen:\n",
    "- Alle Spalten liegen im passenden Datenformat vor\n",
    "- Kategorielle Spalten wurden vereinheitlicht\n",
    "- Es gibt keine Duplikate\n",
    "- Es gibt keine fehlenden Werte\n",
    "- Die Plausibilitätschecks wurden bestanden\n",
    "\n",
    "Speichern Sie den von Ihnen transformierten Datensatz unter dem Namen `employees_satisfaction_transformed.csv` ab."
   ]
  },
  {
   "cell_type": "code",
   "execution_count": null,
   "metadata": {
    "ExecuteTime": {
     "end_time": "2022-02-23T10:22:48.000506Z",
     "start_time": "2022-02-23T10:22:47.984879Z"
    }
   },
   "outputs": [],
   "source": [
    "# Ihre Lösung"
   ]
  }
 ],
 "metadata": {
  "kernelspec": {
   "display_name": "Python 3 (ipykernel)",
   "language": "python",
   "name": "python3"
  },
  "language_info": {
   "codemirror_mode": {
    "name": "ipython",
    "version": 3
   },
   "file_extension": ".py",
   "mimetype": "text/x-python",
   "name": "python",
   "nbconvert_exporter": "python",
   "pygments_lexer": "ipython3",
   "version": "3.11.3"
  },
  "toc": {
   "base_numbering": 1,
   "nav_menu": {},
   "number_sections": true,
   "sideBar": true,
   "skip_h1_title": true,
   "title_cell": "Table of Contents",
   "title_sidebar": "Contents",
   "toc_cell": false,
   "toc_position": {
    "height": "calc(100% - 180px)",
    "left": "10px",
    "top": "150px",
    "width": "307.2px"
   },
   "toc_section_display": true,
   "toc_window_display": true
  }
 },
 "nbformat": 4,
 "nbformat_minor": 4
}
