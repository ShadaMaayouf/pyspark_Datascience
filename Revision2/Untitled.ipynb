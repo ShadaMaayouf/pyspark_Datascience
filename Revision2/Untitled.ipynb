{
 "cells": [
  {
   "cell_type": "code",
   "execution_count": 1,
   "id": "b96d141a-0767-4e7c-9066-f42bac158471",
   "metadata": {},
   "outputs": [],
   "source": [
    "import findspark\n",
    "findspark.init()"
   ]
  },
  {
   "cell_type": "code",
   "execution_count": 2,
   "id": "23a6c5d7-744d-4d7d-9b46-d1d691d3e735",
   "metadata": {},
   "outputs": [],
   "source": [
    "# Imports\n",
    "from pyspark.sql import SparkSession\n",
    "import pyspark.sql.functions as f\n"
   ]
  },
  {
   "cell_type": "code",
   "execution_count": 3,
   "id": "5140f90f-eef9-4d52-8a0c-59cea4f81b6c",
   "metadata": {},
   "outputs": [],
   "source": [
    "# SparkSession erstellen\n",
    "spark = SparkSession.builder \\\n",
    "    .appName(\"My Spark Application\") \\\n",
    "    .getOrCreate()\n",
    "\n",
    "# SparkContext\n",
    "sc = spark.sparkContext"
   ]
  },
  {
   "cell_type": "code",
   "execution_count": 4,
   "id": "12d3ab58-38d6-46c8-8271-7841ca64babb",
   "metadata": {},
   "outputs": [],
   "source": [
    "rdd_df = sc.textFile(\"hdfs://localhost:8888/Revision2/employees_satisfaction_transformed.csv\")"
   ]
  },
  {
   "cell_type": "code",
   "execution_count": null,
   "id": "2b366e24-c384-4ed7-851c-ff1412d18f1e",
   "metadata": {},
   "outputs": [],
   "source": [
    "rdd_df"
   ]
  },
  {
   "cell_type": "code",
   "execution_count": null,
   "id": "d8041308-5a52-4d59-8047-aa9f1faea3d8",
   "metadata": {},
   "outputs": [],
   "source": []
  }
 ],
 "metadata": {
  "kernelspec": {
   "display_name": "Python 3 (ipykernel)",
   "language": "python",
   "name": "python3"
  },
  "language_info": {
   "codemirror_mode": {
    "name": "ipython",
    "version": 3
   },
   "file_extension": ".py",
   "mimetype": "text/x-python",
   "name": "python",
   "nbconvert_exporter": "python",
   "pygments_lexer": "ipython3",
   "version": "3.11.3"
  }
 },
 "nbformat": 4,
 "nbformat_minor": 5
}
