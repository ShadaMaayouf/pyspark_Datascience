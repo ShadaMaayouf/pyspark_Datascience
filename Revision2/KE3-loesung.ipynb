{
 "cells": [
  {
   "cell_type": "raw",
   "metadata": {
    "ExecuteTime": {
     "end_time": "2022-05-17T14:05:44.624999Z",
     "start_time": "2022-05-17T14:05:44.607735Z"
    }
   },
   "source": [
    "Name:\n",
    "Matrikelnummer:"
   ]
  },
  {
   "cell_type": "markdown",
   "metadata": {},
   "source": [
    "___"
   ]
  },
  {
   "cell_type": "code",
   "execution_count": 1,
   "metadata": {
    "ExecuteTime": {
     "end_time": "2023-05-09T08:04:44.703599Z",
     "start_time": "2023-05-09T08:04:44.210450Z"
    }
   },
   "outputs": [],
   "source": [
    "# Imports\n",
    "import pandas as pd"
   ]
  },
  {
   "cell_type": "markdown",
   "metadata": {},
   "source": [
    "___\n",
    "**_Bitte beachten:_**\n",
    "\n",
    "- In Code-Zellen soll (bei Bedarf kommentierter) Code eingefügt werden. In Raw-Zellen erwarten wir Antworten im Freitext-Format.\n",
    "- Fragestellungen sind teilweise bewusst etwas offener formuliert, weil Sie auch im Arbeitsleben nur selten mit ganz spezifischen Anweisungen rechnen können.Es gibt häufig mehrere mögliche Lösungen, dies wird in der Korrektur  berücksichtigt.\n",
    "\n",
    "___"
   ]
  },
  {
   "cell_type": "markdown",
   "metadata": {},
   "source": [
    "# (I can't get no) satisfaction\n",
    "Wir arbeiten weiterhin mit dem Datensatz über die Zufriedenheit von Angestellten der fiktiven Firma *Fiktiva*. In dieser Kurseinheit werden wir einige Techniken zur Datenvorverarbeitung / zum Data Cleaning anwenden.\n",
    "\n",
    "Sie können hier, wenn Sie weitere Informationen benötigen, ebenfalls externe Quellen verwenden und bspw. die Datei `metadata.txt` zu Rate ziehen, aber auch alle Informationen aus dem Fiktiva-Newsletter. "
   ]
  },
  {
   "cell_type": "code",
   "execution_count": 2,
   "metadata": {
    "ExecuteTime": {
     "end_time": "2023-05-09T08:04:44.734043Z",
     "start_time": "2023-05-09T08:04:44.706213Z"
    }
   },
   "outputs": [],
   "source": [
    "# Datensatz laden\n",
    "# Hinweis: Laden Sie den Datensatz so, dass die erste Spalte als Index (Row Label) verwendet wird\n",
    "df = pd.read_csv(\"../data/employees_satisfaction.csv\", index_col=0)"
   ]
  },
  {
   "cell_type": "markdown",
   "metadata": {},
   "source": [
    "***Hinweis zur Korrektur:*** *Die Lösung ist nur mit der Angabe von `index_col=0` als korrekt zu bewerten.*"
   ]
  },
  {
   "cell_type": "markdown",
   "metadata": {},
   "source": [
    "## Spalten umbennen"
   ]
  },
  {
   "cell_type": "markdown",
   "metadata": {},
   "source": [
    "Die Spalte `Dept` wird als einzige groß geschrieben. Benennen Sie die Spalte deshalb in `department` um."
   ]
  },
  {
   "cell_type": "code",
   "execution_count": 3,
   "metadata": {
    "ExecuteTime": {
     "end_time": "2023-05-09T08:04:44.741987Z",
     "start_time": "2023-05-09T08:04:44.737711Z"
    }
   },
   "outputs": [],
   "source": [
    "# Ihre Lösung\n",
    "df.rename(columns = {\"Dept\":\"department\"}, inplace = True)"
   ]
  },
  {
   "cell_type": "markdown",
   "metadata": {},
   "source": [
    "***Hinweis zur Korrektur:*** *Es muss nicht zwingend `inplace=True` verwendet werden, eine Angabe ähnlich zu `df = df.rename(...)` ist ebenfalls valide.*"
   ]
  },
  {
   "cell_type": "markdown",
   "metadata": {},
   "source": [
    "## Spalten transformieren\n",
    "Um ein besseres Gefühl für die Werte der Spalte `salary` zu bekommen, wandeln wir die Werte, die aktuell in US-Dollar angegeben sind, in Euro um. Aktualisieren Sie anschließend auch die Datei `metadata.txt`.\n",
    "\n",
    "*Hinweis: Verwenden Sie folgenden Umrechnungskurs: $ 1\\$ = 0.9€ $*"
   ]
  },
  {
   "cell_type": "code",
   "execution_count": 4,
   "metadata": {
    "ExecuteTime": {
     "end_time": "2023-05-09T08:04:44.752621Z",
     "start_time": "2023-05-09T08:04:44.747213Z"
    }
   },
   "outputs": [],
   "source": [
    "# Ihre Lösung\n",
    "df[\"salary\"] = df[\"salary\"]*0.9"
   ]
  },
  {
   "cell_type": "markdown",
   "metadata": {},
   "source": [
    "Die Spalte `entry_date` enthält Informationen über das Einstellungsdatum, die Daten sind jedoch nicht vom Typ Datetime. Dies ist für Datums-Berechnungen sehr ungünstig, wandeln Sie den Datentypen deshalb entsprechend um."
   ]
  },
  {
   "cell_type": "code",
   "execution_count": 5,
   "metadata": {
    "ExecuteTime": {
     "end_time": "2023-05-09T08:04:44.761523Z",
     "start_time": "2023-05-09T08:04:44.756337Z"
    }
   },
   "outputs": [],
   "source": [
    "# Ihre Lösung\n",
    "df[\"entry_date\"] = pd.to_datetime(df[\"entry_date\"], format=\"%Y-%m-%d\")"
   ]
  },
  {
   "cell_type": "markdown",
   "metadata": {},
   "source": [
    "In der Spalte `gender` sind die Werte nicht einheitlich kodiert (`m`/`Male` und `f`/`Female`). Vereinheitlichen Sie diese Spalte, so dass `m` zu `Male` wird und `f` zu `Female`. Dazu können Sie untenstehendes Dictionary `gender_recoding` verwenden."
   ]
  },
  {
   "cell_type": "code",
   "execution_count": 6,
   "metadata": {
    "ExecuteTime": {
     "end_time": "2023-05-09T08:04:44.769228Z",
     "start_time": "2023-05-09T08:04:44.764608Z"
    }
   },
   "outputs": [],
   "source": [
    "gender_recoding = {\n",
    "    \"f\": \"Female\",\n",
    "    \"m\": \"Male\"\n",
    "}"
   ]
  },
  {
   "cell_type": "code",
   "execution_count": 7,
   "metadata": {
    "ExecuteTime": {
     "end_time": "2023-05-09T08:04:44.778097Z",
     "start_time": "2023-05-09T08:04:44.772506Z"
    }
   },
   "outputs": [],
   "source": [
    "# Ihre Lösung\n",
    "df[\"gender\"] = df[\"gender\"].replace(gender_recoding)"
   ]
  },
  {
   "cell_type": "markdown",
   "metadata": {},
   "source": [
    "***Hinweis zur Korrektur:*** *Eine Verwendung von `map()` oder ähnlichen Methoden ist ebenfalls valide. Es muss jedoch darauf geachtet werden, dass die Zeilen, in denen bereits `Male` oder `Female` steht, nicht geändert werden.*"
   ]
  },
  {
   "cell_type": "markdown",
   "metadata": {},
   "source": [
    "In der Spalte `education` ist der Ausbildungsgrad der Angestellten in `UG`/`PG` angegeben:"
   ]
  },
  {
   "cell_type": "code",
   "execution_count": 8,
   "metadata": {
    "ExecuteTime": {
     "end_time": "2023-05-09T08:04:44.791238Z",
     "start_time": "2023-05-09T08:04:44.781608Z"
    }
   },
   "outputs": [
    {
     "data": {
      "text/plain": [
       "array(['PG', 'UG'], dtype=object)"
      ]
     },
     "execution_count": 8,
     "metadata": {},
     "output_type": "execute_result"
    }
   ],
   "source": [
    "df[\"education\"].unique()"
   ]
  },
  {
   "cell_type": "markdown",
   "metadata": {},
   "source": [
    "Dies sind in Deutschland keine gebräuchlichen Abkürzungen, weshalb die Information u.U. nicht verständlich ist. Transformieren Sie die Spalte, so dass die Abkürzungen ausgeschrieben und somit verständlicher sind. Aktualisieren Sie außerdem die Datei `metadata.txt` und fügen Sie eine kurze Erklärung zu den beiden Ausprägungen hinzu."
   ]
  },
  {
   "cell_type": "code",
   "execution_count": 9,
   "metadata": {
    "ExecuteTime": {
     "end_time": "2023-05-09T08:04:44.799562Z",
     "start_time": "2023-05-09T08:04:44.794173Z"
    }
   },
   "outputs": [],
   "source": [
    "# Ihre Lösung\n",
    "education_recoding = {\n",
    "    \"UG\": \"Undergraduate\",\n",
    "    \"PG\": \"Postgraduate\"\n",
    "}\n",
    "df[\"education\"] = df[\"education\"].map(education_recoding)"
   ]
  },
  {
   "cell_type": "markdown",
   "metadata": {},
   "source": [
    "## Plausibilitätschecks\n",
    "Es ist sinnvoll, einige Prüfungen bzgl. der Plausibilität der Daten vorzunhemen.\n",
    "\n",
    "Nehmen Sie an, einer Ihrer Plausibilitätschecks schlägt fehlt. Was sollten Sie dann tun?"
   ]
  },
  {
   "cell_type": "raw",
   "metadata": {},
   "source": [
    "Ihre Überlegung:\n",
    "Dann sollten weitere Informationen eingeholt werden, um herauszufinden, ob die Informationen korrekt sind. Können diese Informationen nicht beschafft werden, die Prüfung ist aber nur für wenige, einzelne Zeilen fehlgeschlagen, könnte es sinnvoll sein, die entsprechenden Zeilen zu löschen, da sie unter Umständen inkorrekte Daten enthalten. Schlägt ein Plausbilitätscheck für einen Großteil der Daten fehl, sollte die Qualität und somit die Verwendbarkeit des Datensatzes in Frage gestellt werden."
   ]
  },
  {
   "cell_type": "markdown",
   "metadata": {},
   "source": [
    "Wir würden davon ausgehen, dass Personen frühestens ab 16 Jahren fest in einer Firma angestellt werden. Prüfen Sie deshalb, ob alle Personen mindestens 16 Jahre alt waren, als Sie bei der Firma begonnen haben (siehe `entry_date`). Gehen Sie dafür davon aus, dass der Datensatz am 01.01.2021 erstellt wurde (siehe Variable `created`)."
   ]
  },
  {
   "cell_type": "code",
   "execution_count": 10,
   "metadata": {
    "ExecuteTime": {
     "end_time": "2023-05-09T08:04:44.856197Z",
     "start_time": "2023-05-09T08:04:44.851146Z"
    }
   },
   "outputs": [],
   "source": [
    "from datetime import date\n",
    "created = date(2021, 1, 1)"
   ]
  },
  {
   "cell_type": "code",
   "execution_count": 11,
   "metadata": {
    "ExecuteTime": {
     "end_time": "2023-05-09T08:04:44.879322Z",
     "start_time": "2023-05-09T08:04:44.858916Z"
    }
   },
   "outputs": [
    {
     "data": {
      "text/html": [
       "<div>\n",
       "<style scoped>\n",
       "    .dataframe tbody tr th:only-of-type {\n",
       "        vertical-align: middle;\n",
       "    }\n",
       "\n",
       "    .dataframe tbody tr th {\n",
       "        vertical-align: top;\n",
       "    }\n",
       "\n",
       "    .dataframe thead th {\n",
       "        text-align: right;\n",
       "    }\n",
       "</style>\n",
       "<table border=\"1\" class=\"dataframe\">\n",
       "  <thead>\n",
       "    <tr style=\"text-align: right;\">\n",
       "      <th></th>\n",
       "      <th>emp_id</th>\n",
       "      <th>age</th>\n",
       "      <th>department</th>\n",
       "      <th>education</th>\n",
       "      <th>recruitment_type</th>\n",
       "      <th>job_level</th>\n",
       "      <th>rating</th>\n",
       "      <th>awards</th>\n",
       "      <th>certifications</th>\n",
       "      <th>salary</th>\n",
       "      <th>gender</th>\n",
       "      <th>entry_date</th>\n",
       "      <th>last_raise</th>\n",
       "      <th>satisfied</th>\n",
       "    </tr>\n",
       "  </thead>\n",
       "  <tbody>\n",
       "  </tbody>\n",
       "</table>\n",
       "</div>"
      ],
      "text/plain": [
       "Empty DataFrame\n",
       "Columns: [emp_id, age, department, education, recruitment_type, job_level, rating, awards, certifications, salary, gender, entry_date, last_raise, satisfied]\n",
       "Index: []"
      ]
     },
     "execution_count": 11,
     "metadata": {},
     "output_type": "execute_result"
    }
   ],
   "source": [
    "# Ihre Lösung\n",
    "df.where(~((df[\"age\"] - (created.year - df[\"entry_date\"].dt.year) > 15))).dropna()"
   ]
  },
  {
   "cell_type": "raw",
   "metadata": {},
   "source": [
    "Es gibt keine Personen, die zum Einstellungsdatum jünger als 16 Jahre alt waren, somit muss der Datensatz bzgl. dieses Aspektes nicht weiter bereinigt werden."
   ]
  },
  {
   "cell_type": "markdown",
   "metadata": {},
   "source": [
    "***Hinweis zur Korrektur:*** *Unterschiedliche Lösungswege sind möglich, wichtig ist, dass der Check erfolgreich ist und zeigt, dass es keine Personen gibt, die zum Einstellungsdatum jünger als 16 Jahre alt waren und der Datensatz deshalb in diesem Bezug nicht weiter bereinigt werden muss.*"
   ]
  },
  {
   "cell_type": "markdown",
   "metadata": {},
   "source": [
    "Die ID der Angestellten scheint mit ihrer Abteilung zusammenzuhängen. Betrachten wir bspw. den ersten Datensatz:"
   ]
  },
  {
   "cell_type": "code",
   "execution_count": 12,
   "metadata": {
    "ExecuteTime": {
     "end_time": "2023-05-09T08:04:44.891810Z",
     "start_time": "2023-05-09T08:04:44.882572Z"
    }
   },
   "outputs": [
    {
     "data": {
      "text/plain": [
       "emp_id          TECH1860\n",
       "department    Technology\n",
       "Name: 1, dtype: object"
      ]
     },
     "execution_count": 12,
     "metadata": {},
     "output_type": "execute_result"
    }
   ],
   "source": [
    "df.loc[1][[\"emp_id\", \"department\"]]"
   ]
  },
  {
   "cell_type": "markdown",
   "metadata": {
    "ExecuteTime": {
     "end_time": "2022-02-18T14:08:44.802043Z",
     "start_time": "2022-02-18T14:08:44.773231Z"
    }
   },
   "source": [
    "Die ersten Buchstaben beziehen sich auf die Abteilung. Wir gruppieren das Dataframe und schauen uns aus jeder Abteilung die `emp_id` des ersten Datensatzes an."
   ]
  },
  {
   "cell_type": "code",
   "execution_count": 13,
   "metadata": {
    "ExecuteTime": {
     "end_time": "2023-05-09T08:04:44.953355Z",
     "start_time": "2023-05-09T08:04:44.895450Z"
    }
   },
   "outputs": [
    {
     "data": {
      "text/plain": [
       "department\n",
       "HR              HR8270\n",
       "Marketing      MKT2685\n",
       "Purchasing     PUR7265\n",
       "Sales          SAL6191\n",
       "Technology    TECH1860\n",
       "Name: emp_id, dtype: object"
      ]
     },
     "execution_count": 13,
     "metadata": {},
     "output_type": "execute_result"
    }
   ],
   "source": [
    "df.groupby(\"department\").first()[\"emp_id\"]"
   ]
  },
  {
   "cell_type": "markdown",
   "metadata": {},
   "source": [
    "Wir gehen deshalb von folgender Zuordnung aus:"
   ]
  },
  {
   "cell_type": "code",
   "execution_count": 14,
   "metadata": {
    "ExecuteTime": {
     "end_time": "2023-05-09T08:04:44.959997Z",
     "start_time": "2023-05-09T08:04:44.955805Z"
    }
   },
   "outputs": [],
   "source": [
    "id_dept_mapping = {\n",
    "    \"HR\":\"HR\",\n",
    "    \"MKT\":\"Marketing\",\n",
    "    \"PUR\":\"Purchasing\",\n",
    "    \"SAL\":\"Sales\",\n",
    "    \"TECH\":\"Technology\"\n",
    "\n",
    "}"
   ]
  },
  {
   "cell_type": "markdown",
   "metadata": {},
   "source": [
    "Den Buchstaben folgt dann immer eine eindeutige Nummer, der Aufbau ist also \\<dept_id\\>\\<employee_number\\>.\n",
    "\n",
    "Wir wollen prüfen, ob dieses Muster für alle Angestellten konsistent ist. Dafür verwenden wir die Funktion `check_id`. Diese prüft mittels des oben angegebenen Dictionary `id_dept_mapping`, ob `dept_id` und die Abteilung zusammenpassen. Zur Extraktion der `dept_id` sollen Sie einen regulären Ausdruck erstellen. Prüfen Sie anschließend mithilfe der Funktion `check_id`, ob das Muster für alle Angestellten konsistent ist.\n",
    "\n",
    "*Hinweis: Sie können vom obigen Aufbau ausgehen, bei dem `dept_id` immer aus Buchstaben besteht, während `employee_number` immer Zahlen sein sollen.*"
   ]
  },
  {
   "cell_type": "code",
   "execution_count": 15,
   "metadata": {
    "ExecuteTime": {
     "end_time": "2023-05-09T08:04:44.967783Z",
     "start_time": "2023-05-09T08:04:44.962850Z"
    }
   },
   "outputs": [],
   "source": [
    "import re\n",
    "# Ihre Lösung\n",
    "regular_expression = \"[A-Z]+\" # <- fügen Sie hier den entsprechenden regulären Ausdruck ein"
   ]
  },
  {
   "cell_type": "code",
   "execution_count": 16,
   "metadata": {
    "ExecuteTime": {
     "end_time": "2023-05-09T08:04:44.976596Z",
     "start_time": "2023-05-09T08:04:44.972356Z"
    }
   },
   "outputs": [],
   "source": [
    "def check_id(emp_id, department):\n",
    "    dept_id = \"\".join(re.findall(regular_expression, emp_id))\n",
    "    return id_dept_mapping.get(dept_id) == department"
   ]
  },
  {
   "cell_type": "code",
   "execution_count": 17,
   "metadata": {
    "ExecuteTime": {
     "end_time": "2023-05-09T08:04:44.997920Z",
     "start_time": "2023-05-09T08:04:44.979487Z"
    }
   },
   "outputs": [
    {
     "data": {
      "text/plain": [
       "True"
      ]
     },
     "execution_count": 17,
     "metadata": {},
     "output_type": "execute_result"
    }
   ],
   "source": [
    "# Ist der Check für alle Zeilen des Datensatzes erfolgreich?\n",
    "df.apply(lambda x: check_id(x[\"emp_id\"], x[\"department\"]), axis=1).all()"
   ]
  },
  {
   "cell_type": "markdown",
   "metadata": {},
   "source": [
    "***Hinweis zur Korrektur:*** *Auch hier sind unterschiedliche Lösungen möglich, der Check sollte jedoch in jedem Fall erfolgreich sein.*"
   ]
  },
  {
   "cell_type": "markdown",
   "metadata": {},
   "source": [
    "## Fehlende Werte\n",
    "Oft kommt es vor, dass in Daten Werte fehlen. Dies kann unterschiedlichste Gründe haben, z.B. kann ein Wert bewusst weggelassen werden (bpsw. der Titel in einer Anrede) oder Daten können nicht korrekt übertragen werden. Für viele Analysen ist es jedoch wichtig, dass es keine fehlenden Werte gibt.\n",
    "\n",
    "Das Ersetzen von fehlenden Werten wird als *(Missing Value) Imputation* bezeichnet. Hierfür gibt es verschiedene Strategien:\n",
    "- Korrekten Wert ermitteln: Im besten Fall kann der korrekte Wert ermittelt werden, bspw. durch Rücksprache mit (Fach-)Expert\\*innen. Dies ist jedoch nur selten der Fall und häufig mit großem Aufwand verbunden.\n",
    "- Zeilen mit fehlenden Werten löschen: Fehlen wenige, einzelne Werte, kann es u.U. sinnvoll sein, die entsprechenden Zeilen zu löschen. Hierbei muss jedoch darauf geachtet werden, dass nicht zu viele Informationen verloren gehen.\n",
    "- Spalte mit fehlenden Werten löschen: Fehlen in einer Spalte so viele Werte, dass diese keine Aussagekraft mehr hat, kann es sinnvoll sein, die gesamte Spalte zu entfernen.\n",
    "- Neuen Wert einsetzen:\n",
    "    - Neue Kategorie: Bei nominalen Werten kann eine neue Kategorie (z.B. \"Unbekannt\") eingeführt werden.\n",
    "    - Mode Imputation: Die fehlenden Werte werden durch den am häufigst vorkommenden Wert ersetzt.\n",
    "    - Mean Imputation: Die fehlenden Werte werden durch den Mittelwert ersetzt.\n",
    "    - Median Imputation: Die fehlenden Werte werden durch den Median ersetzt.\n",
    "    - Mode, Mean und Median Imputation können auch basierend auf den Werten einer anderen Spalte vorgenommen werden (in unserem Fall z.B. für zufriedene und unzufriedene Angestellte getrennt).\n",
    "    - Imputation mit 0 oder einem anderen konstanten Wert: Die fehlenden Werte werden durch eine 0 oder eine andere, je nach Anwendungsfall passende, Konstante ersetzt.\n",
    "    - Modell-basierte Imputation: Es wird ein Machine-Learning-Modell trainiert, das die fehlenden Werte vorhersagt.\n",
    "    - Zusätzlich zu den genannten Strategien ist es möglich, ein neues Feature zu erstellen, das kennzeichnet, ob eine Imputation vorgenommen wurde (=1) oder nicht (=0)."
   ]
  },
  {
   "cell_type": "markdown",
   "metadata": {},
   "source": [
    "Wir bleiben bei der Spalte `gender`, hier gibt es fehlende Werte."
   ]
  },
  {
   "cell_type": "code",
   "execution_count": 18,
   "metadata": {
    "ExecuteTime": {
     "end_time": "2023-05-09T08:04:45.060962Z",
     "start_time": "2023-05-09T08:04:45.048583Z"
    }
   },
   "outputs": [
    {
     "data": {
      "text/plain": [
       "3"
      ]
     },
     "execution_count": 18,
     "metadata": {},
     "output_type": "execute_result"
    }
   ],
   "source": [
    "df[\"gender\"].isna().sum()"
   ]
  },
  {
   "cell_type": "markdown",
   "metadata": {},
   "source": [
    "Wählen Sie eine geeignete Strategie zur *Imputation*, also der Ersetzung der fehlenden Werte. Begründen Sie Ihre Entscheidung!"
   ]
  },
  {
   "cell_type": "raw",
   "metadata": {},
   "source": [
    "Ihre Begründung:\n",
    "In diesem Datensatz ist das Geschlecht lediglich binär kodiert, diverse Personen werden nicht berücksichtigt. Es ist also denkbar, dass die fehlenden Werte dadurch entstanden sind, dass diese Personen bei der Frage nach dem Geschlecht sich weder weiblich noch männlich zugeordnet haben und deshalb keine Angabe gemacht haben. Es ist auch denkbar, dass Personen ihr Geschlecht nicht angeben, weil sie als Folge Nachteile befürchten. Natürlich kann es auch sein, dass die Angabe des Geschlechts lediglich vergessen wurde oder, wenn eine Befragung auf Papier stattgefunden hat, die Informationen bei der Übertragung in die digitale Form verloren gegangen sind. Es liegen uns nicht genügend Informationen vor, um entscheiden zu können, welcher Wert für die Imputation passend wäre. Aus diesem Grund führen wir eine dritte Kategorie \"Unknown\" ein und ersetzen damit die fehlenden Werte."
   ]
  },
  {
   "cell_type": "code",
   "execution_count": 19,
   "metadata": {
    "ExecuteTime": {
     "end_time": "2023-05-09T08:04:45.071916Z",
     "start_time": "2023-05-09T08:04:45.065225Z"
    }
   },
   "outputs": [],
   "source": [
    "# Ihre Lösung\n",
    "df[\"gender\"] = df[\"gender\"].fillna(\"Unknown\")"
   ]
  },
  {
   "cell_type": "markdown",
   "metadata": {},
   "source": [
    "***Hinweis zur Korrektur:*** *Wichtig ist hier vor allem eine gute Begründung für die gewählte Strategie. Eine Mode-Imputation wäre keine gute Lösung, da dies das Verhältnis verzerren kann.*"
   ]
  },
  {
   "cell_type": "markdown",
   "metadata": {},
   "source": [
    "Auch in der Spalte `last_raise` gibt es fehlende Werte."
   ]
  },
  {
   "cell_type": "code",
   "execution_count": 20,
   "metadata": {
    "ExecuteTime": {
     "end_time": "2023-05-09T08:04:45.081704Z",
     "start_time": "2023-05-09T08:04:45.075399Z"
    }
   },
   "outputs": [
    {
     "data": {
      "text/plain": [
       "474"
      ]
     },
     "execution_count": 20,
     "metadata": {},
     "output_type": "execute_result"
    }
   ],
   "source": [
    "df[\"last_raise\"].isna().sum()"
   ]
  },
  {
   "cell_type": "markdown",
   "metadata": {},
   "source": [
    "Entscheiden Sie sich hier ebenfalls für eine geeignete Imputation-Strategie und begründen Sie Ihre Wahl."
   ]
  },
  {
   "cell_type": "raw",
   "metadata": {},
   "source": [
    "In dieser Spalte fehlen ca. 95% der Werte. Man könnte die Annahme treffen, dass ein fehlender Wert bedeutet, dass diese Person noch keine Gehaltserhöhung bekommen hat und die fehlenden Werte mit 0.0 ersetzen. Um hier die Plausibilität zu prüfen, könnte man den Zusammenhang zwischen dem Eintrittsdatum und der letzten Gehaltserhöhung prüfen, wenn man davon ausgeht, dass dienstältere Personen eher schon einmal eine Gehaltserhöhung bekommen haben. Alternativ wäre es auch denkbar, die Spalte zu löschen, weil sie nicht genügend Informationen enthält."
   ]
  },
  {
   "cell_type": "code",
   "execution_count": 21,
   "metadata": {
    "ExecuteTime": {
     "end_time": "2023-05-09T08:04:45.158667Z",
     "start_time": "2023-05-09T08:04:45.085157Z"
    }
   },
   "outputs": [
    {
     "data": {
      "text/html": [
       "<div>\n",
       "<style scoped>\n",
       "    .dataframe tbody tr th:only-of-type {\n",
       "        vertical-align: middle;\n",
       "    }\n",
       "\n",
       "    .dataframe tbody tr th {\n",
       "        vertical-align: top;\n",
       "    }\n",
       "\n",
       "    .dataframe thead th {\n",
       "        text-align: right;\n",
       "    }\n",
       "</style>\n",
       "<table border=\"1\" class=\"dataframe\">\n",
       "  <thead>\n",
       "    <tr style=\"text-align: right;\">\n",
       "      <th></th>\n",
       "      <th>emp_id</th>\n",
       "      <th>age</th>\n",
       "      <th>department</th>\n",
       "      <th>education</th>\n",
       "      <th>recruitment_type</th>\n",
       "      <th>job_level</th>\n",
       "      <th>rating</th>\n",
       "      <th>awards</th>\n",
       "      <th>certifications</th>\n",
       "      <th>salary</th>\n",
       "      <th>gender</th>\n",
       "      <th>entry_date</th>\n",
       "      <th>last_raise</th>\n",
       "      <th>satisfied</th>\n",
       "    </tr>\n",
       "  </thead>\n",
       "  <tbody>\n",
       "    <tr>\n",
       "      <th>386</th>\n",
       "      <td>TECH8253</td>\n",
       "      <td>48</td>\n",
       "      <td>Technology</td>\n",
       "      <td>Undergraduate</td>\n",
       "      <td>Referral</td>\n",
       "      <td>5</td>\n",
       "      <td>5.0</td>\n",
       "      <td>4</td>\n",
       "      <td>1</td>\n",
       "      <td>78075.0</td>\n",
       "      <td>Male</td>\n",
       "      <td>2004-01-05</td>\n",
       "      <td>0.07</td>\n",
       "      <td>1</td>\n",
       "    </tr>\n",
       "    <tr>\n",
       "      <th>45</th>\n",
       "      <td>PUR8099</td>\n",
       "      <td>36</td>\n",
       "      <td>Purchasing</td>\n",
       "      <td>Undergraduate</td>\n",
       "      <td>On-Campus</td>\n",
       "      <td>5</td>\n",
       "      <td>5.0</td>\n",
       "      <td>4</td>\n",
       "      <td>0</td>\n",
       "      <td>78075.0</td>\n",
       "      <td>Female</td>\n",
       "      <td>2004-01-16</td>\n",
       "      <td>0.04</td>\n",
       "      <td>1</td>\n",
       "    </tr>\n",
       "    <tr>\n",
       "      <th>360</th>\n",
       "      <td>MKT1830</td>\n",
       "      <td>40</td>\n",
       "      <td>Marketing</td>\n",
       "      <td>Postgraduate</td>\n",
       "      <td>Walk-in</td>\n",
       "      <td>5</td>\n",
       "      <td>1.0</td>\n",
       "      <td>8</td>\n",
       "      <td>1</td>\n",
       "      <td>78075.0</td>\n",
       "      <td>Male</td>\n",
       "      <td>2004-01-20</td>\n",
       "      <td>0.08</td>\n",
       "      <td>0</td>\n",
       "    </tr>\n",
       "    <tr>\n",
       "      <th>161</th>\n",
       "      <td>MKT2636</td>\n",
       "      <td>34</td>\n",
       "      <td>Marketing</td>\n",
       "      <td>Postgraduate</td>\n",
       "      <td>On-Campus</td>\n",
       "      <td>2</td>\n",
       "      <td>2.0</td>\n",
       "      <td>8</td>\n",
       "      <td>0</td>\n",
       "      <td>26824.5</td>\n",
       "      <td>Female</td>\n",
       "      <td>2004-01-20</td>\n",
       "      <td>0.10</td>\n",
       "      <td>0</td>\n",
       "    </tr>\n",
       "    <tr>\n",
       "      <th>375</th>\n",
       "      <td>PUR4672</td>\n",
       "      <td>40</td>\n",
       "      <td>Purchasing</td>\n",
       "      <td>Postgraduate</td>\n",
       "      <td>Referral</td>\n",
       "      <td>2</td>\n",
       "      <td>3.0</td>\n",
       "      <td>2</td>\n",
       "      <td>1</td>\n",
       "      <td>26824.5</td>\n",
       "      <td>Male</td>\n",
       "      <td>2004-01-22</td>\n",
       "      <td>0.02</td>\n",
       "      <td>1</td>\n",
       "    </tr>\n",
       "    <tr>\n",
       "      <th>134</th>\n",
       "      <td>HR4627</td>\n",
       "      <td>44</td>\n",
       "      <td>HR</td>\n",
       "      <td>Undergraduate</td>\n",
       "      <td>Referral</td>\n",
       "      <td>2</td>\n",
       "      <td>4.0</td>\n",
       "      <td>8</td>\n",
       "      <td>0</td>\n",
       "      <td>26824.5</td>\n",
       "      <td>Male</td>\n",
       "      <td>2004-02-24</td>\n",
       "      <td>0.01</td>\n",
       "      <td>1</td>\n",
       "    </tr>\n",
       "    <tr>\n",
       "      <th>9</th>\n",
       "      <td>TECH9322</td>\n",
       "      <td>45</td>\n",
       "      <td>Technology</td>\n",
       "      <td>Postgraduate</td>\n",
       "      <td>Referral</td>\n",
       "      <td>3</td>\n",
       "      <td>3.0</td>\n",
       "      <td>9</td>\n",
       "      <td>0</td>\n",
       "      <td>38177.1</td>\n",
       "      <td>Female</td>\n",
       "      <td>2004-03-19</td>\n",
       "      <td>0.07</td>\n",
       "      <td>0</td>\n",
       "    </tr>\n",
       "    <tr>\n",
       "      <th>274</th>\n",
       "      <td>TECH4444</td>\n",
       "      <td>39</td>\n",
       "      <td>Technology</td>\n",
       "      <td>Undergraduate</td>\n",
       "      <td>On-Campus</td>\n",
       "      <td>2</td>\n",
       "      <td>3.0</td>\n",
       "      <td>3</td>\n",
       "      <td>1</td>\n",
       "      <td>26824.5</td>\n",
       "      <td>Female</td>\n",
       "      <td>2004-04-13</td>\n",
       "      <td>0.08</td>\n",
       "      <td>1</td>\n",
       "    </tr>\n",
       "    <tr>\n",
       "      <th>389</th>\n",
       "      <td>PUR3141</td>\n",
       "      <td>37</td>\n",
       "      <td>Purchasing</td>\n",
       "      <td>Postgraduate</td>\n",
       "      <td>Walk-in</td>\n",
       "      <td>2</td>\n",
       "      <td>5.0</td>\n",
       "      <td>8</td>\n",
       "      <td>1</td>\n",
       "      <td>26824.5</td>\n",
       "      <td>Female</td>\n",
       "      <td>2004-04-17</td>\n",
       "      <td>0.02</td>\n",
       "      <td>1</td>\n",
       "    </tr>\n",
       "    <tr>\n",
       "      <th>239</th>\n",
       "      <td>HR5433</td>\n",
       "      <td>38</td>\n",
       "      <td>HR</td>\n",
       "      <td>Undergraduate</td>\n",
       "      <td>On-Campus</td>\n",
       "      <td>3</td>\n",
       "      <td>3.0</td>\n",
       "      <td>3</td>\n",
       "      <td>1</td>\n",
       "      <td>38177.1</td>\n",
       "      <td>Male</td>\n",
       "      <td>2004-04-19</td>\n",
       "      <td>0.04</td>\n",
       "      <td>1</td>\n",
       "    </tr>\n",
       "    <tr>\n",
       "      <th>5</th>\n",
       "      <td>PUR7265</td>\n",
       "      <td>40</td>\n",
       "      <td>Purchasing</td>\n",
       "      <td>Undergraduate</td>\n",
       "      <td>Walk-in</td>\n",
       "      <td>3</td>\n",
       "      <td>3.0</td>\n",
       "      <td>7</td>\n",
       "      <td>1</td>\n",
       "      <td>38177.1</td>\n",
       "      <td>Male</td>\n",
       "      <td>2004-04-22</td>\n",
       "      <td>0.02</td>\n",
       "      <td>1</td>\n",
       "    </tr>\n",
       "    <tr>\n",
       "      <th>235</th>\n",
       "      <td>HR1098</td>\n",
       "      <td>53</td>\n",
       "      <td>HR</td>\n",
       "      <td>Postgraduate</td>\n",
       "      <td>Walk-in</td>\n",
       "      <td>4</td>\n",
       "      <td>5.0</td>\n",
       "      <td>3</td>\n",
       "      <td>1</td>\n",
       "      <td>59143.5</td>\n",
       "      <td>Female</td>\n",
       "      <td>2004-06-01</td>\n",
       "      <td>0.09</td>\n",
       "      <td>0</td>\n",
       "    </tr>\n",
       "    <tr>\n",
       "      <th>309</th>\n",
       "      <td>MKT8343</td>\n",
       "      <td>46</td>\n",
       "      <td>Marketing</td>\n",
       "      <td>Undergraduate</td>\n",
       "      <td>Walk-in</td>\n",
       "      <td>1</td>\n",
       "      <td>2.0</td>\n",
       "      <td>4</td>\n",
       "      <td>0</td>\n",
       "      <td>21668.4</td>\n",
       "      <td>Male</td>\n",
       "      <td>2004-06-08</td>\n",
       "      <td>0.01</td>\n",
       "      <td>1</td>\n",
       "    </tr>\n",
       "    <tr>\n",
       "      <th>157</th>\n",
       "      <td>TECH2291</td>\n",
       "      <td>36</td>\n",
       "      <td>Technology</td>\n",
       "      <td>Undergraduate</td>\n",
       "      <td>Walk-in</td>\n",
       "      <td>2</td>\n",
       "      <td>3.0</td>\n",
       "      <td>0</td>\n",
       "      <td>1</td>\n",
       "      <td>26824.5</td>\n",
       "      <td>Female</td>\n",
       "      <td>2004-06-20</td>\n",
       "      <td>0.04</td>\n",
       "      <td>1</td>\n",
       "    </tr>\n",
       "    <tr>\n",
       "      <th>469</th>\n",
       "      <td>TECH5171</td>\n",
       "      <td>48</td>\n",
       "      <td>Technology</td>\n",
       "      <td>Postgraduate</td>\n",
       "      <td>Walk-in</td>\n",
       "      <td>1</td>\n",
       "      <td>2.0</td>\n",
       "      <td>7</td>\n",
       "      <td>0</td>\n",
       "      <td>21668.4</td>\n",
       "      <td>Male</td>\n",
       "      <td>2004-07-05</td>\n",
       "      <td>0.05</td>\n",
       "      <td>1</td>\n",
       "    </tr>\n",
       "    <tr>\n",
       "      <th>308</th>\n",
       "      <td>HR8560</td>\n",
       "      <td>41</td>\n",
       "      <td>HR</td>\n",
       "      <td>Postgraduate</td>\n",
       "      <td>Referral</td>\n",
       "      <td>2</td>\n",
       "      <td>2.0</td>\n",
       "      <td>3</td>\n",
       "      <td>1</td>\n",
       "      <td>26824.5</td>\n",
       "      <td>Female</td>\n",
       "      <td>2004-07-05</td>\n",
       "      <td>0.05</td>\n",
       "      <td>1</td>\n",
       "    </tr>\n",
       "    <tr>\n",
       "      <th>132</th>\n",
       "      <td>PUR6915</td>\n",
       "      <td>54</td>\n",
       "      <td>Purchasing</td>\n",
       "      <td>Undergraduate</td>\n",
       "      <td>Walk-in</td>\n",
       "      <td>3</td>\n",
       "      <td>3.0</td>\n",
       "      <td>0</td>\n",
       "      <td>0</td>\n",
       "      <td>38177.1</td>\n",
       "      <td>Male</td>\n",
       "      <td>2004-07-13</td>\n",
       "      <td>0.05</td>\n",
       "      <td>0</td>\n",
       "    </tr>\n",
       "    <tr>\n",
       "      <th>151</th>\n",
       "      <td>PUR2495</td>\n",
       "      <td>54</td>\n",
       "      <td>Purchasing</td>\n",
       "      <td>Postgraduate</td>\n",
       "      <td>Walk-in</td>\n",
       "      <td>5</td>\n",
       "      <td>3.0</td>\n",
       "      <td>4</td>\n",
       "      <td>0</td>\n",
       "      <td>78075.0</td>\n",
       "      <td>Male</td>\n",
       "      <td>2004-07-15</td>\n",
       "      <td>0.05</td>\n",
       "      <td>1</td>\n",
       "    </tr>\n",
       "    <tr>\n",
       "      <th>478</th>\n",
       "      <td>TECH8266</td>\n",
       "      <td>46</td>\n",
       "      <td>Technology</td>\n",
       "      <td>Postgraduate</td>\n",
       "      <td>On-Campus</td>\n",
       "      <td>5</td>\n",
       "      <td>2.0</td>\n",
       "      <td>9</td>\n",
       "      <td>0</td>\n",
       "      <td>78075.0</td>\n",
       "      <td>Male</td>\n",
       "      <td>2004-08-14</td>\n",
       "      <td>0.05</td>\n",
       "      <td>1</td>\n",
       "    </tr>\n",
       "    <tr>\n",
       "      <th>39</th>\n",
       "      <td>SAL9433</td>\n",
       "      <td>39</td>\n",
       "      <td>Sales</td>\n",
       "      <td>Undergraduate</td>\n",
       "      <td>Walk-in</td>\n",
       "      <td>2</td>\n",
       "      <td>1.0</td>\n",
       "      <td>1</td>\n",
       "      <td>1</td>\n",
       "      <td>26824.5</td>\n",
       "      <td>Female</td>\n",
       "      <td>2004-08-19</td>\n",
       "      <td>0.01</td>\n",
       "      <td>1</td>\n",
       "    </tr>\n",
       "    <tr>\n",
       "      <th>94</th>\n",
       "      <td>HR4104</td>\n",
       "      <td>36</td>\n",
       "      <td>HR</td>\n",
       "      <td>Undergraduate</td>\n",
       "      <td>Walk-in</td>\n",
       "      <td>1</td>\n",
       "      <td>1.0</td>\n",
       "      <td>0</td>\n",
       "      <td>1</td>\n",
       "      <td>21668.4</td>\n",
       "      <td>Female</td>\n",
       "      <td>2004-08-26</td>\n",
       "      <td>0.09</td>\n",
       "      <td>1</td>\n",
       "    </tr>\n",
       "    <tr>\n",
       "      <th>95</th>\n",
       "      <td>HR8215</td>\n",
       "      <td>44</td>\n",
       "      <td>HR</td>\n",
       "      <td>Undergraduate</td>\n",
       "      <td>Referral</td>\n",
       "      <td>4</td>\n",
       "      <td>4.0</td>\n",
       "      <td>5</td>\n",
       "      <td>1</td>\n",
       "      <td>59143.5</td>\n",
       "      <td>Female</td>\n",
       "      <td>2004-09-07</td>\n",
       "      <td>0.05</td>\n",
       "      <td>0</td>\n",
       "    </tr>\n",
       "    <tr>\n",
       "      <th>482</th>\n",
       "      <td>MKT8651</td>\n",
       "      <td>38</td>\n",
       "      <td>Marketing</td>\n",
       "      <td>Postgraduate</td>\n",
       "      <td>Walk-in</td>\n",
       "      <td>5</td>\n",
       "      <td>2.0</td>\n",
       "      <td>6</td>\n",
       "      <td>0</td>\n",
       "      <td>78075.0</td>\n",
       "      <td>Female</td>\n",
       "      <td>2004-09-16</td>\n",
       "      <td>0.01</td>\n",
       "      <td>1</td>\n",
       "    </tr>\n",
       "    <tr>\n",
       "      <th>453</th>\n",
       "      <td>TECH8357</td>\n",
       "      <td>45</td>\n",
       "      <td>Technology</td>\n",
       "      <td>Postgraduate</td>\n",
       "      <td>Walk-in</td>\n",
       "      <td>2</td>\n",
       "      <td>3.0</td>\n",
       "      <td>0</td>\n",
       "      <td>0</td>\n",
       "      <td>26824.5</td>\n",
       "      <td>Male</td>\n",
       "      <td>2004-10-04</td>\n",
       "      <td>0.09</td>\n",
       "      <td>1</td>\n",
       "    </tr>\n",
       "    <tr>\n",
       "      <th>148</th>\n",
       "      <td>HR1663</td>\n",
       "      <td>35</td>\n",
       "      <td>HR</td>\n",
       "      <td>Undergraduate</td>\n",
       "      <td>Walk-in</td>\n",
       "      <td>2</td>\n",
       "      <td>5.0</td>\n",
       "      <td>7</td>\n",
       "      <td>0</td>\n",
       "      <td>26824.5</td>\n",
       "      <td>Male</td>\n",
       "      <td>2004-10-30</td>\n",
       "      <td>0.08</td>\n",
       "      <td>1</td>\n",
       "    </tr>\n",
       "    <tr>\n",
       "      <th>203</th>\n",
       "      <td>PUR2959</td>\n",
       "      <td>43</td>\n",
       "      <td>Purchasing</td>\n",
       "      <td>Postgraduate</td>\n",
       "      <td>Recruitment Agency</td>\n",
       "      <td>4</td>\n",
       "      <td>1.0</td>\n",
       "      <td>0</td>\n",
       "      <td>1</td>\n",
       "      <td>59143.5</td>\n",
       "      <td>Male</td>\n",
       "      <td>2004-10-30</td>\n",
       "      <td>0.01</td>\n",
       "      <td>0</td>\n",
       "    </tr>\n",
       "    <tr>\n",
       "      <th>198</th>\n",
       "      <td>SAL3911</td>\n",
       "      <td>44</td>\n",
       "      <td>Sales</td>\n",
       "      <td>Postgraduate</td>\n",
       "      <td>On-Campus</td>\n",
       "      <td>3</td>\n",
       "      <td>1.0</td>\n",
       "      <td>1</td>\n",
       "      <td>1</td>\n",
       "      <td>38177.1</td>\n",
       "      <td>Female</td>\n",
       "      <td>2004-11-13</td>\n",
       "      <td>NaN</td>\n",
       "      <td>1</td>\n",
       "    </tr>\n",
       "    <tr>\n",
       "      <th>345</th>\n",
       "      <td>TECH6222</td>\n",
       "      <td>34</td>\n",
       "      <td>Technology</td>\n",
       "      <td>Postgraduate</td>\n",
       "      <td>Walk-in</td>\n",
       "      <td>3</td>\n",
       "      <td>1.0</td>\n",
       "      <td>7</td>\n",
       "      <td>1</td>\n",
       "      <td>38177.1</td>\n",
       "      <td>Female</td>\n",
       "      <td>2004-12-03</td>\n",
       "      <td>NaN</td>\n",
       "      <td>0</td>\n",
       "    </tr>\n",
       "    <tr>\n",
       "      <th>414</th>\n",
       "      <td>HR6387</td>\n",
       "      <td>41</td>\n",
       "      <td>HR</td>\n",
       "      <td>Undergraduate</td>\n",
       "      <td>Walk-in</td>\n",
       "      <td>1</td>\n",
       "      <td>1.0</td>\n",
       "      <td>4</td>\n",
       "      <td>1</td>\n",
       "      <td>21668.4</td>\n",
       "      <td>Female</td>\n",
       "      <td>2005-01-12</td>\n",
       "      <td>NaN</td>\n",
       "      <td>1</td>\n",
       "    </tr>\n",
       "    <tr>\n",
       "      <th>358</th>\n",
       "      <td>HR5752</td>\n",
       "      <td>33</td>\n",
       "      <td>HR</td>\n",
       "      <td>Postgraduate</td>\n",
       "      <td>Walk-in</td>\n",
       "      <td>1</td>\n",
       "      <td>5.0</td>\n",
       "      <td>4</td>\n",
       "      <td>0</td>\n",
       "      <td>21668.4</td>\n",
       "      <td>Male</td>\n",
       "      <td>2005-02-12</td>\n",
       "      <td>NaN</td>\n",
       "      <td>1</td>\n",
       "    </tr>\n",
       "    <tr>\n",
       "      <th>50</th>\n",
       "      <td>HR4943</td>\n",
       "      <td>37</td>\n",
       "      <td>HR</td>\n",
       "      <td>Undergraduate</td>\n",
       "      <td>Recruitment Agency</td>\n",
       "      <td>5</td>\n",
       "      <td>4.0</td>\n",
       "      <td>5</td>\n",
       "      <td>0</td>\n",
       "      <td>78075.0</td>\n",
       "      <td>Male</td>\n",
       "      <td>2005-02-24</td>\n",
       "      <td>NaN</td>\n",
       "      <td>1</td>\n",
       "    </tr>\n",
       "    <tr>\n",
       "      <th>199</th>\n",
       "      <td>PUR2734</td>\n",
       "      <td>41</td>\n",
       "      <td>Purchasing</td>\n",
       "      <td>Postgraduate</td>\n",
       "      <td>Walk-in</td>\n",
       "      <td>1</td>\n",
       "      <td>3.0</td>\n",
       "      <td>9</td>\n",
       "      <td>0</td>\n",
       "      <td>21668.4</td>\n",
       "      <td>Female</td>\n",
       "      <td>2005-03-12</td>\n",
       "      <td>NaN</td>\n",
       "      <td>1</td>\n",
       "    </tr>\n",
       "    <tr>\n",
       "      <th>455</th>\n",
       "      <td>TECH4766</td>\n",
       "      <td>36</td>\n",
       "      <td>Technology</td>\n",
       "      <td>Postgraduate</td>\n",
       "      <td>Recruitment Agency</td>\n",
       "      <td>2</td>\n",
       "      <td>1.0</td>\n",
       "      <td>3</td>\n",
       "      <td>1</td>\n",
       "      <td>26824.5</td>\n",
       "      <td>Female</td>\n",
       "      <td>2005-03-15</td>\n",
       "      <td>NaN</td>\n",
       "      <td>0</td>\n",
       "    </tr>\n",
       "    <tr>\n",
       "      <th>223</th>\n",
       "      <td>PUR4170</td>\n",
       "      <td>34</td>\n",
       "      <td>Purchasing</td>\n",
       "      <td>Undergraduate</td>\n",
       "      <td>Walk-in</td>\n",
       "      <td>2</td>\n",
       "      <td>1.0</td>\n",
       "      <td>5</td>\n",
       "      <td>1</td>\n",
       "      <td>26824.5</td>\n",
       "      <td>Male</td>\n",
       "      <td>2005-03-15</td>\n",
       "      <td>NaN</td>\n",
       "      <td>1</td>\n",
       "    </tr>\n",
       "    <tr>\n",
       "      <th>318</th>\n",
       "      <td>HR7971</td>\n",
       "      <td>40</td>\n",
       "      <td>HR</td>\n",
       "      <td>Postgraduate</td>\n",
       "      <td>Referral</td>\n",
       "      <td>3</td>\n",
       "      <td>3.0</td>\n",
       "      <td>6</td>\n",
       "      <td>1</td>\n",
       "      <td>38177.1</td>\n",
       "      <td>Male</td>\n",
       "      <td>2005-03-30</td>\n",
       "      <td>NaN</td>\n",
       "      <td>1</td>\n",
       "    </tr>\n",
       "    <tr>\n",
       "      <th>207</th>\n",
       "      <td>MKT5736</td>\n",
       "      <td>35</td>\n",
       "      <td>Marketing</td>\n",
       "      <td>Undergraduate</td>\n",
       "      <td>Referral</td>\n",
       "      <td>4</td>\n",
       "      <td>1.0</td>\n",
       "      <td>8</td>\n",
       "      <td>1</td>\n",
       "      <td>59143.5</td>\n",
       "      <td>Female</td>\n",
       "      <td>2005-04-19</td>\n",
       "      <td>NaN</td>\n",
       "      <td>1</td>\n",
       "    </tr>\n",
       "    <tr>\n",
       "      <th>456</th>\n",
       "      <td>HR6644</td>\n",
       "      <td>34</td>\n",
       "      <td>HR</td>\n",
       "      <td>Postgraduate</td>\n",
       "      <td>On-Campus</td>\n",
       "      <td>2</td>\n",
       "      <td>2.0</td>\n",
       "      <td>2</td>\n",
       "      <td>1</td>\n",
       "      <td>26824.5</td>\n",
       "      <td>Male</td>\n",
       "      <td>2005-04-27</td>\n",
       "      <td>NaN</td>\n",
       "      <td>1</td>\n",
       "    </tr>\n",
       "    <tr>\n",
       "      <th>272</th>\n",
       "      <td>HR3205</td>\n",
       "      <td>35</td>\n",
       "      <td>HR</td>\n",
       "      <td>Undergraduate</td>\n",
       "      <td>Referral</td>\n",
       "      <td>3</td>\n",
       "      <td>3.0</td>\n",
       "      <td>0</td>\n",
       "      <td>0</td>\n",
       "      <td>38177.1</td>\n",
       "      <td>Female</td>\n",
       "      <td>2005-05-29</td>\n",
       "      <td>NaN</td>\n",
       "      <td>1</td>\n",
       "    </tr>\n",
       "    <tr>\n",
       "      <th>395</th>\n",
       "      <td>HR6881</td>\n",
       "      <td>40</td>\n",
       "      <td>HR</td>\n",
       "      <td>Postgraduate</td>\n",
       "      <td>Referral</td>\n",
       "      <td>3</td>\n",
       "      <td>4.0</td>\n",
       "      <td>4</td>\n",
       "      <td>1</td>\n",
       "      <td>38177.1</td>\n",
       "      <td>Male</td>\n",
       "      <td>2005-06-05</td>\n",
       "      <td>NaN</td>\n",
       "      <td>1</td>\n",
       "    </tr>\n",
       "    <tr>\n",
       "      <th>366</th>\n",
       "      <td>PUR2150</td>\n",
       "      <td>54</td>\n",
       "      <td>Purchasing</td>\n",
       "      <td>Postgraduate</td>\n",
       "      <td>Referral</td>\n",
       "      <td>4</td>\n",
       "      <td>2.0</td>\n",
       "      <td>8</td>\n",
       "      <td>0</td>\n",
       "      <td>59143.5</td>\n",
       "      <td>Male</td>\n",
       "      <td>2005-06-25</td>\n",
       "      <td>NaN</td>\n",
       "      <td>0</td>\n",
       "    </tr>\n",
       "    <tr>\n",
       "      <th>196</th>\n",
       "      <td>HR2986</td>\n",
       "      <td>37</td>\n",
       "      <td>HR</td>\n",
       "      <td>Undergraduate</td>\n",
       "      <td>On-Campus</td>\n",
       "      <td>3</td>\n",
       "      <td>5.0</td>\n",
       "      <td>5</td>\n",
       "      <td>1</td>\n",
       "      <td>38177.1</td>\n",
       "      <td>Female</td>\n",
       "      <td>2005-06-25</td>\n",
       "      <td>NaN</td>\n",
       "      <td>1</td>\n",
       "    </tr>\n",
       "    <tr>\n",
       "      <th>493</th>\n",
       "      <td>MKT6334</td>\n",
       "      <td>41</td>\n",
       "      <td>Marketing</td>\n",
       "      <td>Undergraduate</td>\n",
       "      <td>Walk-in</td>\n",
       "      <td>5</td>\n",
       "      <td>4.0</td>\n",
       "      <td>2</td>\n",
       "      <td>0</td>\n",
       "      <td>78075.0</td>\n",
       "      <td>Male</td>\n",
       "      <td>2005-07-22</td>\n",
       "      <td>NaN</td>\n",
       "      <td>0</td>\n",
       "    </tr>\n",
       "    <tr>\n",
       "      <th>63</th>\n",
       "      <td>SAL8869</td>\n",
       "      <td>52</td>\n",
       "      <td>Sales</td>\n",
       "      <td>Postgraduate</td>\n",
       "      <td>Referral</td>\n",
       "      <td>5</td>\n",
       "      <td>4.0</td>\n",
       "      <td>1</td>\n",
       "      <td>1</td>\n",
       "      <td>78075.0</td>\n",
       "      <td>Male</td>\n",
       "      <td>2005-08-13</td>\n",
       "      <td>NaN</td>\n",
       "      <td>1</td>\n",
       "    </tr>\n",
       "    <tr>\n",
       "      <th>290</th>\n",
       "      <td>SAL9319</td>\n",
       "      <td>45</td>\n",
       "      <td>Sales</td>\n",
       "      <td>Undergraduate</td>\n",
       "      <td>On-Campus</td>\n",
       "      <td>4</td>\n",
       "      <td>3.0</td>\n",
       "      <td>1</td>\n",
       "      <td>0</td>\n",
       "      <td>59143.5</td>\n",
       "      <td>Male</td>\n",
       "      <td>2005-08-21</td>\n",
       "      <td>NaN</td>\n",
       "      <td>1</td>\n",
       "    </tr>\n",
       "    <tr>\n",
       "      <th>99</th>\n",
       "      <td>PUR9154</td>\n",
       "      <td>32</td>\n",
       "      <td>Purchasing</td>\n",
       "      <td>Postgraduate</td>\n",
       "      <td>Referral</td>\n",
       "      <td>5</td>\n",
       "      <td>4.0</td>\n",
       "      <td>3</td>\n",
       "      <td>0</td>\n",
       "      <td>78075.0</td>\n",
       "      <td>Male</td>\n",
       "      <td>2005-08-27</td>\n",
       "      <td>NaN</td>\n",
       "      <td>1</td>\n",
       "    </tr>\n",
       "    <tr>\n",
       "      <th>355</th>\n",
       "      <td>PUR5465</td>\n",
       "      <td>52</td>\n",
       "      <td>Purchasing</td>\n",
       "      <td>Postgraduate</td>\n",
       "      <td>Referral</td>\n",
       "      <td>1</td>\n",
       "      <td>2.0</td>\n",
       "      <td>7</td>\n",
       "      <td>0</td>\n",
       "      <td>21668.4</td>\n",
       "      <td>Female</td>\n",
       "      <td>2005-09-16</td>\n",
       "      <td>NaN</td>\n",
       "      <td>1</td>\n",
       "    </tr>\n",
       "    <tr>\n",
       "      <th>176</th>\n",
       "      <td>TECH4510</td>\n",
       "      <td>36</td>\n",
       "      <td>Technology</td>\n",
       "      <td>Postgraduate</td>\n",
       "      <td>Referral</td>\n",
       "      <td>2</td>\n",
       "      <td>5.0</td>\n",
       "      <td>8</td>\n",
       "      <td>1</td>\n",
       "      <td>26824.5</td>\n",
       "      <td>Female</td>\n",
       "      <td>2005-10-02</td>\n",
       "      <td>NaN</td>\n",
       "      <td>1</td>\n",
       "    </tr>\n",
       "    <tr>\n",
       "      <th>346</th>\n",
       "      <td>TECH6315</td>\n",
       "      <td>53</td>\n",
       "      <td>Technology</td>\n",
       "      <td>Undergraduate</td>\n",
       "      <td>Referral</td>\n",
       "      <td>4</td>\n",
       "      <td>4.0</td>\n",
       "      <td>7</td>\n",
       "      <td>0</td>\n",
       "      <td>59143.5</td>\n",
       "      <td>Female</td>\n",
       "      <td>2005-10-07</td>\n",
       "      <td>NaN</td>\n",
       "      <td>1</td>\n",
       "    </tr>\n",
       "    <tr>\n",
       "      <th>25</th>\n",
       "      <td>SAL3747</td>\n",
       "      <td>53</td>\n",
       "      <td>Sales</td>\n",
       "      <td>Postgraduate</td>\n",
       "      <td>Walk-in</td>\n",
       "      <td>4</td>\n",
       "      <td>5.0</td>\n",
       "      <td>8</td>\n",
       "      <td>1</td>\n",
       "      <td>59143.5</td>\n",
       "      <td>Female</td>\n",
       "      <td>2005-10-08</td>\n",
       "      <td>NaN</td>\n",
       "      <td>1</td>\n",
       "    </tr>\n",
       "    <tr>\n",
       "      <th>40</th>\n",
       "      <td>SAL8513</td>\n",
       "      <td>34</td>\n",
       "      <td>Sales</td>\n",
       "      <td>Postgraduate</td>\n",
       "      <td>On-Campus</td>\n",
       "      <td>4</td>\n",
       "      <td>5.0</td>\n",
       "      <td>2</td>\n",
       "      <td>0</td>\n",
       "      <td>59143.5</td>\n",
       "      <td>Male</td>\n",
       "      <td>2005-10-15</td>\n",
       "      <td>NaN</td>\n",
       "      <td>1</td>\n",
       "    </tr>\n",
       "  </tbody>\n",
       "</table>\n",
       "</div>"
      ],
      "text/plain": [
       "       emp_id  age  department      education    recruitment_type  job_level  \\\n",
       "386  TECH8253   48  Technology  Undergraduate            Referral          5   \n",
       "45    PUR8099   36  Purchasing  Undergraduate           On-Campus          5   \n",
       "360   MKT1830   40   Marketing   Postgraduate             Walk-in          5   \n",
       "161   MKT2636   34   Marketing   Postgraduate           On-Campus          2   \n",
       "375   PUR4672   40  Purchasing   Postgraduate            Referral          2   \n",
       "134    HR4627   44          HR  Undergraduate            Referral          2   \n",
       "9    TECH9322   45  Technology   Postgraduate            Referral          3   \n",
       "274  TECH4444   39  Technology  Undergraduate           On-Campus          2   \n",
       "389   PUR3141   37  Purchasing   Postgraduate             Walk-in          2   \n",
       "239    HR5433   38          HR  Undergraduate           On-Campus          3   \n",
       "5     PUR7265   40  Purchasing  Undergraduate             Walk-in          3   \n",
       "235    HR1098   53          HR   Postgraduate             Walk-in          4   \n",
       "309   MKT8343   46   Marketing  Undergraduate             Walk-in          1   \n",
       "157  TECH2291   36  Technology  Undergraduate             Walk-in          2   \n",
       "469  TECH5171   48  Technology   Postgraduate             Walk-in          1   \n",
       "308    HR8560   41          HR   Postgraduate            Referral          2   \n",
       "132   PUR6915   54  Purchasing  Undergraduate             Walk-in          3   \n",
       "151   PUR2495   54  Purchasing   Postgraduate             Walk-in          5   \n",
       "478  TECH8266   46  Technology   Postgraduate           On-Campus          5   \n",
       "39    SAL9433   39       Sales  Undergraduate             Walk-in          2   \n",
       "94     HR4104   36          HR  Undergraduate             Walk-in          1   \n",
       "95     HR8215   44          HR  Undergraduate            Referral          4   \n",
       "482   MKT8651   38   Marketing   Postgraduate             Walk-in          5   \n",
       "453  TECH8357   45  Technology   Postgraduate             Walk-in          2   \n",
       "148    HR1663   35          HR  Undergraduate             Walk-in          2   \n",
       "203   PUR2959   43  Purchasing   Postgraduate  Recruitment Agency          4   \n",
       "198   SAL3911   44       Sales   Postgraduate           On-Campus          3   \n",
       "345  TECH6222   34  Technology   Postgraduate             Walk-in          3   \n",
       "414    HR6387   41          HR  Undergraduate             Walk-in          1   \n",
       "358    HR5752   33          HR   Postgraduate             Walk-in          1   \n",
       "50     HR4943   37          HR  Undergraduate  Recruitment Agency          5   \n",
       "199   PUR2734   41  Purchasing   Postgraduate             Walk-in          1   \n",
       "455  TECH4766   36  Technology   Postgraduate  Recruitment Agency          2   \n",
       "223   PUR4170   34  Purchasing  Undergraduate             Walk-in          2   \n",
       "318    HR7971   40          HR   Postgraduate            Referral          3   \n",
       "207   MKT5736   35   Marketing  Undergraduate            Referral          4   \n",
       "456    HR6644   34          HR   Postgraduate           On-Campus          2   \n",
       "272    HR3205   35          HR  Undergraduate            Referral          3   \n",
       "395    HR6881   40          HR   Postgraduate            Referral          3   \n",
       "366   PUR2150   54  Purchasing   Postgraduate            Referral          4   \n",
       "196    HR2986   37          HR  Undergraduate           On-Campus          3   \n",
       "493   MKT6334   41   Marketing  Undergraduate             Walk-in          5   \n",
       "63    SAL8869   52       Sales   Postgraduate            Referral          5   \n",
       "290   SAL9319   45       Sales  Undergraduate           On-Campus          4   \n",
       "99    PUR9154   32  Purchasing   Postgraduate            Referral          5   \n",
       "355   PUR5465   52  Purchasing   Postgraduate            Referral          1   \n",
       "176  TECH4510   36  Technology   Postgraduate            Referral          2   \n",
       "346  TECH6315   53  Technology  Undergraduate            Referral          4   \n",
       "25    SAL3747   53       Sales   Postgraduate             Walk-in          4   \n",
       "40    SAL8513   34       Sales   Postgraduate           On-Campus          4   \n",
       "\n",
       "     rating  awards  certifications   salary  gender entry_date  last_raise  \\\n",
       "386     5.0       4               1  78075.0    Male 2004-01-05        0.07   \n",
       "45      5.0       4               0  78075.0  Female 2004-01-16        0.04   \n",
       "360     1.0       8               1  78075.0    Male 2004-01-20        0.08   \n",
       "161     2.0       8               0  26824.5  Female 2004-01-20        0.10   \n",
       "375     3.0       2               1  26824.5    Male 2004-01-22        0.02   \n",
       "134     4.0       8               0  26824.5    Male 2004-02-24        0.01   \n",
       "9       3.0       9               0  38177.1  Female 2004-03-19        0.07   \n",
       "274     3.0       3               1  26824.5  Female 2004-04-13        0.08   \n",
       "389     5.0       8               1  26824.5  Female 2004-04-17        0.02   \n",
       "239     3.0       3               1  38177.1    Male 2004-04-19        0.04   \n",
       "5       3.0       7               1  38177.1    Male 2004-04-22        0.02   \n",
       "235     5.0       3               1  59143.5  Female 2004-06-01        0.09   \n",
       "309     2.0       4               0  21668.4    Male 2004-06-08        0.01   \n",
       "157     3.0       0               1  26824.5  Female 2004-06-20        0.04   \n",
       "469     2.0       7               0  21668.4    Male 2004-07-05        0.05   \n",
       "308     2.0       3               1  26824.5  Female 2004-07-05        0.05   \n",
       "132     3.0       0               0  38177.1    Male 2004-07-13        0.05   \n",
       "151     3.0       4               0  78075.0    Male 2004-07-15        0.05   \n",
       "478     2.0       9               0  78075.0    Male 2004-08-14        0.05   \n",
       "39      1.0       1               1  26824.5  Female 2004-08-19        0.01   \n",
       "94      1.0       0               1  21668.4  Female 2004-08-26        0.09   \n",
       "95      4.0       5               1  59143.5  Female 2004-09-07        0.05   \n",
       "482     2.0       6               0  78075.0  Female 2004-09-16        0.01   \n",
       "453     3.0       0               0  26824.5    Male 2004-10-04        0.09   \n",
       "148     5.0       7               0  26824.5    Male 2004-10-30        0.08   \n",
       "203     1.0       0               1  59143.5    Male 2004-10-30        0.01   \n",
       "198     1.0       1               1  38177.1  Female 2004-11-13         NaN   \n",
       "345     1.0       7               1  38177.1  Female 2004-12-03         NaN   \n",
       "414     1.0       4               1  21668.4  Female 2005-01-12         NaN   \n",
       "358     5.0       4               0  21668.4    Male 2005-02-12         NaN   \n",
       "50      4.0       5               0  78075.0    Male 2005-02-24         NaN   \n",
       "199     3.0       9               0  21668.4  Female 2005-03-12         NaN   \n",
       "455     1.0       3               1  26824.5  Female 2005-03-15         NaN   \n",
       "223     1.0       5               1  26824.5    Male 2005-03-15         NaN   \n",
       "318     3.0       6               1  38177.1    Male 2005-03-30         NaN   \n",
       "207     1.0       8               1  59143.5  Female 2005-04-19         NaN   \n",
       "456     2.0       2               1  26824.5    Male 2005-04-27         NaN   \n",
       "272     3.0       0               0  38177.1  Female 2005-05-29         NaN   \n",
       "395     4.0       4               1  38177.1    Male 2005-06-05         NaN   \n",
       "366     2.0       8               0  59143.5    Male 2005-06-25         NaN   \n",
       "196     5.0       5               1  38177.1  Female 2005-06-25         NaN   \n",
       "493     4.0       2               0  78075.0    Male 2005-07-22         NaN   \n",
       "63      4.0       1               1  78075.0    Male 2005-08-13         NaN   \n",
       "290     3.0       1               0  59143.5    Male 2005-08-21         NaN   \n",
       "99      4.0       3               0  78075.0    Male 2005-08-27         NaN   \n",
       "355     2.0       7               0  21668.4  Female 2005-09-16         NaN   \n",
       "176     5.0       8               1  26824.5  Female 2005-10-02         NaN   \n",
       "346     4.0       7               0  59143.5  Female 2005-10-07         NaN   \n",
       "25      5.0       8               1  59143.5  Female 2005-10-08         NaN   \n",
       "40      5.0       2               0  59143.5    Male 2005-10-15         NaN   \n",
       "\n",
       "     satisfied  \n",
       "386          1  \n",
       "45           1  \n",
       "360          0  \n",
       "161          0  \n",
       "375          1  \n",
       "134          1  \n",
       "9            0  \n",
       "274          1  \n",
       "389          1  \n",
       "239          1  \n",
       "5            1  \n",
       "235          0  \n",
       "309          1  \n",
       "157          1  \n",
       "469          1  \n",
       "308          1  \n",
       "132          0  \n",
       "151          1  \n",
       "478          1  \n",
       "39           1  \n",
       "94           1  \n",
       "95           0  \n",
       "482          1  \n",
       "453          1  \n",
       "148          1  \n",
       "203          0  \n",
       "198          1  \n",
       "345          0  \n",
       "414          1  \n",
       "358          1  \n",
       "50           1  \n",
       "199          1  \n",
       "455          0  \n",
       "223          1  \n",
       "318          1  \n",
       "207          1  \n",
       "456          1  \n",
       "272          1  \n",
       "395          1  \n",
       "366          0  \n",
       "196          1  \n",
       "493          0  \n",
       "63           1  \n",
       "290          1  \n",
       "99           1  \n",
       "355          1  \n",
       "176          1  \n",
       "346          1  \n",
       "25           1  \n",
       "40           1  "
      ]
     },
     "execution_count": 21,
     "metadata": {},
     "output_type": "execute_result"
    }
   ],
   "source": [
    "# Ihre Analysen\n",
    "df.sort_values(by=\"entry_date\").head(50)"
   ]
  },
  {
   "cell_type": "code",
   "execution_count": 22,
   "metadata": {
    "ExecuteTime": {
     "end_time": "2023-05-09T08:04:45.170205Z",
     "start_time": "2023-05-09T08:04:45.161647Z"
    }
   },
   "outputs": [
    {
     "data": {
      "text/plain": [
       "Timestamp('2004-10-30 00:00:00')"
      ]
     },
     "execution_count": 22,
     "metadata": {},
     "output_type": "execute_result"
    }
   ],
   "source": [
    "df[~df[\"last_raise\"].isnull()][\"entry_date\"].max()"
   ]
  },
  {
   "cell_type": "code",
   "execution_count": 23,
   "metadata": {
    "ExecuteTime": {
     "end_time": "2023-05-09T08:04:45.180499Z",
     "start_time": "2023-05-09T08:04:45.173195Z"
    }
   },
   "outputs": [
    {
     "data": {
      "text/plain": [
       "Timestamp('2004-11-13 00:00:00')"
      ]
     },
     "execution_count": 23,
     "metadata": {},
     "output_type": "execute_result"
    }
   ],
   "source": [
    "df[df[\"last_raise\"].isnull()][\"entry_date\"].min()"
   ]
  },
  {
   "cell_type": "code",
   "execution_count": 24,
   "metadata": {
    "ExecuteTime": {
     "end_time": "2023-05-09T08:04:45.192311Z",
     "start_time": "2023-05-09T08:04:45.183738Z"
    }
   },
   "outputs": [
    {
     "data": {
      "text/plain": [
       "Timestamp('2004-10-30 00:00:00')"
      ]
     },
     "execution_count": 24,
     "metadata": {},
     "output_type": "execute_result"
    }
   ],
   "source": [
    "df[\"entry_date\"].quantile(0.05)"
   ]
  },
  {
   "cell_type": "code",
   "execution_count": 25,
   "metadata": {
    "ExecuteTime": {
     "end_time": "2023-05-09T08:04:45.250541Z",
     "start_time": "2023-05-09T08:04:45.195105Z"
    }
   },
   "outputs": [
    {
     "data": {
      "text/plain": [
       "Timestamp('2020-12-17 00:00:00')"
      ]
     },
     "execution_count": 25,
     "metadata": {},
     "output_type": "execute_result"
    }
   ],
   "source": [
    "df[\"entry_date\"].max()"
   ]
  },
  {
   "cell_type": "raw",
   "metadata": {},
   "source": [
    "Ihre Begründung:\n",
    "Wie zu erkennen ist, ist es tatsächlich so, dass alle Personen, die nach dem 30.10.2004 in die Firma eingetreten sind, keine letzte Gehaltserhöhung eingetragen haben. Wenn wir davon ausgehen, dass diese Personen schlichtweg noch keine Gehaltserhöhrung bekommen haben, würden wir die Werte mit 0 ersetzen. Es ist jedoch eher unwahrscheinlich, dass diese Personen seitdem keine Gehaltserhöhung bekommen haben. Der letzte Eintritt ist aus dem Jahr 2020, somit liegen zumindest andere Informationen bis zum Jahr 2020 vor. Wir gehen deshalb davon aus, dass die Informationen zur den Gehaltserhöhungen nicht korrekt übertragen wurden und löschen die Spalte deshalb."
   ]
  },
  {
   "cell_type": "code",
   "execution_count": 26,
   "metadata": {
    "ExecuteTime": {
     "end_time": "2023-05-09T08:04:45.261977Z",
     "start_time": "2023-05-09T08:04:45.256106Z"
    }
   },
   "outputs": [],
   "source": [
    "# Ihre Lösung\n",
    "df = df.drop(\"last_raise\", axis=1)"
   ]
  },
  {
   "cell_type": "markdown",
   "metadata": {},
   "source": [
    "***Hinweis zur Korrektur:*** *Da hier zu viele Werte fehlen, wäre eine Ersetzung der fehlenden Werte nicht sinnvoll.*"
   ]
  },
  {
   "cell_type": "markdown",
   "metadata": {},
   "source": [
    "Eine weitere Spalte mit fehlenden Werten ist `rating`."
   ]
  },
  {
   "cell_type": "code",
   "execution_count": 27,
   "metadata": {
    "ExecuteTime": {
     "end_time": "2023-05-09T08:04:45.273922Z",
     "start_time": "2023-05-09T08:04:45.265246Z"
    }
   },
   "outputs": [
    {
     "data": {
      "text/plain": [
       "29"
      ]
     },
     "execution_count": 27,
     "metadata": {},
     "output_type": "execute_result"
    }
   ],
   "source": [
    "df[\"rating\"].isna().sum()"
   ]
  },
  {
   "cell_type": "markdown",
   "metadata": {},
   "source": [
    "Entscheiden Sie sich hier ebenfalls für eine geeignete Imputation-Strategie und begründen Sie Ihre Wahl."
   ]
  },
  {
   "cell_type": "code",
   "execution_count": 28,
   "metadata": {
    "ExecuteTime": {
     "end_time": "2023-05-09T08:04:45.305328Z",
     "start_time": "2023-05-09T08:04:45.283820Z"
    }
   },
   "outputs": [
    {
     "data": {
      "text/html": [
       "<div>\n",
       "<style scoped>\n",
       "    .dataframe tbody tr th:only-of-type {\n",
       "        vertical-align: middle;\n",
       "    }\n",
       "\n",
       "    .dataframe tbody tr th {\n",
       "        vertical-align: top;\n",
       "    }\n",
       "\n",
       "    .dataframe thead th {\n",
       "        text-align: right;\n",
       "    }\n",
       "</style>\n",
       "<table border=\"1\" class=\"dataframe\">\n",
       "  <thead>\n",
       "    <tr style=\"text-align: right;\">\n",
       "      <th></th>\n",
       "      <th>emp_id</th>\n",
       "      <th>age</th>\n",
       "      <th>department</th>\n",
       "      <th>education</th>\n",
       "      <th>recruitment_type</th>\n",
       "      <th>job_level</th>\n",
       "      <th>rating</th>\n",
       "      <th>awards</th>\n",
       "      <th>certifications</th>\n",
       "      <th>salary</th>\n",
       "      <th>gender</th>\n",
       "      <th>entry_date</th>\n",
       "      <th>satisfied</th>\n",
       "    </tr>\n",
       "  </thead>\n",
       "  <tbody>\n",
       "    <tr>\n",
       "      <th>61</th>\n",
       "      <td>SAL8629</td>\n",
       "      <td>53</td>\n",
       "      <td>Sales</td>\n",
       "      <td>Postgraduate</td>\n",
       "      <td>Recruitment Agency</td>\n",
       "      <td>1</td>\n",
       "      <td>NaN</td>\n",
       "      <td>6</td>\n",
       "      <td>1</td>\n",
       "      <td>21668.4</td>\n",
       "      <td>Male</td>\n",
       "      <td>2020-11-26</td>\n",
       "      <td>1</td>\n",
       "    </tr>\n",
       "    <tr>\n",
       "      <th>67</th>\n",
       "      <td>HR8916</td>\n",
       "      <td>28</td>\n",
       "      <td>HR</td>\n",
       "      <td>Postgraduate</td>\n",
       "      <td>Referral</td>\n",
       "      <td>1</td>\n",
       "      <td>NaN</td>\n",
       "      <td>7</td>\n",
       "      <td>1</td>\n",
       "      <td>21668.4</td>\n",
       "      <td>Female</td>\n",
       "      <td>2020-09-10</td>\n",
       "      <td>0</td>\n",
       "    </tr>\n",
       "    <tr>\n",
       "      <th>69</th>\n",
       "      <td>HR1878</td>\n",
       "      <td>27</td>\n",
       "      <td>HR</td>\n",
       "      <td>Postgraduate</td>\n",
       "      <td>Walk-in</td>\n",
       "      <td>1</td>\n",
       "      <td>NaN</td>\n",
       "      <td>5</td>\n",
       "      <td>0</td>\n",
       "      <td>21668.4</td>\n",
       "      <td>Male</td>\n",
       "      <td>2020-06-01</td>\n",
       "      <td>1</td>\n",
       "    </tr>\n",
       "    <tr>\n",
       "      <th>70</th>\n",
       "      <td>HR5887</td>\n",
       "      <td>30</td>\n",
       "      <td>HR</td>\n",
       "      <td>Undergraduate</td>\n",
       "      <td>Recruitment Agency</td>\n",
       "      <td>1</td>\n",
       "      <td>NaN</td>\n",
       "      <td>0</td>\n",
       "      <td>0</td>\n",
       "      <td>21668.4</td>\n",
       "      <td>Female</td>\n",
       "      <td>2020-05-30</td>\n",
       "      <td>0</td>\n",
       "    </tr>\n",
       "    <tr>\n",
       "      <th>117</th>\n",
       "      <td>TECH3790</td>\n",
       "      <td>45</td>\n",
       "      <td>Technology</td>\n",
       "      <td>Undergraduate</td>\n",
       "      <td>On-Campus</td>\n",
       "      <td>5</td>\n",
       "      <td>NaN</td>\n",
       "      <td>4</td>\n",
       "      <td>0</td>\n",
       "      <td>78075.0</td>\n",
       "      <td>Male</td>\n",
       "      <td>2020-10-18</td>\n",
       "      <td>1</td>\n",
       "    </tr>\n",
       "    <tr>\n",
       "      <th>123</th>\n",
       "      <td>MKT8574</td>\n",
       "      <td>39</td>\n",
       "      <td>Marketing</td>\n",
       "      <td>Undergraduate</td>\n",
       "      <td>Recruitment Agency</td>\n",
       "      <td>5</td>\n",
       "      <td>NaN</td>\n",
       "      <td>3</td>\n",
       "      <td>1</td>\n",
       "      <td>78075.0</td>\n",
       "      <td>Male</td>\n",
       "      <td>2020-01-10</td>\n",
       "      <td>0</td>\n",
       "    </tr>\n",
       "    <tr>\n",
       "      <th>145</th>\n",
       "      <td>HR6530</td>\n",
       "      <td>49</td>\n",
       "      <td>HR</td>\n",
       "      <td>Undergraduate</td>\n",
       "      <td>Referral</td>\n",
       "      <td>2</td>\n",
       "      <td>NaN</td>\n",
       "      <td>9</td>\n",
       "      <td>1</td>\n",
       "      <td>26824.5</td>\n",
       "      <td>Male</td>\n",
       "      <td>2020-10-10</td>\n",
       "      <td>0</td>\n",
       "    </tr>\n",
       "    <tr>\n",
       "      <th>184</th>\n",
       "      <td>HR8777</td>\n",
       "      <td>44</td>\n",
       "      <td>HR</td>\n",
       "      <td>Undergraduate</td>\n",
       "      <td>On-Campus</td>\n",
       "      <td>5</td>\n",
       "      <td>NaN</td>\n",
       "      <td>3</td>\n",
       "      <td>0</td>\n",
       "      <td>78075.0</td>\n",
       "      <td>Male</td>\n",
       "      <td>2020-03-19</td>\n",
       "      <td>0</td>\n",
       "    </tr>\n",
       "    <tr>\n",
       "      <th>222</th>\n",
       "      <td>PUR8400</td>\n",
       "      <td>48</td>\n",
       "      <td>Purchasing</td>\n",
       "      <td>Postgraduate</td>\n",
       "      <td>Recruitment Agency</td>\n",
       "      <td>5</td>\n",
       "      <td>NaN</td>\n",
       "      <td>9</td>\n",
       "      <td>1</td>\n",
       "      <td>78075.0</td>\n",
       "      <td>Male</td>\n",
       "      <td>2020-05-14</td>\n",
       "      <td>1</td>\n",
       "    </tr>\n",
       "    <tr>\n",
       "      <th>236</th>\n",
       "      <td>TECH3200</td>\n",
       "      <td>45</td>\n",
       "      <td>Technology</td>\n",
       "      <td>Postgraduate</td>\n",
       "      <td>Referral</td>\n",
       "      <td>3</td>\n",
       "      <td>NaN</td>\n",
       "      <td>0</td>\n",
       "      <td>0</td>\n",
       "      <td>38177.1</td>\n",
       "      <td>Male</td>\n",
       "      <td>2020-04-06</td>\n",
       "      <td>1</td>\n",
       "    </tr>\n",
       "    <tr>\n",
       "      <th>283</th>\n",
       "      <td>MKT1190</td>\n",
       "      <td>49</td>\n",
       "      <td>Marketing</td>\n",
       "      <td>Undergraduate</td>\n",
       "      <td>Recruitment Agency</td>\n",
       "      <td>1</td>\n",
       "      <td>NaN</td>\n",
       "      <td>1</td>\n",
       "      <td>0</td>\n",
       "      <td>21668.4</td>\n",
       "      <td>Male</td>\n",
       "      <td>2020-12-16</td>\n",
       "      <td>1</td>\n",
       "    </tr>\n",
       "    <tr>\n",
       "      <th>323</th>\n",
       "      <td>TECH3368</td>\n",
       "      <td>29</td>\n",
       "      <td>Technology</td>\n",
       "      <td>Postgraduate</td>\n",
       "      <td>Recruitment Agency</td>\n",
       "      <td>1</td>\n",
       "      <td>NaN</td>\n",
       "      <td>4</td>\n",
       "      <td>0</td>\n",
       "      <td>21668.4</td>\n",
       "      <td>Male</td>\n",
       "      <td>2020-10-27</td>\n",
       "      <td>0</td>\n",
       "    </tr>\n",
       "    <tr>\n",
       "      <th>343</th>\n",
       "      <td>MKT4051</td>\n",
       "      <td>26</td>\n",
       "      <td>Marketing</td>\n",
       "      <td>Undergraduate</td>\n",
       "      <td>Referral</td>\n",
       "      <td>3</td>\n",
       "      <td>NaN</td>\n",
       "      <td>3</td>\n",
       "      <td>0</td>\n",
       "      <td>38177.1</td>\n",
       "      <td>Female</td>\n",
       "      <td>2020-11-09</td>\n",
       "      <td>1</td>\n",
       "    </tr>\n",
       "    <tr>\n",
       "      <th>356</th>\n",
       "      <td>HR1635</td>\n",
       "      <td>53</td>\n",
       "      <td>HR</td>\n",
       "      <td>Undergraduate</td>\n",
       "      <td>On-Campus</td>\n",
       "      <td>1</td>\n",
       "      <td>NaN</td>\n",
       "      <td>3</td>\n",
       "      <td>1</td>\n",
       "      <td>21668.4</td>\n",
       "      <td>Male</td>\n",
       "      <td>2020-12-04</td>\n",
       "      <td>0</td>\n",
       "    </tr>\n",
       "    <tr>\n",
       "      <th>357</th>\n",
       "      <td>HR2693</td>\n",
       "      <td>28</td>\n",
       "      <td>HR</td>\n",
       "      <td>Postgraduate</td>\n",
       "      <td>Recruitment Agency</td>\n",
       "      <td>3</td>\n",
       "      <td>NaN</td>\n",
       "      <td>6</td>\n",
       "      <td>1</td>\n",
       "      <td>38177.1</td>\n",
       "      <td>Female</td>\n",
       "      <td>2020-04-15</td>\n",
       "      <td>1</td>\n",
       "    </tr>\n",
       "    <tr>\n",
       "      <th>361</th>\n",
       "      <td>HR6177</td>\n",
       "      <td>25</td>\n",
       "      <td>HR</td>\n",
       "      <td>Undergraduate</td>\n",
       "      <td>On-Campus</td>\n",
       "      <td>1</td>\n",
       "      <td>NaN</td>\n",
       "      <td>8</td>\n",
       "      <td>0</td>\n",
       "      <td>21668.4</td>\n",
       "      <td>Female</td>\n",
       "      <td>2020-11-16</td>\n",
       "      <td>1</td>\n",
       "    </tr>\n",
       "    <tr>\n",
       "      <th>365</th>\n",
       "      <td>TECH3838</td>\n",
       "      <td>35</td>\n",
       "      <td>Technology</td>\n",
       "      <td>Undergraduate</td>\n",
       "      <td>Recruitment Agency</td>\n",
       "      <td>5</td>\n",
       "      <td>NaN</td>\n",
       "      <td>4</td>\n",
       "      <td>1</td>\n",
       "      <td>78075.0</td>\n",
       "      <td>Male</td>\n",
       "      <td>2020-05-30</td>\n",
       "      <td>0</td>\n",
       "    </tr>\n",
       "    <tr>\n",
       "      <th>369</th>\n",
       "      <td>TECH2664</td>\n",
       "      <td>51</td>\n",
       "      <td>Technology</td>\n",
       "      <td>Undergraduate</td>\n",
       "      <td>On-Campus</td>\n",
       "      <td>2</td>\n",
       "      <td>NaN</td>\n",
       "      <td>6</td>\n",
       "      <td>0</td>\n",
       "      <td>26824.5</td>\n",
       "      <td>Male</td>\n",
       "      <td>2020-02-21</td>\n",
       "      <td>1</td>\n",
       "    </tr>\n",
       "    <tr>\n",
       "      <th>388</th>\n",
       "      <td>HR6188</td>\n",
       "      <td>46</td>\n",
       "      <td>HR</td>\n",
       "      <td>Postgraduate</td>\n",
       "      <td>Referral</td>\n",
       "      <td>1</td>\n",
       "      <td>NaN</td>\n",
       "      <td>2</td>\n",
       "      <td>0</td>\n",
       "      <td>21668.4</td>\n",
       "      <td>Female</td>\n",
       "      <td>2020-04-11</td>\n",
       "      <td>1</td>\n",
       "    </tr>\n",
       "    <tr>\n",
       "      <th>393</th>\n",
       "      <td>MKT8421</td>\n",
       "      <td>29</td>\n",
       "      <td>Marketing</td>\n",
       "      <td>Postgraduate</td>\n",
       "      <td>Recruitment Agency</td>\n",
       "      <td>4</td>\n",
       "      <td>NaN</td>\n",
       "      <td>7</td>\n",
       "      <td>0</td>\n",
       "      <td>59143.5</td>\n",
       "      <td>Female</td>\n",
       "      <td>2020-04-05</td>\n",
       "      <td>1</td>\n",
       "    </tr>\n",
       "    <tr>\n",
       "      <th>398</th>\n",
       "      <td>HR8390</td>\n",
       "      <td>46</td>\n",
       "      <td>HR</td>\n",
       "      <td>Postgraduate</td>\n",
       "      <td>Recruitment Agency</td>\n",
       "      <td>3</td>\n",
       "      <td>NaN</td>\n",
       "      <td>7</td>\n",
       "      <td>0</td>\n",
       "      <td>38177.1</td>\n",
       "      <td>Female</td>\n",
       "      <td>2020-11-22</td>\n",
       "      <td>0</td>\n",
       "    </tr>\n",
       "    <tr>\n",
       "      <th>404</th>\n",
       "      <td>MKT6878</td>\n",
       "      <td>29</td>\n",
       "      <td>Marketing</td>\n",
       "      <td>Postgraduate</td>\n",
       "      <td>Recruitment Agency</td>\n",
       "      <td>5</td>\n",
       "      <td>NaN</td>\n",
       "      <td>8</td>\n",
       "      <td>1</td>\n",
       "      <td>78075.0</td>\n",
       "      <td>Male</td>\n",
       "      <td>2020-02-11</td>\n",
       "      <td>1</td>\n",
       "    </tr>\n",
       "    <tr>\n",
       "      <th>416</th>\n",
       "      <td>PUR6536</td>\n",
       "      <td>41</td>\n",
       "      <td>Purchasing</td>\n",
       "      <td>Undergraduate</td>\n",
       "      <td>Referral</td>\n",
       "      <td>5</td>\n",
       "      <td>NaN</td>\n",
       "      <td>0</td>\n",
       "      <td>1</td>\n",
       "      <td>78075.0</td>\n",
       "      <td>Male</td>\n",
       "      <td>2020-12-17</td>\n",
       "      <td>1</td>\n",
       "    </tr>\n",
       "    <tr>\n",
       "      <th>440</th>\n",
       "      <td>MKT8164</td>\n",
       "      <td>43</td>\n",
       "      <td>Marketing</td>\n",
       "      <td>Postgraduate</td>\n",
       "      <td>Referral</td>\n",
       "      <td>2</td>\n",
       "      <td>NaN</td>\n",
       "      <td>3</td>\n",
       "      <td>1</td>\n",
       "      <td>26824.5</td>\n",
       "      <td>Male</td>\n",
       "      <td>2020-04-26</td>\n",
       "      <td>0</td>\n",
       "    </tr>\n",
       "    <tr>\n",
       "      <th>451</th>\n",
       "      <td>MKT3143</td>\n",
       "      <td>40</td>\n",
       "      <td>Marketing</td>\n",
       "      <td>Postgraduate</td>\n",
       "      <td>Referral</td>\n",
       "      <td>2</td>\n",
       "      <td>NaN</td>\n",
       "      <td>3</td>\n",
       "      <td>1</td>\n",
       "      <td>26824.5</td>\n",
       "      <td>Female</td>\n",
       "      <td>2020-02-14</td>\n",
       "      <td>1</td>\n",
       "    </tr>\n",
       "    <tr>\n",
       "      <th>458</th>\n",
       "      <td>SAL5968</td>\n",
       "      <td>46</td>\n",
       "      <td>Sales</td>\n",
       "      <td>Postgraduate</td>\n",
       "      <td>On-Campus</td>\n",
       "      <td>2</td>\n",
       "      <td>NaN</td>\n",
       "      <td>9</td>\n",
       "      <td>1</td>\n",
       "      <td>26824.5</td>\n",
       "      <td>Male</td>\n",
       "      <td>2020-06-03</td>\n",
       "      <td>1</td>\n",
       "    </tr>\n",
       "    <tr>\n",
       "      <th>483</th>\n",
       "      <td>PUR4636</td>\n",
       "      <td>27</td>\n",
       "      <td>Purchasing</td>\n",
       "      <td>Postgraduate</td>\n",
       "      <td>Recruitment Agency</td>\n",
       "      <td>4</td>\n",
       "      <td>NaN</td>\n",
       "      <td>1</td>\n",
       "      <td>0</td>\n",
       "      <td>59143.5</td>\n",
       "      <td>Female</td>\n",
       "      <td>2020-07-22</td>\n",
       "      <td>0</td>\n",
       "    </tr>\n",
       "    <tr>\n",
       "      <th>487</th>\n",
       "      <td>TECH8860</td>\n",
       "      <td>51</td>\n",
       "      <td>Technology</td>\n",
       "      <td>Undergraduate</td>\n",
       "      <td>On-Campus</td>\n",
       "      <td>5</td>\n",
       "      <td>NaN</td>\n",
       "      <td>8</td>\n",
       "      <td>0</td>\n",
       "      <td>78075.0</td>\n",
       "      <td>Male</td>\n",
       "      <td>2020-02-25</td>\n",
       "      <td>1</td>\n",
       "    </tr>\n",
       "    <tr>\n",
       "      <th>497</th>\n",
       "      <td>MKT7801</td>\n",
       "      <td>34</td>\n",
       "      <td>Marketing</td>\n",
       "      <td>Postgraduate</td>\n",
       "      <td>On-Campus</td>\n",
       "      <td>1</td>\n",
       "      <td>NaN</td>\n",
       "      <td>2</td>\n",
       "      <td>0</td>\n",
       "      <td>21668.4</td>\n",
       "      <td>Male</td>\n",
       "      <td>2020-10-20</td>\n",
       "      <td>1</td>\n",
       "    </tr>\n",
       "  </tbody>\n",
       "</table>\n",
       "</div>"
      ],
      "text/plain": [
       "       emp_id  age  department      education    recruitment_type  job_level  \\\n",
       "61    SAL8629   53       Sales   Postgraduate  Recruitment Agency          1   \n",
       "67     HR8916   28          HR   Postgraduate            Referral          1   \n",
       "69     HR1878   27          HR   Postgraduate             Walk-in          1   \n",
       "70     HR5887   30          HR  Undergraduate  Recruitment Agency          1   \n",
       "117  TECH3790   45  Technology  Undergraduate           On-Campus          5   \n",
       "123   MKT8574   39   Marketing  Undergraduate  Recruitment Agency          5   \n",
       "145    HR6530   49          HR  Undergraduate            Referral          2   \n",
       "184    HR8777   44          HR  Undergraduate           On-Campus          5   \n",
       "222   PUR8400   48  Purchasing   Postgraduate  Recruitment Agency          5   \n",
       "236  TECH3200   45  Technology   Postgraduate            Referral          3   \n",
       "283   MKT1190   49   Marketing  Undergraduate  Recruitment Agency          1   \n",
       "323  TECH3368   29  Technology   Postgraduate  Recruitment Agency          1   \n",
       "343   MKT4051   26   Marketing  Undergraduate            Referral          3   \n",
       "356    HR1635   53          HR  Undergraduate           On-Campus          1   \n",
       "357    HR2693   28          HR   Postgraduate  Recruitment Agency          3   \n",
       "361    HR6177   25          HR  Undergraduate           On-Campus          1   \n",
       "365  TECH3838   35  Technology  Undergraduate  Recruitment Agency          5   \n",
       "369  TECH2664   51  Technology  Undergraduate           On-Campus          2   \n",
       "388    HR6188   46          HR   Postgraduate            Referral          1   \n",
       "393   MKT8421   29   Marketing   Postgraduate  Recruitment Agency          4   \n",
       "398    HR8390   46          HR   Postgraduate  Recruitment Agency          3   \n",
       "404   MKT6878   29   Marketing   Postgraduate  Recruitment Agency          5   \n",
       "416   PUR6536   41  Purchasing  Undergraduate            Referral          5   \n",
       "440   MKT8164   43   Marketing   Postgraduate            Referral          2   \n",
       "451   MKT3143   40   Marketing   Postgraduate            Referral          2   \n",
       "458   SAL5968   46       Sales   Postgraduate           On-Campus          2   \n",
       "483   PUR4636   27  Purchasing   Postgraduate  Recruitment Agency          4   \n",
       "487  TECH8860   51  Technology  Undergraduate           On-Campus          5   \n",
       "497   MKT7801   34   Marketing   Postgraduate           On-Campus          1   \n",
       "\n",
       "     rating  awards  certifications   salary  gender entry_date  satisfied  \n",
       "61      NaN       6               1  21668.4    Male 2020-11-26          1  \n",
       "67      NaN       7               1  21668.4  Female 2020-09-10          0  \n",
       "69      NaN       5               0  21668.4    Male 2020-06-01          1  \n",
       "70      NaN       0               0  21668.4  Female 2020-05-30          0  \n",
       "117     NaN       4               0  78075.0    Male 2020-10-18          1  \n",
       "123     NaN       3               1  78075.0    Male 2020-01-10          0  \n",
       "145     NaN       9               1  26824.5    Male 2020-10-10          0  \n",
       "184     NaN       3               0  78075.0    Male 2020-03-19          0  \n",
       "222     NaN       9               1  78075.0    Male 2020-05-14          1  \n",
       "236     NaN       0               0  38177.1    Male 2020-04-06          1  \n",
       "283     NaN       1               0  21668.4    Male 2020-12-16          1  \n",
       "323     NaN       4               0  21668.4    Male 2020-10-27          0  \n",
       "343     NaN       3               0  38177.1  Female 2020-11-09          1  \n",
       "356     NaN       3               1  21668.4    Male 2020-12-04          0  \n",
       "357     NaN       6               1  38177.1  Female 2020-04-15          1  \n",
       "361     NaN       8               0  21668.4  Female 2020-11-16          1  \n",
       "365     NaN       4               1  78075.0    Male 2020-05-30          0  \n",
       "369     NaN       6               0  26824.5    Male 2020-02-21          1  \n",
       "388     NaN       2               0  21668.4  Female 2020-04-11          1  \n",
       "393     NaN       7               0  59143.5  Female 2020-04-05          1  \n",
       "398     NaN       7               0  38177.1  Female 2020-11-22          0  \n",
       "404     NaN       8               1  78075.0    Male 2020-02-11          1  \n",
       "416     NaN       0               1  78075.0    Male 2020-12-17          1  \n",
       "440     NaN       3               1  26824.5    Male 2020-04-26          0  \n",
       "451     NaN       3               1  26824.5  Female 2020-02-14          1  \n",
       "458     NaN       9               1  26824.5    Male 2020-06-03          1  \n",
       "483     NaN       1               0  59143.5  Female 2020-07-22          0  \n",
       "487     NaN       8               0  78075.0    Male 2020-02-25          1  \n",
       "497     NaN       2               0  21668.4    Male 2020-10-20          1  "
      ]
     },
     "execution_count": 28,
     "metadata": {},
     "output_type": "execute_result"
    }
   ],
   "source": [
    "# Ihre Analysen\n",
    "df[df['rating'].isnull()]"
   ]
  },
  {
   "cell_type": "raw",
   "metadata": {},
   "source": [
    "Ihre Begründung:\n",
    "Wie in metadata.txt zu sehen, steht in der Spalte die Bewertung der Angestellten aus dem letzten Jahr. Die Werte, die fehlen, gehören zu Angestellten, die im Jahr 2020 eingestellt wurden. Wir wissen aus dem Newsletter, dass die Daten Anfang des Jahres 2021 erhoben wurden. Möglicherweise waren die entsprechenden Angestellten noch nicht lange genug in der Firma, so dass keine Bewertung vorgenommen wurde. Aus diesem Grund ersetzen wir die fehlenden Werte mit dem String \"Unavailable\". Es wäre auch denkbar, die Werte mit der Zahl 0 zu ersetzen. Vorteil wäre, dass die Spalte dann nur aus numerischen Wetren besteht. Allerdings sind es ordinale Werte, da es eine Ordnung in den Zahlen gibt (1 ist die schlechteste und 5 die beste Bewertung). Die Zahl 0 würde also eine Ordnung implizieren, die nicht vorhanden sind (Die Angestellten sind nicht schlechter, sondern einfach nicht bewertet)."
   ]
  },
  {
   "cell_type": "code",
   "execution_count": 29,
   "metadata": {
    "ExecuteTime": {
     "end_time": "2023-05-09T08:04:45.354742Z",
     "start_time": "2023-05-09T08:04:45.348703Z"
    }
   },
   "outputs": [],
   "source": [
    "# Ihre Lösung\n",
    "df[\"rating\"] = df[\"rating\"].fillna(\"Unavailable\")"
   ]
  },
  {
   "cell_type": "markdown",
   "metadata": {},
   "source": [
    "***Hinweis zur Korrektur:*** *Auch hier ist die Begründung für die gewählte Strategie entscheidend. Es können auch Argumente dafür gefunden werden, statt \"Unavailable\" o.ä. die Imputation mit einem numerischen Wert vorzunehmen. Hier wäre z.B. der Median denkbar, der Mean hingegen wäre keine gute Strategie, da als Rating nur ganze Zahlen in Frage kommen.*"
   ]
  },
  {
   "cell_type": "markdown",
   "metadata": {},
   "source": [
    "## Ausreißer"
   ]
  },
  {
   "cell_type": "markdown",
   "metadata": {},
   "source": [
    "Betrachten wir die Histogramme für die Spalten `awards` und `certifications`:"
   ]
  },
  {
   "cell_type": "code",
   "execution_count": 30,
   "metadata": {
    "ExecuteTime": {
     "end_time": "2023-05-09T08:04:46.427460Z",
     "start_time": "2023-05-09T08:04:45.357169Z"
    }
   },
   "outputs": [
    {
     "data": {
      "image/png": "[encoded data removed]",
      "text/plain": [
       "<Figure size 640x480 with 1 Axes>"
      ]
     },
     "metadata": {},
     "output_type": "display_data"
    },
    {
     "data": {
      "image/png": "[encoded data removed]",
      "text/plain": [
       "<Figure size 640x480 with 1 Axes>"
      ]
     },
     "metadata": {},
     "output_type": "display_data"
    }
   ],
   "source": [
    "for col in [\"awards\", \"certifications\"]:\n",
    "    df.hist(col)"
   ]
  },
  {
   "cell_type": "markdown",
   "metadata": {},
   "source": [
    "In diesen beiden Spalten scheint es Ausreißer in Werten zu geben."
   ]
  },
  {
   "cell_type": "markdown",
   "metadata": {},
   "source": [
    "Betrachten wir zunächst die Spalte `awards`. Identifizieren Sie die Zeile, in der der Ausreißer vorkommt, und überlegen Sie sich eine geeignete Strategie, um mit diesem Wert umzugehen."
   ]
  },
  {
   "cell_type": "code",
   "execution_count": 31,
   "metadata": {
    "ExecuteTime": {
     "end_time": "2023-05-09T08:04:46.455902Z",
     "start_time": "2023-05-09T08:04:46.430165Z"
    }
   },
   "outputs": [
    {
     "data": {
      "text/plain": [
       "3     57\n",
       "8     56\n",
       "0     52\n",
       "5     52\n",
       "4     51\n",
       "7     50\n",
       "2     48\n",
       "9     46\n",
       "6     46\n",
       "1     41\n",
       "25     1\n",
       "Name: awards, dtype: int64"
      ]
     },
     "execution_count": 31,
     "metadata": {},
     "output_type": "execute_result"
    }
   ],
   "source": [
    "# Ihre Analysen\n",
    "df[\"awards\"].value_counts()"
   ]
  },
  {
   "cell_type": "code",
   "execution_count": 32,
   "metadata": {
    "ExecuteTime": {
     "end_time": "2023-05-09T08:04:46.479894Z",
     "start_time": "2023-05-09T08:04:46.461199Z"
    }
   },
   "outputs": [
    {
     "data": {
      "text/html": [
       "<div>\n",
       "<style scoped>\n",
       "    .dataframe tbody tr th:only-of-type {\n",
       "        vertical-align: middle;\n",
       "    }\n",
       "\n",
       "    .dataframe tbody tr th {\n",
       "        vertical-align: top;\n",
       "    }\n",
       "\n",
       "    .dataframe thead th {\n",
       "        text-align: right;\n",
       "    }\n",
       "</style>\n",
       "<table border=\"1\" class=\"dataframe\">\n",
       "  <thead>\n",
       "    <tr style=\"text-align: right;\">\n",
       "      <th></th>\n",
       "      <th>emp_id</th>\n",
       "      <th>age</th>\n",
       "      <th>department</th>\n",
       "      <th>education</th>\n",
       "      <th>recruitment_type</th>\n",
       "      <th>job_level</th>\n",
       "      <th>rating</th>\n",
       "      <th>awards</th>\n",
       "      <th>certifications</th>\n",
       "      <th>salary</th>\n",
       "      <th>gender</th>\n",
       "      <th>entry_date</th>\n",
       "      <th>satisfied</th>\n",
       "    </tr>\n",
       "  </thead>\n",
       "  <tbody>\n",
       "    <tr>\n",
       "      <th>233</th>\n",
       "      <td>TECH3557</td>\n",
       "      <td>55</td>\n",
       "      <td>Technology</td>\n",
       "      <td>Undergraduate</td>\n",
       "      <td>Referral</td>\n",
       "      <td>5</td>\n",
       "      <td>1.0</td>\n",
       "      <td>25</td>\n",
       "      <td>0</td>\n",
       "      <td>78075.0</td>\n",
       "      <td>Female</td>\n",
       "      <td>2010-05-02</td>\n",
       "      <td>1</td>\n",
       "    </tr>\n",
       "  </tbody>\n",
       "</table>\n",
       "</div>"
      ],
      "text/plain": [
       "       emp_id  age  department      education recruitment_type  job_level  \\\n",
       "233  TECH3557   55  Technology  Undergraduate         Referral          5   \n",
       "\n",
       "    rating  awards  certifications   salary  gender entry_date  satisfied  \n",
       "233    1.0      25               0  78075.0  Female 2010-05-02          1  "
      ]
     },
     "execution_count": 32,
     "metadata": {},
     "output_type": "execute_result"
    }
   ],
   "source": [
    "df[df[\"awards\"]==25]"
   ]
  },
  {
   "cell_type": "raw",
   "metadata": {},
   "source": [
    "Ihre Begründung:\n",
    "Im Newsletter ist zu lesen, wie einer Mitarbeiterin zur 25. Auszeichnung gratuliert wird, von daher können wir davon ausgehen, dass es sich hier um einen wahren Wert handelt."
   ]
  },
  {
   "cell_type": "code",
   "execution_count": 33,
   "metadata": {
    "ExecuteTime": {
     "end_time": "2023-05-09T08:04:46.490807Z",
     "start_time": "2023-05-09T08:04:46.484207Z"
    }
   },
   "outputs": [],
   "source": [
    "# Ihre Lösung\n",
    "# keine Aktion notwendig"
   ]
  },
  {
   "cell_type": "markdown",
   "metadata": {},
   "source": [
    "***Hinweis zur Korrektur:*** *Hier soll erkannt werden, dass der Wert valide ist und deshalb keine Aktion notwendig ist.*"
   ]
  },
  {
   "cell_type": "markdown",
   "metadata": {},
   "source": [
    "Wenden wir uns nun der Spalte `certifications` zu. Identifizieren Sie auch hier den Ausreißer und überlegen Sie sich eine geeignete Strategie, um mit diesem Wert umzugehen."
   ]
  },
  {
   "cell_type": "code",
   "execution_count": 34,
   "metadata": {
    "ExecuteTime": {
     "end_time": "2023-05-09T08:04:46.559696Z",
     "start_time": "2023-05-09T08:04:46.495214Z"
    }
   },
   "outputs": [
    {
     "data": {
      "text/plain": [
       "0    251\n",
       "1    248\n",
       "9      1\n",
       "Name: certifications, dtype: int64"
      ]
     },
     "execution_count": 34,
     "metadata": {},
     "output_type": "execute_result"
    }
   ],
   "source": [
    "# Ihre Analysen\n",
    "df[\"certifications\"].value_counts()"
   ]
  },
  {
   "cell_type": "code",
   "execution_count": 35,
   "metadata": {
    "ExecuteTime": {
     "end_time": "2023-05-09T08:04:46.584933Z",
     "start_time": "2023-05-09T08:04:46.564065Z"
    }
   },
   "outputs": [
    {
     "data": {
      "text/html": [
       "<div>\n",
       "<style scoped>\n",
       "    .dataframe tbody tr th:only-of-type {\n",
       "        vertical-align: middle;\n",
       "    }\n",
       "\n",
       "    .dataframe tbody tr th {\n",
       "        vertical-align: top;\n",
       "    }\n",
       "\n",
       "    .dataframe thead th {\n",
       "        text-align: right;\n",
       "    }\n",
       "</style>\n",
       "<table border=\"1\" class=\"dataframe\">\n",
       "  <thead>\n",
       "    <tr style=\"text-align: right;\">\n",
       "      <th></th>\n",
       "      <th>emp_id</th>\n",
       "      <th>age</th>\n",
       "      <th>department</th>\n",
       "      <th>education</th>\n",
       "      <th>recruitment_type</th>\n",
       "      <th>job_level</th>\n",
       "      <th>rating</th>\n",
       "      <th>awards</th>\n",
       "      <th>certifications</th>\n",
       "      <th>salary</th>\n",
       "      <th>gender</th>\n",
       "      <th>entry_date</th>\n",
       "      <th>satisfied</th>\n",
       "    </tr>\n",
       "  </thead>\n",
       "  <tbody>\n",
       "    <tr>\n",
       "      <th>129</th>\n",
       "      <td>HR2059</td>\n",
       "      <td>42</td>\n",
       "      <td>HR</td>\n",
       "      <td>Postgraduate</td>\n",
       "      <td>Referral</td>\n",
       "      <td>4</td>\n",
       "      <td>1.0</td>\n",
       "      <td>2</td>\n",
       "      <td>9</td>\n",
       "      <td>59143.5</td>\n",
       "      <td>Female</td>\n",
       "      <td>2014-04-09</td>\n",
       "      <td>1</td>\n",
       "    </tr>\n",
       "  </tbody>\n",
       "</table>\n",
       "</div>"
      ],
      "text/plain": [
       "     emp_id  age department     education recruitment_type  job_level rating  \\\n",
       "129  HR2059   42         HR  Postgraduate         Referral          4    1.0   \n",
       "\n",
       "     awards  certifications   salary  gender entry_date  satisfied  \n",
       "129       2               9  59143.5  Female 2014-04-09          1  "
      ]
     },
     "execution_count": 35,
     "metadata": {},
     "output_type": "execute_result"
    }
   ],
   "source": [
    "df[df[\"certifications\"]==9]"
   ]
  },
  {
   "cell_type": "raw",
   "metadata": {},
   "source": [
    "Ihre Begründung:\n",
    "In einer Zeile ist für certifications eine 9 eingetragen. Aus der Datei metadata.txt wissen wir, dass hier jedoch nur die Werte 0 (= nicht zertifiziert) oder 1 (= zertifiziert) vorkommen dürfen. Es ist denkbar, dass hier ein Tippfehler vorliegt und statt 9 eigentlich eine 0 eingetragen werden sollte. Wir entscheiden uns deshalb dafür, den Wert entsprechend zu ersetzen. Alternativ wäre es bspw. auch denkbar, die entsprechende Zeile zu löschen, da der korrekte Wert nicht ermittelt werden kann."
   ]
  },
  {
   "cell_type": "code",
   "execution_count": 36,
   "metadata": {
    "ExecuteTime": {
     "end_time": "2023-05-09T08:04:46.595090Z",
     "start_time": "2023-05-09T08:04:46.589325Z"
    }
   },
   "outputs": [],
   "source": [
    "# Ihre Lösung\n",
    "idx = df[df[\"certifications\"]==9].index\n",
    "df.loc[idx, \"certifications\"] = 0"
   ]
  },
  {
   "cell_type": "markdown",
   "metadata": {},
   "source": [
    "***Hinweis zur Korrektur:*** *Wie beschrieben sind unterschiedliche Lösungen denkbar, die Begründung ist entscheidend. Es sollte jedoch auch hier keine Mean-Imputation gewählt werden. Es sind nur Lösungen als korrekt zu bewerten, bei denen der Wert als Ergebnis entweder gelöscht oder durch 0 oder 1 ersetzt wurde (und gut begründet wurde).*"
   ]
  },
  {
   "cell_type": "markdown",
   "metadata": {},
   "source": [
    "## Spalten/Zeilen löschen"
   ]
  },
  {
   "cell_type": "markdown",
   "metadata": {},
   "source": [
    "Betrachten wir die Spalte `emp_id`. Aus wie vielen einzigartigen Werten besteht diese?"
   ]
  },
  {
   "cell_type": "code",
   "execution_count": 37,
   "metadata": {
    "ExecuteTime": {
     "end_time": "2023-05-09T08:04:46.652674Z",
     "start_time": "2023-05-09T08:04:46.598627Z"
    }
   },
   "outputs": [
    {
     "data": {
      "text/plain": [
       "499"
      ]
     },
     "execution_count": 37,
     "metadata": {},
     "output_type": "execute_result"
    }
   ],
   "source": [
    "# Ihre Lösung\n",
    "df[\"emp_id\"].nunique()"
   ]
  },
  {
   "cell_type": "markdown",
   "metadata": {},
   "source": [
    "Scheinbar gibt es eine ID doppelt. Schauen wir uns zunächst die Zeilen an, die die gleiche `emp_id` besitzen. Identifizieren Sie hierzu, um welche ID es sich handelt und lassen Sie sich dann die zugehörigen Zeilen ausgeben."
   ]
  },
  {
   "cell_type": "code",
   "execution_count": 38,
   "metadata": {
    "ExecuteTime": {
     "end_time": "2023-05-09T08:04:46.684348Z",
     "start_time": "2023-05-09T08:04:46.655794Z"
    }
   },
   "outputs": [
    {
     "data": {
      "text/html": [
       "<div>\n",
       "<style scoped>\n",
       "    .dataframe tbody tr th:only-of-type {\n",
       "        vertical-align: middle;\n",
       "    }\n",
       "\n",
       "    .dataframe tbody tr th {\n",
       "        vertical-align: top;\n",
       "    }\n",
       "\n",
       "    .dataframe thead th {\n",
       "        text-align: right;\n",
       "    }\n",
       "</style>\n",
       "<table border=\"1\" class=\"dataframe\">\n",
       "  <thead>\n",
       "    <tr style=\"text-align: right;\">\n",
       "      <th></th>\n",
       "      <th>emp_id</th>\n",
       "      <th>age</th>\n",
       "      <th>department</th>\n",
       "      <th>education</th>\n",
       "      <th>recruitment_type</th>\n",
       "      <th>job_level</th>\n",
       "      <th>rating</th>\n",
       "      <th>awards</th>\n",
       "      <th>certifications</th>\n",
       "      <th>salary</th>\n",
       "      <th>gender</th>\n",
       "      <th>entry_date</th>\n",
       "      <th>satisfied</th>\n",
       "    </tr>\n",
       "  </thead>\n",
       "  <tbody>\n",
       "    <tr>\n",
       "      <th>188</th>\n",
       "      <td>MKT7287</td>\n",
       "      <td>41.0</td>\n",
       "      <td>Marketing</td>\n",
       "      <td>Undergraduate</td>\n",
       "      <td>Referral</td>\n",
       "      <td>2.0</td>\n",
       "      <td>5.0</td>\n",
       "      <td>0.0</td>\n",
       "      <td>1.0</td>\n",
       "      <td>26824.5</td>\n",
       "      <td>Female</td>\n",
       "      <td>2014-04-07</td>\n",
       "      <td>1.0</td>\n",
       "    </tr>\n",
       "    <tr>\n",
       "      <th>215</th>\n",
       "      <td>MKT7287</td>\n",
       "      <td>50.0</td>\n",
       "      <td>Marketing</td>\n",
       "      <td>Postgraduate</td>\n",
       "      <td>Referral</td>\n",
       "      <td>2.0</td>\n",
       "      <td>2.0</td>\n",
       "      <td>1.0</td>\n",
       "      <td>0.0</td>\n",
       "      <td>26824.5</td>\n",
       "      <td>Male</td>\n",
       "      <td>2013-08-01</td>\n",
       "      <td>0.0</td>\n",
       "    </tr>\n",
       "  </tbody>\n",
       "</table>\n",
       "</div>"
      ],
      "text/plain": [
       "      emp_id   age department      education recruitment_type  job_level  \\\n",
       "188  MKT7287  41.0  Marketing  Undergraduate         Referral        2.0   \n",
       "215  MKT7287  50.0  Marketing   Postgraduate         Referral        2.0   \n",
       "\n",
       "    rating  awards  certifications   salary  gender entry_date  satisfied  \n",
       "188    5.0     0.0             1.0  26824.5  Female 2014-04-07        1.0  \n",
       "215    2.0     1.0             0.0  26824.5    Male 2013-08-01        0.0  "
      ]
     },
     "execution_count": 38,
     "metadata": {},
     "output_type": "execute_result"
    }
   ],
   "source": [
    "# Ihre Lösung\n",
    "count_empid = df.groupby(\"emp_id\").count().sort_values(\"age\", ascending=False).iloc[:, 0]\n",
    "df.where(df[\"emp_id\"].isin(list(count_empid[count_empid > 1].index))).dropna(how=\"all\")"
   ]
  },
  {
   "cell_type": "code",
   "execution_count": 39,
   "metadata": {
    "ExecuteTime": {
     "end_time": "2023-05-09T08:04:46.756201Z",
     "start_time": "2023-05-09T08:04:46.689203Z"
    }
   },
   "outputs": [
    {
     "data": {
      "text/html": [
       "<div>\n",
       "<style scoped>\n",
       "    .dataframe tbody tr th:only-of-type {\n",
       "        vertical-align: middle;\n",
       "    }\n",
       "\n",
       "    .dataframe tbody tr th {\n",
       "        vertical-align: top;\n",
       "    }\n",
       "\n",
       "    .dataframe thead th {\n",
       "        text-align: right;\n",
       "    }\n",
       "</style>\n",
       "<table border=\"1\" class=\"dataframe\">\n",
       "  <thead>\n",
       "    <tr style=\"text-align: right;\">\n",
       "      <th></th>\n",
       "      <th>emp_id</th>\n",
       "      <th>age</th>\n",
       "      <th>department</th>\n",
       "      <th>education</th>\n",
       "      <th>recruitment_type</th>\n",
       "      <th>job_level</th>\n",
       "      <th>rating</th>\n",
       "      <th>awards</th>\n",
       "      <th>certifications</th>\n",
       "      <th>salary</th>\n",
       "      <th>gender</th>\n",
       "      <th>entry_date</th>\n",
       "      <th>satisfied</th>\n",
       "    </tr>\n",
       "  </thead>\n",
       "  <tbody>\n",
       "    <tr>\n",
       "      <th>188</th>\n",
       "      <td>MKT7287</td>\n",
       "      <td>41.0</td>\n",
       "      <td>Marketing</td>\n",
       "      <td>Undergraduate</td>\n",
       "      <td>Referral</td>\n",
       "      <td>2.0</td>\n",
       "      <td>5.0</td>\n",
       "      <td>0.0</td>\n",
       "      <td>1.0</td>\n",
       "      <td>26824.5</td>\n",
       "      <td>Female</td>\n",
       "      <td>2014-04-07</td>\n",
       "      <td>1.0</td>\n",
       "    </tr>\n",
       "    <tr>\n",
       "      <th>215</th>\n",
       "      <td>MKT7287</td>\n",
       "      <td>50.0</td>\n",
       "      <td>Marketing</td>\n",
       "      <td>Postgraduate</td>\n",
       "      <td>Referral</td>\n",
       "      <td>2.0</td>\n",
       "      <td>2.0</td>\n",
       "      <td>1.0</td>\n",
       "      <td>0.0</td>\n",
       "      <td>26824.5</td>\n",
       "      <td>Male</td>\n",
       "      <td>2013-08-01</td>\n",
       "      <td>0.0</td>\n",
       "    </tr>\n",
       "  </tbody>\n",
       "</table>\n",
       "</div>"
      ],
      "text/plain": [
       "      emp_id   age department      education recruitment_type  job_level  \\\n",
       "188  MKT7287  41.0  Marketing  Undergraduate         Referral        2.0   \n",
       "215  MKT7287  50.0  Marketing   Postgraduate         Referral        2.0   \n",
       "\n",
       "    rating  awards  certifications   salary  gender entry_date  satisfied  \n",
       "188    5.0     0.0             1.0  26824.5  Female 2014-04-07        1.0  \n",
       "215    2.0     1.0             0.0  26824.5    Male 2013-08-01        0.0  "
      ]
     },
     "execution_count": 39,
     "metadata": {},
     "output_type": "execute_result"
    }
   ],
   "source": [
    "# Alternative Lösung\n",
    "emp_id_duplicate = df[\"emp_id\"].value_counts()[df[\"emp_id\"].value_counts()>1].index[0]\n",
    "df.where(df[\"emp_id\"] == emp_id_duplicate).dropna(how=\"all\")"
   ]
  },
  {
   "cell_type": "code",
   "execution_count": 40,
   "metadata": {
    "ExecuteTime": {
     "end_time": "2023-05-09T08:04:46.793785Z",
     "start_time": "2023-05-09T08:04:46.761333Z"
    }
   },
   "outputs": [
    {
     "name": "stdout",
     "output_type": "stream",
     "text": [
      "MKT7287     2\n",
      "SAL6919     1\n",
      "MKT6691     1\n",
      "PUR4124     1\n",
      "PUR3491     1\n",
      "           ..\n",
      "MKT2636     1\n",
      "MKT8280     1\n",
      "TECH8554    1\n",
      "TECH4581    1\n",
      "TECH7731    1\n",
      "Name: emp_id, Length: 499, dtype: int64\n"
     ]
    },
    {
     "data": {
      "text/html": [
       "<div>\n",
       "<style scoped>\n",
       "    .dataframe tbody tr th:only-of-type {\n",
       "        vertical-align: middle;\n",
       "    }\n",
       "\n",
       "    .dataframe tbody tr th {\n",
       "        vertical-align: top;\n",
       "    }\n",
       "\n",
       "    .dataframe thead th {\n",
       "        text-align: right;\n",
       "    }\n",
       "</style>\n",
       "<table border=\"1\" class=\"dataframe\">\n",
       "  <thead>\n",
       "    <tr style=\"text-align: right;\">\n",
       "      <th></th>\n",
       "      <th>emp_id</th>\n",
       "      <th>age</th>\n",
       "      <th>department</th>\n",
       "      <th>education</th>\n",
       "      <th>recruitment_type</th>\n",
       "      <th>job_level</th>\n",
       "      <th>rating</th>\n",
       "      <th>awards</th>\n",
       "      <th>certifications</th>\n",
       "      <th>salary</th>\n",
       "      <th>gender</th>\n",
       "      <th>entry_date</th>\n",
       "      <th>satisfied</th>\n",
       "    </tr>\n",
       "  </thead>\n",
       "  <tbody>\n",
       "    <tr>\n",
       "      <th>188</th>\n",
       "      <td>MKT7287</td>\n",
       "      <td>41.0</td>\n",
       "      <td>Marketing</td>\n",
       "      <td>Undergraduate</td>\n",
       "      <td>Referral</td>\n",
       "      <td>2.0</td>\n",
       "      <td>5.0</td>\n",
       "      <td>0.0</td>\n",
       "      <td>1.0</td>\n",
       "      <td>26824.5</td>\n",
       "      <td>Female</td>\n",
       "      <td>2014-04-07</td>\n",
       "      <td>1.0</td>\n",
       "    </tr>\n",
       "    <tr>\n",
       "      <th>215</th>\n",
       "      <td>MKT7287</td>\n",
       "      <td>50.0</td>\n",
       "      <td>Marketing</td>\n",
       "      <td>Postgraduate</td>\n",
       "      <td>Referral</td>\n",
       "      <td>2.0</td>\n",
       "      <td>2.0</td>\n",
       "      <td>1.0</td>\n",
       "      <td>0.0</td>\n",
       "      <td>26824.5</td>\n",
       "      <td>Male</td>\n",
       "      <td>2013-08-01</td>\n",
       "      <td>0.0</td>\n",
       "    </tr>\n",
       "  </tbody>\n",
       "</table>\n",
       "</div>"
      ],
      "text/plain": [
       "      emp_id   age department      education recruitment_type  job_level  \\\n",
       "188  MKT7287  41.0  Marketing  Undergraduate         Referral        2.0   \n",
       "215  MKT7287  50.0  Marketing   Postgraduate         Referral        2.0   \n",
       "\n",
       "    rating  awards  certifications   salary  gender entry_date  satisfied  \n",
       "188    5.0     0.0             1.0  26824.5  Female 2014-04-07        1.0  \n",
       "215    2.0     1.0             0.0  26824.5    Male 2013-08-01        0.0  "
      ]
     },
     "execution_count": 40,
     "metadata": {},
     "output_type": "execute_result"
    }
   ],
   "source": [
    "# Alternative Lösung\n",
    "# ID ermitteln\n",
    "print(df[\"emp_id\"].value_counts())\n",
    "# und händisch eintragen\n",
    "df.where(df[\"emp_id\"] == \"MKT7287\").dropna(how=\"all\")"
   ]
  },
  {
   "cell_type": "markdown",
   "metadata": {},
   "source": [
    "Wählen Sie eine geeignete Strategie, um mit diesem Duplikat umzugehen. Begründen Sie Ihre Entscheidung."
   ]
  },
  {
   "cell_type": "raw",
   "metadata": {},
   "source": [
    "Ihre Begründung:\n",
    "Eine Möglichkeit wäre es, eine Person zu Rate zu ziehen, die weiß, welcher Eintrag der korrekte ist. Da dies in unserem Fall der fiktiven Firma nicht möglich ist und wir somit den korrekten Eintrag nicht identifizieren können, werden wir beide Zeilen löschen. Alternativ wäre es auch denkbar, eine der beiden Zeilen zu behalten und die andere zu löschen. Hier könnte aufgrund mangelnder Hintergrundinformationen die Entscheidung jedoch nur per Zufall getroffen werden, weshalb wir uns gegen diese Variante entschieden haben. "
   ]
  },
  {
   "cell_type": "code",
   "execution_count": 41,
   "metadata": {
    "ExecuteTime": {
     "end_time": "2023-05-09T08:04:46.803667Z",
     "start_time": "2023-05-09T08:04:46.797065Z"
    }
   },
   "outputs": [],
   "source": [
    "# Ihre Lösung\n",
    "df = df.drop_duplicates(keep=False, subset=[\"emp_id\"])"
   ]
  },
  {
   "cell_type": "markdown",
   "metadata": {},
   "source": [
    "***Hinweis zur Korrektur:*** *Man könnte alternativ auch argumentieren, dass die Zeilen zu unterschiedlich sind, um als Duplikat gewertet zu werden und beide behalten werden. In dem Fall muss jedoch eine gute Strategie gefunden werden, um eine neue ID zu vergeben.*"
   ]
  },
  {
   "cell_type": "markdown",
   "metadata": {},
   "source": [
    "Betrachten wir nun die Werte der Spalte `emp_id`. Bringen diese Informationen einen Mehrwert zu der Vorhersage der Zufriedenheit? Wenn ja, bleibt die Spalte im Datensatz, wenn nein, transformieren Sie den Datensatz entsprechend."
   ]
  },
  {
   "cell_type": "raw",
   "metadata": {},
   "source": [
    "Ihre Entscheidung:\n",
    "Die Spalte liefert nun keinen Mehrwert mehr, da sie für jede Zeile einzigartig ist. Aus diesem Grund wird die Spalte gelöscht."
   ]
  },
  {
   "cell_type": "code",
   "execution_count": 42,
   "metadata": {
    "ExecuteTime": {
     "end_time": "2023-05-09T08:04:46.853445Z",
     "start_time": "2023-05-09T08:04:46.806687Z"
    }
   },
   "outputs": [],
   "source": [
    "# Ihre Lösung\n",
    "df = df.drop(\"emp_id\", axis=1)"
   ]
  },
  {
   "cell_type": "markdown",
   "metadata": {},
   "source": [
    "## Daten speichern"
   ]
  },
  {
   "cell_type": "code",
   "execution_count": 43,
   "metadata": {
    "ExecuteTime": {
     "end_time": "2023-05-09T08:04:46.878026Z",
     "start_time": "2023-05-09T08:04:46.856413Z"
    }
   },
   "outputs": [
    {
     "data": {
      "text/html": [
       "<div>\n",
       "<style scoped>\n",
       "    .dataframe tbody tr th:only-of-type {\n",
       "        vertical-align: middle;\n",
       "    }\n",
       "\n",
       "    .dataframe tbody tr th {\n",
       "        vertical-align: top;\n",
       "    }\n",
       "\n",
       "    .dataframe thead th {\n",
       "        text-align: right;\n",
       "    }\n",
       "</style>\n",
       "<table border=\"1\" class=\"dataframe\">\n",
       "  <thead>\n",
       "    <tr style=\"text-align: right;\">\n",
       "      <th></th>\n",
       "      <th>age</th>\n",
       "      <th>department</th>\n",
       "      <th>education</th>\n",
       "      <th>recruitment_type</th>\n",
       "      <th>job_level</th>\n",
       "      <th>rating</th>\n",
       "      <th>awards</th>\n",
       "      <th>certifications</th>\n",
       "      <th>salary</th>\n",
       "      <th>gender</th>\n",
       "      <th>entry_date</th>\n",
       "      <th>satisfied</th>\n",
       "    </tr>\n",
       "  </thead>\n",
       "  <tbody>\n",
       "    <tr>\n",
       "      <th>0</th>\n",
       "      <td>28</td>\n",
       "      <td>HR</td>\n",
       "      <td>Postgraduate</td>\n",
       "      <td>Referral</td>\n",
       "      <td>5</td>\n",
       "      <td>2.0</td>\n",
       "      <td>1</td>\n",
       "      <td>0</td>\n",
       "      <td>78075.0</td>\n",
       "      <td>Male</td>\n",
       "      <td>2019-02-01</td>\n",
       "      <td>1</td>\n",
       "    </tr>\n",
       "    <tr>\n",
       "      <th>1</th>\n",
       "      <td>50</td>\n",
       "      <td>Technology</td>\n",
       "      <td>Postgraduate</td>\n",
       "      <td>Recruitment Agency</td>\n",
       "      <td>3</td>\n",
       "      <td>5.0</td>\n",
       "      <td>2</td>\n",
       "      <td>1</td>\n",
       "      <td>38177.1</td>\n",
       "      <td>Male</td>\n",
       "      <td>2017-01-17</td>\n",
       "      <td>0</td>\n",
       "    </tr>\n",
       "    <tr>\n",
       "      <th>2</th>\n",
       "      <td>43</td>\n",
       "      <td>Technology</td>\n",
       "      <td>Undergraduate</td>\n",
       "      <td>Referral</td>\n",
       "      <td>4</td>\n",
       "      <td>1.0</td>\n",
       "      <td>2</td>\n",
       "      <td>0</td>\n",
       "      <td>59143.5</td>\n",
       "      <td>Female</td>\n",
       "      <td>2012-08-27</td>\n",
       "      <td>1</td>\n",
       "    </tr>\n",
       "    <tr>\n",
       "      <th>3</th>\n",
       "      <td>44</td>\n",
       "      <td>Sales</td>\n",
       "      <td>Postgraduate</td>\n",
       "      <td>On-Campus</td>\n",
       "      <td>2</td>\n",
       "      <td>3.0</td>\n",
       "      <td>0</td>\n",
       "      <td>0</td>\n",
       "      <td>26824.5</td>\n",
       "      <td>Female</td>\n",
       "      <td>2017-07-25</td>\n",
       "      <td>1</td>\n",
       "    </tr>\n",
       "    <tr>\n",
       "      <th>4</th>\n",
       "      <td>33</td>\n",
       "      <td>HR</td>\n",
       "      <td>Undergraduate</td>\n",
       "      <td>Recruitment Agency</td>\n",
       "      <td>2</td>\n",
       "      <td>1.0</td>\n",
       "      <td>5</td>\n",
       "      <td>0</td>\n",
       "      <td>26824.5</td>\n",
       "      <td>Male</td>\n",
       "      <td>2019-05-17</td>\n",
       "      <td>1</td>\n",
       "    </tr>\n",
       "    <tr>\n",
       "      <th>...</th>\n",
       "      <td>...</td>\n",
       "      <td>...</td>\n",
       "      <td>...</td>\n",
       "      <td>...</td>\n",
       "      <td>...</td>\n",
       "      <td>...</td>\n",
       "      <td>...</td>\n",
       "      <td>...</td>\n",
       "      <td>...</td>\n",
       "      <td>...</td>\n",
       "      <td>...</td>\n",
       "      <td>...</td>\n",
       "    </tr>\n",
       "    <tr>\n",
       "      <th>495</th>\n",
       "      <td>49</td>\n",
       "      <td>HR</td>\n",
       "      <td>Postgraduate</td>\n",
       "      <td>On-Campus</td>\n",
       "      <td>2</td>\n",
       "      <td>5.0</td>\n",
       "      <td>6</td>\n",
       "      <td>0</td>\n",
       "      <td>26824.5</td>\n",
       "      <td>Male</td>\n",
       "      <td>2014-03-21</td>\n",
       "      <td>1</td>\n",
       "    </tr>\n",
       "    <tr>\n",
       "      <th>496</th>\n",
       "      <td>24</td>\n",
       "      <td>Technology</td>\n",
       "      <td>Undergraduate</td>\n",
       "      <td>Referral</td>\n",
       "      <td>2</td>\n",
       "      <td>4.0</td>\n",
       "      <td>2</td>\n",
       "      <td>0</td>\n",
       "      <td>26824.5</td>\n",
       "      <td>Female</td>\n",
       "      <td>2018-02-20</td>\n",
       "      <td>0</td>\n",
       "    </tr>\n",
       "    <tr>\n",
       "      <th>497</th>\n",
       "      <td>34</td>\n",
       "      <td>Marketing</td>\n",
       "      <td>Postgraduate</td>\n",
       "      <td>On-Campus</td>\n",
       "      <td>1</td>\n",
       "      <td>Unavailable</td>\n",
       "      <td>2</td>\n",
       "      <td>0</td>\n",
       "      <td>21668.4</td>\n",
       "      <td>Male</td>\n",
       "      <td>2020-10-20</td>\n",
       "      <td>1</td>\n",
       "    </tr>\n",
       "    <tr>\n",
       "      <th>498</th>\n",
       "      <td>26</td>\n",
       "      <td>Technology</td>\n",
       "      <td>Undergraduate</td>\n",
       "      <td>Walk-in</td>\n",
       "      <td>2</td>\n",
       "      <td>1.0</td>\n",
       "      <td>1</td>\n",
       "      <td>1</td>\n",
       "      <td>26824.5</td>\n",
       "      <td>Male</td>\n",
       "      <td>2012-05-18</td>\n",
       "      <td>0</td>\n",
       "    </tr>\n",
       "    <tr>\n",
       "      <th>499</th>\n",
       "      <td>26</td>\n",
       "      <td>Technology</td>\n",
       "      <td>Undergraduate</td>\n",
       "      <td>Recruitment Agency</td>\n",
       "      <td>3</td>\n",
       "      <td>4.0</td>\n",
       "      <td>3</td>\n",
       "      <td>0</td>\n",
       "      <td>38177.1</td>\n",
       "      <td>Male</td>\n",
       "      <td>2018-12-28</td>\n",
       "      <td>0</td>\n",
       "    </tr>\n",
       "  </tbody>\n",
       "</table>\n",
       "<p>498 rows × 12 columns</p>\n",
       "</div>"
      ],
      "text/plain": [
       "     age  department      education    recruitment_type  job_level  \\\n",
       "0     28          HR   Postgraduate            Referral          5   \n",
       "1     50  Technology   Postgraduate  Recruitment Agency          3   \n",
       "2     43  Technology  Undergraduate            Referral          4   \n",
       "3     44       Sales   Postgraduate           On-Campus          2   \n",
       "4     33          HR  Undergraduate  Recruitment Agency          2   \n",
       "..   ...         ...            ...                 ...        ...   \n",
       "495   49          HR   Postgraduate           On-Campus          2   \n",
       "496   24  Technology  Undergraduate            Referral          2   \n",
       "497   34   Marketing   Postgraduate           On-Campus          1   \n",
       "498   26  Technology  Undergraduate             Walk-in          2   \n",
       "499   26  Technology  Undergraduate  Recruitment Agency          3   \n",
       "\n",
       "          rating  awards  certifications   salary  gender entry_date  \\\n",
       "0            2.0       1               0  78075.0    Male 2019-02-01   \n",
       "1            5.0       2               1  38177.1    Male 2017-01-17   \n",
       "2            1.0       2               0  59143.5  Female 2012-08-27   \n",
       "3            3.0       0               0  26824.5  Female 2017-07-25   \n",
       "4            1.0       5               0  26824.5    Male 2019-05-17   \n",
       "..           ...     ...             ...      ...     ...        ...   \n",
       "495          5.0       6               0  26824.5    Male 2014-03-21   \n",
       "496          4.0       2               0  26824.5  Female 2018-02-20   \n",
       "497  Unavailable       2               0  21668.4    Male 2020-10-20   \n",
       "498          1.0       1               1  26824.5    Male 2012-05-18   \n",
       "499          4.0       3               0  38177.1    Male 2018-12-28   \n",
       "\n",
       "     satisfied  \n",
       "0            1  \n",
       "1            0  \n",
       "2            1  \n",
       "3            1  \n",
       "4            1  \n",
       "..         ...  \n",
       "495          1  \n",
       "496          0  \n",
       "497          1  \n",
       "498          0  \n",
       "499          0  \n",
       "\n",
       "[498 rows x 12 columns]"
      ]
     },
     "execution_count": 43,
     "metadata": {},
     "output_type": "execute_result"
    }
   ],
   "source": [
    "df"
   ]
  },
  {
   "cell_type": "markdown",
   "metadata": {},
   "source": [
    "Wenn, Sie alle Aufgaben korrekt ausgeführt haben, ist die Vorverarbeitung nun abgeschlossen:\n",
    "- Alle Spalten liegen im passenden Datenformat vor\n",
    "- Kategorielle Spalten wurden vereinheitlicht\n",
    "- Es gibt keine Duplikate\n",
    "- Es gibt keine fehlenden Werte\n",
    "- Die Plausibilitätschecks wurden bestanden\n",
    "\n",
    "Speichern Sie den von Ihnen transformierten Datensatz unter dem Namen `employees_satisfaction_transformed.csv` ab."
   ]
  },
  {
   "cell_type": "code",
   "execution_count": 44,
   "metadata": {
    "ExecuteTime": {
     "end_time": "2023-05-09T08:04:46.894842Z",
     "start_time": "2023-05-09T08:04:46.881152Z"
    }
   },
   "outputs": [],
   "source": [
    "# Ihre Lösung\n",
    "df.to_csv(\"../data/employees_satisfaction_transformed.csv\")"
   ]
  }
 ],
 "metadata": {
  "kernelspec": {
   "display_name": "Python 3 (ipykernel)",
   "language": "python",
   "name": "python3"
  },
  "language_info": {
   "codemirror_mode": {
    "name": "ipython",
    "version": 3
   },
   "file_extension": ".py",
   "mimetype": "text/x-python",
   "name": "python",
   "nbconvert_exporter": "python",
   "pygments_lexer": "ipython3",
   "version": "3.10.8"
  },
  "toc": {
   "base_numbering": 1,
   "nav_menu": {},
   "number_sections": true,
   "sideBar": true,
   "skip_h1_title": true,
   "title_cell": "Table of Contents",
   "title_sidebar": "Contents",
   "toc_cell": false,
   "toc_position": {
    "height": "calc(100% - 180px)",
    "left": "10px",
    "top": "150px",
    "width": "307.2px"
   },
   "toc_section_display": true,
   "toc_window_display": true
  }
 },
 "nbformat": 4,
 "nbformat_minor": 4
}
