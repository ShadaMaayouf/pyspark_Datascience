{
 "cells": [
  {
   "cell_type": "code",
   "execution_count": 1,
   "id": "77c98c43",
   "metadata": {
    "ExecuteTime": {
     "end_time": "2022-11-28T10:54:58.168791Z",
     "start_time": "2022-11-28T10:54:58.087060Z"
    }
   },
   "outputs": [],
   "source": [
    "# Import\n",
    "from hdfs import InsecureClient"
   ]
  },
  {
   "cell_type": "code",
   "execution_count": 2,
   "id": "7abd9373",
   "metadata": {
    "ExecuteTime": {
     "end_time": "2022-11-28T10:54:58.673272Z",
     "start_time": "2022-11-28T10:54:58.669239Z"
    }
   },
   "outputs": [],
   "source": [
    "# Client erstellen\n",
    "client = InsecureClient(\"http://hadoop-edge:9870\", user=\"pyspark-client\")"
   ]
  },
  {
   "cell_type": "code",
   "execution_count": 5,
   "id": "71c73b6e",
   "metadata": {
    "ExecuteTime": {
     "end_time": "2022-11-28T10:55:20.271172Z",
     "start_time": "2022-11-28T10:55:19.236605Z"
    }
   },
   "outputs": [
    {
     "data": {
      "text/plain": [
       "'/user/pyspark-client/employees_satisfaction_transformed_2.csv'"
      ]
     },
     "execution_count": 5,
     "metadata": {},
     "output_type": "execute_result"
    }
   ],
   "source": [
    "# Datensatz ins HDFS laden\n",
    "hdfs_path = \"/user/pyspark-client/employees_satisfaction_transformed.csv\"\n",
    "dataset_upload = \"local/path/to/dataset\" # <- fügen Sie hier den Pfad und Namen des Datensatzes ein, den Sie hochladen möchten\n",
    "client.upload(hdfs_path, dataset_upload)"
   ]
  },
  {
   "cell_type": "code",
   "execution_count": 6,
   "id": "d1455f57",
   "metadata": {
    "ExecuteTime": {
     "end_time": "2022-11-28T10:55:23.456626Z",
     "start_time": "2022-11-28T10:55:23.443222Z"
    },
    "scrolled": true
   },
   "outputs": [
    {
     "name": "stdout",
     "output_type": "stream",
     "text": [
      "['employees_satisfaction_transformed.csv', 'employees_satisfaction_transformed_2.csv']\n"
     ]
    }
   ],
   "source": [
    "# Dateien und Verzeichnisse in /user/pyspark-client anzeigen\n",
    "#for i in client.walk('/user/pyspark-client'):\n",
    "#    print( i )\n",
    "print( client.list('/user/pyspark-client/') )"
   ]
  },
  {
   "cell_type": "code",
   "execution_count": null,
   "id": "5c9dc353",
   "metadata": {},
   "outputs": [],
   "source": []
  }
 ],
 "metadata": {
  "kernelspec": {
   "display_name": "Python 3 (ipykernel)",
   "language": "python",
   "name": "python3"
  },
  "language_info": {
   "codemirror_mode": {
    "name": "ipython",
    "version": 3
   },
   "file_extension": ".py",
   "mimetype": "text/x-python",
   "name": "python",
   "nbconvert_exporter": "python",
   "pygments_lexer": "ipython3",
   "version": "3.10.7"
  },
  "toc": {
   "base_numbering": 1,
   "nav_menu": {},
   "number_sections": true,
   "sideBar": true,
   "skip_h1_title": false,
   "title_cell": "Table of Contents",
   "title_sidebar": "Contents",
   "toc_cell": false,
   "toc_position": {},
   "toc_section_display": true,
   "toc_window_display": false
  }
 },
 "nbformat": 4,
 "nbformat_minor": 5
}
